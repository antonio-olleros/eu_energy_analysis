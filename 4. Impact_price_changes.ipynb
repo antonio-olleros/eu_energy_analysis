{
 "cells": [
  {
   "cell_type": "code",
   "execution_count": 2,
   "metadata": {},
   "outputs": [],
   "source": [
    "import utils\n",
    "import json\n",
    "import plotly.express as px\n",
    "import pandas as pd\n",
    "\n",
    "\n",
    "with open('sub_codelists.json', 'r') as f:\n",
    "    sub_codelists = json.load(f)"
   ]
  },
  {
   "cell_type": "code",
   "execution_count": 46,
   "metadata": {},
   "outputs": [],
   "source": [
    "nrg_bal_constraints = {\n",
    "    'freq': 'A',\n",
    "    'nrg_bal': ['FC_E','FC_OTH_HH_E'],\n",
    "    'siec': ['E7000','G3000'],\n",
    "    'unit': 'GWH',\n",
    "    'geo': sub_codelists['geo_eu_countries'],\n",
    "}\n",
    "\n",
    "#We are interested in: https://data.ecb.europa.eu/data/datasets/MNA/MNA.A.N.AT.W2.S1.S1.B.B1GQ._Z._Z._Z.EUR.V.N\n",
    "\n",
    "mna_constraints = {\n",
    "    \"FREQ\": \"A\",\n",
    "    \"ADJUSTMENT\": \"N\",\n",
    "    \"REF_AREA\":  sub_codelists['geo_eu_countries'],\n",
    "    \"COUNTERPART_AREA\": \"W2\",\n",
    "    \"REF_SECTOR\": \"S1\",\n",
    "    \"COUNTERPART_SECTOR\": \"S1\",\n",
    "    \"ACCOUNTING_ENTRY\": \"B\",\n",
    "    \"STO\": \"B1GQ\",\n",
    "    \"INSTR_ASSET\": \"_Z\",\n",
    "    \"ACTIVITY\": \"_Z\",\n",
    "    \"EXPENDITURE\": \"_Z\",\n",
    "    \"UNIT_MEASURE\": \"EUR\",\n",
    "    \"PRICES\": \"V\",\n",
    "    \"TRANSFORMATION\": \"N\"\n",
    "}\n",
    "\n",
    "\n",
    "#nrg_prices do not have values for CY, FI, MT. Therefore, we need to drop them from the geo list\n",
    "geo_list = [country for country in sub_codelists['geo_eu_countries'] if country not in ['CY', 'FI', 'MT']]\n",
    "\n",
    "\n",
    "nrg_prices_gas_constraints = {\n",
    "    'freq': 'S',\n",
    "    \"product\": '',\n",
    "    'nrg_cons': '',\n",
    "    'unit':'KWH',\n",
    "    'tax': ['I_TAX', 'X_TAX', 'X_VAT'],\n",
    "    'currency':'EUR',\n",
    "    'geo':geo_list\n",
    "}\n",
    "\n",
    "nrg_pices_electricity_constraints = {\n",
    "    'freq': 'S',\n",
    "    'product': '',\n",
    "    'nrg_cons': '',\n",
    "    'unit': 'KWH',\n",
    "    'tax': ['I_TAX', 'X_TAX', 'X_VAT'],\n",
    "    'currency':'EUR',\n",
    "    'geo':geo_list\n",
    "}"
   ]
  },
  {
   "cell_type": "code",
   "execution_count": 47,
   "metadata": {},
   "outputs": [
    {
     "name": "stdout",
     "output_type": "stream",
     "text": [
      "data_url: https://data-api.ecb.europa.eu/service/data/MNA/A.N.BE+BG+CZ+DK+DE+EE+IE+EL+ES+FR+HR+IT+CY+LV+LT+LU+HU+MT+NL+AT+PL+PT+RO+SI+SK+FI+SE.W2.S1.S1.B.B1GQ._Z._Z._Z.EUR.V.N?&startPeriod=2000\n",
      "metadata_url: https://data-api.ecb.europa.eu/service/dataflow/all/MNA/latest?detail=full&references=descendants\n",
      "data_url: https://ec.europa.eu/eurostat/api/dissemination/sdmx/2.1/data/nrg_bal_s/A.FC_E+FC_OTH_HH_E.E7000+G3000.GWH.BE+BG+CZ+DK+DE+EE+IE+EL+ES+FR+HR+IT+CY+LV+LT+LU+HU+MT+NL+AT+PL+PT+RO+SI+SK+FI+SE?format=SDMX-CSV&startPeriod=2000\n",
      "metadata_url: https://ec.europa.eu/eurostat/api/dissemination/sdmx/2.1/dataflow/all/nrg_bal_s/latest?detail=full&references=descendants\n",
      "data_url: https://ec.europa.eu/eurostat/api/dissemination/sdmx/2.1/data/nrg_pc_202/S...KWH.I_TAX+X_TAX+X_VAT.EUR.BE+BG+CZ+DK+DE+EE+IE+EL+ES+FR+HR+IT+LV+LT+LU+HU+NL+AT+PL+PT+RO+SI+SK+SE?format=SDMX-CSV&startPeriod=2000\n",
      "metadata_url: https://ec.europa.eu/eurostat/api/dissemination/sdmx/2.1/dataflow/all/nrg_pc_202/latest?detail=full&references=descendants\n",
      "TIME_PERIOD is not an integer for nrg_pc_202\n",
      "data_url: https://ec.europa.eu/eurostat/api/dissemination/sdmx/2.1/data/nrg_pc_203/S...KWH.I_TAX+X_TAX+X_VAT.EUR.BE+BG+CZ+DK+DE+EE+IE+EL+ES+FR+HR+IT+LV+LT+LU+HU+NL+AT+PL+PT+RO+SI+SK+SE?format=SDMX-CSV&startPeriod=2000\n",
      "metadata_url: https://ec.europa.eu/eurostat/api/dissemination/sdmx/2.1/dataflow/all/nrg_pc_203/latest?detail=full&references=descendants\n",
      "TIME_PERIOD is not an integer for nrg_pc_203\n",
      "data_url: https://ec.europa.eu/eurostat/api/dissemination/sdmx/2.1/data/nrg_pc_204/S...KWH.I_TAX+X_TAX+X_VAT.EUR.BE+BG+CZ+DK+DE+EE+IE+EL+ES+FR+HR+IT+LV+LT+LU+HU+NL+AT+PL+PT+RO+SI+SK+SE?format=SDMX-CSV&startPeriod=2000\n",
      "metadata_url: https://ec.europa.eu/eurostat/api/dissemination/sdmx/2.1/dataflow/all/nrg_pc_204/latest?detail=full&references=descendants\n",
      "TIME_PERIOD is not an integer for nrg_pc_204\n",
      "data_url: https://ec.europa.eu/eurostat/api/dissemination/sdmx/2.1/data/nrg_pc_205/S...KWH.I_TAX+X_TAX+X_VAT.EUR.BE+BG+CZ+DK+DE+EE+IE+EL+ES+FR+HR+IT+LV+LT+LU+HU+NL+AT+PL+PT+RO+SI+SK+SE?format=SDMX-CSV&startPeriod=2000\n",
      "metadata_url: https://ec.europa.eu/eurostat/api/dissemination/sdmx/2.1/dataflow/all/nrg_pc_205/latest?detail=full&references=descendants\n",
      "TIME_PERIOD is not an integer for nrg_pc_205\n"
     ]
    }
   ],
   "source": [
    "gdp = utils.get_dataset_with_selection('MNA', mna_constraints, agency='ecb')\n",
    "nrg_bal = utils.get_dataset_with_selection('nrg_bal_s', nrg_bal_constraints, agency='estat')\n",
    "gas_prices_hh = utils.get_dataset_with_selection('nrg_pc_202', nrg_prices_gas_constraints, agency='estat')\n",
    "gas_prices_nhh = utils.get_dataset_with_selection('nrg_pc_203', nrg_prices_gas_constraints, agency='estat')\n",
    "electricity_prices_hh = utils.get_dataset_with_selection('nrg_pc_204', nrg_pices_electricity_constraints, agency='estat')\n",
    "electricity_prices_nhh = utils.get_dataset_with_selection('nrg_pc_205', nrg_pices_electricity_constraints, agency='estat')"
   ]
  },
  {
   "cell_type": "code",
   "execution_count": 79,
   "metadata": {},
   "outputs": [
    {
     "data": {
      "text/html": [
       "<div>\n",
       "<style scoped>\n",
       "    .dataframe tbody tr th:only-of-type {\n",
       "        vertical-align: middle;\n",
       "    }\n",
       "\n",
       "    .dataframe tbody tr th {\n",
       "        vertical-align: top;\n",
       "    }\n",
       "\n",
       "    .dataframe thead th {\n",
       "        text-align: right;\n",
       "    }\n",
       "</style>\n",
       "<table border=\"1\" class=\"dataframe\">\n",
       "  <thead>\n",
       "    <tr style=\"text-align: right;\">\n",
       "      <th>tax</th>\n",
       "      <th>geo</th>\n",
       "      <th>TIME_PERIOD</th>\n",
       "      <th>nrg_bal</th>\n",
       "      <th>siec</th>\n",
       "      <th>EUR per Kwh Including tax</th>\n",
       "      <th>EUR per Kwh Excluding tax</th>\n",
       "      <th>EUR per Kwh Excluding VAT and other recoverable taxes</th>\n",
       "      <th>% tax</th>\n",
       "    </tr>\n",
       "  </thead>\n",
       "  <tbody>\n",
       "    <tr>\n",
       "      <th>0</th>\n",
       "      <td>AT</td>\n",
       "      <td>2007</td>\n",
       "      <td>FC_NHH_E</td>\n",
       "      <td>E7000</td>\n",
       "      <td>0.114833</td>\n",
       "      <td>0.079550</td>\n",
       "      <td>0.095683</td>\n",
       "      <td>30.73</td>\n",
       "    </tr>\n",
       "    <tr>\n",
       "      <th>1</th>\n",
       "      <td>AT</td>\n",
       "      <td>2007</td>\n",
       "      <td>FC_NHH_E</td>\n",
       "      <td>G3000</td>\n",
       "      <td>0.053000</td>\n",
       "      <td>0.037950</td>\n",
       "      <td>0.044150</td>\n",
       "      <td>28.40</td>\n",
       "    </tr>\n",
       "    <tr>\n",
       "      <th>2</th>\n",
       "      <td>AT</td>\n",
       "      <td>2007</td>\n",
       "      <td>FC_OTH_HH_E</td>\n",
       "      <td>E7000</td>\n",
       "      <td>0.190100</td>\n",
       "      <td>0.135580</td>\n",
       "      <td>0.159800</td>\n",
       "      <td>28.68</td>\n",
       "    </tr>\n",
       "    <tr>\n",
       "      <th>3</th>\n",
       "      <td>AT</td>\n",
       "      <td>2007</td>\n",
       "      <td>FC_OTH_HH_E</td>\n",
       "      <td>G3000</td>\n",
       "      <td>0.063333</td>\n",
       "      <td>0.046467</td>\n",
       "      <td>0.052800</td>\n",
       "      <td>26.63</td>\n",
       "    </tr>\n",
       "    <tr>\n",
       "      <th>4</th>\n",
       "      <td>AT</td>\n",
       "      <td>2008</td>\n",
       "      <td>FC_NHH_E</td>\n",
       "      <td>E7000</td>\n",
       "      <td>0.123200</td>\n",
       "      <td>0.086908</td>\n",
       "      <td>0.102677</td>\n",
       "      <td>29.46</td>\n",
       "    </tr>\n",
       "    <tr>\n",
       "      <th>...</th>\n",
       "      <td>...</td>\n",
       "      <td>...</td>\n",
       "      <td>...</td>\n",
       "      <td>...</td>\n",
       "      <td>...</td>\n",
       "      <td>...</td>\n",
       "      <td>...</td>\n",
       "      <td>...</td>\n",
       "    </tr>\n",
       "    <tr>\n",
       "      <th>1709</th>\n",
       "      <td>SK</td>\n",
       "      <td>2023</td>\n",
       "      <td>FC_OTH_HH_E</td>\n",
       "      <td>G3000</td>\n",
       "      <td>0.090333</td>\n",
       "      <td>0.075283</td>\n",
       "      <td>0.075283</td>\n",
       "      <td>16.66</td>\n",
       "    </tr>\n",
       "    <tr>\n",
       "      <th>1710</th>\n",
       "      <td>SK</td>\n",
       "      <td>2024</td>\n",
       "      <td>FC_NHH_E</td>\n",
       "      <td>E7000</td>\n",
       "      <td>0.223362</td>\n",
       "      <td>0.163925</td>\n",
       "      <td>0.186125</td>\n",
       "      <td>26.61</td>\n",
       "    </tr>\n",
       "    <tr>\n",
       "      <th>1711</th>\n",
       "      <td>SK</td>\n",
       "      <td>2024</td>\n",
       "      <td>FC_NHH_E</td>\n",
       "      <td>G3000</td>\n",
       "      <td>0.088400</td>\n",
       "      <td>0.072360</td>\n",
       "      <td>0.073660</td>\n",
       "      <td>18.14</td>\n",
       "    </tr>\n",
       "    <tr>\n",
       "      <th>1712</th>\n",
       "      <td>SK</td>\n",
       "      <td>2024</td>\n",
       "      <td>FC_OTH_HH_E</td>\n",
       "      <td>E7000</td>\n",
       "      <td>0.189233</td>\n",
       "      <td>0.132200</td>\n",
       "      <td>0.157700</td>\n",
       "      <td>30.14</td>\n",
       "    </tr>\n",
       "    <tr>\n",
       "      <th>1713</th>\n",
       "      <td>SK</td>\n",
       "      <td>2024</td>\n",
       "      <td>FC_OTH_HH_E</td>\n",
       "      <td>G3000</td>\n",
       "      <td>0.082650</td>\n",
       "      <td>0.068875</td>\n",
       "      <td>0.068875</td>\n",
       "      <td>16.67</td>\n",
       "    </tr>\n",
       "  </tbody>\n",
       "</table>\n",
       "<p>1714 rows × 8 columns</p>\n",
       "</div>"
      ],
      "text/plain": [
       "tax  geo  TIME_PERIOD      nrg_bal   siec  EUR per Kwh Including tax  \\\n",
       "0     AT         2007     FC_NHH_E  E7000                   0.114833   \n",
       "1     AT         2007     FC_NHH_E  G3000                   0.053000   \n",
       "2     AT         2007  FC_OTH_HH_E  E7000                   0.190100   \n",
       "3     AT         2007  FC_OTH_HH_E  G3000                   0.063333   \n",
       "4     AT         2008     FC_NHH_E  E7000                   0.123200   \n",
       "...   ..          ...          ...    ...                        ...   \n",
       "1709  SK         2023  FC_OTH_HH_E  G3000                   0.090333   \n",
       "1710  SK         2024     FC_NHH_E  E7000                   0.223362   \n",
       "1711  SK         2024     FC_NHH_E  G3000                   0.088400   \n",
       "1712  SK         2024  FC_OTH_HH_E  E7000                   0.189233   \n",
       "1713  SK         2024  FC_OTH_HH_E  G3000                   0.082650   \n",
       "\n",
       "tax   EUR per Kwh Excluding tax  \\\n",
       "0                      0.079550   \n",
       "1                      0.037950   \n",
       "2                      0.135580   \n",
       "3                      0.046467   \n",
       "4                      0.086908   \n",
       "...                         ...   \n",
       "1709                   0.075283   \n",
       "1710                   0.163925   \n",
       "1711                   0.072360   \n",
       "1712                   0.132200   \n",
       "1713                   0.068875   \n",
       "\n",
       "tax   EUR per Kwh Excluding VAT and other recoverable taxes  % tax  \n",
       "0                                              0.095683      30.73  \n",
       "1                                              0.044150      28.40  \n",
       "2                                              0.159800      28.68  \n",
       "3                                              0.052800      26.63  \n",
       "4                                              0.102677      29.46  \n",
       "...                                                 ...        ...  \n",
       "1709                                           0.075283      16.66  \n",
       "1710                                           0.186125      26.61  \n",
       "1711                                           0.073660      18.14  \n",
       "1712                                           0.157700      30.14  \n",
       "1713                                           0.068875      16.67  \n",
       "\n",
       "[1714 rows x 8 columns]"
      ]
     },
     "metadata": {},
     "output_type": "display_data"
    }
   ],
   "source": [
    "from math import e\n",
    "import pandas as pd\n",
    "\n",
    "gdp_df = gdp.data[[\"REF_AREA\", \"TIME_PERIOD\", \"OBSVALUE\", \"UNIT_MULT\"]]\n",
    "gdp_df.loc[:, \"OBSVALUE\"] = gdp_df[\"OBSVALUE\"].astype(float) * (10 ** gdp_df[\"UNIT_MULT\"].astype(int))\n",
    "gdp_df = gdp_df[[\"REF_AREA\", \"TIME_PERIOD\", \"OBSVALUE\"]]\n",
    "\n",
    "nrg_bal_df = nrg_bal.data\n",
    "\n",
    "nrg_bal_df_hh = nrg_bal_df[nrg_bal_df[\"nrg_bal\"] == \"FC_OTH_HH_E\"]\n",
    "nrg_bal_df_hh = nrg_bal_df_hh.drop(columns=[\"nrg_bal\"])\n",
    "nrg_bal_df_hh.rename(columns={\"OBS_VALUE\": \"HH_VALUE\"}, inplace=True)\n",
    "\n",
    "nrg_bal_df_total = nrg_bal_df[nrg_bal_df[\"nrg_bal\"] == \"FC_E\"]\n",
    "nrg_bal_df_total = nrg_bal_df_total.drop(columns=[\"nrg_bal\"])\n",
    "nrg_bal_df_total.rename(columns={\"OBS_VALUE\": \"TOTAL_VALUE\"}, inplace=True)\n",
    "\n",
    "nrg_bal_df_nhh = pd.merge(nrg_bal_df_hh, nrg_bal_df_total, on=['siec', 'geo', 'TIME_PERIOD'])\n",
    "nrg_bal_df_nhh[\"NHH_VALUE\"] = nrg_bal_df_nhh[\"TOTAL_VALUE\"] - nrg_bal_df_nhh[\"HH_VALUE\"]\n",
    "nrg_bal_df_nhh = nrg_bal_df_nhh[['siec', 'geo', 'TIME_PERIOD', \"NHH_VALUE\"]]\n",
    "\n",
    "nrg_bal_df_hh.rename(columns={\"HH_VALUE\": \"OBS_VALUE\"}, inplace=True)\n",
    "nrg_bal_df_hh[\"nrg_bal\"] = \"FC_OTH_HH_E\"\n",
    "nrg_bal_df_nhh.rename(columns={\"NHH_VALUE\": \"OBS_VALUE\"}, inplace=True)\n",
    "nrg_bal_df_nhh[\"nrg_bal\"] = \"FC_NHH_E\"\n",
    "\n",
    "nrg_bal_df = pd.concat([nrg_bal_df_hh, nrg_bal_df_nhh], ignore_index=True)\n",
    "nrg_bal_df.rename(columns={\"OBS_VALUE\": \"GWH consumption\"}, inplace=True)\n",
    "\n",
    "\n",
    "gas_prices_hh_df = gas_prices_hh.data\n",
    "gas_prices_hh_df['nrg_bal'] = 'FC_OTH_HH_E'\n",
    "gas_prices_hh_df['siec'] = 'G3000'\n",
    "\n",
    "gas_prices_nhh_df = gas_prices_nhh.data\n",
    "gas_prices_nhh_df['nrg_bal'] = 'FC_NHH_E'\n",
    "gas_prices_nhh_df['siec'] = 'G3000'\n",
    "\n",
    "electricity_prices_hh_df = electricity_prices_hh.data\n",
    "electricity_prices_hh_df['nrg_bal'] = 'FC_OTH_HH_E'\n",
    "electricity_prices_hh_df['siec'] = 'E7000'\n",
    "\n",
    "electricity_prices_nhh_df = electricity_prices_nhh.data\n",
    "electricity_prices_nhh_df['nrg_bal'] = 'FC_NHH_E'\n",
    "electricity_prices_nhh_df['siec'] = 'E7000'\n",
    "\n",
    "energy_prices_df = pd.concat([gas_prices_hh_df, gas_prices_nhh_df, electricity_prices_hh_df, electricity_prices_nhh_df], ignore_index=True)\n",
    "\n",
    "energy_prices_df = energy_prices_df.drop(columns=['OBS_FLAG', 'CONF_STATUS'])\n",
    "energy_prices_df['TIME_PERIOD'] = energy_prices_df['TIME_PERIOD'].str[0:4].astype(int)\n",
    "energy_prices_df = energy_prices_df.groupby(['geo', 'TIME_PERIOD', 'nrg_bal', 'siec', 'tax'])['OBS_VALUE'].mean().reset_index()\n",
    "energy_prices_df = pd.pivot_table(energy_prices_df, values='OBS_VALUE', index=['geo', 'TIME_PERIOD', 'nrg_bal', 'siec'], columns=['tax'])\n",
    "energy_prices_df.reset_index(inplace=True)\n",
    "energy_prices_df['% tax'] = round((energy_prices_df['I_TAX'] - energy_prices_df['X_TAX']) / energy_prices_df['I_TAX'] * 100,2)\n",
    "energy_prices_df.rename(columns={\"I_TAX\": \"EUR per Kwh Including tax\", \"X_TAX\": \"EUR per Kwh Excluding tax\", \"X_VAT\": \"EUR per Kwh Excluding VAT and other recoverable taxes\"}, inplace=True)\n",
    "display(energy_prices_df)\n"
   ]
  },
  {
   "cell_type": "code",
   "execution_count": 74,
   "metadata": {},
   "outputs": [
    {
     "data": {
      "application/vnd.plotly.v1+json": {
       "config": {
        "plotlyServerURL": "https://plot.ly"
       },
       "data": [
        {
         "hovertemplate": "geo=AT<br>TIME_PERIOD=%{x}<br>% tax=%{y}<extra></extra>",
         "legendgroup": "AT",
         "line": {
          "color": "#636efa",
          "dash": "solid"
         },
         "marker": {
          "symbol": "circle"
         },
         "mode": "lines",
         "name": "AT",
         "orientation": "v",
         "showlegend": true,
         "type": "scatter",
         "x": [
          2007,
          2009,
          2010,
          2011,
          2012,
          2013,
          2014,
          2015,
          2016,
          2017,
          2018,
          2019,
          2020,
          2021,
          2022,
          2023,
          2024
         ],
         "xaxis": "x",
         "y": [
          28.4,
          30.16,
          30.1,
          29.01,
          29.5,
          31.97,
          31.14,
          35.03,
          34.7,
          31.42,
          31.28,
          32,
          32.7,
          28.61,
          20.65,
          21.52,
          20.92
         ],
         "yaxis": "y"
        },
        {
         "hovertemplate": "geo=BE<br>TIME_PERIOD=%{x}<br>% tax=%{y}<extra></extra>",
         "legendgroup": "BE",
         "line": {
          "color": "#EF553B",
          "dash": "solid"
         },
         "marker": {
          "symbol": "circle"
         },
         "mode": "lines",
         "name": "BE",
         "orientation": "v",
         "showlegend": true,
         "type": "scatter",
         "x": [
          2007,
          2008,
          2009,
          2010,
          2011,
          2012,
          2013,
          2014,
          2015,
          2016,
          2017,
          2018,
          2019,
          2020,
          2021,
          2022,
          2023,
          2024
         ],
         "xaxis": "x",
         "y": [
          18.95,
          19.04,
          21.4,
          20.72,
          20.29,
          20.37,
          20.13,
          21.91,
          19.32,
          21.13,
          21.21,
          22.28,
          21.13,
          22.05,
          19.97,
          13.09,
          12.98,
          20.04
         ],
         "yaxis": "y"
        },
        {
         "hovertemplate": "geo=BG<br>TIME_PERIOD=%{x}<br>% tax=%{y}<extra></extra>",
         "legendgroup": "BG",
         "line": {
          "color": "#00cc96",
          "dash": "solid"
         },
         "marker": {
          "symbol": "circle"
         },
         "mode": "lines",
         "name": "BG",
         "orientation": "v",
         "showlegend": true,
         "type": "scatter",
         "x": [
          2007,
          2008,
          2009,
          2010,
          2011,
          2012,
          2013,
          2014,
          2015,
          2016,
          2017,
          2018,
          2019,
          2020,
          2021,
          2022,
          2023,
          2024
         ],
         "xaxis": "x",
         "y": [
          16.56,
          16.65,
          16.68,
          16.64,
          16.72,
          16.83,
          17.02,
          18.7,
          19.18,
          20.06,
          19.28,
          19.03,
          18.88,
          19.59,
          18.24,
          9.32,
          13.57,
          17.9
         ],
         "yaxis": "y"
        },
        {
         "hovertemplate": "geo=CZ<br>TIME_PERIOD=%{x}<br>% tax=%{y}<extra></extra>",
         "legendgroup": "CZ",
         "line": {
          "color": "#ab63fa",
          "dash": "solid"
         },
         "marker": {
          "symbol": "circle"
         },
         "mode": "lines",
         "name": "CZ",
         "orientation": "v",
         "showlegend": true,
         "type": "scatter",
         "x": [
          2007,
          2008,
          2009,
          2010,
          2011,
          2012,
          2013,
          2014,
          2015,
          2016,
          2017,
          2018,
          2019,
          2020,
          2021,
          2022,
          2023,
          2024
         ],
         "xaxis": "x",
         "y": [
          16.02,
          18.88,
          19.02,
          19.71,
          19.54,
          19.37,
          20.1,
          20.18,
          20.4,
          20.67,
          21.07,
          21.16,
          20.96,
          21.42,
          17.87,
          18.85,
          19,
          19.18
         ],
         "yaxis": "y"
        },
        {
         "hovertemplate": "geo=DE<br>TIME_PERIOD=%{x}<br>% tax=%{y}<extra></extra>",
         "legendgroup": "DE",
         "line": {
          "color": "#FFA15A",
          "dash": "solid"
         },
         "marker": {
          "symbol": "circle"
         },
         "mode": "lines",
         "name": "DE",
         "orientation": "v",
         "showlegend": true,
         "type": "scatter",
         "x": [
          2007,
          2008,
          2009,
          2010,
          2011,
          2012,
          2013,
          2014,
          2015,
          2016,
          2017,
          2018,
          2019,
          2020,
          2021,
          2022,
          2023,
          2024
         ],
         "xaxis": "x",
         "y": [
          23.81,
          23.49,
          24.87,
          27.08,
          26.23,
          24.67,
          23.94,
          24.71,
          25.46,
          27.11,
          26.73,
          26.37,
          29.31,
          31.49,
          32.66,
          23.38,
          22.2,
          26.7
         ],
         "yaxis": "y"
        },
        {
         "hovertemplate": "geo=DK<br>TIME_PERIOD=%{x}<br>% tax=%{y}<extra></extra>",
         "legendgroup": "DK",
         "line": {
          "color": "#19d3f3",
          "dash": "solid"
         },
         "marker": {
          "symbol": "circle"
         },
         "mode": "lines",
         "name": "DK",
         "orientation": "v",
         "showlegend": true,
         "type": "scatter",
         "x": [
          2007,
          2008,
          2009,
          2010,
          2011,
          2012,
          2013,
          2014,
          2015,
          2016,
          2017,
          2018,
          2019,
          2020,
          2021,
          2022,
          2023,
          2024
         ],
         "xaxis": "x",
         "y": [
          57.19,
          53.79,
          64.9,
          57.11,
          55,
          56.88,
          60.17,
          64.07,
          61.06,
          65.14,
          62.49,
          59.71,
          63.87,
          67.54,
          50.87,
          37.19,
          49.05,
          54.26
         ],
         "yaxis": "y"
        },
        {
         "hovertemplate": "geo=EE<br>TIME_PERIOD=%{x}<br>% tax=%{y}<extra></extra>",
         "legendgroup": "EE",
         "line": {
          "color": "#FF6692",
          "dash": "solid"
         },
         "marker": {
          "symbol": "circle"
         },
         "mode": "lines",
         "name": "EE",
         "orientation": "v",
         "showlegend": true,
         "type": "scatter",
         "x": [
          2007,
          2008,
          2009,
          2010,
          2011,
          2012,
          2013,
          2014,
          2015,
          2016,
          2017,
          2018,
          2019,
          2020,
          2021,
          2022,
          2023,
          2024
         ],
         "xaxis": "x",
         "y": [
          15.25,
          17.68,
          20.57,
          22.72,
          20.56,
          20.05,
          20.37,
          20.61,
          22.06,
          26.13,
          27.67,
          29.19,
          30.74,
          30.04,
          22.55,
          19.07,
          19.71,
          23.39
         ],
         "yaxis": "y"
        },
        {
         "hovertemplate": "geo=EL<br>TIME_PERIOD=%{x}<br>% tax=%{y}<extra></extra>",
         "legendgroup": "EL",
         "line": {
          "color": "#B6E880",
          "dash": "solid"
         },
         "marker": {
          "symbol": "circle"
         },
         "mode": "lines",
         "name": "EL",
         "orientation": "v",
         "showlegend": true,
         "type": "scatter",
         "x": [
          2012,
          2013,
          2014,
          2015,
          2016,
          2017,
          2018,
          2019,
          2020,
          2021,
          2022,
          2023,
          2024
         ],
         "xaxis": "x",
         "y": [
          19.07,
          20.42,
          20.75,
          24.7,
          27.98,
          24.21,
          21.27,
          17.22,
          16.95,
          12.35,
          -8.96,
          12.81,
          14.75
         ],
         "yaxis": "y"
        },
        {
         "hovertemplate": "geo=ES<br>TIME_PERIOD=%{x}<br>% tax=%{y}<extra></extra>",
         "legendgroup": "ES",
         "line": {
          "color": "#FF97FF",
          "dash": "solid"
         },
         "marker": {
          "symbol": "circle"
         },
         "mode": "lines",
         "name": "ES",
         "orientation": "v",
         "showlegend": true,
         "type": "scatter",
         "x": [
          2007,
          2008,
          2009,
          2010,
          2011,
          2012,
          2013,
          2014,
          2015,
          2016,
          2017,
          2018,
          2019,
          2020,
          2021,
          2022,
          2023,
          2024
         ],
         "xaxis": "x",
         "y": [
          13.81,
          13.75,
          13.79,
          14.61,
          15.24,
          15.79,
          18.47,
          18.48,
          18.63,
          18.94,
          18.93,
          18.82,
          22.86,
          23.6,
          21.43,
          19.05,
          7.88,
          17.29
         ],
         "yaxis": "y"
        },
        {
         "hovertemplate": "geo=FR<br>TIME_PERIOD=%{x}<br>% tax=%{y}<extra></extra>",
         "legendgroup": "FR",
         "line": {
          "color": "#FECB52",
          "dash": "solid"
         },
         "marker": {
          "symbol": "circle"
         },
         "mode": "lines",
         "name": "FR",
         "orientation": "v",
         "showlegend": true,
         "type": "scatter",
         "x": [
          2007,
          2008,
          2009,
          2010,
          2011,
          2012,
          2013,
          2014,
          2015,
          2016,
          2017,
          2018,
          2019,
          2020,
          2021,
          2022,
          2023,
          2024
         ],
         "xaxis": "x",
         "y": [
          15.84,
          16.1,
          16.68,
          17.04,
          17.11,
          17.33,
          16.88,
          17.88,
          20.12,
          22.93,
          23,
          24.5,
          25.74,
          27.67,
          23.81,
          18.45,
          18.96,
          25.54
         ],
         "yaxis": "y"
        },
        {
         "hovertemplate": "geo=HR<br>TIME_PERIOD=%{x}<br>% tax=%{y}<extra></extra>",
         "legendgroup": "HR",
         "line": {
          "color": "#636efa",
          "dash": "solid"
         },
         "marker": {
          "symbol": "circle"
         },
         "mode": "lines",
         "name": "HR",
         "orientation": "v",
         "showlegend": true,
         "type": "scatter",
         "x": [
          2007,
          2008,
          2009,
          2010,
          2011,
          2012,
          2013,
          2014,
          2015,
          2016,
          2017,
          2018,
          2019,
          2020,
          2021,
          2022,
          2023,
          2024
         ],
         "xaxis": "x",
         "y": [
          20.9,
          19.27,
          18.15,
          18.72,
          18.66,
          19.75,
          20.47,
          20.91,
          20.93,
          21.06,
          21.51,
          21.83,
          22.44,
          23.04,
          22.82,
          10.7,
          5.7,
          7.59
         ],
         "yaxis": "y"
        },
        {
         "hovertemplate": "geo=HU<br>TIME_PERIOD=%{x}<br>% tax=%{y}<extra></extra>",
         "legendgroup": "HU",
         "line": {
          "color": "#EF553B",
          "dash": "solid"
         },
         "marker": {
          "symbol": "circle"
         },
         "mode": "lines",
         "name": "HU",
         "orientation": "v",
         "showlegend": true,
         "type": "scatter",
         "x": [
          2007,
          2008,
          2009,
          2010,
          2011,
          2012,
          2013,
          2014,
          2015,
          2016,
          2017,
          2018,
          2019,
          2020,
          2021,
          2022,
          2023,
          2024
         ],
         "xaxis": "x",
         "y": [
          18.89,
          19.05,
          20.78,
          22.7,
          22.38,
          24.86,
          24.43,
          24.44,
          25.25,
          26.61,
          27.12,
          25.55,
          26.49,
          26.9,
          26.19,
          21.8,
          24.9,
          26.45
         ],
         "yaxis": "y"
        },
        {
         "hovertemplate": "geo=IE<br>TIME_PERIOD=%{x}<br>% tax=%{y}<extra></extra>",
         "legendgroup": "IE",
         "line": {
          "color": "#00cc96",
          "dash": "solid"
         },
         "marker": {
          "symbol": "circle"
         },
         "mode": "lines",
         "name": "IE",
         "orientation": "v",
         "showlegend": true,
         "type": "scatter",
         "x": [
          2007,
          2008,
          2009,
          2010,
          2011,
          2012,
          2013,
          2014,
          2015,
          2016,
          2017,
          2018,
          2019,
          2020,
          2021,
          2022,
          2023,
          2024
         ],
         "xaxis": "x",
         "y": [
          10.94,
          10.76,
          10.46,
          14.23,
          15.24,
          15.35,
          16.26,
          16.61,
          17.51,
          17.38,
          17.91,
          17.18,
          17.24,
          18.71,
          17.79,
          12.88,
          13.32,
          15.01
         ],
         "yaxis": "y"
        },
        {
         "hovertemplate": "geo=IT<br>TIME_PERIOD=%{x}<br>% tax=%{y}<extra></extra>",
         "legendgroup": "IT",
         "line": {
          "color": "#ab63fa",
          "dash": "solid"
         },
         "marker": {
          "symbol": "circle"
         },
         "mode": "lines",
         "name": "IT",
         "orientation": "v",
         "showlegend": true,
         "type": "scatter",
         "x": [
          2007,
          2008,
          2009,
          2010,
          2011,
          2012,
          2013,
          2014,
          2015,
          2016,
          2017,
          2018,
          2019,
          2020,
          2021,
          2022,
          2023,
          2024
         ],
         "xaxis": "x",
         "y": [
          17.19,
          14.19,
          16.86,
          17.32,
          18.73,
          19.95,
          20.41,
          21.26,
          20.8,
          21.26,
          21.97,
          20.06,
          26.12,
          27.65,
          20.16,
          8.39,
          7.34,
          17.84
         ],
         "yaxis": "y"
        },
        {
         "hovertemplate": "geo=LT<br>TIME_PERIOD=%{x}<br>% tax=%{y}<extra></extra>",
         "legendgroup": "LT",
         "line": {
          "color": "#FFA15A",
          "dash": "solid"
         },
         "marker": {
          "symbol": "circle"
         },
         "mode": "lines",
         "name": "LT",
         "orientation": "v",
         "showlegend": true,
         "type": "scatter",
         "x": [
          2007,
          2008,
          2009,
          2010,
          2011,
          2012,
          2013,
          2014,
          2015,
          2016,
          2017,
          2018,
          2019,
          2020,
          2021,
          2022,
          2023,
          2024
         ],
         "xaxis": "x",
         "y": [
          15.25,
          15.24,
          16.18,
          17.34,
          17.33,
          17.36,
          17.36,
          17.36,
          17.33,
          17.34,
          29.44,
          27.18,
          31.22,
          29.14,
          21.52,
          18.31,
          19.16,
          20.16
         ],
         "yaxis": "y"
        },
        {
         "hovertemplate": "geo=LU<br>TIME_PERIOD=%{x}<br>% tax=%{y}<extra></extra>",
         "legendgroup": "LU",
         "line": {
          "color": "#19d3f3",
          "dash": "solid"
         },
         "marker": {
          "symbol": "circle"
         },
         "mode": "lines",
         "name": "LU",
         "orientation": "v",
         "showlegend": true,
         "type": "scatter",
         "x": [
          2007,
          2008,
          2009,
          2010,
          2011,
          2012,
          2013,
          2014,
          2015,
          2016,
          2017,
          2018,
          2019,
          2020,
          2021,
          2022,
          2023,
          2024
         ],
         "xaxis": "x",
         "y": [
          9.08,
          7.33,
          7.47,
          7.25,
          7.19,
          6.91,
          6.78,
          7.17,
          8.87,
          9.57,
          8.9,
          8.94,
          8.9,
          9.29,
          16.9,
          6.36,
          -6.54,
          7.58
         ],
         "yaxis": "y"
        },
        {
         "hovertemplate": "geo=LV<br>TIME_PERIOD=%{x}<br>% tax=%{y}<extra></extra>",
         "legendgroup": "LV",
         "line": {
          "color": "#FF6692",
          "dash": "solid"
         },
         "marker": {
          "symbol": "circle"
         },
         "mode": "lines",
         "name": "LV",
         "orientation": "v",
         "showlegend": true,
         "type": "scatter",
         "x": [
          2007,
          2008,
          2009,
          2010,
          2011,
          2012,
          2013,
          2014,
          2015,
          2016,
          2017,
          2018,
          2019,
          2020,
          2021,
          2022,
          2023,
          2024
         ],
         "xaxis": "x",
         "y": [
          15.39,
          15.41,
          17.44,
          17.48,
          20.27,
          20.81,
          21.07,
          21.03,
          21.64,
          22.62,
          21.7,
          21.21,
          21.13,
          21.93,
          20.16,
          18.4,
          20.4,
          20.38
         ],
         "yaxis": "y"
        },
        {
         "hovertemplate": "geo=NL<br>TIME_PERIOD=%{x}<br>% tax=%{y}<extra></extra>",
         "legendgroup": "NL",
         "line": {
          "color": "#B6E880",
          "dash": "solid"
         },
         "marker": {
          "symbol": "circle"
         },
         "mode": "lines",
         "name": "NL",
         "orientation": "v",
         "showlegend": true,
         "type": "scatter",
         "x": [
          2007,
          2008,
          2009,
          2010,
          2011,
          2012,
          2013,
          2014,
          2015,
          2016,
          2017,
          2018,
          2019,
          2020,
          2021,
          2022,
          2023,
          2024
         ],
         "xaxis": "x",
         "y": [
          30.38,
          29.62,
          31.56,
          33.84,
          33.5,
          33.08,
          36.32,
          37.43,
          39.4,
          46.39,
          44.92,
          45.63,
          50.03,
          56.24,
          47.97,
          31.07,
          36.94,
          48.89
         ],
         "yaxis": "y"
        },
        {
         "hovertemplate": "geo=PL<br>TIME_PERIOD=%{x}<br>% tax=%{y}<extra></extra>",
         "legendgroup": "PL",
         "line": {
          "color": "#FF97FF",
          "dash": "solid"
         },
         "marker": {
          "symbol": "circle"
         },
         "mode": "lines",
         "name": "PL",
         "orientation": "v",
         "showlegend": true,
         "type": "scatter",
         "x": [
          2007,
          2008,
          2009,
          2010,
          2011,
          2012,
          2013,
          2014,
          2015,
          2016,
          2017,
          2018,
          2019,
          2020,
          2021,
          2022,
          2023,
          2024
         ],
         "xaxis": "x",
         "y": [
          18,
          18.07,
          18.03,
          18.01,
          18.69,
          18.69,
          18.84,
          19.72,
          19.82,
          20.05,
          20.15,
          20.37,
          20.58,
          20.93,
          20.41,
          1.36,
          19.44,
          19.84
         ],
         "yaxis": "y"
        },
        {
         "hovertemplate": "geo=PT<br>TIME_PERIOD=%{x}<br>% tax=%{y}<extra></extra>",
         "legendgroup": "PT",
         "line": {
          "color": "#FECB52",
          "dash": "solid"
         },
         "marker": {
          "symbol": "circle"
         },
         "mode": "lines",
         "name": "PT",
         "orientation": "v",
         "showlegend": true,
         "type": "scatter",
         "x": [
          2007,
          2008,
          2009,
          2010,
          2011,
          2012,
          2013,
          2014,
          2015,
          2016,
          2017,
          2018,
          2019,
          2020,
          2021,
          2022,
          2023,
          2024
         ],
         "xaxis": "x",
         "y": [
          4.86,
          4.73,
          4.73,
          5.38,
          9.62,
          19.41,
          20.6,
          21.27,
          21.15,
          21.15,
          23.53,
          23.73,
          23.87,
          27.86,
          25.38,
          21.56,
          21.79,
          25.91
         ],
         "yaxis": "y"
        },
        {
         "hovertemplate": "geo=RO<br>TIME_PERIOD=%{x}<br>% tax=%{y}<extra></extra>",
         "legendgroup": "RO",
         "line": {
          "color": "#636efa",
          "dash": "solid"
         },
         "marker": {
          "symbol": "circle"
         },
         "mode": "lines",
         "name": "RO",
         "orientation": "v",
         "showlegend": true,
         "type": "scatter",
         "x": [
          2007,
          2008,
          2009,
          2010,
          2011,
          2012,
          2013,
          2014,
          2015,
          2016,
          2017,
          2018,
          2019,
          2020,
          2021,
          2022,
          2023,
          2024
         ],
         "xaxis": "x",
         "y": [
          30.3,
          30.29,
          39.35,
          42.04,
          40.3,
          37.28,
          37.89,
          39.18,
          40.13,
          41.09,
          15.97,
          15.97,
          17.69,
          17.97,
          17.52,
          16.43,
          16.76,
          17.11
         ],
         "yaxis": "y"
        },
        {
         "hovertemplate": "geo=SE<br>TIME_PERIOD=%{x}<br>% tax=%{y}<extra></extra>",
         "legendgroup": "SE",
         "line": {
          "color": "#EF553B",
          "dash": "solid"
         },
         "marker": {
          "symbol": "circle"
         },
         "mode": "lines",
         "name": "SE",
         "orientation": "v",
         "showlegend": true,
         "type": "scatter",
         "x": [
          2007,
          2008,
          2009,
          2010,
          2011,
          2012,
          2013,
          2014,
          2015,
          2016,
          2017,
          2018,
          2019,
          2020,
          2021,
          2022,
          2023,
          2024
         ],
         "xaxis": "x",
         "y": [
          46.53,
          42.74,
          47.51,
          47.22,
          50.66,
          51.99,
          50.91,
          52.9,
          53.71,
          55.84,
          46.13,
          47.05,
          51.98,
          46.54,
          39.86,
          33.04,
          37.38,
          43.02
         ],
         "yaxis": "y"
        },
        {
         "hovertemplate": "geo=SI<br>TIME_PERIOD=%{x}<br>% tax=%{y}<extra></extra>",
         "legendgroup": "SI",
         "line": {
          "color": "#00cc96",
          "dash": "solid"
         },
         "marker": {
          "symbol": "circle"
         },
         "mode": "lines",
         "name": "SI",
         "orientation": "v",
         "showlegend": true,
         "type": "scatter",
         "x": [
          2007,
          2008,
          2009,
          2010,
          2011,
          2012,
          2013,
          2014,
          2015,
          2016,
          2017,
          2018,
          2019,
          2020,
          2021,
          2022,
          2023,
          2024
         ],
         "xaxis": "x",
         "y": [
          23.4,
          21.88,
          21.95,
          23.81,
          23.37,
          23.07,
          25.16,
          26.87,
          27.12,
          27.83,
          29.38,
          28.37,
          28.87,
          29.79,
          28.91,
          18.58,
          17.74,
          23.71
         ],
         "yaxis": "y"
        },
        {
         "hovertemplate": "geo=SK<br>TIME_PERIOD=%{x}<br>% tax=%{y}<extra></extra>",
         "legendgroup": "SK",
         "line": {
          "color": "#ab63fa",
          "dash": "solid"
         },
         "marker": {
          "symbol": "circle"
         },
         "mode": "lines",
         "name": "SK",
         "orientation": "v",
         "showlegend": true,
         "type": "scatter",
         "x": [
          2007,
          2008,
          2009,
          2010,
          2011,
          2012,
          2013,
          2014,
          2015,
          2016,
          2017,
          2018,
          2019,
          2020,
          2021,
          2022,
          2023,
          2024
         ],
         "xaxis": "x",
         "y": [
          15.92,
          16.63,
          17.47,
          19.12,
          19.59,
          19.3,
          19.42,
          19.45,
          19.68,
          19.95,
          20.54,
          20.4,
          20.09,
          20.13,
          19.71,
          18.12,
          17.8,
          18.14
         ],
         "yaxis": "y"
        }
       ],
       "layout": {
        "legend": {
         "title": {
          "text": "geo"
         },
         "tracegroupgap": 0
        },
        "margin": {
         "t": 60
        },
        "template": {
         "data": {
          "bar": [
           {
            "error_x": {
             "color": "#2a3f5f"
            },
            "error_y": {
             "color": "#2a3f5f"
            },
            "marker": {
             "line": {
              "color": "#E5ECF6",
              "width": 0.5
             },
             "pattern": {
              "fillmode": "overlay",
              "size": 10,
              "solidity": 0.2
             }
            },
            "type": "bar"
           }
          ],
          "barpolar": [
           {
            "marker": {
             "line": {
              "color": "#E5ECF6",
              "width": 0.5
             },
             "pattern": {
              "fillmode": "overlay",
              "size": 10,
              "solidity": 0.2
             }
            },
            "type": "barpolar"
           }
          ],
          "carpet": [
           {
            "aaxis": {
             "endlinecolor": "#2a3f5f",
             "gridcolor": "white",
             "linecolor": "white",
             "minorgridcolor": "white",
             "startlinecolor": "#2a3f5f"
            },
            "baxis": {
             "endlinecolor": "#2a3f5f",
             "gridcolor": "white",
             "linecolor": "white",
             "minorgridcolor": "white",
             "startlinecolor": "#2a3f5f"
            },
            "type": "carpet"
           }
          ],
          "choropleth": [
           {
            "colorbar": {
             "outlinewidth": 0,
             "ticks": ""
            },
            "type": "choropleth"
           }
          ],
          "contour": [
           {
            "colorbar": {
             "outlinewidth": 0,
             "ticks": ""
            },
            "colorscale": [
             [
              0,
              "#0d0887"
             ],
             [
              0.1111111111111111,
              "#46039f"
             ],
             [
              0.2222222222222222,
              "#7201a8"
             ],
             [
              0.3333333333333333,
              "#9c179e"
             ],
             [
              0.4444444444444444,
              "#bd3786"
             ],
             [
              0.5555555555555556,
              "#d8576b"
             ],
             [
              0.6666666666666666,
              "#ed7953"
             ],
             [
              0.7777777777777778,
              "#fb9f3a"
             ],
             [
              0.8888888888888888,
              "#fdca26"
             ],
             [
              1,
              "#f0f921"
             ]
            ],
            "type": "contour"
           }
          ],
          "contourcarpet": [
           {
            "colorbar": {
             "outlinewidth": 0,
             "ticks": ""
            },
            "type": "contourcarpet"
           }
          ],
          "heatmap": [
           {
            "colorbar": {
             "outlinewidth": 0,
             "ticks": ""
            },
            "colorscale": [
             [
              0,
              "#0d0887"
             ],
             [
              0.1111111111111111,
              "#46039f"
             ],
             [
              0.2222222222222222,
              "#7201a8"
             ],
             [
              0.3333333333333333,
              "#9c179e"
             ],
             [
              0.4444444444444444,
              "#bd3786"
             ],
             [
              0.5555555555555556,
              "#d8576b"
             ],
             [
              0.6666666666666666,
              "#ed7953"
             ],
             [
              0.7777777777777778,
              "#fb9f3a"
             ],
             [
              0.8888888888888888,
              "#fdca26"
             ],
             [
              1,
              "#f0f921"
             ]
            ],
            "type": "heatmap"
           }
          ],
          "heatmapgl": [
           {
            "colorbar": {
             "outlinewidth": 0,
             "ticks": ""
            },
            "colorscale": [
             [
              0,
              "#0d0887"
             ],
             [
              0.1111111111111111,
              "#46039f"
             ],
             [
              0.2222222222222222,
              "#7201a8"
             ],
             [
              0.3333333333333333,
              "#9c179e"
             ],
             [
              0.4444444444444444,
              "#bd3786"
             ],
             [
              0.5555555555555556,
              "#d8576b"
             ],
             [
              0.6666666666666666,
              "#ed7953"
             ],
             [
              0.7777777777777778,
              "#fb9f3a"
             ],
             [
              0.8888888888888888,
              "#fdca26"
             ],
             [
              1,
              "#f0f921"
             ]
            ],
            "type": "heatmapgl"
           }
          ],
          "histogram": [
           {
            "marker": {
             "pattern": {
              "fillmode": "overlay",
              "size": 10,
              "solidity": 0.2
             }
            },
            "type": "histogram"
           }
          ],
          "histogram2d": [
           {
            "colorbar": {
             "outlinewidth": 0,
             "ticks": ""
            },
            "colorscale": [
             [
              0,
              "#0d0887"
             ],
             [
              0.1111111111111111,
              "#46039f"
             ],
             [
              0.2222222222222222,
              "#7201a8"
             ],
             [
              0.3333333333333333,
              "#9c179e"
             ],
             [
              0.4444444444444444,
              "#bd3786"
             ],
             [
              0.5555555555555556,
              "#d8576b"
             ],
             [
              0.6666666666666666,
              "#ed7953"
             ],
             [
              0.7777777777777778,
              "#fb9f3a"
             ],
             [
              0.8888888888888888,
              "#fdca26"
             ],
             [
              1,
              "#f0f921"
             ]
            ],
            "type": "histogram2d"
           }
          ],
          "histogram2dcontour": [
           {
            "colorbar": {
             "outlinewidth": 0,
             "ticks": ""
            },
            "colorscale": [
             [
              0,
              "#0d0887"
             ],
             [
              0.1111111111111111,
              "#46039f"
             ],
             [
              0.2222222222222222,
              "#7201a8"
             ],
             [
              0.3333333333333333,
              "#9c179e"
             ],
             [
              0.4444444444444444,
              "#bd3786"
             ],
             [
              0.5555555555555556,
              "#d8576b"
             ],
             [
              0.6666666666666666,
              "#ed7953"
             ],
             [
              0.7777777777777778,
              "#fb9f3a"
             ],
             [
              0.8888888888888888,
              "#fdca26"
             ],
             [
              1,
              "#f0f921"
             ]
            ],
            "type": "histogram2dcontour"
           }
          ],
          "mesh3d": [
           {
            "colorbar": {
             "outlinewidth": 0,
             "ticks": ""
            },
            "type": "mesh3d"
           }
          ],
          "parcoords": [
           {
            "line": {
             "colorbar": {
              "outlinewidth": 0,
              "ticks": ""
             }
            },
            "type": "parcoords"
           }
          ],
          "pie": [
           {
            "automargin": true,
            "type": "pie"
           }
          ],
          "scatter": [
           {
            "fillpattern": {
             "fillmode": "overlay",
             "size": 10,
             "solidity": 0.2
            },
            "type": "scatter"
           }
          ],
          "scatter3d": [
           {
            "line": {
             "colorbar": {
              "outlinewidth": 0,
              "ticks": ""
             }
            },
            "marker": {
             "colorbar": {
              "outlinewidth": 0,
              "ticks": ""
             }
            },
            "type": "scatter3d"
           }
          ],
          "scattercarpet": [
           {
            "marker": {
             "colorbar": {
              "outlinewidth": 0,
              "ticks": ""
             }
            },
            "type": "scattercarpet"
           }
          ],
          "scattergeo": [
           {
            "marker": {
             "colorbar": {
              "outlinewidth": 0,
              "ticks": ""
             }
            },
            "type": "scattergeo"
           }
          ],
          "scattergl": [
           {
            "marker": {
             "colorbar": {
              "outlinewidth": 0,
              "ticks": ""
             }
            },
            "type": "scattergl"
           }
          ],
          "scattermapbox": [
           {
            "marker": {
             "colorbar": {
              "outlinewidth": 0,
              "ticks": ""
             }
            },
            "type": "scattermapbox"
           }
          ],
          "scatterpolar": [
           {
            "marker": {
             "colorbar": {
              "outlinewidth": 0,
              "ticks": ""
             }
            },
            "type": "scatterpolar"
           }
          ],
          "scatterpolargl": [
           {
            "marker": {
             "colorbar": {
              "outlinewidth": 0,
              "ticks": ""
             }
            },
            "type": "scatterpolargl"
           }
          ],
          "scatterternary": [
           {
            "marker": {
             "colorbar": {
              "outlinewidth": 0,
              "ticks": ""
             }
            },
            "type": "scatterternary"
           }
          ],
          "surface": [
           {
            "colorbar": {
             "outlinewidth": 0,
             "ticks": ""
            },
            "colorscale": [
             [
              0,
              "#0d0887"
             ],
             [
              0.1111111111111111,
              "#46039f"
             ],
             [
              0.2222222222222222,
              "#7201a8"
             ],
             [
              0.3333333333333333,
              "#9c179e"
             ],
             [
              0.4444444444444444,
              "#bd3786"
             ],
             [
              0.5555555555555556,
              "#d8576b"
             ],
             [
              0.6666666666666666,
              "#ed7953"
             ],
             [
              0.7777777777777778,
              "#fb9f3a"
             ],
             [
              0.8888888888888888,
              "#fdca26"
             ],
             [
              1,
              "#f0f921"
             ]
            ],
            "type": "surface"
           }
          ],
          "table": [
           {
            "cells": {
             "fill": {
              "color": "#EBF0F8"
             },
             "line": {
              "color": "white"
             }
            },
            "header": {
             "fill": {
              "color": "#C8D4E3"
             },
             "line": {
              "color": "white"
             }
            },
            "type": "table"
           }
          ]
         },
         "layout": {
          "annotationdefaults": {
           "arrowcolor": "#2a3f5f",
           "arrowhead": 0,
           "arrowwidth": 1
          },
          "autotypenumbers": "strict",
          "coloraxis": {
           "colorbar": {
            "outlinewidth": 0,
            "ticks": ""
           }
          },
          "colorscale": {
           "diverging": [
            [
             0,
             "#8e0152"
            ],
            [
             0.1,
             "#c51b7d"
            ],
            [
             0.2,
             "#de77ae"
            ],
            [
             0.3,
             "#f1b6da"
            ],
            [
             0.4,
             "#fde0ef"
            ],
            [
             0.5,
             "#f7f7f7"
            ],
            [
             0.6,
             "#e6f5d0"
            ],
            [
             0.7,
             "#b8e186"
            ],
            [
             0.8,
             "#7fbc41"
            ],
            [
             0.9,
             "#4d9221"
            ],
            [
             1,
             "#276419"
            ]
           ],
           "sequential": [
            [
             0,
             "#0d0887"
            ],
            [
             0.1111111111111111,
             "#46039f"
            ],
            [
             0.2222222222222222,
             "#7201a8"
            ],
            [
             0.3333333333333333,
             "#9c179e"
            ],
            [
             0.4444444444444444,
             "#bd3786"
            ],
            [
             0.5555555555555556,
             "#d8576b"
            ],
            [
             0.6666666666666666,
             "#ed7953"
            ],
            [
             0.7777777777777778,
             "#fb9f3a"
            ],
            [
             0.8888888888888888,
             "#fdca26"
            ],
            [
             1,
             "#f0f921"
            ]
           ],
           "sequentialminus": [
            [
             0,
             "#0d0887"
            ],
            [
             0.1111111111111111,
             "#46039f"
            ],
            [
             0.2222222222222222,
             "#7201a8"
            ],
            [
             0.3333333333333333,
             "#9c179e"
            ],
            [
             0.4444444444444444,
             "#bd3786"
            ],
            [
             0.5555555555555556,
             "#d8576b"
            ],
            [
             0.6666666666666666,
             "#ed7953"
            ],
            [
             0.7777777777777778,
             "#fb9f3a"
            ],
            [
             0.8888888888888888,
             "#fdca26"
            ],
            [
             1,
             "#f0f921"
            ]
           ]
          },
          "colorway": [
           "#636efa",
           "#EF553B",
           "#00cc96",
           "#ab63fa",
           "#FFA15A",
           "#19d3f3",
           "#FF6692",
           "#B6E880",
           "#FF97FF",
           "#FECB52"
          ],
          "font": {
           "color": "#2a3f5f"
          },
          "geo": {
           "bgcolor": "white",
           "lakecolor": "white",
           "landcolor": "#E5ECF6",
           "showlakes": true,
           "showland": true,
           "subunitcolor": "white"
          },
          "hoverlabel": {
           "align": "left"
          },
          "hovermode": "closest",
          "mapbox": {
           "style": "light"
          },
          "paper_bgcolor": "white",
          "plot_bgcolor": "#E5ECF6",
          "polar": {
           "angularaxis": {
            "gridcolor": "white",
            "linecolor": "white",
            "ticks": ""
           },
           "bgcolor": "#E5ECF6",
           "radialaxis": {
            "gridcolor": "white",
            "linecolor": "white",
            "ticks": ""
           }
          },
          "scene": {
           "xaxis": {
            "backgroundcolor": "#E5ECF6",
            "gridcolor": "white",
            "gridwidth": 2,
            "linecolor": "white",
            "showbackground": true,
            "ticks": "",
            "zerolinecolor": "white"
           },
           "yaxis": {
            "backgroundcolor": "#E5ECF6",
            "gridcolor": "white",
            "gridwidth": 2,
            "linecolor": "white",
            "showbackground": true,
            "ticks": "",
            "zerolinecolor": "white"
           },
           "zaxis": {
            "backgroundcolor": "#E5ECF6",
            "gridcolor": "white",
            "gridwidth": 2,
            "linecolor": "white",
            "showbackground": true,
            "ticks": "",
            "zerolinecolor": "white"
           }
          },
          "shapedefaults": {
           "line": {
            "color": "#2a3f5f"
           }
          },
          "ternary": {
           "aaxis": {
            "gridcolor": "white",
            "linecolor": "white",
            "ticks": ""
           },
           "baxis": {
            "gridcolor": "white",
            "linecolor": "white",
            "ticks": ""
           },
           "bgcolor": "#E5ECF6",
           "caxis": {
            "gridcolor": "white",
            "linecolor": "white",
            "ticks": ""
           }
          },
          "title": {
           "x": 0.05
          },
          "xaxis": {
           "automargin": true,
           "gridcolor": "white",
           "linecolor": "white",
           "ticks": "",
           "title": {
            "standoff": 15
           },
           "zerolinecolor": "white",
           "zerolinewidth": 2
          },
          "yaxis": {
           "automargin": true,
           "gridcolor": "white",
           "linecolor": "white",
           "ticks": "",
           "title": {
            "standoff": 15
           },
           "zerolinecolor": "white",
           "zerolinewidth": 2
          }
         }
        },
        "xaxis": {
         "anchor": "y",
         "domain": [
          0,
          1
         ],
         "title": {
          "text": "TIME_PERIOD"
         }
        },
        "yaxis": {
         "anchor": "x",
         "domain": [
          0,
          1
         ],
         "title": {
          "text": "% tax"
         }
        }
       }
      }
     },
     "metadata": {},
     "output_type": "display_data"
    }
   ],
   "source": [
    "electricity_prices_hh_df = energy_prices_df[\n",
    "    (energy_prices_df['nrg_bal'] == 'FC_NHH_E') &\n",
    "    (energy_prices_df['siec'] == 'G3000') \n",
    "]\n",
    "\n",
    "fig = px.line(electricity_prices_hh_df, x='TIME_PERIOD', y='% tax', color='geo')\n",
    "fig.show()"
   ]
  },
  {
   "cell_type": "code",
   "execution_count": 71,
   "metadata": {},
   "outputs": [
    {
     "data": {
      "application/vnd.plotly.v1+json": {
       "config": {
        "plotlyServerURL": "https://plot.ly"
       },
       "data": [
        {
         "hovertemplate": "geo=AT<br>TIME_PERIOD=%{x}<br>EUR per Kwh Excluding tax=%{y}<extra></extra>",
         "legendgroup": "AT",
         "line": {
          "color": "#636efa",
          "dash": "solid"
         },
         "marker": {
          "symbol": "circle"
         },
         "mode": "lines",
         "name": "AT",
         "orientation": "v",
         "showlegend": true,
         "type": "scatter",
         "x": [
          2007,
          2009,
          2010,
          2011,
          2012,
          2013,
          2014,
          2015,
          2016,
          2017,
          2018,
          2019,
          2020,
          2021,
          2022,
          2023,
          2024
         ],
         "xaxis": "x",
         "y": [
          0.03795,
          0.03286,
          0.03318,
          0.035949999999999996,
          0.03799,
          0.03655,
          0.03567,
          0.03283,
          0.02973,
          0.02923,
          0.0281,
          0.0263,
          0.024675000000000002,
          0.03513846153846154,
          0.07712142857142858,
          0.0664,
          0.056171428571428574
         ],
         "yaxis": "y"
        },
        {
         "hovertemplate": "geo=BE<br>TIME_PERIOD=%{x}<br>EUR per Kwh Excluding tax=%{y}<extra></extra>",
         "legendgroup": "BE",
         "line": {
          "color": "#EF553B",
          "dash": "solid"
         },
         "marker": {
          "symbol": "circle"
         },
         "mode": "lines",
         "name": "BE",
         "orientation": "v",
         "showlegend": true,
         "type": "scatter",
         "x": [
          2007,
          2008,
          2009,
          2010,
          2011,
          2012,
          2013,
          2014,
          2015,
          2016,
          2017,
          2018,
          2019,
          2020,
          2021,
          2022,
          2023,
          2024
         ],
         "xaxis": "x",
         "y": [
          0.030359999999999998,
          0.03835,
          0.032029999999999996,
          0.030459999999999997,
          0.03504,
          0.03617,
          0.03635454545454545,
          0.030799999999999998,
          0.027883333333333333,
          0.023925000000000002,
          0.02414166666666667,
          0.0255,
          0.023141666666666668,
          0.01965,
          0.034800000000000005,
          0.07223571428571429,
          0.057350000000000005,
          0.043957142857142854
         ],
         "yaxis": "y"
        },
        {
         "hovertemplate": "geo=BG<br>TIME_PERIOD=%{x}<br>EUR per Kwh Excluding tax=%{y}<extra></extra>",
         "legendgroup": "BG",
         "line": {
          "color": "#00cc96",
          "dash": "solid"
         },
         "marker": {
          "symbol": "circle"
         },
         "mode": "lines",
         "name": "BG",
         "orientation": "v",
         "showlegend": true,
         "type": "scatter",
         "x": [
          2007,
          2008,
          2009,
          2010,
          2011,
          2012,
          2013,
          2014,
          2015,
          2016,
          2017,
          2018,
          2019,
          2020,
          2021,
          2022,
          2023,
          2024
         ],
         "xaxis": "x",
         "y": [
          0.01794,
          0.023663636363636362,
          0.026654545454545455,
          0.02691,
          0.030440000000000002,
          0.0377,
          0.03495,
          0.03352,
          0.028239999999999998,
          0.01973,
          0.021663636363636364,
          0.026090000000000002,
          0.02827,
          0.021670000000000002,
          0.03883636363636364,
          0.09699999999999999,
          0.056883333333333334,
          0.039983333333333336
         ],
         "yaxis": "y"
        },
        {
         "hovertemplate": "geo=CZ<br>TIME_PERIOD=%{x}<br>EUR per Kwh Excluding tax=%{y}<extra></extra>",
         "legendgroup": "CZ",
         "line": {
          "color": "#ab63fa",
          "dash": "solid"
         },
         "marker": {
          "symbol": "circle"
         },
         "mode": "lines",
         "name": "CZ",
         "orientation": "v",
         "showlegend": true,
         "type": "scatter",
         "x": [
          2007,
          2008,
          2009,
          2010,
          2011,
          2012,
          2013,
          2014,
          2015,
          2016,
          2017,
          2018,
          2019,
          2020,
          2021,
          2022,
          2023,
          2024
         ],
         "xaxis": "x",
         "y": [
          0.02496,
          0.03462,
          0.030569999999999996,
          0.03218,
          0.03443,
          0.03584,
          0.0339,
          0.03141,
          0.029809999999999996,
          0.026639999999999997,
          0.02544,
          0.02645,
          0.027750000000000004,
          0.02407272727272727,
          0.030325,
          0.07266666666666667,
          0.06731666666666666,
          0.059783333333333334
         ],
         "yaxis": "y"
        },
        {
         "hovertemplate": "geo=DE<br>TIME_PERIOD=%{x}<br>EUR per Kwh Excluding tax=%{y}<extra></extra>",
         "legendgroup": "DE",
         "line": {
          "color": "#FFA15A",
          "dash": "solid"
         },
         "marker": {
          "symbol": "circle"
         },
         "mode": "lines",
         "name": "DE",
         "orientation": "v",
         "showlegend": true,
         "type": "scatter",
         "x": [
          2007,
          2008,
          2009,
          2010,
          2011,
          2012,
          2013,
          2014,
          2015,
          2016,
          2017,
          2018,
          2019,
          2020,
          2021,
          2022,
          2023,
          2024
         ],
         "xaxis": "x",
         "y": [
          0.03328,
          0.04084,
          0.03395,
          0.03278181818181818,
          0.034616666666666664,
          0.034981818181818176,
          0.038425,
          0.03465,
          0.031591666666666664,
          0.026566666666666666,
          0.027549999999999998,
          0.028589999999999997,
          0.025608333333333334,
          0.023483333333333332,
          0.032676923076923076,
          0.06387692307692308,
          0.06347142857142858,
          0.052514285714285715
         ],
         "yaxis": "y"
        },
        {
         "hovertemplate": "geo=DK<br>TIME_PERIOD=%{x}<br>EUR per Kwh Excluding tax=%{y}<extra></extra>",
         "legendgroup": "DK",
         "line": {
          "color": "#19d3f3",
          "dash": "solid"
         },
         "marker": {
          "symbol": "circle"
         },
         "mode": "lines",
         "name": "DK",
         "orientation": "v",
         "showlegend": true,
         "type": "scatter",
         "x": [
          2007,
          2008,
          2009,
          2010,
          2011,
          2012,
          2013,
          2014,
          2015,
          2016,
          2017,
          2018,
          2019,
          2020,
          2021,
          2022,
          2023,
          2024
         ],
         "xaxis": "x",
         "y": [
          0.02839,
          0.03433,
          0.027100000000000003,
          0.0324,
          0.037070000000000006,
          0.034999999999999996,
          0.0345,
          0.02953,
          0.029059999999999996,
          0.02383,
          0.02657,
          0.03066,
          0.0248,
          0.020810000000000002,
          0.050980000000000004,
          0.11747999999999999,
          0.05713,
          0.0468
         ],
         "yaxis": "y"
        },
        {
         "hovertemplate": "geo=EE<br>TIME_PERIOD=%{x}<br>EUR per Kwh Excluding tax=%{y}<extra></extra>",
         "legendgroup": "EE",
         "line": {
          "color": "#FF6692",
          "dash": "solid"
         },
         "marker": {
          "symbol": "circle"
         },
         "mode": "lines",
         "name": "EE",
         "orientation": "v",
         "showlegend": true,
         "type": "scatter",
         "x": [
          2007,
          2008,
          2009,
          2010,
          2011,
          2012,
          2013,
          2014,
          2015,
          2016,
          2017,
          2018,
          2019,
          2020,
          2021,
          2022,
          2023,
          2024
         ],
         "xaxis": "x",
         "y": [
          0.01856,
          0.02766,
          0.024409999999999998,
          0.026490000000000003,
          0.028470000000000002,
          0.03572,
          0.03538,
          0.035320000000000004,
          0.02975,
          0.02163,
          0.024890000000000002,
          0.02705,
          0.02517272727272727,
          0.018909090909090907,
          0.03819090909090909,
          0.08548571428571429,
          0.050757142857142855,
          0.04143333333333333
         ],
         "yaxis": "y"
        },
        {
         "hovertemplate": "geo=EL<br>TIME_PERIOD=%{x}<br>EUR per Kwh Excluding tax=%{y}<extra></extra>",
         "legendgroup": "EL",
         "line": {
          "color": "#B6E880",
          "dash": "solid"
         },
         "marker": {
          "symbol": "circle"
         },
         "mode": "lines",
         "name": "EL",
         "orientation": "v",
         "showlegend": true,
         "type": "scatter",
         "x": [
          2012,
          2013,
          2014,
          2015,
          2016,
          2017,
          2018,
          2019,
          2020,
          2021,
          2022,
          2023,
          2024
         ],
         "xaxis": "x",
         "y": [
          0.04966,
          0.044120000000000006,
          0.0403,
          0.032537500000000004,
          0.0242,
          0.025744444444444445,
          0.0345125,
          0.026090909090909095,
          0.017808333333333332,
          0.036125,
          0.11199,
          0.06747500000000001,
          0.035960000000000006
         ],
         "yaxis": "y"
        },
        {
         "hovertemplate": "geo=ES<br>TIME_PERIOD=%{x}<br>EUR per Kwh Excluding tax=%{y}<extra></extra>",
         "legendgroup": "ES",
         "line": {
          "color": "#FF97FF",
          "dash": "solid"
         },
         "marker": {
          "symbol": "circle"
         },
         "mode": "lines",
         "name": "ES",
         "orientation": "v",
         "showlegend": true,
         "type": "scatter",
         "x": [
          2007,
          2008,
          2009,
          2010,
          2011,
          2012,
          2013,
          2014,
          2015,
          2016,
          2017,
          2018,
          2019,
          2020,
          2021,
          2022,
          2023,
          2024
         ],
         "xaxis": "x",
         "y": [
          0.02455,
          0.029325,
          0.029433333333333336,
          0.028499999999999998,
          0.0337,
          0.03996,
          0.03890833333333333,
          0.03838333333333333,
          0.03469166666666667,
          0.028325,
          0.027558333333333334,
          0.030166666666666665,
          0.030475000000000002,
          0.024058333333333334,
          0.03323076923076923,
          0.0866,
          0.05330714285714285,
          0.039028571428571426
         ],
         "yaxis": "y"
        },
        {
         "hovertemplate": "geo=FR<br>TIME_PERIOD=%{x}<br>EUR per Kwh Excluding tax=%{y}<extra></extra>",
         "legendgroup": "FR",
         "line": {
          "color": "#FECB52",
          "dash": "solid"
         },
         "marker": {
          "symbol": "circle"
         },
         "mode": "lines",
         "name": "FR",
         "orientation": "v",
         "showlegend": true,
         "type": "scatter",
         "x": [
          2007,
          2008,
          2009,
          2010,
          2011,
          2012,
          2013,
          2014,
          2015,
          2016,
          2017,
          2018,
          2019,
          2020,
          2021,
          2022,
          2023,
          2024
         ],
         "xaxis": "x",
         "y": [
          0.03134,
          0.0355,
          0.03306,
          0.03277,
          0.03663,
          0.04103,
          0.041620000000000004,
          0.03923,
          0.035570000000000004,
          0.030010000000000002,
          0.027508333333333333,
          0.030049999999999997,
          0.028441666666666667,
          0.025291666666666667,
          0.03950769230769231,
          0.0670142857142857,
          0.06868571428571428,
          0.05562857142857143
         ],
         "yaxis": "y"
        },
        {
         "hovertemplate": "geo=HR<br>TIME_PERIOD=%{x}<br>EUR per Kwh Excluding tax=%{y}<extra></extra>",
         "legendgroup": "HR",
         "line": {
          "color": "#636efa",
          "dash": "solid"
         },
         "marker": {
          "symbol": "circle"
         },
         "mode": "lines",
         "name": "HR",
         "orientation": "v",
         "showlegend": true,
         "type": "scatter",
         "x": [
          2007,
          2008,
          2009,
          2010,
          2011,
          2012,
          2013,
          2014,
          2015,
          2016,
          2017,
          2018,
          2019,
          2020,
          2021,
          2022,
          2023,
          2024
         ],
         "xaxis": "x",
         "y": [
          0.0229,
          0.022628571428571425,
          0.0266,
          0.036699999999999997,
          0.04185,
          0.0452125,
          0.04217777777777778,
          0.040575,
          0.0379125,
          0.03135,
          0.0266375,
          0.028475,
          0.02731111111111111,
          0.028225,
          0.03314,
          0.064025,
          0.059750000000000004,
          0.05475
         ],
         "yaxis": "y"
        },
        {
         "hovertemplate": "geo=HU<br>TIME_PERIOD=%{x}<br>EUR per Kwh Excluding tax=%{y}<extra></extra>",
         "legendgroup": "HU",
         "line": {
          "color": "#EF553B",
          "dash": "solid"
         },
         "marker": {
          "symbol": "circle"
         },
         "mode": "lines",
         "name": "HU",
         "orientation": "v",
         "showlegend": true,
         "type": "scatter",
         "x": [
          2007,
          2008,
          2009,
          2010,
          2011,
          2012,
          2013,
          2014,
          2015,
          2016,
          2017,
          2018,
          2019,
          2020,
          2021,
          2022,
          2023,
          2024
         ],
         "xaxis": "x",
         "y": [
          0.028550000000000002,
          0.03619166666666667,
          0.0339,
          0.03311666666666667,
          0.03770833333333334,
          0.042758333333333336,
          0.041625,
          0.035425,
          0.031575,
          0.025741666666666666,
          0.023874999999999997,
          0.025866666666666666,
          0.024558333333333335,
          0.020875,
          0.035592307692307694,
          0.09612142857142857,
          0.09170714285714286,
          0.06217142857142858
         ],
         "yaxis": "y"
        },
        {
         "hovertemplate": "geo=IE<br>TIME_PERIOD=%{x}<br>EUR per Kwh Excluding tax=%{y}<extra></extra>",
         "legendgroup": "IE",
         "line": {
          "color": "#00cc96",
          "dash": "solid"
         },
         "marker": {
          "symbol": "circle"
         },
         "mode": "lines",
         "name": "IE",
         "orientation": "v",
         "showlegend": true,
         "type": "scatter",
         "x": [
          2007,
          2008,
          2009,
          2010,
          2011,
          2012,
          2013,
          2014,
          2015,
          2016,
          2017,
          2018,
          2019,
          2020,
          2021,
          2022,
          2023,
          2024
         ],
         "xaxis": "x",
         "y": [
          0.036025,
          0.04065,
          0.0355375,
          0.0303625,
          0.034624999999999996,
          0.036644444444444445,
          0.0421,
          0.040175,
          0.0378625,
          0.03305555555555555,
          0.034025,
          0.03513333333333333,
          0.03158,
          0.02858,
          0.03927,
          0.07631,
          0.07609,
          0.061020000000000005
         ],
         "yaxis": "y"
        },
        {
         "hovertemplate": "geo=IT<br>TIME_PERIOD=%{x}<br>EUR per Kwh Excluding tax=%{y}<extra></extra>",
         "legendgroup": "IT",
         "line": {
          "color": "#ab63fa",
          "dash": "solid"
         },
         "marker": {
          "symbol": "circle"
         },
         "mode": "lines",
         "name": "IT",
         "orientation": "v",
         "showlegend": true,
         "type": "scatter",
         "x": [
          2007,
          2008,
          2009,
          2010,
          2011,
          2012,
          2013,
          2014,
          2015,
          2016,
          2017,
          2018,
          2019,
          2020,
          2021,
          2022,
          2023,
          2024
         ],
         "xaxis": "x",
         "y": [
          0.028975,
          0.03556666666666667,
          0.03266666666666667,
          0.029591666666666665,
          0.033041666666666664,
          0.039591666666666664,
          0.0386,
          0.035366666666666664,
          0.03345,
          0.0292,
          0.028033333333333337,
          0.031358333333333335,
          0.030125,
          0.025974999999999998,
          0.036946153846153844,
          0.10226428571428571,
          0.07484285714285714,
          0.05367142857142857
         ],
         "yaxis": "y"
        },
        {
         "hovertemplate": "geo=LT<br>TIME_PERIOD=%{x}<br>EUR per Kwh Excluding tax=%{y}<extra></extra>",
         "legendgroup": "LT",
         "line": {
          "color": "#FFA15A",
          "dash": "solid"
         },
         "marker": {
          "symbol": "circle"
         },
         "mode": "lines",
         "name": "LT",
         "orientation": "v",
         "showlegend": true,
         "type": "scatter",
         "x": [
          2007,
          2008,
          2009,
          2010,
          2011,
          2012,
          2013,
          2014,
          2015,
          2016,
          2017,
          2018,
          2019,
          2020,
          2021,
          2022,
          2023,
          2024
         ],
         "xaxis": "x",
         "y": [
          0.022899999999999997,
          0.035236363636363635,
          0.02689090909090909,
          0.03136,
          0.039175,
          0.047837500000000005,
          0.043675,
          0.0403375,
          0.027674999999999998,
          0.026162499999999998,
          0.027174999999999998,
          0.03185,
          0.02071,
          0.0190875,
          0.0501,
          0.10723333333333335,
          0.06615,
          0.041975
         ],
         "yaxis": "y"
        },
        {
         "hovertemplate": "geo=LU<br>TIME_PERIOD=%{x}<br>EUR per Kwh Excluding tax=%{y}<extra></extra>",
         "legendgroup": "LU",
         "line": {
          "color": "#19d3f3",
          "dash": "solid"
         },
         "marker": {
          "symbol": "circle"
         },
         "mode": "lines",
         "name": "LU",
         "orientation": "v",
         "showlegend": true,
         "type": "scatter",
         "x": [
          2007,
          2008,
          2009,
          2010,
          2011,
          2012,
          2013,
          2014,
          2015,
          2016,
          2017,
          2018,
          2019,
          2020,
          2021,
          2022,
          2023,
          2024
         ],
         "xaxis": "x",
         "y": [
          0.02855,
          0.036025,
          0.0376,
          0.037275,
          0.044062500000000004,
          0.0484625,
          0.048825,
          0.042075,
          0.0386375,
          0.0334125,
          0.032614285714285714,
          0.0323375,
          0.03364285714285714,
          0.03167142857142857,
          0.03787142857142857,
          0.0866,
          0.10781428571428572,
          0.08453333333333334
         ],
         "yaxis": "y"
        },
        {
         "hovertemplate": "geo=LV<br>TIME_PERIOD=%{x}<br>EUR per Kwh Excluding tax=%{y}<extra></extra>",
         "legendgroup": "LV",
         "line": {
          "color": "#FF6692",
          "dash": "solid"
         },
         "marker": {
          "symbol": "circle"
         },
         "mode": "lines",
         "name": "LV",
         "orientation": "v",
         "showlegend": true,
         "type": "scatter",
         "x": [
          2007,
          2008,
          2009,
          2010,
          2011,
          2012,
          2013,
          2014,
          2015,
          2016,
          2017,
          2018,
          2019,
          2020,
          2021,
          2022,
          2023,
          2024
         ],
         "xaxis": "x",
         "y": [
          0.02716,
          0.03436,
          0.03419,
          0.029045454545454544,
          0.031080000000000003,
          0.0377,
          0.036109999999999996,
          0.03402,
          0.031219999999999998,
          0.0249,
          0.02707,
          0.03021111111111111,
          0.030512499999999998,
          0.0245625,
          0.0384125,
          0.1114375,
          0.0831875,
          0.053325
         ],
         "yaxis": "y"
        },
        {
         "hovertemplate": "geo=NL<br>TIME_PERIOD=%{x}<br>EUR per Kwh Excluding tax=%{y}<extra></extra>",
         "legendgroup": "NL",
         "line": {
          "color": "#B6E880",
          "dash": "solid"
         },
         "marker": {
          "symbol": "circle"
         },
         "mode": "lines",
         "name": "NL",
         "orientation": "v",
         "showlegend": true,
         "type": "scatter",
         "x": [
          2007,
          2008,
          2009,
          2010,
          2011,
          2012,
          2013,
          2014,
          2015,
          2016,
          2017,
          2018,
          2019,
          2020,
          2021,
          2022,
          2023,
          2024
         ],
         "xaxis": "x",
         "y": [
          0.031690909090909096,
          0.03429,
          0.03375,
          0.028720000000000002,
          0.03051,
          0.03305,
          0.03381,
          0.03241,
          0.03029,
          0.02596,
          0.02311,
          0.024991666666666666,
          0.02305,
          0.021125,
          0.03247692307692308,
          0.07307857142857142,
          0.06936923076923077,
          0.05023333333333333
         ],
         "yaxis": "y"
        },
        {
         "hovertemplate": "geo=PL<br>TIME_PERIOD=%{x}<br>EUR per Kwh Excluding tax=%{y}<extra></extra>",
         "legendgroup": "PL",
         "line": {
          "color": "#FF97FF",
          "dash": "solid"
         },
         "marker": {
          "symbol": "circle"
         },
         "mode": "lines",
         "name": "PL",
         "orientation": "v",
         "showlegend": true,
         "type": "scatter",
         "x": [
          2007,
          2008,
          2009,
          2010,
          2011,
          2012,
          2013,
          2014,
          2015,
          2016,
          2017,
          2018,
          2019,
          2020,
          2021,
          2022,
          2023,
          2024
         ],
         "xaxis": "x",
         "y": [
          0.026600000000000002,
          0.032229999999999995,
          0.028227272727272726,
          0.03127,
          0.032580000000000005,
          0.0361,
          0.036180000000000004,
          0.03619,
          0.03472,
          0.02695,
          0.027140000000000004,
          0.02975,
          0.03191,
          0.02837,
          0.039636363636363636,
          0.08125,
          0.07974285714285714,
          0.061625
         ],
         "yaxis": "y"
        },
        {
         "hovertemplate": "geo=PT<br>TIME_PERIOD=%{x}<br>EUR per Kwh Excluding tax=%{y}<extra></extra>",
         "legendgroup": "PT",
         "line": {
          "color": "#FECB52",
          "dash": "solid"
         },
         "marker": {
          "symbol": "circle"
         },
         "mode": "lines",
         "name": "PT",
         "orientation": "v",
         "showlegend": true,
         "type": "scatter",
         "x": [
          2007,
          2008,
          2009,
          2010,
          2011,
          2012,
          2013,
          2014,
          2015,
          2016,
          2017,
          2018,
          2019,
          2020,
          2021,
          2022,
          2023,
          2024
         ],
         "xaxis": "x",
         "y": [
          0.030959999999999998,
          0.03442,
          0.03401,
          0.03376,
          0.03925,
          0.04483,
          0.046650000000000004,
          0.04864,
          0.04596,
          0.035570000000000004,
          0.031045454545454546,
          0.03268,
          0.03310833333333333,
          0.029310000000000003,
          0.03346363636363636,
          0.08329166666666667,
          0.07297000000000001,
          0.0519
         ],
         "yaxis": "y"
        },
        {
         "hovertemplate": "geo=RO<br>TIME_PERIOD=%{x}<br>EUR per Kwh Excluding tax=%{y}<extra></extra>",
         "legendgroup": "RO",
         "line": {
          "color": "#636efa",
          "dash": "solid"
         },
         "marker": {
          "symbol": "circle"
         },
         "mode": "lines",
         "name": "RO",
         "orientation": "v",
         "showlegend": true,
         "type": "scatter",
         "x": [
          2007,
          2008,
          2009,
          2010,
          2011,
          2012,
          2013,
          2014,
          2015,
          2016,
          2017,
          2018,
          2019,
          2020,
          2021,
          2022,
          2023,
          2024
         ],
         "xaxis": "x",
         "y": [
          0.021433333333333332,
          0.020941666666666664,
          0.014400000000000001,
          0.013858333333333334,
          0.016391666666666665,
          0.019183333333333333,
          0.019741666666666668,
          0.0208,
          0.019858333333333332,
          0.018158333333333332,
          0.02364166666666667,
          0.025033333333333335,
          0.028258333333333333,
          0.02415,
          0.03480769230769231,
          0.10775714285714286,
          0.05142857142857143,
          0.04297142857142857
         ],
         "yaxis": "y"
        },
        {
         "hovertemplate": "geo=SE<br>TIME_PERIOD=%{x}<br>EUR per Kwh Excluding tax=%{y}<extra></extra>",
         "legendgroup": "SE",
         "line": {
          "color": "#EF553B",
          "dash": "solid"
         },
         "marker": {
          "symbol": "circle"
         },
         "mode": "lines",
         "name": "SE",
         "orientation": "v",
         "showlegend": true,
         "type": "scatter",
         "x": [
          2007,
          2008,
          2009,
          2010,
          2011,
          2012,
          2013,
          2014,
          2015,
          2016,
          2017,
          2018,
          2019,
          2020,
          2021,
          2022,
          2023,
          2024
         ],
         "xaxis": "x",
         "y": [
          0.039711111111111114,
          0.048044444444444445,
          0.03711,
          0.041999999999999996,
          0.04603,
          0.04824,
          0.04865,
          0.04154,
          0.040279999999999996,
          0.03556,
          0.039044444444444444,
          0.043120000000000006,
          0.03268,
          0.045085714285714285,
          0.07045555555555555,
          0.14386000000000002,
          0.10134444444444445,
          0.07676
         ],
         "yaxis": "y"
        },
        {
         "hovertemplate": "geo=SI<br>TIME_PERIOD=%{x}<br>EUR per Kwh Excluding tax=%{y}<extra></extra>",
         "legendgroup": "SI",
         "line": {
          "color": "#00cc96",
          "dash": "solid"
         },
         "marker": {
          "symbol": "circle"
         },
         "mode": "lines",
         "name": "SI",
         "orientation": "v",
         "showlegend": true,
         "type": "scatter",
         "x": [
          2007,
          2008,
          2009,
          2010,
          2011,
          2012,
          2013,
          2014,
          2015,
          2016,
          2017,
          2018,
          2019,
          2020,
          2021,
          2022,
          2023,
          2024
         ],
         "xaxis": "x",
         "y": [
          0.0329,
          0.0425875,
          0.04175714285714286,
          0.04125,
          0.05103333333333334,
          0.053475,
          0.0455375,
          0.041775,
          0.0378875,
          0.0333625,
          0.030262499999999998,
          0.0327625,
          0.03335,
          0.0299625,
          0.035325,
          0.07164999999999999,
          0.0765125,
          0.057999999999999996
         ],
         "yaxis": "y"
        },
        {
         "hovertemplate": "geo=SK<br>TIME_PERIOD=%{x}<br>EUR per Kwh Excluding tax=%{y}<extra></extra>",
         "legendgroup": "SK",
         "line": {
          "color": "#ab63fa",
          "dash": "solid"
         },
         "marker": {
          "symbol": "circle"
         },
         "mode": "lines",
         "name": "SK",
         "orientation": "v",
         "showlegend": true,
         "type": "scatter",
         "x": [
          2007,
          2008,
          2009,
          2010,
          2011,
          2012,
          2013,
          2014,
          2015,
          2016,
          2017,
          2018,
          2019,
          2020,
          2021,
          2022,
          2023,
          2024
         ],
         "xaxis": "x",
         "y": [
          0.02894,
          0.039290000000000005,
          0.03671,
          0.03347,
          0.03621,
          0.03984,
          0.03805,
          0.03764,
          0.035460000000000005,
          0.032100000000000004,
          0.027524999999999997,
          0.028491666666666665,
          0.031233333333333335,
          0.03091,
          0.03469090909090909,
          0.07448333333333333,
          0.09543,
          0.07236000000000001
         ],
         "yaxis": "y"
        }
       ],
       "layout": {
        "legend": {
         "title": {
          "text": "geo"
         },
         "tracegroupgap": 0
        },
        "margin": {
         "t": 60
        },
        "template": {
         "data": {
          "bar": [
           {
            "error_x": {
             "color": "#2a3f5f"
            },
            "error_y": {
             "color": "#2a3f5f"
            },
            "marker": {
             "line": {
              "color": "#E5ECF6",
              "width": 0.5
             },
             "pattern": {
              "fillmode": "overlay",
              "size": 10,
              "solidity": 0.2
             }
            },
            "type": "bar"
           }
          ],
          "barpolar": [
           {
            "marker": {
             "line": {
              "color": "#E5ECF6",
              "width": 0.5
             },
             "pattern": {
              "fillmode": "overlay",
              "size": 10,
              "solidity": 0.2
             }
            },
            "type": "barpolar"
           }
          ],
          "carpet": [
           {
            "aaxis": {
             "endlinecolor": "#2a3f5f",
             "gridcolor": "white",
             "linecolor": "white",
             "minorgridcolor": "white",
             "startlinecolor": "#2a3f5f"
            },
            "baxis": {
             "endlinecolor": "#2a3f5f",
             "gridcolor": "white",
             "linecolor": "white",
             "minorgridcolor": "white",
             "startlinecolor": "#2a3f5f"
            },
            "type": "carpet"
           }
          ],
          "choropleth": [
           {
            "colorbar": {
             "outlinewidth": 0,
             "ticks": ""
            },
            "type": "choropleth"
           }
          ],
          "contour": [
           {
            "colorbar": {
             "outlinewidth": 0,
             "ticks": ""
            },
            "colorscale": [
             [
              0,
              "#0d0887"
             ],
             [
              0.1111111111111111,
              "#46039f"
             ],
             [
              0.2222222222222222,
              "#7201a8"
             ],
             [
              0.3333333333333333,
              "#9c179e"
             ],
             [
              0.4444444444444444,
              "#bd3786"
             ],
             [
              0.5555555555555556,
              "#d8576b"
             ],
             [
              0.6666666666666666,
              "#ed7953"
             ],
             [
              0.7777777777777778,
              "#fb9f3a"
             ],
             [
              0.8888888888888888,
              "#fdca26"
             ],
             [
              1,
              "#f0f921"
             ]
            ],
            "type": "contour"
           }
          ],
          "contourcarpet": [
           {
            "colorbar": {
             "outlinewidth": 0,
             "ticks": ""
            },
            "type": "contourcarpet"
           }
          ],
          "heatmap": [
           {
            "colorbar": {
             "outlinewidth": 0,
             "ticks": ""
            },
            "colorscale": [
             [
              0,
              "#0d0887"
             ],
             [
              0.1111111111111111,
              "#46039f"
             ],
             [
              0.2222222222222222,
              "#7201a8"
             ],
             [
              0.3333333333333333,
              "#9c179e"
             ],
             [
              0.4444444444444444,
              "#bd3786"
             ],
             [
              0.5555555555555556,
              "#d8576b"
             ],
             [
              0.6666666666666666,
              "#ed7953"
             ],
             [
              0.7777777777777778,
              "#fb9f3a"
             ],
             [
              0.8888888888888888,
              "#fdca26"
             ],
             [
              1,
              "#f0f921"
             ]
            ],
            "type": "heatmap"
           }
          ],
          "heatmapgl": [
           {
            "colorbar": {
             "outlinewidth": 0,
             "ticks": ""
            },
            "colorscale": [
             [
              0,
              "#0d0887"
             ],
             [
              0.1111111111111111,
              "#46039f"
             ],
             [
              0.2222222222222222,
              "#7201a8"
             ],
             [
              0.3333333333333333,
              "#9c179e"
             ],
             [
              0.4444444444444444,
              "#bd3786"
             ],
             [
              0.5555555555555556,
              "#d8576b"
             ],
             [
              0.6666666666666666,
              "#ed7953"
             ],
             [
              0.7777777777777778,
              "#fb9f3a"
             ],
             [
              0.8888888888888888,
              "#fdca26"
             ],
             [
              1,
              "#f0f921"
             ]
            ],
            "type": "heatmapgl"
           }
          ],
          "histogram": [
           {
            "marker": {
             "pattern": {
              "fillmode": "overlay",
              "size": 10,
              "solidity": 0.2
             }
            },
            "type": "histogram"
           }
          ],
          "histogram2d": [
           {
            "colorbar": {
             "outlinewidth": 0,
             "ticks": ""
            },
            "colorscale": [
             [
              0,
              "#0d0887"
             ],
             [
              0.1111111111111111,
              "#46039f"
             ],
             [
              0.2222222222222222,
              "#7201a8"
             ],
             [
              0.3333333333333333,
              "#9c179e"
             ],
             [
              0.4444444444444444,
              "#bd3786"
             ],
             [
              0.5555555555555556,
              "#d8576b"
             ],
             [
              0.6666666666666666,
              "#ed7953"
             ],
             [
              0.7777777777777778,
              "#fb9f3a"
             ],
             [
              0.8888888888888888,
              "#fdca26"
             ],
             [
              1,
              "#f0f921"
             ]
            ],
            "type": "histogram2d"
           }
          ],
          "histogram2dcontour": [
           {
            "colorbar": {
             "outlinewidth": 0,
             "ticks": ""
            },
            "colorscale": [
             [
              0,
              "#0d0887"
             ],
             [
              0.1111111111111111,
              "#46039f"
             ],
             [
              0.2222222222222222,
              "#7201a8"
             ],
             [
              0.3333333333333333,
              "#9c179e"
             ],
             [
              0.4444444444444444,
              "#bd3786"
             ],
             [
              0.5555555555555556,
              "#d8576b"
             ],
             [
              0.6666666666666666,
              "#ed7953"
             ],
             [
              0.7777777777777778,
              "#fb9f3a"
             ],
             [
              0.8888888888888888,
              "#fdca26"
             ],
             [
              1,
              "#f0f921"
             ]
            ],
            "type": "histogram2dcontour"
           }
          ],
          "mesh3d": [
           {
            "colorbar": {
             "outlinewidth": 0,
             "ticks": ""
            },
            "type": "mesh3d"
           }
          ],
          "parcoords": [
           {
            "line": {
             "colorbar": {
              "outlinewidth": 0,
              "ticks": ""
             }
            },
            "type": "parcoords"
           }
          ],
          "pie": [
           {
            "automargin": true,
            "type": "pie"
           }
          ],
          "scatter": [
           {
            "fillpattern": {
             "fillmode": "overlay",
             "size": 10,
             "solidity": 0.2
            },
            "type": "scatter"
           }
          ],
          "scatter3d": [
           {
            "line": {
             "colorbar": {
              "outlinewidth": 0,
              "ticks": ""
             }
            },
            "marker": {
             "colorbar": {
              "outlinewidth": 0,
              "ticks": ""
             }
            },
            "type": "scatter3d"
           }
          ],
          "scattercarpet": [
           {
            "marker": {
             "colorbar": {
              "outlinewidth": 0,
              "ticks": ""
             }
            },
            "type": "scattercarpet"
           }
          ],
          "scattergeo": [
           {
            "marker": {
             "colorbar": {
              "outlinewidth": 0,
              "ticks": ""
             }
            },
            "type": "scattergeo"
           }
          ],
          "scattergl": [
           {
            "marker": {
             "colorbar": {
              "outlinewidth": 0,
              "ticks": ""
             }
            },
            "type": "scattergl"
           }
          ],
          "scattermapbox": [
           {
            "marker": {
             "colorbar": {
              "outlinewidth": 0,
              "ticks": ""
             }
            },
            "type": "scattermapbox"
           }
          ],
          "scatterpolar": [
           {
            "marker": {
             "colorbar": {
              "outlinewidth": 0,
              "ticks": ""
             }
            },
            "type": "scatterpolar"
           }
          ],
          "scatterpolargl": [
           {
            "marker": {
             "colorbar": {
              "outlinewidth": 0,
              "ticks": ""
             }
            },
            "type": "scatterpolargl"
           }
          ],
          "scatterternary": [
           {
            "marker": {
             "colorbar": {
              "outlinewidth": 0,
              "ticks": ""
             }
            },
            "type": "scatterternary"
           }
          ],
          "surface": [
           {
            "colorbar": {
             "outlinewidth": 0,
             "ticks": ""
            },
            "colorscale": [
             [
              0,
              "#0d0887"
             ],
             [
              0.1111111111111111,
              "#46039f"
             ],
             [
              0.2222222222222222,
              "#7201a8"
             ],
             [
              0.3333333333333333,
              "#9c179e"
             ],
             [
              0.4444444444444444,
              "#bd3786"
             ],
             [
              0.5555555555555556,
              "#d8576b"
             ],
             [
              0.6666666666666666,
              "#ed7953"
             ],
             [
              0.7777777777777778,
              "#fb9f3a"
             ],
             [
              0.8888888888888888,
              "#fdca26"
             ],
             [
              1,
              "#f0f921"
             ]
            ],
            "type": "surface"
           }
          ],
          "table": [
           {
            "cells": {
             "fill": {
              "color": "#EBF0F8"
             },
             "line": {
              "color": "white"
             }
            },
            "header": {
             "fill": {
              "color": "#C8D4E3"
             },
             "line": {
              "color": "white"
             }
            },
            "type": "table"
           }
          ]
         },
         "layout": {
          "annotationdefaults": {
           "arrowcolor": "#2a3f5f",
           "arrowhead": 0,
           "arrowwidth": 1
          },
          "autotypenumbers": "strict",
          "coloraxis": {
           "colorbar": {
            "outlinewidth": 0,
            "ticks": ""
           }
          },
          "colorscale": {
           "diverging": [
            [
             0,
             "#8e0152"
            ],
            [
             0.1,
             "#c51b7d"
            ],
            [
             0.2,
             "#de77ae"
            ],
            [
             0.3,
             "#f1b6da"
            ],
            [
             0.4,
             "#fde0ef"
            ],
            [
             0.5,
             "#f7f7f7"
            ],
            [
             0.6,
             "#e6f5d0"
            ],
            [
             0.7,
             "#b8e186"
            ],
            [
             0.8,
             "#7fbc41"
            ],
            [
             0.9,
             "#4d9221"
            ],
            [
             1,
             "#276419"
            ]
           ],
           "sequential": [
            [
             0,
             "#0d0887"
            ],
            [
             0.1111111111111111,
             "#46039f"
            ],
            [
             0.2222222222222222,
             "#7201a8"
            ],
            [
             0.3333333333333333,
             "#9c179e"
            ],
            [
             0.4444444444444444,
             "#bd3786"
            ],
            [
             0.5555555555555556,
             "#d8576b"
            ],
            [
             0.6666666666666666,
             "#ed7953"
            ],
            [
             0.7777777777777778,
             "#fb9f3a"
            ],
            [
             0.8888888888888888,
             "#fdca26"
            ],
            [
             1,
             "#f0f921"
            ]
           ],
           "sequentialminus": [
            [
             0,
             "#0d0887"
            ],
            [
             0.1111111111111111,
             "#46039f"
            ],
            [
             0.2222222222222222,
             "#7201a8"
            ],
            [
             0.3333333333333333,
             "#9c179e"
            ],
            [
             0.4444444444444444,
             "#bd3786"
            ],
            [
             0.5555555555555556,
             "#d8576b"
            ],
            [
             0.6666666666666666,
             "#ed7953"
            ],
            [
             0.7777777777777778,
             "#fb9f3a"
            ],
            [
             0.8888888888888888,
             "#fdca26"
            ],
            [
             1,
             "#f0f921"
            ]
           ]
          },
          "colorway": [
           "#636efa",
           "#EF553B",
           "#00cc96",
           "#ab63fa",
           "#FFA15A",
           "#19d3f3",
           "#FF6692",
           "#B6E880",
           "#FF97FF",
           "#FECB52"
          ],
          "font": {
           "color": "#2a3f5f"
          },
          "geo": {
           "bgcolor": "white",
           "lakecolor": "white",
           "landcolor": "#E5ECF6",
           "showlakes": true,
           "showland": true,
           "subunitcolor": "white"
          },
          "hoverlabel": {
           "align": "left"
          },
          "hovermode": "closest",
          "mapbox": {
           "style": "light"
          },
          "paper_bgcolor": "white",
          "plot_bgcolor": "#E5ECF6",
          "polar": {
           "angularaxis": {
            "gridcolor": "white",
            "linecolor": "white",
            "ticks": ""
           },
           "bgcolor": "#E5ECF6",
           "radialaxis": {
            "gridcolor": "white",
            "linecolor": "white",
            "ticks": ""
           }
          },
          "scene": {
           "xaxis": {
            "backgroundcolor": "#E5ECF6",
            "gridcolor": "white",
            "gridwidth": 2,
            "linecolor": "white",
            "showbackground": true,
            "ticks": "",
            "zerolinecolor": "white"
           },
           "yaxis": {
            "backgroundcolor": "#E5ECF6",
            "gridcolor": "white",
            "gridwidth": 2,
            "linecolor": "white",
            "showbackground": true,
            "ticks": "",
            "zerolinecolor": "white"
           },
           "zaxis": {
            "backgroundcolor": "#E5ECF6",
            "gridcolor": "white",
            "gridwidth": 2,
            "linecolor": "white",
            "showbackground": true,
            "ticks": "",
            "zerolinecolor": "white"
           }
          },
          "shapedefaults": {
           "line": {
            "color": "#2a3f5f"
           }
          },
          "ternary": {
           "aaxis": {
            "gridcolor": "white",
            "linecolor": "white",
            "ticks": ""
           },
           "baxis": {
            "gridcolor": "white",
            "linecolor": "white",
            "ticks": ""
           },
           "bgcolor": "#E5ECF6",
           "caxis": {
            "gridcolor": "white",
            "linecolor": "white",
            "ticks": ""
           }
          },
          "title": {
           "x": 0.05
          },
          "xaxis": {
           "automargin": true,
           "gridcolor": "white",
           "linecolor": "white",
           "ticks": "",
           "title": {
            "standoff": 15
           },
           "zerolinecolor": "white",
           "zerolinewidth": 2
          },
          "yaxis": {
           "automargin": true,
           "gridcolor": "white",
           "linecolor": "white",
           "ticks": "",
           "title": {
            "standoff": 15
           },
           "zerolinecolor": "white",
           "zerolinewidth": 2
          }
         }
        },
        "xaxis": {
         "anchor": "y",
         "domain": [
          0,
          1
         ],
         "title": {
          "text": "TIME_PERIOD"
         }
        },
        "yaxis": {
         "anchor": "x",
         "domain": [
          0,
          1
         ],
         "title": {
          "text": "EUR per Kwh Excluding tax"
         }
        }
       }
      }
     },
     "metadata": {},
     "output_type": "display_data"
    }
   ],
   "source": [
    "electricity_prices_hh_df = energy_prices_df[\n",
    "    (energy_prices_df['nrg_bal'] == 'FC_NHH_E') &\n",
    "    (energy_prices_df['siec'] == 'G3000') \n",
    "]\n",
    "\n",
    "fig = px.line(electricity_prices_hh_df, x='TIME_PERIOD', y='EUR per Kwh Excluding tax', color='geo')\n",
    "fig.show()"
   ]
  },
  {
   "cell_type": "code",
   "execution_count": 93,
   "metadata": {},
   "outputs": [
    {
     "data": {
      "application/vnd.plotly.v1+json": {
       "config": {
        "plotlyServerURL": "https://plot.ly"
       },
       "data": [
        {
         "hovertemplate": "geo=AT<br>TIME_PERIOD=%{x}<br>cost_of_gas_over_gdp=%{y}<extra></extra>",
         "legendgroup": "AT",
         "line": {
          "color": "#636efa",
          "dash": "solid"
         },
         "marker": {
          "symbol": "circle"
         },
         "mode": "lines",
         "name": "AT",
         "orientation": "h",
         "showlegend": true,
         "type": "scatter",
         "x": [
          2007,
          2008,
          2009,
          2010,
          2011,
          2012,
          2013,
          2014,
          2015,
          2016,
          2017,
          2018,
          2019,
          2020,
          2021,
          2022,
          2023
         ],
         "xaxis": "x",
         "y": [
          0.0073551999663842085,
          0.002576077992186957,
          0.006739440840792037,
          0.007014956315565374,
          0.00711816773423851,
          0.007395176513345959,
          0.007366466973114323,
          0.0064234846611484694,
          0.006104259711218621,
          0.005681874327176925,
          0.005670496380843892,
          0.005105457346641358,
          0.004898803933157463,
          0.004824764843623003,
          0.005874003295956924,
          0.009026333697561824,
          0.008119142890221661
         ],
         "yaxis": "y"
        },
        {
         "hovertemplate": "geo=BE<br>TIME_PERIOD=%{x}<br>cost_of_gas_over_gdp=%{y}<extra></extra>",
         "legendgroup": "BE",
         "line": {
          "color": "#EF553B",
          "dash": "solid"
         },
         "marker": {
          "symbol": "circle"
         },
         "mode": "lines",
         "name": "BE",
         "orientation": "h",
         "showlegend": true,
         "type": "scatter",
         "x": [
          2007,
          2008,
          2009,
          2010,
          2011,
          2012,
          2013,
          2014,
          2015,
          2016,
          2017,
          2018,
          2019,
          2020,
          2021,
          2022,
          2023
         ],
         "xaxis": "x",
         "y": [
          0.011031213985222194,
          0.014212721830222114,
          0.01162305623539656,
          0.01225323507575107,
          0.011591263908798189,
          0.012721366826753665,
          0.012821143610695281,
          0.00943592358340764,
          0.009160081623702285,
          0.008034721016502783,
          0.007996790913859768,
          0.00828917261613809,
          0.007459712866553244,
          0.006236001315505084,
          0.009377028401299914,
          0.014514177585613101,
          0.011065657218057981
         ],
         "yaxis": "y"
        },
        {
         "hovertemplate": "geo=BG<br>TIME_PERIOD=%{x}<br>cost_of_gas_over_gdp=%{y}<extra></extra>",
         "legendgroup": "BG",
         "line": {
          "color": "#00cc96",
          "dash": "solid"
         },
         "marker": {
          "symbol": "circle"
         },
         "mode": "lines",
         "name": "BG",
         "orientation": "h",
         "showlegend": true,
         "type": "scatter",
         "x": [
          2007,
          2008,
          2009,
          2010,
          2011,
          2012,
          2013,
          2014,
          2015,
          2016,
          2017,
          2018,
          2019,
          2020,
          2021,
          2022,
          2023
         ],
         "xaxis": "x",
         "y": [
          0.010165287117426456,
          0.011108159908019069,
          0.008339479861233207,
          0.008744041092085701,
          0.010982010009798643,
          0.012361003440966072,
          0.011276310055777247,
          0.010773274760768234,
          0.009434949637118913,
          0.006249752032175246,
          0.006618498854247813,
          0.007171050223428982,
          0.006280588739507556,
          0.00490698517580842,
          0.008495111347491388,
          0.014531721957303166,
          0.007212674639235755
         ],
         "yaxis": "y"
        },
        {
         "hovertemplate": "geo=CZ<br>TIME_PERIOD=%{x}<br>cost_of_gas_over_gdp=%{y}<extra></extra>",
         "legendgroup": "CZ",
         "line": {
          "color": "#ab63fa",
          "dash": "solid"
         },
         "marker": {
          "symbol": "circle"
         },
         "mode": "lines",
         "name": "CZ",
         "orientation": "h",
         "showlegend": true,
         "type": "scatter",
         "x": [
          2007,
          2008,
          2009,
          2010,
          2011,
          2012,
          2013,
          2014,
          2015,
          2016,
          2017,
          2018,
          2019,
          2020,
          2021,
          2022,
          2023
         ],
         "xaxis": "x",
         "y": [
          0.014044433604627206,
          0.01635418888297661,
          0.015555118353885155,
          0.017053685502207854,
          0.01626438979271843,
          0.017515899362554873,
          0.0168223791788388,
          0.013708081308106815,
          0.013384136769461185,
          0.012888762116617243,
          0.011982019698716057,
          0.010820712201116026,
          0.010373981918284056,
          0.010011570924639135,
          0.01084899030287013,
          0.014682179059489096,
          0.012380644612771175
         ],
         "yaxis": "y"
        },
        {
         "hovertemplate": "geo=DE<br>TIME_PERIOD=%{x}<br>cost_of_gas_over_gdp=%{y}<extra></extra>",
         "legendgroup": "DE",
         "line": {
          "color": "#FFA15A",
          "dash": "solid"
         },
         "marker": {
          "symbol": "circle"
         },
         "mode": "lines",
         "name": "DE",
         "orientation": "h",
         "showlegend": true,
         "type": "scatter",
         "x": [
          2007,
          2008,
          2009,
          2010,
          2011,
          2012,
          2013,
          2014,
          2015,
          2016,
          2017,
          2018,
          2019,
          2020,
          2021,
          2022,
          2023
         ],
         "xaxis": "x",
         "y": [
          0.00948968030697579,
          0.011479028879251492,
          0.009720087299445129,
          0.009835121618564605,
          0.008840371488403493,
          0.009348742551555773,
          0.010244154580235159,
          0.008240601118361767,
          0.00798643235825515,
          0.00757654738248475,
          0.007108180664208027,
          0.007089072141985293,
          0.0063612003794494675,
          0.006019564315678249,
          0.007165228935221549,
          0.009749922745981115,
          0.010190659310172583
         ],
         "yaxis": "y"
        },
        {
         "hovertemplate": "geo=DK<br>TIME_PERIOD=%{x}<br>cost_of_gas_over_gdp=%{y}<extra></extra>",
         "legendgroup": "DK",
         "line": {
          "color": "#19d3f3",
          "dash": "solid"
         },
         "marker": {
          "symbol": "circle"
         },
         "mode": "lines",
         "name": "DK",
         "orientation": "h",
         "showlegend": true,
         "type": "scatter",
         "x": [
          2007,
          2008,
          2009,
          2010,
          2011,
          2012,
          2013,
          2014,
          2015,
          2016,
          2017,
          2018,
          2019,
          2020,
          2021,
          2022,
          2023
         ],
         "xaxis": "x",
         "y": [
          0.0027856072981917914,
          0.0032412534828551824,
          0.0025822392689401124,
          0.0032544241110433053,
          0.0032434089788460916,
          0.0028893418186163537,
          0.0027031899905395175,
          0.002013867744614938,
          0.002207111399677234,
          0.001866119823648889,
          0.0020350775078042714,
          0.002158257472261379,
          0.0017695256354514606,
          0.0014820332077242915,
          0.002974533648722196,
          0.005146951976292612,
          0.002745377555992717
         ],
         "yaxis": "y"
        },
        {
         "hovertemplate": "geo=EE<br>TIME_PERIOD=%{x}<br>cost_of_gas_over_gdp=%{y}<extra></extra>",
         "legendgroup": "EE",
         "line": {
          "color": "#FF6692",
          "dash": "solid"
         },
         "marker": {
          "symbol": "circle"
         },
         "mode": "lines",
         "name": "EE",
         "orientation": "h",
         "showlegend": true,
         "type": "scatter",
         "x": [
          2007,
          2008,
          2009,
          2010,
          2011,
          2012,
          2013,
          2014,
          2015,
          2016,
          2017,
          2018,
          2019,
          2020,
          2021,
          2022,
          2023
         ],
         "xaxis": "x",
         "y": [
          0.003847958464966612,
          0.004583126940481679,
          0.0039697952983435425,
          0.00453796746858873,
          0.004311191636601683,
          0.005243957312854346,
          0.0055847296945411885,
          0.004659825430079871,
          0.0037654766439894237,
          0.0029715919436182603,
          0.0029173983276552097,
          0.00310932455820114,
          0.002721925755830348,
          0.0022788564782878187,
          0.0038602835615630456,
          0.0048303979608039106,
          0.0029258213103340058
         ],
         "yaxis": "y"
        },
        {
         "hovertemplate": "geo=ES<br>TIME_PERIOD=%{x}<br>cost_of_gas_over_gdp=%{y}<extra></extra>",
         "legendgroup": "ES",
         "line": {
          "color": "#B6E880",
          "dash": "solid"
         },
         "marker": {
          "symbol": "circle"
         },
         "mode": "lines",
         "name": "ES",
         "orientation": "h",
         "showlegend": true,
         "type": "scatter",
         "x": [
          2007,
          2008,
          2009,
          2010,
          2011,
          2012,
          2013,
          2014,
          2015,
          2016,
          2017,
          2018,
          2019,
          2020,
          2021,
          2022,
          2023
         ],
         "xaxis": "x",
         "y": [
          0.005207791514924568,
          0.005435782951437332,
          0.00498677459482381,
          0.005330136427191016,
          0.005740595573396713,
          0.0075563587277035354,
          0.007537411428770837,
          0.007239267112293288,
          0.006237390019634593,
          0.005284432834980903,
          0.005075204854665375,
          0.00547533009960878,
          0.005385691976214595,
          0.004986703065864103,
          0.006063611522005692,
          0.009970933024346458,
          0.006267019510161259
         ],
         "yaxis": "y"
        },
        {
         "hovertemplate": "geo=FR<br>TIME_PERIOD=%{x}<br>cost_of_gas_over_gdp=%{y}<extra></extra>",
         "legendgroup": "FR",
         "line": {
          "color": "#FF97FF",
          "dash": "solid"
         },
         "marker": {
          "symbol": "circle"
         },
         "mode": "lines",
         "name": "FR",
         "orientation": "h",
         "showlegend": true,
         "type": "scatter",
         "x": [
          2007,
          2008,
          2009,
          2010,
          2011,
          2012,
          2013,
          2014,
          2015,
          2016,
          2017,
          2018,
          2019,
          2020,
          2021,
          2022,
          2023
         ],
         "xaxis": "x",
         "y": [
          0.007626325173765391,
          0.00857081488786154,
          0.008412479831561855,
          0.00825925018187442,
          0.008253993094568264,
          0.00946755712190764,
          0.01007597201013662,
          0.00807098786356118,
          0.007645122687567169,
          0.007196101835772958,
          0.006566168751472265,
          0.006555767262209741,
          0.006054382689244736,
          0.005498476042382267,
          0.006659490844834237,
          0.00782825199294134,
          0.007365241500629241
         ],
         "yaxis": "y"
        },
        {
         "hovertemplate": "geo=HR<br>TIME_PERIOD=%{x}<br>cost_of_gas_over_gdp=%{y}<extra></extra>",
         "legendgroup": "HR",
         "line": {
          "color": "#FECB52",
          "dash": "solid"
         },
         "marker": {
          "symbol": "circle"
         },
         "mode": "lines",
         "name": "HR",
         "orientation": "h",
         "showlegend": true,
         "type": "scatter",
         "x": [
          2007,
          2008,
          2009,
          2010,
          2011,
          2012,
          2013,
          2014,
          2015,
          2016,
          2017,
          2018,
          2019,
          2020,
          2021,
          2022,
          2023
         ],
         "xaxis": "x",
         "y": [
          0.007077221878383437,
          0.006749067434769586,
          0.008220071126249518,
          0.011045810223526005,
          0.010996935240821522,
          0.010847939629932619,
          0.010266946826829075,
          0.009693195295520207,
          0.00959359318517089,
          0.008162966960414067,
          0.007142010443671241,
          0.006977355690006984,
          0.006775731646793764,
          0.007575430586654239,
          0.007533802677787696,
          0.009491187507140248,
          0.007961138339349671
         ],
         "yaxis": "y"
        },
        {
         "hovertemplate": "geo=HU<br>TIME_PERIOD=%{x}<br>cost_of_gas_over_gdp=%{y}<extra></extra>",
         "legendgroup": "HU",
         "line": {
          "color": "#636efa",
          "dash": "solid"
         },
         "marker": {
          "symbol": "circle"
         },
         "mode": "lines",
         "name": "HU",
         "orientation": "h",
         "showlegend": true,
         "type": "scatter",
         "x": [
          2007,
          2008,
          2009,
          2010,
          2011,
          2012,
          2013,
          2014,
          2015,
          2016,
          2017,
          2018,
          2019,
          2020,
          2021,
          2022,
          2023
         ],
         "xaxis": "x",
         "y": [
          0.020832524064380097,
          0.024007314090605945,
          0.026281580836862762,
          0.027896092782531887,
          0.02798520425088135,
          0.024064711620648445,
          0.02321518584824434,
          0.017762932574043152,
          0.01633339450462062,
          0.014821178759517705,
          0.0136945777217122,
          0.012722518268177602,
          0.011106170432608593,
          0.010910094021813808,
          0.013372292486059045,
          0.020398845453882417,
          0.014795956311814075
         ],
         "yaxis": "y"
        },
        {
         "hovertemplate": "geo=IE<br>TIME_PERIOD=%{x}<br>cost_of_gas_over_gdp=%{y}<extra></extra>",
         "legendgroup": "IE",
         "line": {
          "color": "#EF553B",
          "dash": "solid"
         },
         "marker": {
          "symbol": "circle"
         },
         "mode": "lines",
         "name": "IE",
         "orientation": "h",
         "showlegend": true,
         "type": "scatter",
         "x": [
          2007,
          2008,
          2009,
          2010,
          2011,
          2012,
          2013,
          2014,
          2015,
          2016,
          2017,
          2018,
          2019,
          2020,
          2021,
          2022,
          2023
         ],
         "xaxis": "x",
         "y": [
          0.004093201891332647,
          0.004504832708815681,
          0.004325324443974029,
          0.004035076394633268,
          0.003996332506109386,
          0.004614873028659664,
          0.0050009977381398054,
          0.004394074416385509,
          0.003275938429744236,
          0.0030385189369160747,
          0.0027526447126412453,
          0.0028923052265380266,
          0.002535472645947775,
          0.0022230410883016566,
          0.0022959445490097347,
          0.003419531732008476,
          0.003436127723972902
         ],
         "yaxis": "y"
        },
        {
         "hovertemplate": "geo=IT<br>TIME_PERIOD=%{x}<br>cost_of_gas_over_gdp=%{y}<extra></extra>",
         "legendgroup": "IT",
         "line": {
          "color": "#00cc96",
          "dash": "solid"
         },
         "marker": {
          "symbol": "circle"
         },
         "mode": "lines",
         "name": "IT",
         "orientation": "h",
         "showlegend": true,
         "type": "scatter",
         "x": [
          2007,
          2008,
          2009,
          2010,
          2011,
          2012,
          2013,
          2014,
          2015,
          2016,
          2017,
          2018,
          2019,
          2020,
          2021,
          2022,
          2023
         ],
         "xaxis": "x",
         "y": [
          0.009110021495254972,
          0.010589794708194614,
          0.010186212649929917,
          0.010486289401866866,
          0.010821596189867248,
          0.012853412870324354,
          0.012959427397045606,
          0.010925992790872774,
          0.010994519115278623,
          0.009880498240702576,
          0.009672798153904889,
          0.01015043345491624,
          0.010078974792673974,
          0.009602838505082908,
          0.01214677359807243,
          0.02095528705391195,
          0.015434824600873986
         ],
         "yaxis": "y"
        },
        {
         "hovertemplate": "geo=LT<br>TIME_PERIOD=%{x}<br>cost_of_gas_over_gdp=%{y}<extra></extra>",
         "legendgroup": "LT",
         "line": {
          "color": "#ab63fa",
          "dash": "solid"
         },
         "marker": {
          "symbol": "circle"
         },
         "mode": "lines",
         "name": "LT",
         "orientation": "h",
         "showlegend": true,
         "type": "scatter",
         "x": [
          2007,
          2008,
          2009,
          2010,
          2011,
          2012,
          2013,
          2014,
          2015,
          2016,
          2017,
          2018,
          2019,
          2020,
          2021,
          2022,
          2023
         ],
         "xaxis": "x",
         "y": [
          0.005921431382140695,
          0.007740376620683842,
          0.0075030323472077805,
          0.008721805973135774,
          0.009141003972878982,
          0.010529601973534499,
          0.008502946359432053,
          0.007038970274743727,
          0.005177667819346845,
          0.004997120574582552,
          0.004683459972034986,
          0.004922190998317014,
          0.0034704091737669386,
          0.002928728578779929,
          0.005889901217510035,
          0.010034732231917975,
          0.008217386110164374
         ],
         "yaxis": "y"
        },
        {
         "hovertemplate": "geo=LU<br>TIME_PERIOD=%{x}<br>cost_of_gas_over_gdp=%{y}<extra></extra>",
         "legendgroup": "LU",
         "line": {
          "color": "#FFA15A",
          "dash": "solid"
         },
         "marker": {
          "symbol": "circle"
         },
         "mode": "lines",
         "name": "LU",
         "orientation": "h",
         "showlegend": true,
         "type": "scatter",
         "x": [
          2007,
          2008,
          2009,
          2010,
          2011,
          2012,
          2013,
          2014,
          2015,
          2016,
          2017,
          2018,
          2019,
          2020,
          2021,
          2022,
          2023
         ],
         "xaxis": "x",
         "y": [
          0.005945867855033791,
          0.007521713152765985,
          0.007547881429554363,
          0.007257120241003437,
          0.007429716187940568,
          0.007708729950399171,
          0.007418019476517348,
          0.005857531410699782,
          0.005343115587274108,
          0.004687217442921184,
          0.0043175257587267,
          0.004177221814517763,
          0.004167116554697105,
          0.0033979030383361705,
          0.003958791656974831,
          0.006651103263295025,
          0.007671776510925749
         ],
         "yaxis": "y"
        },
        {
         "hovertemplate": "geo=LV<br>TIME_PERIOD=%{x}<br>cost_of_gas_over_gdp=%{y}<extra></extra>",
         "legendgroup": "LV",
         "line": {
          "color": "#19d3f3",
          "dash": "solid"
         },
         "marker": {
          "symbol": "circle"
         },
         "mode": "lines",
         "name": "LV",
         "orientation": "h",
         "showlegend": true,
         "type": "scatter",
         "x": [
          2007,
          2008,
          2009,
          2010,
          2011,
          2012,
          2013,
          2014,
          2015,
          2016,
          2017,
          2018,
          2019,
          2020,
          2021,
          2022,
          2023
         ],
         "xaxis": "x",
         "y": [
          0.007635842447419286,
          0.008994567948356113,
          0.01030734636245501,
          0.010475215267855489,
          0.008279165312750457,
          0.00901021284392573,
          0.007152902085495985,
          0.006269672830856534,
          0.005547945307883424,
          0.004545639074297265,
          0.004466654709543651,
          0.00476711646600382,
          0.004617251064370715,
          0.0038355009113693133,
          0.005375800548159689,
          0.010856874881660183,
          0.008091784745289926
         ],
         "yaxis": "y"
        },
        {
         "hovertemplate": "geo=NL<br>TIME_PERIOD=%{x}<br>cost_of_gas_over_gdp=%{y}<extra></extra>",
         "legendgroup": "NL",
         "line": {
          "color": "#FF6692",
          "dash": "solid"
         },
         "marker": {
          "symbol": "circle"
         },
         "mode": "lines",
         "name": "NL",
         "orientation": "h",
         "showlegend": true,
         "type": "scatter",
         "x": [
          2007,
          2008,
          2009,
          2010,
          2011,
          2012,
          2013,
          2014,
          2015,
          2016,
          2017,
          2018,
          2019,
          2020,
          2021,
          2022,
          2023
         ],
         "xaxis": "x",
         "y": [
          0.0140227988218538,
          0.015581736327738873,
          0.014719089731523463,
          0.014823930129482353,
          0.012858029077289626,
          0.014495868632007154,
          0.015153814241421223,
          0.011423019618022862,
          0.011162035482761828,
          0.009814985810726559,
          0.009194681746435092,
          0.008862711963702552,
          0.008089880924082705,
          0.00750865656727045,
          0.008985001092042236,
          0.014491411034277549,
          0.01315199756381756
         ],
         "yaxis": "y"
        },
        {
         "hovertemplate": "geo=PL<br>TIME_PERIOD=%{x}<br>cost_of_gas_over_gdp=%{y}<extra></extra>",
         "legendgroup": "PL",
         "line": {
          "color": "#B6E880",
          "dash": "solid"
         },
         "marker": {
          "symbol": "circle"
         },
         "mode": "lines",
         "name": "PL",
         "orientation": "h",
         "showlegend": true,
         "type": "scatter",
         "x": [
          2007,
          2008,
          2009,
          2010,
          2011,
          2012,
          2013,
          2014,
          2015,
          2016,
          2017,
          2018,
          2019,
          2020,
          2021,
          2022,
          2023
         ],
         "xaxis": "x",
         "y": [
          0.009007998478736318,
          0.009245992474348267,
          0.009546513734146595,
          0.009965330764078592,
          0.00940998566421492,
          0.010398411675779177,
          0.010289086945263901,
          0.009263589695769785,
          0.008677870908838753,
          0.007629971843363196,
          0.006985485207423911,
          0.006960064791054042,
          0.0070095017335742305,
          0.006348853044537444,
          0.008200631169435849,
          0.011680191192014182,
          0.01039870157764073
         ],
         "yaxis": "y"
        },
        {
         "hovertemplate": "geo=PT<br>TIME_PERIOD=%{x}<br>cost_of_gas_over_gdp=%{y}<extra></extra>",
         "legendgroup": "PT",
         "line": {
          "color": "#FF97FF",
          "dash": "solid"
         },
         "marker": {
          "symbol": "circle"
         },
         "mode": "lines",
         "name": "PT",
         "orientation": "h",
         "showlegend": true,
         "type": "scatter",
         "x": [
          2007,
          2008,
          2009,
          2010,
          2011,
          2012,
          2013,
          2014,
          2015,
          2016,
          2017,
          2018,
          2019,
          2020,
          2021,
          2022,
          2023
         ],
         "xaxis": "x",
         "y": [
          0.003438311676365713,
          0.003667128680709877,
          0.0036995617415639718,
          0.003925546566587837,
          0.004665140609589073,
          0.005387988484349545,
          0.005408431243170489,
          0.005577321811884106,
          0.005376324879866402,
          0.004153260938821531,
          0.003654723018424648,
          0.0037814555235429386,
          0.0036868898855740182,
          0.0033823796527369353,
          0.003746903965411438,
          0.006714923814735382,
          0.005535300681779164
         ],
         "yaxis": "y"
        },
        {
         "hovertemplate": "geo=RO<br>TIME_PERIOD=%{x}<br>cost_of_gas_over_gdp=%{y}<extra></extra>",
         "legendgroup": "RO",
         "line": {
          "color": "#FECB52",
          "dash": "solid"
         },
         "marker": {
          "symbol": "circle"
         },
         "mode": "lines",
         "name": "RO",
         "orientation": "h",
         "showlegend": true,
         "type": "scatter",
         "x": [
          2007,
          2008,
          2009,
          2010,
          2011,
          2012,
          2013,
          2014,
          2015,
          2016,
          2017,
          2018,
          2019,
          2020,
          2021,
          2022,
          2023
         ],
         "xaxis": "x",
         "y": [
          0.013022953859735344,
          0.011492897297822977,
          0.008170362414294944,
          0.007733037359650276,
          0.008029952165054918,
          0.008546507666042594,
          0.008301674028947159,
          0.007905663201964416,
          0.00706728181896118,
          0.006382428171599809,
          0.008601763558676107,
          0.008560563085379889,
          0.008253584641300715,
          0.00780614656580864,
          0.010716874042762366,
          0.021325270433633373,
          0.008852681399204951
         ],
         "yaxis": "y"
        },
        {
         "hovertemplate": "geo=SE<br>TIME_PERIOD=%{x}<br>cost_of_gas_over_gdp=%{y}<extra></extra>",
         "legendgroup": "SE",
         "line": {
          "color": "#636efa",
          "dash": "solid"
         },
         "marker": {
          "symbol": "circle"
         },
         "mode": "lines",
         "name": "SE",
         "orientation": "h",
         "showlegend": true,
         "type": "scatter",
         "x": [
          2007,
          2008,
          2009,
          2010,
          2011,
          2012,
          2013,
          2014,
          2015,
          2016,
          2017,
          2018,
          2019,
          2020,
          2021,
          2022,
          2023
         ],
         "xaxis": "x",
         "y": [
          0.0007250916191638428,
          0.0007773477196079624,
          0.0006846582469313971,
          0.0008063187963134779,
          0.0008042074193187636,
          0.0008220514272727981,
          0.000664488003336865,
          0.0006123281259218591,
          0.0006142549674543246,
          0.0004397614437837683,
          0.0003638072983279641,
          0.0005318192329662266,
          0.00040705948385099034,
          0.0005432341972712227,
          0.0007526510558443274,
          0.0012096424568612673,
          0.0007205589685132276
         ],
         "yaxis": "y"
        },
        {
         "hovertemplate": "geo=SI<br>TIME_PERIOD=%{x}<br>cost_of_gas_over_gdp=%{y}<extra></extra>",
         "legendgroup": "SI",
         "line": {
          "color": "#EF553B",
          "dash": "solid"
         },
         "marker": {
          "symbol": "circle"
         },
         "mode": "lines",
         "name": "SI",
         "orientation": "h",
         "showlegend": true,
         "type": "scatter",
         "x": [
          2007,
          2008,
          2009,
          2010,
          2011,
          2012,
          2013,
          2014,
          2015,
          2016,
          2017,
          2018,
          2019,
          2020,
          2021,
          2022,
          2023
         ],
         "xaxis": "x",
         "y": [
          0.007328905060057036,
          0.00873685849322871,
          0.008112091341058286,
          0.008590307442573098,
          0.009547752234400596,
          0.009821435832626754,
          0.008230705074471842,
          0.007021395060684932,
          0.006657609880647529,
          0.006103406413379669,
          0.005264231327806472,
          0.005179748693913505,
          0.004937588084617332,
          0.004569957179139535,
          0.0049640327413481185,
          0.008059371695082812,
          0.007404902016392796
         ],
         "yaxis": "y"
        },
        {
         "hovertemplate": "geo=SK<br>TIME_PERIOD=%{x}<br>cost_of_gas_over_gdp=%{y}<extra></extra>",
         "legendgroup": "SK",
         "line": {
          "color": "#00cc96",
          "dash": "solid"
         },
         "marker": {
          "symbol": "circle"
         },
         "mode": "lines",
         "name": "SK",
         "orientation": "h",
         "showlegend": true,
         "type": "scatter",
         "x": [
          2007,
          2008,
          2009,
          2010,
          2011,
          2012,
          2013,
          2014,
          2015,
          2016,
          2017,
          2018,
          2019,
          2020,
          2021,
          2022,
          2023
         ],
         "xaxis": "x",
         "y": [
          0.024756560998473592,
          0.02741436219257793,
          0.0236671894141955,
          0.023886393781446465,
          0.020958617713822965,
          0.020460199800055902,
          0.02122669992833813,
          0.01732101939640441,
          0.01603560329455462,
          0.014991713904280349,
          0.014065825190026833,
          0.013190077132957001,
          0.013723025553664302,
          0.013208396926221996,
          0.013538295232603128,
          0.0179009933653389,
          0.01833112844434829
         ],
         "yaxis": "y"
        }
       ],
       "layout": {
        "legend": {
         "title": {
          "text": "geo"
         },
         "tracegroupgap": 0
        },
        "margin": {
         "t": 60
        },
        "template": {
         "data": {
          "bar": [
           {
            "error_x": {
             "color": "#2a3f5f"
            },
            "error_y": {
             "color": "#2a3f5f"
            },
            "marker": {
             "line": {
              "color": "#E5ECF6",
              "width": 0.5
             },
             "pattern": {
              "fillmode": "overlay",
              "size": 10,
              "solidity": 0.2
             }
            },
            "type": "bar"
           }
          ],
          "barpolar": [
           {
            "marker": {
             "line": {
              "color": "#E5ECF6",
              "width": 0.5
             },
             "pattern": {
              "fillmode": "overlay",
              "size": 10,
              "solidity": 0.2
             }
            },
            "type": "barpolar"
           }
          ],
          "carpet": [
           {
            "aaxis": {
             "endlinecolor": "#2a3f5f",
             "gridcolor": "white",
             "linecolor": "white",
             "minorgridcolor": "white",
             "startlinecolor": "#2a3f5f"
            },
            "baxis": {
             "endlinecolor": "#2a3f5f",
             "gridcolor": "white",
             "linecolor": "white",
             "minorgridcolor": "white",
             "startlinecolor": "#2a3f5f"
            },
            "type": "carpet"
           }
          ],
          "choropleth": [
           {
            "colorbar": {
             "outlinewidth": 0,
             "ticks": ""
            },
            "type": "choropleth"
           }
          ],
          "contour": [
           {
            "colorbar": {
             "outlinewidth": 0,
             "ticks": ""
            },
            "colorscale": [
             [
              0,
              "#0d0887"
             ],
             [
              0.1111111111111111,
              "#46039f"
             ],
             [
              0.2222222222222222,
              "#7201a8"
             ],
             [
              0.3333333333333333,
              "#9c179e"
             ],
             [
              0.4444444444444444,
              "#bd3786"
             ],
             [
              0.5555555555555556,
              "#d8576b"
             ],
             [
              0.6666666666666666,
              "#ed7953"
             ],
             [
              0.7777777777777778,
              "#fb9f3a"
             ],
             [
              0.8888888888888888,
              "#fdca26"
             ],
             [
              1,
              "#f0f921"
             ]
            ],
            "type": "contour"
           }
          ],
          "contourcarpet": [
           {
            "colorbar": {
             "outlinewidth": 0,
             "ticks": ""
            },
            "type": "contourcarpet"
           }
          ],
          "heatmap": [
           {
            "colorbar": {
             "outlinewidth": 0,
             "ticks": ""
            },
            "colorscale": [
             [
              0,
              "#0d0887"
             ],
             [
              0.1111111111111111,
              "#46039f"
             ],
             [
              0.2222222222222222,
              "#7201a8"
             ],
             [
              0.3333333333333333,
              "#9c179e"
             ],
             [
              0.4444444444444444,
              "#bd3786"
             ],
             [
              0.5555555555555556,
              "#d8576b"
             ],
             [
              0.6666666666666666,
              "#ed7953"
             ],
             [
              0.7777777777777778,
              "#fb9f3a"
             ],
             [
              0.8888888888888888,
              "#fdca26"
             ],
             [
              1,
              "#f0f921"
             ]
            ],
            "type": "heatmap"
           }
          ],
          "heatmapgl": [
           {
            "colorbar": {
             "outlinewidth": 0,
             "ticks": ""
            },
            "colorscale": [
             [
              0,
              "#0d0887"
             ],
             [
              0.1111111111111111,
              "#46039f"
             ],
             [
              0.2222222222222222,
              "#7201a8"
             ],
             [
              0.3333333333333333,
              "#9c179e"
             ],
             [
              0.4444444444444444,
              "#bd3786"
             ],
             [
              0.5555555555555556,
              "#d8576b"
             ],
             [
              0.6666666666666666,
              "#ed7953"
             ],
             [
              0.7777777777777778,
              "#fb9f3a"
             ],
             [
              0.8888888888888888,
              "#fdca26"
             ],
             [
              1,
              "#f0f921"
             ]
            ],
            "type": "heatmapgl"
           }
          ],
          "histogram": [
           {
            "marker": {
             "pattern": {
              "fillmode": "overlay",
              "size": 10,
              "solidity": 0.2
             }
            },
            "type": "histogram"
           }
          ],
          "histogram2d": [
           {
            "colorbar": {
             "outlinewidth": 0,
             "ticks": ""
            },
            "colorscale": [
             [
              0,
              "#0d0887"
             ],
             [
              0.1111111111111111,
              "#46039f"
             ],
             [
              0.2222222222222222,
              "#7201a8"
             ],
             [
              0.3333333333333333,
              "#9c179e"
             ],
             [
              0.4444444444444444,
              "#bd3786"
             ],
             [
              0.5555555555555556,
              "#d8576b"
             ],
             [
              0.6666666666666666,
              "#ed7953"
             ],
             [
              0.7777777777777778,
              "#fb9f3a"
             ],
             [
              0.8888888888888888,
              "#fdca26"
             ],
             [
              1,
              "#f0f921"
             ]
            ],
            "type": "histogram2d"
           }
          ],
          "histogram2dcontour": [
           {
            "colorbar": {
             "outlinewidth": 0,
             "ticks": ""
            },
            "colorscale": [
             [
              0,
              "#0d0887"
             ],
             [
              0.1111111111111111,
              "#46039f"
             ],
             [
              0.2222222222222222,
              "#7201a8"
             ],
             [
              0.3333333333333333,
              "#9c179e"
             ],
             [
              0.4444444444444444,
              "#bd3786"
             ],
             [
              0.5555555555555556,
              "#d8576b"
             ],
             [
              0.6666666666666666,
              "#ed7953"
             ],
             [
              0.7777777777777778,
              "#fb9f3a"
             ],
             [
              0.8888888888888888,
              "#fdca26"
             ],
             [
              1,
              "#f0f921"
             ]
            ],
            "type": "histogram2dcontour"
           }
          ],
          "mesh3d": [
           {
            "colorbar": {
             "outlinewidth": 0,
             "ticks": ""
            },
            "type": "mesh3d"
           }
          ],
          "parcoords": [
           {
            "line": {
             "colorbar": {
              "outlinewidth": 0,
              "ticks": ""
             }
            },
            "type": "parcoords"
           }
          ],
          "pie": [
           {
            "automargin": true,
            "type": "pie"
           }
          ],
          "scatter": [
           {
            "fillpattern": {
             "fillmode": "overlay",
             "size": 10,
             "solidity": 0.2
            },
            "type": "scatter"
           }
          ],
          "scatter3d": [
           {
            "line": {
             "colorbar": {
              "outlinewidth": 0,
              "ticks": ""
             }
            },
            "marker": {
             "colorbar": {
              "outlinewidth": 0,
              "ticks": ""
             }
            },
            "type": "scatter3d"
           }
          ],
          "scattercarpet": [
           {
            "marker": {
             "colorbar": {
              "outlinewidth": 0,
              "ticks": ""
             }
            },
            "type": "scattercarpet"
           }
          ],
          "scattergeo": [
           {
            "marker": {
             "colorbar": {
              "outlinewidth": 0,
              "ticks": ""
             }
            },
            "type": "scattergeo"
           }
          ],
          "scattergl": [
           {
            "marker": {
             "colorbar": {
              "outlinewidth": 0,
              "ticks": ""
             }
            },
            "type": "scattergl"
           }
          ],
          "scattermapbox": [
           {
            "marker": {
             "colorbar": {
              "outlinewidth": 0,
              "ticks": ""
             }
            },
            "type": "scattermapbox"
           }
          ],
          "scatterpolar": [
           {
            "marker": {
             "colorbar": {
              "outlinewidth": 0,
              "ticks": ""
             }
            },
            "type": "scatterpolar"
           }
          ],
          "scatterpolargl": [
           {
            "marker": {
             "colorbar": {
              "outlinewidth": 0,
              "ticks": ""
             }
            },
            "type": "scatterpolargl"
           }
          ],
          "scatterternary": [
           {
            "marker": {
             "colorbar": {
              "outlinewidth": 0,
              "ticks": ""
             }
            },
            "type": "scatterternary"
           }
          ],
          "surface": [
           {
            "colorbar": {
             "outlinewidth": 0,
             "ticks": ""
            },
            "colorscale": [
             [
              0,
              "#0d0887"
             ],
             [
              0.1111111111111111,
              "#46039f"
             ],
             [
              0.2222222222222222,
              "#7201a8"
             ],
             [
              0.3333333333333333,
              "#9c179e"
             ],
             [
              0.4444444444444444,
              "#bd3786"
             ],
             [
              0.5555555555555556,
              "#d8576b"
             ],
             [
              0.6666666666666666,
              "#ed7953"
             ],
             [
              0.7777777777777778,
              "#fb9f3a"
             ],
             [
              0.8888888888888888,
              "#fdca26"
             ],
             [
              1,
              "#f0f921"
             ]
            ],
            "type": "surface"
           }
          ],
          "table": [
           {
            "cells": {
             "fill": {
              "color": "#EBF0F8"
             },
             "line": {
              "color": "white"
             }
            },
            "header": {
             "fill": {
              "color": "#C8D4E3"
             },
             "line": {
              "color": "white"
             }
            },
            "type": "table"
           }
          ]
         },
         "layout": {
          "annotationdefaults": {
           "arrowcolor": "#2a3f5f",
           "arrowhead": 0,
           "arrowwidth": 1
          },
          "autotypenumbers": "strict",
          "coloraxis": {
           "colorbar": {
            "outlinewidth": 0,
            "ticks": ""
           }
          },
          "colorscale": {
           "diverging": [
            [
             0,
             "#8e0152"
            ],
            [
             0.1,
             "#c51b7d"
            ],
            [
             0.2,
             "#de77ae"
            ],
            [
             0.3,
             "#f1b6da"
            ],
            [
             0.4,
             "#fde0ef"
            ],
            [
             0.5,
             "#f7f7f7"
            ],
            [
             0.6,
             "#e6f5d0"
            ],
            [
             0.7,
             "#b8e186"
            ],
            [
             0.8,
             "#7fbc41"
            ],
            [
             0.9,
             "#4d9221"
            ],
            [
             1,
             "#276419"
            ]
           ],
           "sequential": [
            [
             0,
             "#0d0887"
            ],
            [
             0.1111111111111111,
             "#46039f"
            ],
            [
             0.2222222222222222,
             "#7201a8"
            ],
            [
             0.3333333333333333,
             "#9c179e"
            ],
            [
             0.4444444444444444,
             "#bd3786"
            ],
            [
             0.5555555555555556,
             "#d8576b"
            ],
            [
             0.6666666666666666,
             "#ed7953"
            ],
            [
             0.7777777777777778,
             "#fb9f3a"
            ],
            [
             0.8888888888888888,
             "#fdca26"
            ],
            [
             1,
             "#f0f921"
            ]
           ],
           "sequentialminus": [
            [
             0,
             "#0d0887"
            ],
            [
             0.1111111111111111,
             "#46039f"
            ],
            [
             0.2222222222222222,
             "#7201a8"
            ],
            [
             0.3333333333333333,
             "#9c179e"
            ],
            [
             0.4444444444444444,
             "#bd3786"
            ],
            [
             0.5555555555555556,
             "#d8576b"
            ],
            [
             0.6666666666666666,
             "#ed7953"
            ],
            [
             0.7777777777777778,
             "#fb9f3a"
            ],
            [
             0.8888888888888888,
             "#fdca26"
            ],
            [
             1,
             "#f0f921"
            ]
           ]
          },
          "colorway": [
           "#636efa",
           "#EF553B",
           "#00cc96",
           "#ab63fa",
           "#FFA15A",
           "#19d3f3",
           "#FF6692",
           "#B6E880",
           "#FF97FF",
           "#FECB52"
          ],
          "font": {
           "color": "#2a3f5f"
          },
          "geo": {
           "bgcolor": "white",
           "lakecolor": "white",
           "landcolor": "#E5ECF6",
           "showlakes": true,
           "showland": true,
           "subunitcolor": "white"
          },
          "hoverlabel": {
           "align": "left"
          },
          "hovermode": "closest",
          "mapbox": {
           "style": "light"
          },
          "paper_bgcolor": "white",
          "plot_bgcolor": "#E5ECF6",
          "polar": {
           "angularaxis": {
            "gridcolor": "white",
            "linecolor": "white",
            "ticks": ""
           },
           "bgcolor": "#E5ECF6",
           "radialaxis": {
            "gridcolor": "white",
            "linecolor": "white",
            "ticks": ""
           }
          },
          "scene": {
           "xaxis": {
            "backgroundcolor": "#E5ECF6",
            "gridcolor": "white",
            "gridwidth": 2,
            "linecolor": "white",
            "showbackground": true,
            "ticks": "",
            "zerolinecolor": "white"
           },
           "yaxis": {
            "backgroundcolor": "#E5ECF6",
            "gridcolor": "white",
            "gridwidth": 2,
            "linecolor": "white",
            "showbackground": true,
            "ticks": "",
            "zerolinecolor": "white"
           },
           "zaxis": {
            "backgroundcolor": "#E5ECF6",
            "gridcolor": "white",
            "gridwidth": 2,
            "linecolor": "white",
            "showbackground": true,
            "ticks": "",
            "zerolinecolor": "white"
           }
          },
          "shapedefaults": {
           "line": {
            "color": "#2a3f5f"
           }
          },
          "ternary": {
           "aaxis": {
            "gridcolor": "white",
            "linecolor": "white",
            "ticks": ""
           },
           "baxis": {
            "gridcolor": "white",
            "linecolor": "white",
            "ticks": ""
           },
           "bgcolor": "#E5ECF6",
           "caxis": {
            "gridcolor": "white",
            "linecolor": "white",
            "ticks": ""
           }
          },
          "title": {
           "x": 0.05
          },
          "xaxis": {
           "automargin": true,
           "gridcolor": "white",
           "linecolor": "white",
           "ticks": "",
           "title": {
            "standoff": 15
           },
           "zerolinecolor": "white",
           "zerolinewidth": 2
          },
          "yaxis": {
           "automargin": true,
           "gridcolor": "white",
           "linecolor": "white",
           "ticks": "",
           "title": {
            "standoff": 15
           },
           "zerolinecolor": "white",
           "zerolinewidth": 2
          }
         }
        },
        "xaxis": {
         "anchor": "y",
         "domain": [
          0,
          1
         ],
         "title": {
          "text": "TIME_PERIOD"
         }
        },
        "yaxis": {
         "anchor": "x",
         "domain": [
          0,
          1
         ],
         "title": {
          "text": "cost_of_gas_over_gdp"
         }
        }
       }
      }
     },
     "metadata": {},
     "output_type": "display_data"
    }
   ],
   "source": [
    "prices_and_comsumption = pd.merge(energy_prices_df, nrg_bal_df, on=['geo', 'TIME_PERIOD', 'siec', 'nrg_bal'])\n",
    "prices_and_comsumption['total_consumption'] = prices_and_comsumption['GWH consumption'] * prices_and_comsumption['EUR per Kwh Excluding tax'] * 10**6\n",
    "\n",
    "prices_and_consumption_gas = prices_and_comsumption[prices_and_comsumption['siec'] == 'G3000']\n",
    "cost_of_gas = prices_and_consumption_gas.groupby(['geo', 'TIME_PERIOD'])['total_consumption'].sum().reset_index()\n",
    "\n",
    "gdp_df.rename(columns={\"OBSVALUE\": \"GDP\", \"REF_AREA\": \"geo\"}, inplace=True)\n",
    "\n",
    "cost_of_gas_over_gdp = pd.merge(cost_of_gas, gdp_df, on=['geo', 'TIME_PERIOD'])\n",
    "cost_of_gas_over_gdp['cost_of_gas_over_gdp'] = cost_of_gas_over_gdp['total_consumption'] / cost_of_gas_over_gdp['GDP']\n",
    "\n",
    "fig = px.line(cost_of_gas_over_gdp, x='TIME_PERIOD', y='cost_of_gas_over_gdp', color='geo')\n",
    "fig.show()\n",
    "\n",
    "\n"
   ]
  },
  {
   "cell_type": "code",
   "execution_count": 97,
   "metadata": {},
   "outputs": [
    {
     "data": {
      "application/vnd.plotly.v1+json": {
       "config": {
        "plotlyServerURL": "https://plot.ly"
       },
       "data": [
        {
         "hovertemplate": "geo=AT<br>TIME_PERIOD=%{x}<br>cost_of_electricity_over_gdp=%{y}<extra></extra>",
         "legendgroup": "AT",
         "line": {
          "color": "#636efa",
          "dash": "solid"
         },
         "marker": {
          "symbol": "circle"
         },
         "mode": "lines",
         "name": "AT",
         "orientation": "h",
         "showlegend": true,
         "type": "scatter",
         "x": [
          2007,
          2008,
          2009,
          2010,
          2011,
          2012,
          2013,
          2014,
          2015,
          2016,
          2017,
          2018,
          2019,
          2020,
          2021,
          2022,
          2023
         ],
         "xaxis": "x",
         "y": [
          0.01993900388077631,
          0.020481486755561606,
          0.022453199096243878,
          0.021997937689673695,
          0.02130035326010537,
          0.020609205601660657,
          0.020130525894229683,
          0.017996466929835527,
          0.016295505587881533,
          0.015746441668234835,
          0.014802159606287515,
          0.014949360217967705,
          0.01589057352611415,
          0.01687423951635497,
          0.018607963810509047,
          0.025760426346857098,
          0.033177213178567595
         ],
         "yaxis": "y"
        },
        {
         "hovertemplate": "geo=BE<br>TIME_PERIOD=%{x}<br>cost_of_electricity_over_gdp=%{y}<extra></extra>",
         "legendgroup": "BE",
         "line": {
          "color": "#EF553B",
          "dash": "solid"
         },
         "marker": {
          "symbol": "circle"
         },
         "mode": "lines",
         "name": "BE",
         "orientation": "h",
         "showlegend": true,
         "type": "scatter",
         "x": [
          2007,
          2008,
          2009,
          2010,
          2011,
          2012,
          2013,
          2014,
          2015,
          2016,
          2017,
          2018,
          2019,
          2020,
          2021,
          2022,
          2023
         ],
         "xaxis": "x",
         "y": [
          0.024016614751594473,
          0.027983292764425703,
          0.025736713292223472,
          0.0256750093711527,
          0.025814231592867748,
          0.02514353843690441,
          0.023492073600777937,
          0.022519710105542552,
          0.022348315158902433,
          0.02076987012592278,
          0.01944313699461804,
          0.01949118901826509,
          0.01929651637758583,
          0.018755946235668453,
          0.01975050460927483,
          0.02987927213321797,
          0.026304348477424168
         ],
         "yaxis": "y"
        },
        {
         "hovertemplate": "geo=BG<br>TIME_PERIOD=%{x}<br>cost_of_electricity_over_gdp=%{y}<extra></extra>",
         "legendgroup": "BG",
         "line": {
          "color": "#00cc96",
          "dash": "solid"
         },
         "marker": {
          "symbol": "circle"
         },
         "mode": "lines",
         "name": "BG",
         "orientation": "h",
         "showlegend": true,
         "type": "scatter",
         "x": [
          2007,
          2008,
          2009,
          2010,
          2011,
          2012,
          2013,
          2014,
          2015,
          2016,
          2017,
          2018,
          2019,
          2020,
          2021,
          2022,
          2023
         ],
         "xaxis": "x",
         "y": [
          0.04514330139674492,
          0.044483210518630655,
          0.04513374830383618,
          0.044678086339501946,
          0.04393870517953754,
          0.046517278230943426,
          0.04754488157274618,
          0.045228899013363265,
          0.046475617198153026,
          0.04676765972124913,
          0.04317699517021826,
          0.042365653588213405,
          0.040377234956142566,
          0.036991866795061626,
          0.04824476085628089,
          0.07355281483106711,
          0.03985144911614522
         ],
         "yaxis": "y"
        },
        {
         "hovertemplate": "geo=CZ<br>TIME_PERIOD=%{x}<br>cost_of_electricity_over_gdp=%{y}<extra></extra>",
         "legendgroup": "CZ",
         "line": {
          "color": "#ab63fa",
          "dash": "solid"
         },
         "marker": {
          "symbol": "circle"
         },
         "mode": "lines",
         "name": "CZ",
         "orientation": "h",
         "showlegend": true,
         "type": "scatter",
         "x": [
          2007,
          2008,
          2009,
          2010,
          2011,
          2012,
          2013,
          2014,
          2015,
          2016,
          2017,
          2018,
          2019,
          2020,
          2021,
          2022,
          2023
         ],
         "xaxis": "x",
         "y": [
          0.03859285134159378,
          0.04020429608836908,
          0.04267805707907255,
          0.04121401861008523,
          0.04126085066021955,
          0.04233843590066831,
          0.04243306507975148,
          0.035851519054592156,
          0.03331785277809106,
          0.031709787417257385,
          0.02966264571642435,
          0.028862061167487674,
          0.02699324040423012,
          0.028823184685914677,
          0.028491317399690984,
          0.039735568456971994,
          0.040736068089087606
         ],
         "yaxis": "y"
        },
        {
         "hovertemplate": "geo=DE<br>TIME_PERIOD=%{x}<br>cost_of_electricity_over_gdp=%{y}<extra></extra>",
         "legendgroup": "DE",
         "line": {
          "color": "#FFA15A",
          "dash": "solid"
         },
         "marker": {
          "symbol": "circle"
         },
         "mode": "lines",
         "name": "DE",
         "orientation": "h",
         "showlegend": true,
         "type": "scatter",
         "x": [
          2007,
          2008,
          2009,
          2010,
          2011,
          2012,
          2013,
          2014,
          2015,
          2016,
          2017,
          2018,
          2019,
          2020,
          2021,
          2022,
          2023
         ],
         "xaxis": "x",
         "y": [
          0.0222841187721755,
          0.02318245383599518,
          0.023442683292783456,
          0.02301529202630419,
          0.021867715580771597,
          0.02132809415150801,
          0.020725083877402975,
          0.018353618149608456,
          0.01739009204975721,
          0.016033896257221018,
          0.015250451291011104,
          0.014751083408867244,
          0.013789384572732747,
          0.013972132321820954,
          0.015245056119943444,
          0.022354724648127773,
          0.024081736168661626
         ],
         "yaxis": "y"
        },
        {
         "hovertemplate": "geo=DK<br>TIME_PERIOD=%{x}<br>cost_of_electricity_over_gdp=%{y}<extra></extra>",
         "legendgroup": "DK",
         "line": {
          "color": "#19d3f3",
          "dash": "solid"
         },
         "marker": {
          "symbol": "circle"
         },
         "mode": "lines",
         "name": "DK",
         "orientation": "h",
         "showlegend": true,
         "type": "scatter",
         "x": [
          2007,
          2008,
          2009,
          2010,
          2011,
          2012,
          2013,
          2014,
          2015,
          2016,
          2017,
          2018,
          2019,
          2020,
          2021,
          2022,
          2023
         ],
         "xaxis": "x",
         "y": [
          0.012310243811015488,
          0.01274705260820837,
          0.0105679983326501,
          0.011377401677085766,
          0.011614065097952002,
          0.009944096110566625,
          0.009611044542886261,
          0.009076941946496934,
          0.008093652562319097,
          0.008104212455856291,
          0.00799853040459898,
          0.008405903633597639,
          0.008416985291167911,
          0.007479030161895759,
          0.010882750133405667,
          0.019604576865774725,
          0.01381488557539112
         ],
         "yaxis": "y"
        },
        {
         "hovertemplate": "geo=EE<br>TIME_PERIOD=%{x}<br>cost_of_electricity_over_gdp=%{y}<extra></extra>",
         "legendgroup": "EE",
         "line": {
          "color": "#FF6692",
          "dash": "solid"
         },
         "marker": {
          "symbol": "circle"
         },
         "mode": "lines",
         "name": "EE",
         "orientation": "h",
         "showlegend": true,
         "type": "scatter",
         "x": [
          2007,
          2008,
          2009,
          2010,
          2011,
          2012,
          2013,
          2014,
          2015,
          2016,
          2017,
          2018,
          2019,
          2020,
          2021,
          2022,
          2023
         ],
         "xaxis": "x",
         "y": [
          0.021368658046587455,
          0.022350834223809072,
          0.02749151650054151,
          0.028603171617486267,
          0.025904862681773555,
          0.026570290764022474,
          0.030246056042034144,
          0.02750576236873068,
          0.025756370861176433,
          0.025262587160125843,
          0.022341949772550117,
          0.023195087514856303,
          0.02116482245298527,
          0.019858111018462278,
          0.02775107955395959,
          0.03343257251595502,
          0.02361124158374278
         ],
         "yaxis": "y"
        },
        {
         "hovertemplate": "geo=ES<br>TIME_PERIOD=%{x}<br>cost_of_electricity_over_gdp=%{y}<extra></extra>",
         "legendgroup": "ES",
         "line": {
          "color": "#B6E880",
          "dash": "solid"
         },
         "marker": {
          "symbol": "circle"
         },
         "mode": "lines",
         "name": "ES",
         "orientation": "h",
         "showlegend": true,
         "type": "scatter",
         "x": [
          2007,
          2008,
          2009,
          2010,
          2011,
          2012,
          2013,
          2014,
          2015,
          2016,
          2017,
          2018,
          2019,
          2020,
          2021,
          2022,
          2023
         ],
         "xaxis": "x",
         "y": [
          0.02308944546889631,
          0.023544704094914822,
          0.02573111533059155,
          0.027603596434489855,
          0.028972802714404684,
          0.03140724824966339,
          0.03130768105834839,
          0.032318605574342095,
          0.03204221742693354,
          0.0289593901919774,
          0.028827089008430597,
          0.029927987010737303,
          0.02163641506522926,
          0.02119903079740168,
          0.0241960128103943,
          0.03957480758693456,
          0.027066199171541003
         ],
         "yaxis": "y"
        },
        {
         "hovertemplate": "geo=FR<br>TIME_PERIOD=%{x}<br>cost_of_electricity_over_gdp=%{y}<extra></extra>",
         "legendgroup": "FR",
         "line": {
          "color": "#FF97FF",
          "dash": "solid"
         },
         "marker": {
          "symbol": "circle"
         },
         "mode": "lines",
         "name": "FR",
         "orientation": "h",
         "showlegend": true,
         "type": "scatter",
         "x": [
          2007,
          2008,
          2009,
          2010,
          2011,
          2012,
          2013,
          2014,
          2015,
          2016,
          2017,
          2018,
          2019,
          2020,
          2021,
          2022,
          2023
         ],
         "xaxis": "x",
         "y": [
          0.016586580976986683,
          0.01727606798131678,
          0.017772887284291338,
          0.019098434443506996,
          0.01833763226892524,
          0.01945044076672678,
          0.020209616153573376,
          0.018720386888983597,
          0.019257475162217867,
          0.018635928379945238,
          0.017507874936377784,
          0.018428664657448343,
          0.018191928582059716,
          0.01996296149011802,
          0.02023586603077554,
          0.023582134338065136,
          0.029216431006072838
         ],
         "yaxis": "y"
        },
        {
         "hovertemplate": "geo=HR<br>TIME_PERIOD=%{x}<br>cost_of_electricity_over_gdp=%{y}<extra></extra>",
         "legendgroup": "HR",
         "line": {
          "color": "#FECB52",
          "dash": "solid"
         },
         "marker": {
          "symbol": "circle"
         },
         "mode": "lines",
         "name": "HR",
         "orientation": "h",
         "showlegend": true,
         "type": "scatter",
         "x": [
          2007,
          2008,
          2009,
          2010,
          2011,
          2012,
          2013,
          2014,
          2015,
          2016,
          2017,
          2018,
          2019,
          2020,
          2021,
          2022,
          2023
         ],
         "xaxis": "x",
         "y": [
          0.02451296333090576,
          0.027949790706952353,
          0.030813130805639296,
          0.03152362881456644,
          0.031223394789462237,
          0.034137949784920886,
          0.034418727621500125,
          0.032356921018331354,
          0.031983975844348395,
          0.0307176010553588,
          0.029474877245796133,
          0.02929834263188697,
          0.028617684379599825,
          0.029976884138108045,
          0.02905017392399016,
          0.039330905746120665,
          0.04298945121196894
         ],
         "yaxis": "y"
        },
        {
         "hovertemplate": "geo=HU<br>TIME_PERIOD=%{x}<br>cost_of_electricity_over_gdp=%{y}<extra></extra>",
         "legendgroup": "HU",
         "line": {
          "color": "#636efa",
          "dash": "solid"
         },
         "marker": {
          "symbol": "circle"
         },
         "mode": "lines",
         "name": "HU",
         "orientation": "h",
         "showlegend": true,
         "type": "scatter",
         "x": [
          2007,
          2008,
          2009,
          2010,
          2011,
          2012,
          2013,
          2014,
          2015,
          2016,
          2017,
          2018,
          2019,
          2020,
          2021,
          2022,
          2023
         ],
         "xaxis": "x",
         "y": [
          0.029496520852275505,
          0.03635500126894805,
          0.040348983682482624,
          0.03670008708223237,
          0.03529772733691358,
          0.03675011197407895,
          0.03329339989091189,
          0.028662270237784906,
          0.0271086531119054,
          0.025177981919429396,
          0.02261532119686049,
          0.022596476007180885,
          0.02311975876320269,
          0.023343044396905713,
          0.024327941676904205,
          0.04392070980839555,
          0.0411554033331962
         ],
         "yaxis": "y"
        },
        {
         "hovertemplate": "geo=IE<br>TIME_PERIOD=%{x}<br>cost_of_electricity_over_gdp=%{y}<extra></extra>",
         "legendgroup": "IE",
         "line": {
          "color": "#EF553B",
          "dash": "solid"
         },
         "marker": {
          "symbol": "circle"
         },
         "mode": "lines",
         "name": "IE",
         "orientation": "h",
         "showlegend": true,
         "type": "scatter",
         "x": [
          2007,
          2008,
          2009,
          2010,
          2011,
          2012,
          2013,
          2014,
          2015,
          2016,
          2017,
          2018,
          2019,
          2020,
          2021,
          2022,
          2023
         ],
         "xaxis": "x",
         "y": [
          0.01969877944288736,
          0.022572671834195427,
          0.02191923606350504,
          0.020995203379793135,
          0.020520032605142912,
          0.023077020070851502,
          0.022870282400422087,
          0.020429787383409944,
          0.01483461950411833,
          0.01337403537868139,
          0.01171718305036113,
          0.011557716451939128,
          0.011575864377895989,
          0.011072936851566167,
          0.011936229161027087,
          0.01573913458519404,
          0.019764838469161963
         ],
         "yaxis": "y"
        },
        {
         "hovertemplate": "geo=IT<br>TIME_PERIOD=%{x}<br>cost_of_electricity_over_gdp=%{y}<extra></extra>",
         "legendgroup": "IT",
         "line": {
          "color": "#00cc96",
          "dash": "solid"
         },
         "marker": {
          "symbol": "circle"
         },
         "mode": "lines",
         "name": "IT",
         "orientation": "h",
         "showlegend": true,
         "type": "scatter",
         "x": [
          2008,
          2009,
          2010,
          2011,
          2012,
          2013,
          2014,
          2015,
          2016,
          2017,
          2018,
          2019,
          2020,
          2021,
          2022,
          2023
         ],
         "xaxis": "x",
         "y": [
          0,
          0,
          0.02447699787620324,
          0.023136117517686496,
          0.023632486585750952,
          0.022480466592624936,
          0.020820086304585598,
          0.019975665707443895,
          0.017344150991022968,
          0.01698220979173237,
          0.017138352204094775,
          0.018999811999884292,
          0.0179352677700543,
          0.022594940925214687,
          0.04295679123184407,
          0.02981498635908635
         ],
         "yaxis": "y"
        },
        {
         "hovertemplate": "geo=LT<br>TIME_PERIOD=%{x}<br>cost_of_electricity_over_gdp=%{y}<extra></extra>",
         "legendgroup": "LT",
         "line": {
          "color": "#ab63fa",
          "dash": "solid"
         },
         "marker": {
          "symbol": "circle"
         },
         "mode": "lines",
         "name": "LT",
         "orientation": "h",
         "showlegend": true,
         "type": "scatter",
         "x": [
          2007,
          2008,
          2009,
          2010,
          2011,
          2012,
          2013,
          2014,
          2015,
          2016,
          2017,
          2018,
          2019,
          2020,
          2021,
          2022,
          2023
         ],
         "xaxis": "x",
         "y": [
          0.02242424291657948,
          0.021856823263370254,
          0.025886082372275274,
          0.029968825757354097,
          0.029816858094666488,
          0.030322248698688537,
          0.024741755810023962,
          0.024810470470240768,
          0.02073041689467386,
          0.019337317600796204,
          0.016943454267026998,
          0.016469165098755352,
          0.016885443150709233,
          0.018057044639596113,
          0.021375827332706716,
          0.032070320833273706,
          0.027422366736100514
         ],
         "yaxis": "y"
        },
        {
         "hovertemplate": "geo=LU<br>TIME_PERIOD=%{x}<br>cost_of_electricity_over_gdp=%{y}<extra></extra>",
         "legendgroup": "LU",
         "line": {
          "color": "#FFA15A",
          "dash": "solid"
         },
         "marker": {
          "symbol": "circle"
         },
         "mode": "lines",
         "name": "LU",
         "orientation": "h",
         "showlegend": true,
         "type": "scatter",
         "x": [
          2007,
          2008,
          2009,
          2010,
          2011,
          2012,
          2013,
          2014,
          2015,
          2016,
          2017,
          2018,
          2019,
          2020,
          2021,
          2022,
          2023
         ],
         "xaxis": "x",
         "y": [
          0.0229752698444426,
          0.019567163109862486,
          0.019259348795745066,
          0.016607804996213095,
          0.015542943027063811,
          0.014691149603584973,
          0.01343309335432741,
          0.012380012748660867,
          0.010644846251832946,
          0.010139256726810108,
          0.009013762888012238,
          0.009008509729313736,
          0.009483322362968238,
          0.00917215948288107,
          0.008961600380748277,
          0.011285860584963907,
          0.018453292653969108
         ],
         "yaxis": "y"
        },
        {
         "hovertemplate": "geo=LV<br>TIME_PERIOD=%{x}<br>cost_of_electricity_over_gdp=%{y}<extra></extra>",
         "legendgroup": "LV",
         "line": {
          "color": "#19d3f3",
          "dash": "solid"
         },
         "marker": {
          "symbol": "circle"
         },
         "mode": "lines",
         "name": "LV",
         "orientation": "h",
         "showlegend": true,
         "type": "scatter",
         "x": [
          2007,
          2008,
          2009,
          2010,
          2011,
          2012,
          2013,
          2014,
          2015,
          2016,
          2017,
          2018,
          2019,
          2020,
          2021,
          2022,
          2023
         ],
         "xaxis": "x",
         "y": [
          0.020537340210450374,
          0.021914338314480853,
          0.03034657503436091,
          0.03248775381685236,
          0.03355202157400209,
          0.032090803588817066,
          0.027364817870687373,
          0.025684958275387054,
          0.02579474769687875,
          0.025471158993319257,
          0.024068585898489637,
          0.021330580598732926,
          0.020353558392032026,
          0.018784520834394504,
          0.021054327899802897,
          0.035742165176980194,
          0.02971995670627502
         ],
         "yaxis": "y"
        },
        {
         "hovertemplate": "geo=NL<br>TIME_PERIOD=%{x}<br>cost_of_electricity_over_gdp=%{y}<extra></extra>",
         "legendgroup": "NL",
         "line": {
          "color": "#FF6692",
          "dash": "solid"
         },
         "marker": {
          "symbol": "circle"
         },
         "mode": "lines",
         "name": "NL",
         "orientation": "h",
         "showlegend": true,
         "type": "scatter",
         "x": [
          2007,
          2008,
          2009,
          2010,
          2011,
          2012,
          2013,
          2014,
          2015,
          2016,
          2017,
          2018,
          2019,
          2020,
          2021,
          2022,
          2023
         ],
         "xaxis": "x",
         "y": [
          0.018068723819597766,
          0.017723517975576503,
          0.018713478901825373,
          0.01698565044004271,
          0.01667090354002131,
          0.016620083331806156,
          0.01678835636282405,
          0.01558131600926787,
          0.01476587145203173,
          0.01315919562029467,
          0.011982413633548688,
          0.0123957726642165,
          0.012302938896426861,
          0.012500410397610531,
          0.013320188444044504,
          0.02074665086020775,
          0.02449019078331377
         ],
         "yaxis": "y"
        },
        {
         "hovertemplate": "geo=PL<br>TIME_PERIOD=%{x}<br>cost_of_electricity_over_gdp=%{y}<extra></extra>",
         "legendgroup": "PL",
         "line": {
          "color": "#B6E880",
          "dash": "solid"
         },
         "marker": {
          "symbol": "circle"
         },
         "mode": "lines",
         "name": "PL",
         "orientation": "h",
         "showlegend": true,
         "type": "scatter",
         "x": [
          2007,
          2008,
          2009,
          2010,
          2011,
          2012,
          2013,
          2014,
          2015,
          2016,
          2017,
          2018,
          2019,
          2020,
          2021,
          2022,
          2023
         ],
         "xaxis": "x",
         "y": [
          0.03052884912388288,
          0.028760794514954845,
          0.03194540387137036,
          0.03249810279532533,
          0.031544564727892466,
          0.03150003239399027,
          0.02986402329249541,
          0.027125300936281436,
          0.027041090536788694,
          0.0263403916861822,
          0.022071325878468776,
          0.020580656635050786,
          0.02063546722406545,
          0.021656197602677837,
          0.01956283439113983,
          0.02377909867250352,
          0.025863652446619558
         ],
         "yaxis": "y"
        },
        {
         "hovertemplate": "geo=PT<br>TIME_PERIOD=%{x}<br>cost_of_electricity_over_gdp=%{y}<extra></extra>",
         "legendgroup": "PT",
         "line": {
          "color": "#FF97FF",
          "dash": "solid"
         },
         "marker": {
          "symbol": "circle"
         },
         "mode": "lines",
         "name": "PT",
         "orientation": "h",
         "showlegend": true,
         "type": "scatter",
         "x": [
          2007,
          2008,
          2009,
          2010,
          2011,
          2012,
          2013,
          2014,
          2015,
          2016,
          2017,
          2018,
          2019,
          2020,
          2021,
          2022,
          2023
         ],
         "xaxis": "x",
         "y": [
          0.024006449438105735,
          0.024856152066114485,
          0.030418425526451662,
          0.026172255903878075,
          0.025692601744049946,
          0.029289346535045103,
          0.02859400953559579,
          0.0299693667133173,
          0.02822979489093952,
          0.026996469095367785,
          0.022465816235089614,
          0.020759029138106018,
          0.02230411176759632,
          0.021491497459963756,
          0.023205994666849906,
          0.036925820957167475,
          0.03509862375897366
         ],
         "yaxis": "y"
        },
        {
         "hovertemplate": "geo=RO<br>TIME_PERIOD=%{x}<br>cost_of_electricity_over_gdp=%{y}<extra></extra>",
         "legendgroup": "RO",
         "line": {
          "color": "#FECB52",
          "dash": "solid"
         },
         "marker": {
          "symbol": "circle"
         },
         "mode": "lines",
         "name": "RO",
         "orientation": "h",
         "showlegend": true,
         "type": "scatter",
         "x": [
          2007,
          2008,
          2009,
          2010,
          2011,
          2012,
          2013,
          2014,
          2015,
          2016,
          2017,
          2018,
          2019,
          2020,
          2021,
          2022,
          2023
         ],
         "xaxis": "x",
         "y": [
          0.02848116685506924,
          0.02471664433974198,
          0.02383525875645016,
          0.02608238408096629,
          0.024814005895118566,
          0.02373476088461452,
          0.02434410780803445,
          0.02186261365397805,
          0.02049643501873413,
          0.018501374471611362,
          0.01696036035319722,
          0.01697776708650829,
          0.017325865131138922,
          0.01782350436320256,
          0.019572300036719944,
          0.036364026094309686,
          0.01931410450736191
         ],
         "yaxis": "y"
        },
        {
         "hovertemplate": "geo=SE<br>TIME_PERIOD=%{x}<br>cost_of_electricity_over_gdp=%{y}<extra></extra>",
         "legendgroup": "SE",
         "line": {
          "color": "#636efa",
          "dash": "solid"
         },
         "marker": {
          "symbol": "circle"
         },
         "mode": "lines",
         "name": "SE",
         "orientation": "h",
         "showlegend": true,
         "type": "scatter",
         "x": [
          2007,
          2008,
          2009,
          2010,
          2011,
          2012,
          2013,
          2014,
          2015,
          2016,
          2017,
          2018,
          2019,
          2020,
          2021,
          2022,
          2023
         ],
         "xaxis": "x",
         "y": [
          0.028796291025701647,
          0.032844025507998226,
          0.03354657498813262,
          0.03709680329227469,
          0.033415616823159446,
          0.03202174767039375,
          0.029927958393924772,
          0.027097638606714793,
          0.025242122609909556,
          0.02622710132967732,
          0.02583299984510836,
          0.02766490953802915,
          0.026943048687877495,
          0.021770618580993585,
          0.02702538233505662,
          0.036100312834503316,
          0.027120935593464183
         ],
         "yaxis": "y"
        },
        {
         "hovertemplate": "geo=SI<br>TIME_PERIOD=%{x}<br>cost_of_electricity_over_gdp=%{y}<extra></extra>",
         "legendgroup": "SI",
         "line": {
          "color": "#EF553B",
          "dash": "solid"
         },
         "marker": {
          "symbol": "circle"
         },
         "mode": "lines",
         "name": "SI",
         "orientation": "h",
         "showlegend": true,
         "type": "scatter",
         "x": [
          2007,
          2008,
          2009,
          2010,
          2011,
          2012,
          2013,
          2014,
          2015,
          2016,
          2017,
          2018,
          2019,
          2020,
          2021,
          2022,
          2023
         ],
         "xaxis": "x",
         "y": [
          0.033790864318966135,
          0.032552370735512405,
          0.03335087172599205,
          0.032458053670899434,
          0.03301388304630084,
          0.03420286471393021,
          0.03334242819030746,
          0.0298726582115375,
          0.027957864235986,
          0.02615466878206641,
          0.02504504558629918,
          0.025567640126498824,
          0.025596054913467656,
          0.0256489644149249,
          0.025096536933105148,
          0.035166179495565414,
          0.0366281963132287
         ],
         "yaxis": "y"
        },
        {
         "hovertemplate": "geo=SK<br>TIME_PERIOD=%{x}<br>cost_of_electricity_over_gdp=%{y}<extra></extra>",
         "legendgroup": "SK",
         "line": {
          "color": "#00cc96",
          "dash": "solid"
         },
         "marker": {
          "symbol": "circle"
         },
         "mode": "lines",
         "name": "SK",
         "orientation": "h",
         "showlegend": true,
         "type": "scatter",
         "x": [
          2007,
          2008,
          2009,
          2010,
          2011,
          2012,
          2013,
          2014,
          2015,
          2016,
          2017,
          2018,
          2019,
          2020,
          2021,
          2022,
          2023
         ],
         "xaxis": "x",
         "y": [
          0.045599256598763856,
          0.045876807424597585,
          0.04928248495865683,
          0.04308804836390381,
          0.043962389348139806,
          0.04227453535242814,
          0.04374769818803969,
          0.037007213789106576,
          0.03531949168979431,
          0.03442997950694096,
          0.024721211497952346,
          0.024934119899430722,
          0.0260258007651327,
          0.026433306654664274,
          0.027202615472426583,
          0.04023190743776327,
          0.03580486897631932
         ],
         "yaxis": "y"
        }
       ],
       "layout": {
        "legend": {
         "title": {
          "text": "geo"
         },
         "tracegroupgap": 0
        },
        "margin": {
         "t": 60
        },
        "template": {
         "data": {
          "bar": [
           {
            "error_x": {
             "color": "#2a3f5f"
            },
            "error_y": {
             "color": "#2a3f5f"
            },
            "marker": {
             "line": {
              "color": "#E5ECF6",
              "width": 0.5
             },
             "pattern": {
              "fillmode": "overlay",
              "size": 10,
              "solidity": 0.2
             }
            },
            "type": "bar"
           }
          ],
          "barpolar": [
           {
            "marker": {
             "line": {
              "color": "#E5ECF6",
              "width": 0.5
             },
             "pattern": {
              "fillmode": "overlay",
              "size": 10,
              "solidity": 0.2
             }
            },
            "type": "barpolar"
           }
          ],
          "carpet": [
           {
            "aaxis": {
             "endlinecolor": "#2a3f5f",
             "gridcolor": "white",
             "linecolor": "white",
             "minorgridcolor": "white",
             "startlinecolor": "#2a3f5f"
            },
            "baxis": {
             "endlinecolor": "#2a3f5f",
             "gridcolor": "white",
             "linecolor": "white",
             "minorgridcolor": "white",
             "startlinecolor": "#2a3f5f"
            },
            "type": "carpet"
           }
          ],
          "choropleth": [
           {
            "colorbar": {
             "outlinewidth": 0,
             "ticks": ""
            },
            "type": "choropleth"
           }
          ],
          "contour": [
           {
            "colorbar": {
             "outlinewidth": 0,
             "ticks": ""
            },
            "colorscale": [
             [
              0,
              "#0d0887"
             ],
             [
              0.1111111111111111,
              "#46039f"
             ],
             [
              0.2222222222222222,
              "#7201a8"
             ],
             [
              0.3333333333333333,
              "#9c179e"
             ],
             [
              0.4444444444444444,
              "#bd3786"
             ],
             [
              0.5555555555555556,
              "#d8576b"
             ],
             [
              0.6666666666666666,
              "#ed7953"
             ],
             [
              0.7777777777777778,
              "#fb9f3a"
             ],
             [
              0.8888888888888888,
              "#fdca26"
             ],
             [
              1,
              "#f0f921"
             ]
            ],
            "type": "contour"
           }
          ],
          "contourcarpet": [
           {
            "colorbar": {
             "outlinewidth": 0,
             "ticks": ""
            },
            "type": "contourcarpet"
           }
          ],
          "heatmap": [
           {
            "colorbar": {
             "outlinewidth": 0,
             "ticks": ""
            },
            "colorscale": [
             [
              0,
              "#0d0887"
             ],
             [
              0.1111111111111111,
              "#46039f"
             ],
             [
              0.2222222222222222,
              "#7201a8"
             ],
             [
              0.3333333333333333,
              "#9c179e"
             ],
             [
              0.4444444444444444,
              "#bd3786"
             ],
             [
              0.5555555555555556,
              "#d8576b"
             ],
             [
              0.6666666666666666,
              "#ed7953"
             ],
             [
              0.7777777777777778,
              "#fb9f3a"
             ],
             [
              0.8888888888888888,
              "#fdca26"
             ],
             [
              1,
              "#f0f921"
             ]
            ],
            "type": "heatmap"
           }
          ],
          "heatmapgl": [
           {
            "colorbar": {
             "outlinewidth": 0,
             "ticks": ""
            },
            "colorscale": [
             [
              0,
              "#0d0887"
             ],
             [
              0.1111111111111111,
              "#46039f"
             ],
             [
              0.2222222222222222,
              "#7201a8"
             ],
             [
              0.3333333333333333,
              "#9c179e"
             ],
             [
              0.4444444444444444,
              "#bd3786"
             ],
             [
              0.5555555555555556,
              "#d8576b"
             ],
             [
              0.6666666666666666,
              "#ed7953"
             ],
             [
              0.7777777777777778,
              "#fb9f3a"
             ],
             [
              0.8888888888888888,
              "#fdca26"
             ],
             [
              1,
              "#f0f921"
             ]
            ],
            "type": "heatmapgl"
           }
          ],
          "histogram": [
           {
            "marker": {
             "pattern": {
              "fillmode": "overlay",
              "size": 10,
              "solidity": 0.2
             }
            },
            "type": "histogram"
           }
          ],
          "histogram2d": [
           {
            "colorbar": {
             "outlinewidth": 0,
             "ticks": ""
            },
            "colorscale": [
             [
              0,
              "#0d0887"
             ],
             [
              0.1111111111111111,
              "#46039f"
             ],
             [
              0.2222222222222222,
              "#7201a8"
             ],
             [
              0.3333333333333333,
              "#9c179e"
             ],
             [
              0.4444444444444444,
              "#bd3786"
             ],
             [
              0.5555555555555556,
              "#d8576b"
             ],
             [
              0.6666666666666666,
              "#ed7953"
             ],
             [
              0.7777777777777778,
              "#fb9f3a"
             ],
             [
              0.8888888888888888,
              "#fdca26"
             ],
             [
              1,
              "#f0f921"
             ]
            ],
            "type": "histogram2d"
           }
          ],
          "histogram2dcontour": [
           {
            "colorbar": {
             "outlinewidth": 0,
             "ticks": ""
            },
            "colorscale": [
             [
              0,
              "#0d0887"
             ],
             [
              0.1111111111111111,
              "#46039f"
             ],
             [
              0.2222222222222222,
              "#7201a8"
             ],
             [
              0.3333333333333333,
              "#9c179e"
             ],
             [
              0.4444444444444444,
              "#bd3786"
             ],
             [
              0.5555555555555556,
              "#d8576b"
             ],
             [
              0.6666666666666666,
              "#ed7953"
             ],
             [
              0.7777777777777778,
              "#fb9f3a"
             ],
             [
              0.8888888888888888,
              "#fdca26"
             ],
             [
              1,
              "#f0f921"
             ]
            ],
            "type": "histogram2dcontour"
           }
          ],
          "mesh3d": [
           {
            "colorbar": {
             "outlinewidth": 0,
             "ticks": ""
            },
            "type": "mesh3d"
           }
          ],
          "parcoords": [
           {
            "line": {
             "colorbar": {
              "outlinewidth": 0,
              "ticks": ""
             }
            },
            "type": "parcoords"
           }
          ],
          "pie": [
           {
            "automargin": true,
            "type": "pie"
           }
          ],
          "scatter": [
           {
            "fillpattern": {
             "fillmode": "overlay",
             "size": 10,
             "solidity": 0.2
            },
            "type": "scatter"
           }
          ],
          "scatter3d": [
           {
            "line": {
             "colorbar": {
              "outlinewidth": 0,
              "ticks": ""
             }
            },
            "marker": {
             "colorbar": {
              "outlinewidth": 0,
              "ticks": ""
             }
            },
            "type": "scatter3d"
           }
          ],
          "scattercarpet": [
           {
            "marker": {
             "colorbar": {
              "outlinewidth": 0,
              "ticks": ""
             }
            },
            "type": "scattercarpet"
           }
          ],
          "scattergeo": [
           {
            "marker": {
             "colorbar": {
              "outlinewidth": 0,
              "ticks": ""
             }
            },
            "type": "scattergeo"
           }
          ],
          "scattergl": [
           {
            "marker": {
             "colorbar": {
              "outlinewidth": 0,
              "ticks": ""
             }
            },
            "type": "scattergl"
           }
          ],
          "scattermapbox": [
           {
            "marker": {
             "colorbar": {
              "outlinewidth": 0,
              "ticks": ""
             }
            },
            "type": "scattermapbox"
           }
          ],
          "scatterpolar": [
           {
            "marker": {
             "colorbar": {
              "outlinewidth": 0,
              "ticks": ""
             }
            },
            "type": "scatterpolar"
           }
          ],
          "scatterpolargl": [
           {
            "marker": {
             "colorbar": {
              "outlinewidth": 0,
              "ticks": ""
             }
            },
            "type": "scatterpolargl"
           }
          ],
          "scatterternary": [
           {
            "marker": {
             "colorbar": {
              "outlinewidth": 0,
              "ticks": ""
             }
            },
            "type": "scatterternary"
           }
          ],
          "surface": [
           {
            "colorbar": {
             "outlinewidth": 0,
             "ticks": ""
            },
            "colorscale": [
             [
              0,
              "#0d0887"
             ],
             [
              0.1111111111111111,
              "#46039f"
             ],
             [
              0.2222222222222222,
              "#7201a8"
             ],
             [
              0.3333333333333333,
              "#9c179e"
             ],
             [
              0.4444444444444444,
              "#bd3786"
             ],
             [
              0.5555555555555556,
              "#d8576b"
             ],
             [
              0.6666666666666666,
              "#ed7953"
             ],
             [
              0.7777777777777778,
              "#fb9f3a"
             ],
             [
              0.8888888888888888,
              "#fdca26"
             ],
             [
              1,
              "#f0f921"
             ]
            ],
            "type": "surface"
           }
          ],
          "table": [
           {
            "cells": {
             "fill": {
              "color": "#EBF0F8"
             },
             "line": {
              "color": "white"
             }
            },
            "header": {
             "fill": {
              "color": "#C8D4E3"
             },
             "line": {
              "color": "white"
             }
            },
            "type": "table"
           }
          ]
         },
         "layout": {
          "annotationdefaults": {
           "arrowcolor": "#2a3f5f",
           "arrowhead": 0,
           "arrowwidth": 1
          },
          "autotypenumbers": "strict",
          "coloraxis": {
           "colorbar": {
            "outlinewidth": 0,
            "ticks": ""
           }
          },
          "colorscale": {
           "diverging": [
            [
             0,
             "#8e0152"
            ],
            [
             0.1,
             "#c51b7d"
            ],
            [
             0.2,
             "#de77ae"
            ],
            [
             0.3,
             "#f1b6da"
            ],
            [
             0.4,
             "#fde0ef"
            ],
            [
             0.5,
             "#f7f7f7"
            ],
            [
             0.6,
             "#e6f5d0"
            ],
            [
             0.7,
             "#b8e186"
            ],
            [
             0.8,
             "#7fbc41"
            ],
            [
             0.9,
             "#4d9221"
            ],
            [
             1,
             "#276419"
            ]
           ],
           "sequential": [
            [
             0,
             "#0d0887"
            ],
            [
             0.1111111111111111,
             "#46039f"
            ],
            [
             0.2222222222222222,
             "#7201a8"
            ],
            [
             0.3333333333333333,
             "#9c179e"
            ],
            [
             0.4444444444444444,
             "#bd3786"
            ],
            [
             0.5555555555555556,
             "#d8576b"
            ],
            [
             0.6666666666666666,
             "#ed7953"
            ],
            [
             0.7777777777777778,
             "#fb9f3a"
            ],
            [
             0.8888888888888888,
             "#fdca26"
            ],
            [
             1,
             "#f0f921"
            ]
           ],
           "sequentialminus": [
            [
             0,
             "#0d0887"
            ],
            [
             0.1111111111111111,
             "#46039f"
            ],
            [
             0.2222222222222222,
             "#7201a8"
            ],
            [
             0.3333333333333333,
             "#9c179e"
            ],
            [
             0.4444444444444444,
             "#bd3786"
            ],
            [
             0.5555555555555556,
             "#d8576b"
            ],
            [
             0.6666666666666666,
             "#ed7953"
            ],
            [
             0.7777777777777778,
             "#fb9f3a"
            ],
            [
             0.8888888888888888,
             "#fdca26"
            ],
            [
             1,
             "#f0f921"
            ]
           ]
          },
          "colorway": [
           "#636efa",
           "#EF553B",
           "#00cc96",
           "#ab63fa",
           "#FFA15A",
           "#19d3f3",
           "#FF6692",
           "#B6E880",
           "#FF97FF",
           "#FECB52"
          ],
          "font": {
           "color": "#2a3f5f"
          },
          "geo": {
           "bgcolor": "white",
           "lakecolor": "white",
           "landcolor": "#E5ECF6",
           "showlakes": true,
           "showland": true,
           "subunitcolor": "white"
          },
          "hoverlabel": {
           "align": "left"
          },
          "hovermode": "closest",
          "mapbox": {
           "style": "light"
          },
          "paper_bgcolor": "white",
          "plot_bgcolor": "#E5ECF6",
          "polar": {
           "angularaxis": {
            "gridcolor": "white",
            "linecolor": "white",
            "ticks": ""
           },
           "bgcolor": "#E5ECF6",
           "radialaxis": {
            "gridcolor": "white",
            "linecolor": "white",
            "ticks": ""
           }
          },
          "scene": {
           "xaxis": {
            "backgroundcolor": "#E5ECF6",
            "gridcolor": "white",
            "gridwidth": 2,
            "linecolor": "white",
            "showbackground": true,
            "ticks": "",
            "zerolinecolor": "white"
           },
           "yaxis": {
            "backgroundcolor": "#E5ECF6",
            "gridcolor": "white",
            "gridwidth": 2,
            "linecolor": "white",
            "showbackground": true,
            "ticks": "",
            "zerolinecolor": "white"
           },
           "zaxis": {
            "backgroundcolor": "#E5ECF6",
            "gridcolor": "white",
            "gridwidth": 2,
            "linecolor": "white",
            "showbackground": true,
            "ticks": "",
            "zerolinecolor": "white"
           }
          },
          "shapedefaults": {
           "line": {
            "color": "#2a3f5f"
           }
          },
          "ternary": {
           "aaxis": {
            "gridcolor": "white",
            "linecolor": "white",
            "ticks": ""
           },
           "baxis": {
            "gridcolor": "white",
            "linecolor": "white",
            "ticks": ""
           },
           "bgcolor": "#E5ECF6",
           "caxis": {
            "gridcolor": "white",
            "linecolor": "white",
            "ticks": ""
           }
          },
          "title": {
           "x": 0.05
          },
          "xaxis": {
           "automargin": true,
           "gridcolor": "white",
           "linecolor": "white",
           "ticks": "",
           "title": {
            "standoff": 15
           },
           "zerolinecolor": "white",
           "zerolinewidth": 2
          },
          "yaxis": {
           "automargin": true,
           "gridcolor": "white",
           "linecolor": "white",
           "ticks": "",
           "title": {
            "standoff": 15
           },
           "zerolinecolor": "white",
           "zerolinewidth": 2
          }
         }
        },
        "xaxis": {
         "anchor": "y",
         "domain": [
          0,
          1
         ],
         "title": {
          "text": "TIME_PERIOD"
         }
        },
        "yaxis": {
         "anchor": "x",
         "domain": [
          0,
          1
         ],
         "title": {
          "text": "cost_of_electricity_over_gdp"
         }
        }
       }
      }
     },
     "metadata": {},
     "output_type": "display_data"
    }
   ],
   "source": [
    "prices_and_consumption_electricity = prices_and_comsumption[prices_and_comsumption['siec'] == 'E7000']\n",
    "cost_of_electricity = prices_and_consumption_electricity.groupby(['geo', 'TIME_PERIOD'])['total_consumption'].sum().reset_index()\n",
    "\n",
    "cost_of_electricity_over_gdp = pd.merge(cost_of_electricity, gdp_df, on=['geo', 'TIME_PERIOD'])\n",
    "cost_of_electricity_over_gdp['cost_of_electricity_over_gdp'] = cost_of_electricity_over_gdp['total_consumption'] / cost_of_electricity_over_gdp['GDP']\n",
    "\n",
    "fig = px.line(cost_of_electricity_over_gdp, x='TIME_PERIOD', y='cost_of_electricity_over_gdp', color='geo')\n",
    "fig.show()\n"
   ]
  }
 ],
 "metadata": {
  "kernelspec": {
   "display_name": "sdmx_io_data_science-32hfwsck",
   "language": "python",
   "name": "python3"
  },
  "language_info": {
   "codemirror_mode": {
    "name": "ipython",
    "version": 3
   },
   "file_extension": ".py",
   "mimetype": "text/x-python",
   "name": "python",
   "nbconvert_exporter": "python",
   "pygments_lexer": "ipython3",
   "version": "3.11.9"
  }
 },
 "nbformat": 4,
 "nbformat_minor": 2
}
