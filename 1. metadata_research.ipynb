{
 "cells": [
  {
   "cell_type": "markdown",
   "metadata": {},
   "source": [
    "# Introduction\n",
    "\n",
    "This notebook serves to research the metadata of the datasets we are interested in using. The metadata will serve as a basis to do the data query and will support the data analysis.\n",
    "\n",
    "# Involved datasets\n",
    "\n",
    "We intend to analyse some facts about energy in the EU. For that we intend to use:\n",
    "\n",
    "\n",
    "|Agency|Dataset_id|Name  |Url |\n",
    "|--|--|--|-- |\n",
    "|eurostat|demo_pjan| Population on 1 January by age and sex  |https://ec.europa.eu/eurostat/web/products-datasets/-/DEMO_PJAN|\n",
    "|eurostat|nrg_bal_s| Simplified Energy Balances | https://ec.europa.eu/eurostat/databrowser/view/nrg_bal_s|\n",
    "|eurostat|ilc_lvph01| Average household size |https://ec.europa.eu/eurostat/databrowser/view/ilc_lvph01/|\n",
    "|eurostat|nrg_pc_202| Gas prices for HH consumers |https://ec.europa.eu/eurostat/databrowser/view/nrg_pc_202/|\n",
    "|eurostat|nrg_pc_203| Gas prices for non-HH consumers |https://ec.europa.eu/eurostat/databrowser/view/nrg_pc_203/|\n",
    "|eurostat|nrg_pc_204| Electricity prices for HH consumers |https://ec.europa.eu/eurostat/databrowser/view/nrg_pc_204/|\n",
    "|eurostat|nrg_pc_205| Electricity prices for non-HH consumers |https://ec.europa.eu/eurostat/databrowser/view/nrg_pc_205/|\n",
    "|ecb|MNA|Main aggregates, national accounts|https://data.ecb.europa.eu/data/datasets/MNA/data-information|\n"
   ]
  },
  {
   "cell_type": "code",
   "execution_count": 1,
   "metadata": {},
   "outputs": [],
   "source": [
    "import utils\n",
    "import json\n",
    "\n",
    "with open('sub_codelists.json', 'r') as f:\n",
    "    sub_codelists = json.load(f)"
   ]
  },
  {
   "cell_type": "markdown",
   "metadata": {},
   "source": [
    "We need to understand the dataset before using it.\n",
    "We should do this by seeing the data structure (i.e., the columns and the possible values for each of them).\n",
    "\n",
    "The SDMX standard API allows to query the exact codes that are used by a dataflow. Unfortunately, that method is not always availabe, and that is the case for Eurostat. Therefore, in order to research what are the actual combinations used by this dataset, we need to get actual data. Our proposal in this case is to get data for the last observation, which should provide the maximum number of combinations with the minimum number of periods.\n",
    "\n",
    "We have created a method in utils to simplify this to the maximum. We only need to write the dataset we are interested in researching, and we'll get a summary of the contents."
   ]
  },
  {
   "cell_type": "code",
   "execution_count": null,
   "metadata": {},
   "outputs": [],
   "source": [
    "utils.get_summary_dataset('demo_pjan', agency='estat')"
   ]
  },
  {
   "cell_type": "code",
   "execution_count": null,
   "metadata": {},
   "outputs": [],
   "source": [
    "utils.get_summary_dataset('nrg_bal_s', agency='estat')"
   ]
  },
  {
   "cell_type": "code",
   "execution_count": null,
   "metadata": {},
   "outputs": [],
   "source": [
    "utils.get_summary_dataset('ilc_lvph01', agency='estat')\n"
   ]
  },
  {
   "cell_type": "code",
   "execution_count": null,
   "metadata": {},
   "outputs": [],
   "source": [
    "utils.get_summary_dataset('nrg_pc_202', agency='estat')"
   ]
  },
  {
   "cell_type": "code",
   "execution_count": null,
   "metadata": {},
   "outputs": [],
   "source": [
    "utils.get_summary_dataset('nrg_pc_204', agency='estat')"
   ]
  },
  {
   "cell_type": "markdown",
   "metadata": {},
   "source": [
    "We may need to check that the breakdowns we have selected are correct:"
   ]
  },
  {
   "cell_type": "code",
   "execution_count": null,
   "metadata": {},
   "outputs": [],
   "source": [
    "nrg_bal_aggregated = {\n",
    "    'freq': 'A',\n",
    "    'nrg_bal': sub_codelists['nrg_bal_total_consumption'],\n",
    "    'siec': sub_codelists['nrg_bal_siec_total'],\n",
    "    'unit': 'GWH',\n",
    "    'geo': sub_codelists['geo_total_eu'],\n",
    "}\n",
    "\n",
    "nrg_bal_dissaggregated = {\n",
    "    'freq': 'A',\n",
    "    'nrg_bal': sub_codelists['nrg_bal_consumption_basic_plus_other'],\n",
    "    'siec': sub_codelists['nrg_bal_siec_breakdown'],\n",
    "    'unit': 'GWH',\n",
    "    'geo': sub_codelists['geo_eu_countries'],\n",
    "}\n",
    "\n",
    "\n",
    "demo_pjan_aggregated = {\n",
    "    'freq': 'A',\n",
    "    'unit': 'NR',\n",
    "    'age': 'TOTAL',\n",
    "    'sex': 'T',\n",
    "    'geo': sub_codelists['geo_total_eu'],\n",
    "    }\n",
    "\n",
    "demo_pjan_disaggregated = {\n",
    "    'freq': 'A',\n",
    "    'unit': 'NR',\n",
    "    'age': 'TOTAL',\n",
    "    'sex': 'T',\n",
    "    'geo': sub_codelists['geo_eu_countries'],\n",
    "    }\n",
    "\n",
    "\n",
    "comparison_nrg_bal = utils.compare_aggregates('nrg_bal_s', nrg_bal_aggregated, nrg_bal_dissaggregated, agency='estat')\n",
    "comparison_demo_pjan = utils.compare_aggregates('demo_pjan', demo_pjan_aggregated, demo_pjan_disaggregated, agency='estat')\n",
    "display(comparison_nrg_bal)\n",
    "display(comparison_demo_pjan)"
   ]
  },
  {
   "cell_type": "code",
   "execution_count": null,
   "metadata": {},
   "outputs": [],
   "source": [
    "\n",
    "utils.get_summary_dataset('MNA', agency='ecb')\n"
   ]
  }
 ],
 "metadata": {
  "kernelspec": {
   "display_name": "sdmx_io_data_science-32hfwsck",
   "language": "python",
   "name": "python3"
  },
  "language_info": {
   "codemirror_mode": {
    "name": "ipython",
    "version": 3
   },
   "file_extension": ".py",
   "mimetype": "text/x-python",
   "name": "python",
   "nbconvert_exporter": "python",
   "pygments_lexer": "ipython3",
   "version": "3.11.9"
  }
 },
 "nbformat": 4,
 "nbformat_minor": 2
}
