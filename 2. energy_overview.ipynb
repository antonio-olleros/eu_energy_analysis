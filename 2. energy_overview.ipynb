{
 "cells": [
  {
   "cell_type": "markdown",
   "metadata": {},
   "source": [
    "In this chapter we intend to provide a basic overview of energy consumption evolution in the EU.\n",
    "\n",
    "We will see:\n",
    "\n",
    "1. The evolution of total EU consumption per capita brokendown by energy source\n",
    "2. The evolution of total EU consumption per capita brokendown by consuming sector\n",
    "3. The evolution of consumption per capita by country\n",
    "4. For the last year, the relationship between consumer sector and energy source\n"
   ]
  },
  {
   "cell_type": "code",
   "execution_count": 1,
   "metadata": {},
   "outputs": [],
   "source": [
    "from pysdmx.io import get_datasets\n",
    "import utils\n",
    "import json\n",
    "import plotly.express as px\n",
    "\n",
    "\n",
    "with open('sub_codelists.json', 'r') as f:\n",
    "    sub_codelists = json.load(f)\n",
    "\n",
    "def calculate_energy_consumption_per_capita(df):\n",
    "    df['energy_consumption_PC_kwh'] = df['energy_consumption_gwh'] / df['population'] * 1000000\n",
    "    return df"
   ]
  },
  {
   "cell_type": "markdown",
   "metadata": {},
   "source": [
    "We are going to get the data from the Eurostat DB.\n",
    "We need to get two datasets: The Energy Balances (simplified is enough for this analysis) and the population by country.\n",
    "\n",
    "For each dataset, we have to provide the list of values we need.\n",
    "We have created a method that generates automatically the SDMX query from a dictionary of values. We will load the required values from the file with created after the metadata research."
   ]
  },
  {
   "cell_type": "code",
   "execution_count": 2,
   "metadata": {},
   "outputs": [],
   "source": [
    "nrg_bal_constraints = {\n",
    "    'freq': 'A',\n",
    "    'nrg_bal': sub_codelists['nrg_bal_consumption_basic_plus_other'],\n",
    "    'siec': sub_codelists['nrg_bal_siec_breakdown'],\n",
    "    'unit': 'GWH',\n",
    "    'geo': sub_codelists['geo_eu_countries'],\n",
    "}\n",
    "\n",
    "demo_pjan_constraints = {\n",
    "    'freq': 'A',\n",
    "    'unit': 'NR',\n",
    "    'age': 'TOTAL',\n",
    "    'sex': 'T',\n",
    "    'geo': sub_codelists['geo_eu_countries'],\n",
    "    }\n"
   ]
  },
  {
   "cell_type": "code",
   "execution_count": null,
   "metadata": {},
   "outputs": [],
   "source": [
    "nrg_bal = utils.get_dataset_with_selection('nrg_bal_s', nrg_bal_constraints)\n",
    "nrg_bal = utils.add_labels(nrg_bal, 'siec')\n",
    "nrg_bal = utils.add_labels(nrg_bal, 'nrg_bal')\n",
    "\n",
    "display(nrg_bal.data)"
   ]
  },
  {
   "cell_type": "code",
   "execution_count": null,
   "metadata": {},
   "outputs": [],
   "source": [
    "demo_pjan = utils.get_dataset_with_selection('demo_pjan', demo_pjan_constraints)\n",
    "\n",
    "\n",
    "# We have to subtract 1 year to the TIME_PERIOD to match the nrg_bal_s_total data\n",
    "demo_pjan.data.TIME_PERIOD  = demo_pjan.data.TIME_PERIOD  - 1\n",
    "display(demo_pjan.data)\n",
    "\n"
   ]
  },
  {
   "cell_type": "code",
   "execution_count": null,
   "metadata": {},
   "outputs": [],
   "source": [
    "demo_pjan_aggregated = demo_pjan.data.groupby(['TIME_PERIOD'])['OBS_VALUE'].sum().reset_index()\n",
    "display(demo_pjan_aggregated.data)"
   ]
  },
  {
   "cell_type": "markdown",
   "metadata": {},
   "source": [
    "Preparing a dataset with the consumption per capita in kw/h\n"
   ]
  },
  {
   "cell_type": "code",
   "execution_count": null,
   "metadata": {},
   "outputs": [],
   "source": [
    "full_dataset = nrg_bal.data.merge(demo_pjan.data, on=['TIME_PERIOD', 'geo'], how='inner')\n",
    "full_dataset.rename(columns={'OBS_VALUE_x': 'energy_consumption_gwh', 'OBS_VALUE_y': 'population'}, inplace=True)\n",
    "\n",
    "display(full_dataset)"
   ]
  },
  {
   "cell_type": "code",
   "execution_count": null,
   "metadata": {},
   "outputs": [],
   "source": [
    "\n",
    "\n",
    "data_full_breakdown = nrg_bal.data\n",
    "\n",
    "data_by_energy_source = nrg_bal.data.groupby(['TIME_PERIOD', 'siec_label'])['OBS_VALUE'].sum().reset_index()\n",
    "# data_by_energy_source = calculate_energy_consumption_per_capita(data_by_energy_source)\n",
    "\n",
    "dataset_by_sector = nrg_bal.data.groupby(['TIME_PERIOD', 'nrg_bal_label'])['OBS_VALUE'].sum().reset_index()\n",
    "# dataset_by_sector = calculate_energy_consumption_per_capita(dataset_by_sector)\n",
    "\n",
    "dataset_by_country = nrg_bal.data.groupby(['TIME_PERIOD', 'geo'])['OBS_VALUE'].sum().reset_index()\n",
    "\n",
    "display(dataset_by_country)"
   ]
  },
  {
   "cell_type": "code",
   "execution_count": null,
   "metadata": {},
   "outputs": [],
   "source": [
    "fig = px.area(data_by_energy_source, x='TIME_PERIOD', y='OBS_VALUE', color='siec_label')\n",
    "fig.show()"
   ]
  },
  {
   "cell_type": "code",
   "execution_count": null,
   "metadata": {},
   "outputs": [],
   "source": [
    "fig = px.area(dataset_by_sector, x='TIME_PERIOD', y='OBS_VALUE', color='nrg_bal_label')\n",
    "fig.show()"
   ]
  },
  {
   "cell_type": "code",
   "execution_count": null,
   "metadata": {},
   "outputs": [],
   "source": [
    "by_sector_pc =  dataset_by_sector.merge(demo_pjan_aggregated, on=['TIME_PERIOD'], how='inner')\n",
    "by_sector_pc.rename(columns={'OBS_VALUE_x': 'energy_consumption_gwh', 'OBS_VALUE_y': 'population'}, inplace=True)\n",
    "\n",
    "by_sector_pc = calculate_energy_consumption_per_capita(by_sector_pc)\n",
    "\n",
    "fig = px.area(by_sector_pc, x='TIME_PERIOD', y='energy_consumption_PC_kwh', color='nrg_bal_label')\n",
    "fig.show()"
   ]
  },
  {
   "cell_type": "code",
   "execution_count": null,
   "metadata": {},
   "outputs": [],
   "source": [
    "consumption_pc_by_coubtry = dataset_by_country.merge(demo_pjan.data, on=['TIME_PERIOD', 'geo'], how='inner')\n",
    "\n",
    "consumption_pc_by_coubtry.rename(columns={'OBS_VALUE_x': 'energy_consumption_gwh', 'OBS_VALUE_y': 'population'}, inplace=True)\n",
    "\n",
    "consumption_pc_by_coubtry = calculate_energy_consumption_per_capita(consumption_pc_by_coubtry)\n",
    "\n",
    "fig = px.line(consumption_pc_by_coubtry, x='TIME_PERIOD', y='energy_consumption_PC_kwh', color='geo')\n",
    "fig.show()"
   ]
  },
  {
   "cell_type": "code",
   "execution_count": null,
   "metadata": {},
   "outputs": [],
   "source": [
    "import plotly.graph_objects as go\n",
    "\n",
    "df = full_dataset[(full_dataset['TIME_PERIOD'] == 2022)]\n",
    "\n",
    "\n",
    "sources = df['siec_label'].unique()\n",
    "targets = df['nrg_bal_label'].unique()\n",
    "\n",
    "\n",
    "labels = []\n",
    "source = []\n",
    "target = []\n",
    "value = []\n",
    "\n",
    "index = 0\n",
    "index_dict = {}\n",
    "\n",
    "for s in sources:\n",
    "    labels.append(s)\n",
    "    index_dict[s] = index\n",
    "    index += 1\n",
    "\n",
    "    for t in targets:\n",
    "        if t not in index_dict:\n",
    "            labels.append(t)\n",
    "            index_dict[t] = index\n",
    "            index += 1\n",
    "        source.append(index_dict[s])\n",
    "        target.append(index_dict[t])\n",
    "        value.append(df[(df['siec_label'] == s) & (df['nrg_bal_label'] == t)]['energy_consumption_gwh'].sum())\n",
    "        \n",
    "    \n",
    "\n",
    "\n",
    "fig = go.Figure(data=[go.Sankey(\n",
    "    node = dict(\n",
    "      pad = 15,\n",
    "      thickness = 20,\n",
    "      line = dict(color = \"black\", width = 0.5),\n",
    "      label = labels,\n",
    "      color = \"blue\"\n",
    "    ),\n",
    "    link = dict(\n",
    "      source = source,\n",
    "      target = target,\n",
    "      value = value\n",
    "  ))])\n",
    "\n",
    "fig.update_layout(title_text=\"Source of energy by sectors\", font_size=10)\n",
    "fig.show()"
   ]
  }
 ],
 "metadata": {
  "kernelspec": {
   "display_name": "sdmx_io_data_science-32hfwsck",
   "language": "python",
   "name": "python3"
  },
  "language_info": {
   "codemirror_mode": {
    "name": "ipython",
    "version": 3
   },
   "file_extension": ".py",
   "mimetype": "text/x-python",
   "name": "python",
   "nbconvert_exporter": "python",
   "pygments_lexer": "ipython3",
   "version": "3.11.9"
  }
 },
 "nbformat": 4,
 "nbformat_minor": 2
}
