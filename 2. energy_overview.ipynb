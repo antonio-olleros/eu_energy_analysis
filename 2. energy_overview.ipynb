{
 "cells": [
  {
   "cell_type": "markdown",
   "metadata": {},
   "source": [
    "In this chapter we intend to provide a basic overview of energy consumption evolution in the EU.\n",
    "\n",
    "We will see:\n",
    "\n",
    "1. The evolution of total EU consumption per capita brokendown by energy source\n",
    "2. The evolution of total EU consumption per capita brokendown by consuming sector\n",
    "3. The evolution of consumption per capita by country\n",
    "4. For the last year, the relationship between consumer sector and energy source\n"
   ]
  },
  {
   "cell_type": "code",
   "execution_count": 1,
   "metadata": {},
   "outputs": [],
   "source": [
    "from pysdmx.io import get_datasets\n",
    "import utils\n",
    "import json\n",
    "import plotly.express as px\n",
    "\n",
    "\n",
    "with open('sub_codelists.json', 'r') as f:\n",
    "    sub_codelists = json.load(f)\n",
    "\n",
    "def calculate_energy_consumption_per_capita(df):\n",
    "    df['energy_consumption_PC_kwh'] = df['energy_consumption_gwh'] / df['population'] * 1000000\n",
    "    return df"
   ]
  },
  {
   "cell_type": "markdown",
   "metadata": {},
   "source": [
    "We are going to get the data from the Eurostat DB.\n",
    "We need to get two datasets: The Energy Balances (simplified is enough for this analysis) and the population by country.\n",
    "\n",
    "For each dataset, we have to provide the list of values we need.\n",
    "We have created a method that generates automatically the SDMX query from a dictionary of values. We will load the required values from the file with created after the metadata research."
   ]
  },
  {
   "cell_type": "code",
   "execution_count": 2,
   "metadata": {},
   "outputs": [],
   "source": [
    "nrg_bal_constraints = {\n",
    "    'freq': 'A',\n",
    "    'nrg_bal': sub_codelists['nrg_bal_consumption_basic_plus_other'],\n",
    "    'siec': sub_codelists['nrg_bal_siec_breakdown'],\n",
    "    'unit': 'GWH',\n",
    "    'geo': sub_codelists['geo_eu_countries'],\n",
    "}\n",
    "\n",
    "demo_pjan_constraints = {\n",
    "    'freq': 'A',\n",
    "    'unit': 'NR',\n",
    "    'age': 'TOTAL',\n",
    "    'sex': 'T',\n",
    "    'geo': sub_codelists['geo_eu_countries'],\n",
    "    }\n"
   ]
  },
  {
   "cell_type": "code",
   "execution_count": 4,
   "metadata": {},
   "outputs": [
    {
     "data": {
      "text/html": [
       "<div>\n",
       "<style scoped>\n",
       "    .dataframe tbody tr th:only-of-type {\n",
       "        vertical-align: middle;\n",
       "    }\n",
       "\n",
       "    .dataframe tbody tr th {\n",
       "        vertical-align: top;\n",
       "    }\n",
       "\n",
       "    .dataframe thead th {\n",
       "        text-align: right;\n",
       "    }\n",
       "</style>\n",
       "<table border=\"1\" class=\"dataframe\">\n",
       "  <thead>\n",
       "    <tr style=\"text-align: right;\">\n",
       "      <th></th>\n",
       "      <th>nrg_bal</th>\n",
       "      <th>siec</th>\n",
       "      <th>geo</th>\n",
       "      <th>TIME_PERIOD</th>\n",
       "      <th>OBS_VALUE</th>\n",
       "      <th>OBS_FLAG</th>\n",
       "      <th>siec_label</th>\n",
       "      <th>nrg_bal_label</th>\n",
       "    </tr>\n",
       "  </thead>\n",
       "  <tbody>\n",
       "    <tr>\n",
       "      <th>0</th>\n",
       "      <td>FC_IND_E</td>\n",
       "      <td>C0000X0350-0370</td>\n",
       "      <td>AT</td>\n",
       "      <td>2000</td>\n",
       "      <td>4767.595</td>\n",
       "      <td>nan</td>\n",
       "      <td>Solid fossil fuels</td>\n",
       "      <td>Final consumption - industry sector - energy use</td>\n",
       "    </tr>\n",
       "    <tr>\n",
       "      <th>1</th>\n",
       "      <td>FC_IND_E</td>\n",
       "      <td>C0000X0350-0370</td>\n",
       "      <td>AT</td>\n",
       "      <td>2001</td>\n",
       "      <td>4103.286</td>\n",
       "      <td>nan</td>\n",
       "      <td>Solid fossil fuels</td>\n",
       "      <td>Final consumption - industry sector - energy use</td>\n",
       "    </tr>\n",
       "    <tr>\n",
       "      <th>2</th>\n",
       "      <td>FC_IND_E</td>\n",
       "      <td>C0000X0350-0370</td>\n",
       "      <td>AT</td>\n",
       "      <td>2002</td>\n",
       "      <td>4397.257</td>\n",
       "      <td>nan</td>\n",
       "      <td>Solid fossil fuels</td>\n",
       "      <td>Final consumption - industry sector - energy use</td>\n",
       "    </tr>\n",
       "    <tr>\n",
       "      <th>3</th>\n",
       "      <td>FC_IND_E</td>\n",
       "      <td>C0000X0350-0370</td>\n",
       "      <td>AT</td>\n",
       "      <td>2003</td>\n",
       "      <td>4253.855</td>\n",
       "      <td>nan</td>\n",
       "      <td>Solid fossil fuels</td>\n",
       "      <td>Final consumption - industry sector - energy use</td>\n",
       "    </tr>\n",
       "    <tr>\n",
       "      <th>4</th>\n",
       "      <td>FC_IND_E</td>\n",
       "      <td>C0000X0350-0370</td>\n",
       "      <td>AT</td>\n",
       "      <td>2004</td>\n",
       "      <td>4250.236</td>\n",
       "      <td>nan</td>\n",
       "      <td>Solid fossil fuels</td>\n",
       "      <td>Final consumption - industry sector - energy use</td>\n",
       "    </tr>\n",
       "    <tr>\n",
       "      <th>...</th>\n",
       "      <td>...</td>\n",
       "      <td>...</td>\n",
       "      <td>...</td>\n",
       "      <td>...</td>\n",
       "      <td>...</td>\n",
       "      <td>...</td>\n",
       "      <td>...</td>\n",
       "      <td>...</td>\n",
       "    </tr>\n",
       "    <tr>\n",
       "      <th>49891</th>\n",
       "      <td>FC_TRA_E</td>\n",
       "      <td>W6100_6220</td>\n",
       "      <td>SK</td>\n",
       "      <td>2019</td>\n",
       "      <td>0.000</td>\n",
       "      <td>nan</td>\n",
       "      <td>Non-renewable waste</td>\n",
       "      <td>Final consumption - transport sector - energy use</td>\n",
       "    </tr>\n",
       "    <tr>\n",
       "      <th>49892</th>\n",
       "      <td>FC_TRA_E</td>\n",
       "      <td>W6100_6220</td>\n",
       "      <td>SK</td>\n",
       "      <td>2020</td>\n",
       "      <td>0.000</td>\n",
       "      <td>nan</td>\n",
       "      <td>Non-renewable waste</td>\n",
       "      <td>Final consumption - transport sector - energy use</td>\n",
       "    </tr>\n",
       "    <tr>\n",
       "      <th>49893</th>\n",
       "      <td>FC_TRA_E</td>\n",
       "      <td>W6100_6220</td>\n",
       "      <td>SK</td>\n",
       "      <td>2021</td>\n",
       "      <td>0.000</td>\n",
       "      <td>nan</td>\n",
       "      <td>Non-renewable waste</td>\n",
       "      <td>Final consumption - transport sector - energy use</td>\n",
       "    </tr>\n",
       "    <tr>\n",
       "      <th>49894</th>\n",
       "      <td>FC_TRA_E</td>\n",
       "      <td>W6100_6220</td>\n",
       "      <td>SK</td>\n",
       "      <td>2022</td>\n",
       "      <td>0.000</td>\n",
       "      <td>nan</td>\n",
       "      <td>Non-renewable waste</td>\n",
       "      <td>Final consumption - transport sector - energy use</td>\n",
       "    </tr>\n",
       "    <tr>\n",
       "      <th>49895</th>\n",
       "      <td>FC_TRA_E</td>\n",
       "      <td>W6100_6220</td>\n",
       "      <td>SK</td>\n",
       "      <td>2023</td>\n",
       "      <td>0.000</td>\n",
       "      <td>nan</td>\n",
       "      <td>Non-renewable waste</td>\n",
       "      <td>Final consumption - transport sector - energy use</td>\n",
       "    </tr>\n",
       "  </tbody>\n",
       "</table>\n",
       "<p>49896 rows × 8 columns</p>\n",
       "</div>"
      ],
      "text/plain": [
       "        nrg_bal             siec geo  TIME_PERIOD  OBS_VALUE OBS_FLAG  \\\n",
       "0      FC_IND_E  C0000X0350-0370  AT         2000   4767.595      nan   \n",
       "1      FC_IND_E  C0000X0350-0370  AT         2001   4103.286      nan   \n",
       "2      FC_IND_E  C0000X0350-0370  AT         2002   4397.257      nan   \n",
       "3      FC_IND_E  C0000X0350-0370  AT         2003   4253.855      nan   \n",
       "4      FC_IND_E  C0000X0350-0370  AT         2004   4250.236      nan   \n",
       "...         ...              ...  ..          ...        ...      ...   \n",
       "49891  FC_TRA_E       W6100_6220  SK         2019      0.000      nan   \n",
       "49892  FC_TRA_E       W6100_6220  SK         2020      0.000      nan   \n",
       "49893  FC_TRA_E       W6100_6220  SK         2021      0.000      nan   \n",
       "49894  FC_TRA_E       W6100_6220  SK         2022      0.000      nan   \n",
       "49895  FC_TRA_E       W6100_6220  SK         2023      0.000      nan   \n",
       "\n",
       "                siec_label                                      nrg_bal_label  \n",
       "0       Solid fossil fuels   Final consumption - industry sector - energy use  \n",
       "1       Solid fossil fuels   Final consumption - industry sector - energy use  \n",
       "2       Solid fossil fuels   Final consumption - industry sector - energy use  \n",
       "3       Solid fossil fuels   Final consumption - industry sector - energy use  \n",
       "4       Solid fossil fuels   Final consumption - industry sector - energy use  \n",
       "...                    ...                                                ...  \n",
       "49891  Non-renewable waste  Final consumption - transport sector - energy use  \n",
       "49892  Non-renewable waste  Final consumption - transport sector - energy use  \n",
       "49893  Non-renewable waste  Final consumption - transport sector - energy use  \n",
       "49894  Non-renewable waste  Final consumption - transport sector - energy use  \n",
       "49895  Non-renewable waste  Final consumption - transport sector - energy use  \n",
       "\n",
       "[49896 rows x 8 columns]"
      ]
     },
     "metadata": {},
     "output_type": "display_data"
    }
   ],
   "source": [
    "nrg_bal = utils.get_dataset_with_selection('nrg_bal_s', nrg_bal_constraints)\n",
    "nrg_bal = utils.add_labels(nrg_bal, 'siec')\n",
    "nrg_bal = utils.add_labels(nrg_bal, 'nrg_bal')\n",
    "\n",
    "display(nrg_bal.data)"
   ]
  },
  {
   "cell_type": "code",
   "execution_count": 5,
   "metadata": {},
   "outputs": [
    {
     "data": {
      "text/html": [
       "<div>\n",
       "<style scoped>\n",
       "    .dataframe tbody tr th:only-of-type {\n",
       "        vertical-align: middle;\n",
       "    }\n",
       "\n",
       "    .dataframe tbody tr th {\n",
       "        vertical-align: top;\n",
       "    }\n",
       "\n",
       "    .dataframe thead th {\n",
       "        text-align: right;\n",
       "    }\n",
       "</style>\n",
       "<table border=\"1\" class=\"dataframe\">\n",
       "  <thead>\n",
       "    <tr style=\"text-align: right;\">\n",
       "      <th></th>\n",
       "      <th>geo</th>\n",
       "      <th>TIME_PERIOD</th>\n",
       "      <th>OBS_VALUE</th>\n",
       "      <th>OBS_FLAG</th>\n",
       "    </tr>\n",
       "  </thead>\n",
       "  <tbody>\n",
       "    <tr>\n",
       "      <th>0</th>\n",
       "      <td>AT</td>\n",
       "      <td>1999</td>\n",
       "      <td>8002186.0</td>\n",
       "      <td>nan</td>\n",
       "    </tr>\n",
       "    <tr>\n",
       "      <th>1</th>\n",
       "      <td>AT</td>\n",
       "      <td>2000</td>\n",
       "      <td>8020946.0</td>\n",
       "      <td>nan</td>\n",
       "    </tr>\n",
       "    <tr>\n",
       "      <th>2</th>\n",
       "      <td>AT</td>\n",
       "      <td>2001</td>\n",
       "      <td>8063640.0</td>\n",
       "      <td>nan</td>\n",
       "    </tr>\n",
       "    <tr>\n",
       "      <th>3</th>\n",
       "      <td>AT</td>\n",
       "      <td>2002</td>\n",
       "      <td>8100273.0</td>\n",
       "      <td>nan</td>\n",
       "    </tr>\n",
       "    <tr>\n",
       "      <th>4</th>\n",
       "      <td>AT</td>\n",
       "      <td>2003</td>\n",
       "      <td>8142573.0</td>\n",
       "      <td>nan</td>\n",
       "    </tr>\n",
       "    <tr>\n",
       "      <th>...</th>\n",
       "      <td>...</td>\n",
       "      <td>...</td>\n",
       "      <td>...</td>\n",
       "      <td>...</td>\n",
       "    </tr>\n",
       "    <tr>\n",
       "      <th>643</th>\n",
       "      <td>SK</td>\n",
       "      <td>2018</td>\n",
       "      <td>5450421.0</td>\n",
       "      <td>nan</td>\n",
       "    </tr>\n",
       "    <tr>\n",
       "      <th>644</th>\n",
       "      <td>SK</td>\n",
       "      <td>2019</td>\n",
       "      <td>5457873.0</td>\n",
       "      <td>nan</td>\n",
       "    </tr>\n",
       "    <tr>\n",
       "      <th>645</th>\n",
       "      <td>SK</td>\n",
       "      <td>2020</td>\n",
       "      <td>5459781.0</td>\n",
       "      <td>nan</td>\n",
       "    </tr>\n",
       "    <tr>\n",
       "      <th>646</th>\n",
       "      <td>SK</td>\n",
       "      <td>2021</td>\n",
       "      <td>5434712.0</td>\n",
       "      <td>nan</td>\n",
       "    </tr>\n",
       "    <tr>\n",
       "      <th>647</th>\n",
       "      <td>SK</td>\n",
       "      <td>2022</td>\n",
       "      <td>5428792.0</td>\n",
       "      <td>nan</td>\n",
       "    </tr>\n",
       "  </tbody>\n",
       "</table>\n",
       "<p>648 rows × 4 columns</p>\n",
       "</div>"
      ],
      "text/plain": [
       "    geo  TIME_PERIOD  OBS_VALUE OBS_FLAG\n",
       "0    AT         1999  8002186.0      nan\n",
       "1    AT         2000  8020946.0      nan\n",
       "2    AT         2001  8063640.0      nan\n",
       "3    AT         2002  8100273.0      nan\n",
       "4    AT         2003  8142573.0      nan\n",
       "..   ..          ...        ...      ...\n",
       "643  SK         2018  5450421.0      nan\n",
       "644  SK         2019  5457873.0      nan\n",
       "645  SK         2020  5459781.0      nan\n",
       "646  SK         2021  5434712.0      nan\n",
       "647  SK         2022  5428792.0      nan\n",
       "\n",
       "[648 rows x 4 columns]"
      ]
     },
     "metadata": {},
     "output_type": "display_data"
    }
   ],
   "source": [
    "demo_pjan = utils.get_dataset_with_selection('demo_pjan', demo_pjan_constraints)\n",
    "\n",
    "\n",
    "# We have to subtract 1 year to the TIME_PERIOD to match the nrg_bal_s_total data\n",
    "demo_pjan.data.TIME_PERIOD  = demo_pjan.data.TIME_PERIOD  - 1\n",
    "display(demo_pjan.data)\n",
    "\n"
   ]
  },
  {
   "cell_type": "code",
   "execution_count": 6,
   "metadata": {},
   "outputs": [
    {
     "data": {
      "text/html": [
       "<div>\n",
       "<style scoped>\n",
       "    .dataframe tbody tr th:only-of-type {\n",
       "        vertical-align: middle;\n",
       "    }\n",
       "\n",
       "    .dataframe tbody tr th {\n",
       "        vertical-align: top;\n",
       "    }\n",
       "\n",
       "    .dataframe thead th {\n",
       "        text-align: right;\n",
       "    }\n",
       "</style>\n",
       "<table border=\"1\" class=\"dataframe\">\n",
       "  <thead>\n",
       "    <tr style=\"text-align: right;\">\n",
       "      <th></th>\n",
       "      <th>geo</th>\n",
       "      <th>TIME_PERIOD</th>\n",
       "      <th>OBS_VALUE</th>\n",
       "      <th>OBS_FLAG</th>\n",
       "    </tr>\n",
       "  </thead>\n",
       "  <tbody>\n",
       "    <tr>\n",
       "      <th>0</th>\n",
       "      <td>AT</td>\n",
       "      <td>1999</td>\n",
       "      <td>8002186.0</td>\n",
       "      <td>nan</td>\n",
       "    </tr>\n",
       "    <tr>\n",
       "      <th>1</th>\n",
       "      <td>AT</td>\n",
       "      <td>2000</td>\n",
       "      <td>8020946.0</td>\n",
       "      <td>nan</td>\n",
       "    </tr>\n",
       "    <tr>\n",
       "      <th>2</th>\n",
       "      <td>AT</td>\n",
       "      <td>2001</td>\n",
       "      <td>8063640.0</td>\n",
       "      <td>nan</td>\n",
       "    </tr>\n",
       "    <tr>\n",
       "      <th>3</th>\n",
       "      <td>AT</td>\n",
       "      <td>2002</td>\n",
       "      <td>8100273.0</td>\n",
       "      <td>nan</td>\n",
       "    </tr>\n",
       "    <tr>\n",
       "      <th>4</th>\n",
       "      <td>AT</td>\n",
       "      <td>2003</td>\n",
       "      <td>8142573.0</td>\n",
       "      <td>nan</td>\n",
       "    </tr>\n",
       "    <tr>\n",
       "      <th>...</th>\n",
       "      <td>...</td>\n",
       "      <td>...</td>\n",
       "      <td>...</td>\n",
       "      <td>...</td>\n",
       "    </tr>\n",
       "    <tr>\n",
       "      <th>643</th>\n",
       "      <td>SK</td>\n",
       "      <td>2018</td>\n",
       "      <td>5450421.0</td>\n",
       "      <td>nan</td>\n",
       "    </tr>\n",
       "    <tr>\n",
       "      <th>644</th>\n",
       "      <td>SK</td>\n",
       "      <td>2019</td>\n",
       "      <td>5457873.0</td>\n",
       "      <td>nan</td>\n",
       "    </tr>\n",
       "    <tr>\n",
       "      <th>645</th>\n",
       "      <td>SK</td>\n",
       "      <td>2020</td>\n",
       "      <td>5459781.0</td>\n",
       "      <td>nan</td>\n",
       "    </tr>\n",
       "    <tr>\n",
       "      <th>646</th>\n",
       "      <td>SK</td>\n",
       "      <td>2021</td>\n",
       "      <td>5434712.0</td>\n",
       "      <td>nan</td>\n",
       "    </tr>\n",
       "    <tr>\n",
       "      <th>647</th>\n",
       "      <td>SK</td>\n",
       "      <td>2022</td>\n",
       "      <td>5428792.0</td>\n",
       "      <td>nan</td>\n",
       "    </tr>\n",
       "  </tbody>\n",
       "</table>\n",
       "<p>648 rows × 4 columns</p>\n",
       "</div>"
      ],
      "text/plain": [
       "    geo  TIME_PERIOD  OBS_VALUE OBS_FLAG\n",
       "0    AT         1999  8002186.0      nan\n",
       "1    AT         2000  8020946.0      nan\n",
       "2    AT         2001  8063640.0      nan\n",
       "3    AT         2002  8100273.0      nan\n",
       "4    AT         2003  8142573.0      nan\n",
       "..   ..          ...        ...      ...\n",
       "643  SK         2018  5450421.0      nan\n",
       "644  SK         2019  5457873.0      nan\n",
       "645  SK         2020  5459781.0      nan\n",
       "646  SK         2021  5434712.0      nan\n",
       "647  SK         2022  5428792.0      nan\n",
       "\n",
       "[648 rows x 4 columns]"
      ]
     },
     "metadata": {},
     "output_type": "display_data"
    }
   ],
   "source": [
    "demo_pjan_aggregated = demo_pjan.data.groupby(['TIME_PERIOD'])['OBS_VALUE'].sum().reset_index()\n",
    "display(demo_pjan.data)"
   ]
  },
  {
   "cell_type": "markdown",
   "metadata": {},
   "source": [
    "Preparing a dataset with the consumption per capita in kw/h\n"
   ]
  },
  {
   "cell_type": "code",
   "execution_count": 7,
   "metadata": {},
   "outputs": [
    {
     "data": {
      "text/html": [
       "<div>\n",
       "<style scoped>\n",
       "    .dataframe tbody tr th:only-of-type {\n",
       "        vertical-align: middle;\n",
       "    }\n",
       "\n",
       "    .dataframe tbody tr th {\n",
       "        vertical-align: top;\n",
       "    }\n",
       "\n",
       "    .dataframe thead th {\n",
       "        text-align: right;\n",
       "    }\n",
       "</style>\n",
       "<table border=\"1\" class=\"dataframe\">\n",
       "  <thead>\n",
       "    <tr style=\"text-align: right;\">\n",
       "      <th></th>\n",
       "      <th>nrg_bal</th>\n",
       "      <th>siec</th>\n",
       "      <th>geo</th>\n",
       "      <th>TIME_PERIOD</th>\n",
       "      <th>energy_consumption_gwh</th>\n",
       "      <th>OBS_FLAG_x</th>\n",
       "      <th>siec_label</th>\n",
       "      <th>nrg_bal_label</th>\n",
       "      <th>population</th>\n",
       "      <th>OBS_FLAG_y</th>\n",
       "    </tr>\n",
       "  </thead>\n",
       "  <tbody>\n",
       "    <tr>\n",
       "      <th>0</th>\n",
       "      <td>FC_IND_E</td>\n",
       "      <td>C0000X0350-0370</td>\n",
       "      <td>AT</td>\n",
       "      <td>2000</td>\n",
       "      <td>4767.595</td>\n",
       "      <td>nan</td>\n",
       "      <td>Solid fossil fuels</td>\n",
       "      <td>Final consumption - industry sector - energy use</td>\n",
       "      <td>8020946.0</td>\n",
       "      <td>nan</td>\n",
       "    </tr>\n",
       "    <tr>\n",
       "      <th>1</th>\n",
       "      <td>FC_IND_E</td>\n",
       "      <td>C0000X0350-0370</td>\n",
       "      <td>AT</td>\n",
       "      <td>2001</td>\n",
       "      <td>4103.286</td>\n",
       "      <td>nan</td>\n",
       "      <td>Solid fossil fuels</td>\n",
       "      <td>Final consumption - industry sector - energy use</td>\n",
       "      <td>8063640.0</td>\n",
       "      <td>nan</td>\n",
       "    </tr>\n",
       "    <tr>\n",
       "      <th>2</th>\n",
       "      <td>FC_IND_E</td>\n",
       "      <td>C0000X0350-0370</td>\n",
       "      <td>AT</td>\n",
       "      <td>2002</td>\n",
       "      <td>4397.257</td>\n",
       "      <td>nan</td>\n",
       "      <td>Solid fossil fuels</td>\n",
       "      <td>Final consumption - industry sector - energy use</td>\n",
       "      <td>8100273.0</td>\n",
       "      <td>nan</td>\n",
       "    </tr>\n",
       "    <tr>\n",
       "      <th>3</th>\n",
       "      <td>FC_IND_E</td>\n",
       "      <td>C0000X0350-0370</td>\n",
       "      <td>AT</td>\n",
       "      <td>2003</td>\n",
       "      <td>4253.855</td>\n",
       "      <td>nan</td>\n",
       "      <td>Solid fossil fuels</td>\n",
       "      <td>Final consumption - industry sector - energy use</td>\n",
       "      <td>8142573.0</td>\n",
       "      <td>nan</td>\n",
       "    </tr>\n",
       "    <tr>\n",
       "      <th>4</th>\n",
       "      <td>FC_IND_E</td>\n",
       "      <td>C0000X0350-0370</td>\n",
       "      <td>AT</td>\n",
       "      <td>2004</td>\n",
       "      <td>4250.236</td>\n",
       "      <td>nan</td>\n",
       "      <td>Solid fossil fuels</td>\n",
       "      <td>Final consumption - industry sector - energy use</td>\n",
       "      <td>8201359.0</td>\n",
       "      <td>nan</td>\n",
       "    </tr>\n",
       "    <tr>\n",
       "      <th>...</th>\n",
       "      <td>...</td>\n",
       "      <td>...</td>\n",
       "      <td>...</td>\n",
       "      <td>...</td>\n",
       "      <td>...</td>\n",
       "      <td>...</td>\n",
       "      <td>...</td>\n",
       "      <td>...</td>\n",
       "      <td>...</td>\n",
       "      <td>...</td>\n",
       "    </tr>\n",
       "    <tr>\n",
       "      <th>47812</th>\n",
       "      <td>FC_TRA_E</td>\n",
       "      <td>W6100_6220</td>\n",
       "      <td>SK</td>\n",
       "      <td>2018</td>\n",
       "      <td>0.000</td>\n",
       "      <td>nan</td>\n",
       "      <td>Non-renewable waste</td>\n",
       "      <td>Final consumption - transport sector - energy use</td>\n",
       "      <td>5450421.0</td>\n",
       "      <td>nan</td>\n",
       "    </tr>\n",
       "    <tr>\n",
       "      <th>47813</th>\n",
       "      <td>FC_TRA_E</td>\n",
       "      <td>W6100_6220</td>\n",
       "      <td>SK</td>\n",
       "      <td>2019</td>\n",
       "      <td>0.000</td>\n",
       "      <td>nan</td>\n",
       "      <td>Non-renewable waste</td>\n",
       "      <td>Final consumption - transport sector - energy use</td>\n",
       "      <td>5457873.0</td>\n",
       "      <td>nan</td>\n",
       "    </tr>\n",
       "    <tr>\n",
       "      <th>47814</th>\n",
       "      <td>FC_TRA_E</td>\n",
       "      <td>W6100_6220</td>\n",
       "      <td>SK</td>\n",
       "      <td>2020</td>\n",
       "      <td>0.000</td>\n",
       "      <td>nan</td>\n",
       "      <td>Non-renewable waste</td>\n",
       "      <td>Final consumption - transport sector - energy use</td>\n",
       "      <td>5459781.0</td>\n",
       "      <td>nan</td>\n",
       "    </tr>\n",
       "    <tr>\n",
       "      <th>47815</th>\n",
       "      <td>FC_TRA_E</td>\n",
       "      <td>W6100_6220</td>\n",
       "      <td>SK</td>\n",
       "      <td>2021</td>\n",
       "      <td>0.000</td>\n",
       "      <td>nan</td>\n",
       "      <td>Non-renewable waste</td>\n",
       "      <td>Final consumption - transport sector - energy use</td>\n",
       "      <td>5434712.0</td>\n",
       "      <td>nan</td>\n",
       "    </tr>\n",
       "    <tr>\n",
       "      <th>47816</th>\n",
       "      <td>FC_TRA_E</td>\n",
       "      <td>W6100_6220</td>\n",
       "      <td>SK</td>\n",
       "      <td>2022</td>\n",
       "      <td>0.000</td>\n",
       "      <td>nan</td>\n",
       "      <td>Non-renewable waste</td>\n",
       "      <td>Final consumption - transport sector - energy use</td>\n",
       "      <td>5428792.0</td>\n",
       "      <td>nan</td>\n",
       "    </tr>\n",
       "  </tbody>\n",
       "</table>\n",
       "<p>47817 rows × 10 columns</p>\n",
       "</div>"
      ],
      "text/plain": [
       "        nrg_bal             siec geo  TIME_PERIOD  energy_consumption_gwh  \\\n",
       "0      FC_IND_E  C0000X0350-0370  AT         2000                4767.595   \n",
       "1      FC_IND_E  C0000X0350-0370  AT         2001                4103.286   \n",
       "2      FC_IND_E  C0000X0350-0370  AT         2002                4397.257   \n",
       "3      FC_IND_E  C0000X0350-0370  AT         2003                4253.855   \n",
       "4      FC_IND_E  C0000X0350-0370  AT         2004                4250.236   \n",
       "...         ...              ...  ..          ...                     ...   \n",
       "47812  FC_TRA_E       W6100_6220  SK         2018                   0.000   \n",
       "47813  FC_TRA_E       W6100_6220  SK         2019                   0.000   \n",
       "47814  FC_TRA_E       W6100_6220  SK         2020                   0.000   \n",
       "47815  FC_TRA_E       W6100_6220  SK         2021                   0.000   \n",
       "47816  FC_TRA_E       W6100_6220  SK         2022                   0.000   \n",
       "\n",
       "      OBS_FLAG_x           siec_label  \\\n",
       "0            nan   Solid fossil fuels   \n",
       "1            nan   Solid fossil fuels   \n",
       "2            nan   Solid fossil fuels   \n",
       "3            nan   Solid fossil fuels   \n",
       "4            nan   Solid fossil fuels   \n",
       "...          ...                  ...   \n",
       "47812        nan  Non-renewable waste   \n",
       "47813        nan  Non-renewable waste   \n",
       "47814        nan  Non-renewable waste   \n",
       "47815        nan  Non-renewable waste   \n",
       "47816        nan  Non-renewable waste   \n",
       "\n",
       "                                           nrg_bal_label  population  \\\n",
       "0       Final consumption - industry sector - energy use   8020946.0   \n",
       "1       Final consumption - industry sector - energy use   8063640.0   \n",
       "2       Final consumption - industry sector - energy use   8100273.0   \n",
       "3       Final consumption - industry sector - energy use   8142573.0   \n",
       "4       Final consumption - industry sector - energy use   8201359.0   \n",
       "...                                                  ...         ...   \n",
       "47812  Final consumption - transport sector - energy use   5450421.0   \n",
       "47813  Final consumption - transport sector - energy use   5457873.0   \n",
       "47814  Final consumption - transport sector - energy use   5459781.0   \n",
       "47815  Final consumption - transport sector - energy use   5434712.0   \n",
       "47816  Final consumption - transport sector - energy use   5428792.0   \n",
       "\n",
       "      OBS_FLAG_y  \n",
       "0            nan  \n",
       "1            nan  \n",
       "2            nan  \n",
       "3            nan  \n",
       "4            nan  \n",
       "...          ...  \n",
       "47812        nan  \n",
       "47813        nan  \n",
       "47814        nan  \n",
       "47815        nan  \n",
       "47816        nan  \n",
       "\n",
       "[47817 rows x 10 columns]"
      ]
     },
     "metadata": {},
     "output_type": "display_data"
    }
   ],
   "source": [
    "full_dataset = nrg_bal.data.merge(demo_pjan.data, on=['TIME_PERIOD', 'geo'], how='inner')\n",
    "full_dataset.rename(columns={'OBS_VALUE_x': 'energy_consumption_gwh', 'OBS_VALUE_y': 'population'}, inplace=True)\n",
    "\n",
    "display(full_dataset)"
   ]
  },
  {
   "cell_type": "code",
   "execution_count": 8,
   "metadata": {},
   "outputs": [
    {
     "data": {
      "text/html": [
       "<div>\n",
       "<style scoped>\n",
       "    .dataframe tbody tr th:only-of-type {\n",
       "        vertical-align: middle;\n",
       "    }\n",
       "\n",
       "    .dataframe tbody tr th {\n",
       "        vertical-align: top;\n",
       "    }\n",
       "\n",
       "    .dataframe thead th {\n",
       "        text-align: right;\n",
       "    }\n",
       "</style>\n",
       "<table border=\"1\" class=\"dataframe\">\n",
       "  <thead>\n",
       "    <tr style=\"text-align: right;\">\n",
       "      <th></th>\n",
       "      <th>TIME_PERIOD</th>\n",
       "      <th>geo</th>\n",
       "      <th>OBS_VALUE</th>\n",
       "    </tr>\n",
       "  </thead>\n",
       "  <tbody>\n",
       "    <tr>\n",
       "      <th>0</th>\n",
       "      <td>2000</td>\n",
       "      <td>AT</td>\n",
       "      <td>253652.509</td>\n",
       "    </tr>\n",
       "    <tr>\n",
       "      <th>1</th>\n",
       "      <td>2000</td>\n",
       "      <td>BE</td>\n",
       "      <td>391183.429</td>\n",
       "    </tr>\n",
       "    <tr>\n",
       "      <th>2</th>\n",
       "      <td>2000</td>\n",
       "      <td>BG</td>\n",
       "      <td>99956.574</td>\n",
       "    </tr>\n",
       "    <tr>\n",
       "      <th>3</th>\n",
       "      <td>2000</td>\n",
       "      <td>CY</td>\n",
       "      <td>15902.914</td>\n",
       "    </tr>\n",
       "    <tr>\n",
       "      <th>4</th>\n",
       "      <td>2000</td>\n",
       "      <td>CZ</td>\n",
       "      <td>279015.823</td>\n",
       "    </tr>\n",
       "    <tr>\n",
       "      <th>...</th>\n",
       "      <td>...</td>\n",
       "      <td>...</td>\n",
       "      <td>...</td>\n",
       "    </tr>\n",
       "    <tr>\n",
       "      <th>643</th>\n",
       "      <td>2023</td>\n",
       "      <td>PT</td>\n",
       "      <td>191520.346</td>\n",
       "    </tr>\n",
       "    <tr>\n",
       "      <th>644</th>\n",
       "      <td>2023</td>\n",
       "      <td>RO</td>\n",
       "      <td>271051.294</td>\n",
       "    </tr>\n",
       "    <tr>\n",
       "      <th>645</th>\n",
       "      <td>2023</td>\n",
       "      <td>SE</td>\n",
       "      <td>362765.904</td>\n",
       "    </tr>\n",
       "    <tr>\n",
       "      <th>646</th>\n",
       "      <td>2023</td>\n",
       "      <td>SI</td>\n",
       "      <td>52672.328</td>\n",
       "    </tr>\n",
       "    <tr>\n",
       "      <th>647</th>\n",
       "      <td>2023</td>\n",
       "      <td>SK</td>\n",
       "      <td>106826.694</td>\n",
       "    </tr>\n",
       "  </tbody>\n",
       "</table>\n",
       "<p>648 rows × 3 columns</p>\n",
       "</div>"
      ],
      "text/plain": [
       "     TIME_PERIOD geo   OBS_VALUE\n",
       "0           2000  AT  253652.509\n",
       "1           2000  BE  391183.429\n",
       "2           2000  BG   99956.574\n",
       "3           2000  CY   15902.914\n",
       "4           2000  CZ  279015.823\n",
       "..           ...  ..         ...\n",
       "643         2023  PT  191520.346\n",
       "644         2023  RO  271051.294\n",
       "645         2023  SE  362765.904\n",
       "646         2023  SI   52672.328\n",
       "647         2023  SK  106826.694\n",
       "\n",
       "[648 rows x 3 columns]"
      ]
     },
     "metadata": {},
     "output_type": "display_data"
    }
   ],
   "source": [
    "\n",
    "\n",
    "data_full_breakdown = nrg_bal.data\n",
    "\n",
    "data_by_energy_source = nrg_bal.data.groupby(['TIME_PERIOD', 'siec_label'])['OBS_VALUE'].sum().reset_index()\n",
    "# data_by_energy_source = calculate_energy_consumption_per_capita(data_by_energy_source)\n",
    "\n",
    "dataset_by_sector = nrg_bal.data.groupby(['TIME_PERIOD', 'nrg_bal_label'])['OBS_VALUE'].sum().reset_index()\n",
    "# dataset_by_sector = calculate_energy_consumption_per_capita(dataset_by_sector)\n",
    "\n",
    "dataset_by_country = nrg_bal.data.groupby(['TIME_PERIOD', 'geo'])['OBS_VALUE'].sum().reset_index()\n",
    "\n",
    "display(dataset_by_country)"
   ]
  },
  {
   "cell_type": "code",
   "execution_count": 9,
   "metadata": {},
   "outputs": [
    {
     "data": {
      "application/vnd.plotly.v1+json": {
       "config": {
        "plotlyServerURL": "https://plot.ly"
       },
       "data": [
        {
         "fillpattern": {
          "shape": ""
         },
         "hovertemplate": "siec_label=Electricity<br>TIME_PERIOD=%{x}<br>OBS_VALUE=%{y}<extra></extra>",
         "legendgroup": "Electricity",
         "line": {
          "color": "#636efa"
         },
         "marker": {
          "symbol": "circle"
         },
         "mode": "lines",
         "name": "Electricity",
         "orientation": "v",
         "showlegend": true,
         "stackgroup": "1",
         "type": "scatter",
         "x": [
          2000,
          2001,
          2002,
          2003,
          2004,
          2005,
          2006,
          2007,
          2008,
          2009,
          2010,
          2011,
          2012,
          2013,
          2014,
          2015,
          2016,
          2017,
          2018,
          2019,
          2020,
          2021,
          2022,
          2023
         ],
         "xaxis": "x",
         "y": [
          2197997.384,
          2259699.623,
          2287924.241,
          2350208.304,
          2405668.534,
          2435673.705,
          2487965.275,
          2507601.538,
          2521047.667,
          2392832.602,
          2510554.53,
          2475193.123,
          2483534.164,
          2460535.532,
          2408646.272,
          2449355.657,
          2480308.587,
          2504711.864,
          2504688.463,
          2477473.965,
          2382932.477,
          2489835.843,
          2406936.891,
          2329108.87
         ],
         "yaxis": "y"
        },
        {
         "fillpattern": {
          "shape": ""
         },
         "hovertemplate": "siec_label=Heat<br>TIME_PERIOD=%{x}<br>OBS_VALUE=%{y}<extra></extra>",
         "legendgroup": "Heat",
         "line": {
          "color": "#EF553B"
         },
         "marker": {
          "symbol": "circle"
         },
         "mode": "lines",
         "name": "Heat",
         "orientation": "v",
         "showlegend": true,
         "stackgroup": "1",
         "type": "scatter",
         "x": [
          2000,
          2001,
          2002,
          2003,
          2004,
          2005,
          2006,
          2007,
          2008,
          2009,
          2010,
          2011,
          2012,
          2013,
          2014,
          2015,
          2016,
          2017,
          2018,
          2019,
          2020,
          2021,
          2022,
          2023
         ],
         "xaxis": "x",
         "y": [
          498860.248,
          533479.534,
          523258.75299999997,
          569048.778,
          598797.902,
          596957.907,
          585135.986,
          557158.421,
          562107.805,
          551047.801,
          599805.639,
          547835.299,
          562478.848,
          562044.99,
          517471.121,
          524589.917,
          544986.947,
          547701.153,
          535445.624,
          534400.972,
          510442.772,
          530342.934,
          490482.546,
          467345.241
         ],
         "yaxis": "y"
        },
        {
         "fillpattern": {
          "shape": ""
         },
         "hovertemplate": "siec_label=Manufactured gases<br>TIME_PERIOD=%{x}<br>OBS_VALUE=%{y}<extra></extra>",
         "legendgroup": "Manufactured gases",
         "line": {
          "color": "#00cc96"
         },
         "marker": {
          "symbol": "circle"
         },
         "mode": "lines",
         "name": "Manufactured gases",
         "orientation": "v",
         "showlegend": true,
         "stackgroup": "1",
         "type": "scatter",
         "x": [
          2000,
          2001,
          2002,
          2003,
          2004,
          2005,
          2006,
          2007,
          2008,
          2009,
          2010,
          2011,
          2012,
          2013,
          2014,
          2015,
          2016,
          2017,
          2018,
          2019,
          2020,
          2021,
          2022,
          2023
         ],
         "xaxis": "x",
         "y": [
          93768.482,
          85046.226,
          81524.629,
          78116.795,
          80385.441,
          74935.156,
          75893.008,
          72400.921,
          68369.783,
          48548.922,
          59598.853,
          59530.405,
          60790.373999999996,
          57462.65,
          58203.476,
          57495.075,
          55381.051999999996,
          54266.635,
          56978.827,
          52149.383,
          47872.069,
          51997.079000000005,
          51013.613,
          49366.947
         ],
         "yaxis": "y"
        },
        {
         "fillpattern": {
          "shape": ""
         },
         "hovertemplate": "siec_label=Natural gas<br>TIME_PERIOD=%{x}<br>OBS_VALUE=%{y}<extra></extra>",
         "legendgroup": "Natural gas",
         "line": {
          "color": "#ab63fa"
         },
         "marker": {
          "symbol": "circle"
         },
         "mode": "lines",
         "name": "Natural gas",
         "orientation": "v",
         "showlegend": true,
         "stackgroup": "1",
         "type": "scatter",
         "x": [
          2000,
          2001,
          2002,
          2003,
          2004,
          2005,
          2006,
          2007,
          2008,
          2009,
          2010,
          2011,
          2012,
          2013,
          2014,
          2015,
          2016,
          2017,
          2018,
          2019,
          2020,
          2021,
          2022,
          2023
         ],
         "xaxis": "x",
         "y": [
          2385375.982,
          2477668.182,
          2455991.72,
          2550957.368,
          2551920.516,
          2590774.528,
          2533483.046,
          2416666.315,
          2460493.635,
          2317483.416,
          2532033.744,
          2326062.953,
          2383276.539,
          2438883.476,
          2166552.43,
          2245927.914,
          2336879.276,
          2354728.842,
          2354421.053,
          2323715.023,
          2266520.764,
          2496862.558,
          2143630.5979999998,
          2000442.238
         ],
         "yaxis": "y"
        },
        {
         "fillpattern": {
          "shape": ""
         },
         "hovertemplate": "siec_label=Non-renewable waste<br>TIME_PERIOD=%{x}<br>OBS_VALUE=%{y}<extra></extra>",
         "legendgroup": "Non-renewable waste",
         "line": {
          "color": "#FFA15A"
         },
         "marker": {
          "symbol": "circle"
         },
         "mode": "lines",
         "name": "Non-renewable waste",
         "orientation": "v",
         "showlegend": true,
         "stackgroup": "1",
         "type": "scatter",
         "x": [
          2000,
          2001,
          2002,
          2003,
          2004,
          2005,
          2006,
          2007,
          2008,
          2009,
          2010,
          2011,
          2012,
          2013,
          2014,
          2015,
          2016,
          2017,
          2018,
          2019,
          2020,
          2021,
          2022,
          2023
         ],
         "xaxis": "x",
         "y": [
          11562.901,
          11158.532,
          11721.292,
          15866.232,
          17608.439,
          15357.176,
          17350.514,
          19000.234,
          23971.207,
          27934.981,
          32039.898999999998,
          36817.788,
          36198.849,
          40274.312,
          42566.087,
          43262.89,
          48603.114,
          48721.712,
          53636.240000000005,
          55201.871,
          57573.843,
          58348.505,
          58950.082,
          56046.41
         ],
         "yaxis": "y"
        },
        {
         "fillpattern": {
          "shape": ""
         },
         "hovertemplate": "siec_label=Nuclear heat<br>TIME_PERIOD=%{x}<br>OBS_VALUE=%{y}<extra></extra>",
         "legendgroup": "Nuclear heat",
         "line": {
          "color": "#19d3f3"
         },
         "marker": {
          "symbol": "circle"
         },
         "mode": "lines",
         "name": "Nuclear heat",
         "orientation": "v",
         "showlegend": true,
         "stackgroup": "1",
         "type": "scatter",
         "x": [
          2000,
          2001,
          2002,
          2003,
          2004,
          2005,
          2006,
          2007,
          2008,
          2009,
          2010,
          2011,
          2012,
          2013,
          2014,
          2015,
          2016,
          2017,
          2018,
          2019,
          2020,
          2021,
          2022,
          2023
         ],
         "xaxis": "x",
         "y": [
          0,
          0,
          0,
          0,
          0,
          0,
          0,
          0,
          0,
          0,
          0,
          0,
          0,
          0,
          0,
          0,
          0,
          0,
          0,
          0,
          0,
          0,
          0,
          0
         ],
         "yaxis": "y"
        },
        {
         "fillpattern": {
          "shape": ""
         },
         "hovertemplate": "siec_label=Oil and petroleum products (excluding biofuel portion)<br>TIME_PERIOD=%{x}<br>OBS_VALUE=%{y}<extra></extra>",
         "legendgroup": "Oil and petroleum products (excluding biofuel portion)",
         "line": {
          "color": "#FF6692"
         },
         "marker": {
          "symbol": "circle"
         },
         "mode": "lines",
         "name": "Oil and petroleum products (excluding biofuel portion)",
         "orientation": "v",
         "showlegend": true,
         "stackgroup": "1",
         "type": "scatter",
         "x": [
          2000,
          2001,
          2002,
          2003,
          2004,
          2005,
          2006,
          2007,
          2008,
          2009,
          2010,
          2011,
          2012,
          2013,
          2014,
          2015,
          2016,
          2017,
          2018,
          2019,
          2020,
          2021,
          2022,
          2023
         ],
         "xaxis": "x",
         "y": [
          4617722.593,
          4738821.663,
          4684968.202,
          4743577.772,
          4753738.557,
          4716098.736,
          4699138.43,
          4544212.731,
          4540049.092,
          4315295.555,
          4262828.604,
          4144339.385,
          3990185.486,
          3945492.816,
          3883416.517,
          3945609.283,
          3996859.856,
          4029518.63,
          4012541.046,
          4027753.326,
          3607585.124,
          3798177.155,
          3870672.85,
          3803916.734
         ],
         "yaxis": "y"
        },
        {
         "fillpattern": {
          "shape": ""
         },
         "hovertemplate": "siec_label=Oil shale and oil sands<br>TIME_PERIOD=%{x}<br>OBS_VALUE=%{y}<extra></extra>",
         "legendgroup": "Oil shale and oil sands",
         "line": {
          "color": "#B6E880"
         },
         "marker": {
          "symbol": "circle"
         },
         "mode": "lines",
         "name": "Oil shale and oil sands",
         "orientation": "v",
         "showlegend": true,
         "stackgroup": "1",
         "type": "scatter",
         "x": [
          2000,
          2001,
          2002,
          2003,
          2004,
          2005,
          2006,
          2007,
          2008,
          2009,
          2010,
          2011,
          2012,
          2013,
          2014,
          2015,
          2016,
          2017,
          2018,
          2019,
          2020,
          2021,
          2022,
          2023
         ],
         "xaxis": "x",
         "y": [
          701.395,
          686.529,
          588.457,
          508.552,
          546.966,
          781.715,
          605.358,
          866,
          815.384,
          377.316,
          512.455,
          607.308,
          482.885,
          421.864,
          394.383,
          174.001,
          113.255,
          232.376,
          260.775,
          231.218,
          16.044,
          0,
          0,
          0
         ],
         "yaxis": "y"
        },
        {
         "fillpattern": {
          "shape": ""
         },
         "hovertemplate": "siec_label=Peat and peat products<br>TIME_PERIOD=%{x}<br>OBS_VALUE=%{y}<extra></extra>",
         "legendgroup": "Peat and peat products",
         "line": {
          "color": "#FF97FF"
         },
         "marker": {
          "symbol": "circle"
         },
         "mode": "lines",
         "name": "Peat and peat products",
         "orientation": "v",
         "showlegend": true,
         "stackgroup": "1",
         "type": "scatter",
         "x": [
          2000,
          2001,
          2002,
          2003,
          2004,
          2005,
          2006,
          2007,
          2008,
          2009,
          2010,
          2011,
          2012,
          2013,
          2014,
          2015,
          2016,
          2017,
          2018,
          2019,
          2020,
          2021,
          2022,
          2023
         ],
         "xaxis": "x",
         "y": [
          7669.125,
          7771.179999999999,
          7487.498,
          7328.718,
          6638.1179999999995,
          6650.05,
          7527.656,
          7512.235000000001,
          7506.116,
          6660.688,
          7016.294,
          6689.866,
          5947.246,
          5708.083,
          5625.018,
          5342.1939999999995,
          5189.062,
          5031.821,
          5374.3679999999995,
          5062.8949999999995,
          4409.243,
          4164.732,
          3545.795,
          2941.09
         ],
         "yaxis": "y"
        },
        {
         "fillpattern": {
          "shape": ""
         },
         "hovertemplate": "siec_label=Renewables and biofuels<br>TIME_PERIOD=%{x}<br>OBS_VALUE=%{y}<extra></extra>",
         "legendgroup": "Renewables and biofuels",
         "line": {
          "color": "#FECB52"
         },
         "marker": {
          "symbol": "circle"
         },
         "mode": "lines",
         "name": "Renewables and biofuels",
         "orientation": "v",
         "showlegend": true,
         "stackgroup": "1",
         "type": "scatter",
         "x": [
          2000,
          2001,
          2002,
          2003,
          2004,
          2005,
          2006,
          2007,
          2008,
          2009,
          2010,
          2011,
          2012,
          2013,
          2014,
          2015,
          2016,
          2017,
          2018,
          2019,
          2020,
          2021,
          2022,
          2023
         ],
         "xaxis": "x",
         "y": [
          567609.138,
          569480.014,
          582909.412,
          646251.9,
          656266.96,
          705745.888,
          758994.14,
          831745.08,
          888670.143,
          919376.11,
          1005604.281,
          971346.85,
          1047886.562,
          1054256.393,
          1011561.549,
          1053626.193,
          1069527.624,
          1140943.342,
          1197989.318,
          1216002.355,
          1207846.864,
          1292307.837,
          1281779.892,
          1284391.984
         ],
         "yaxis": "y"
        },
        {
         "fillpattern": {
          "shape": ""
         },
         "hovertemplate": "siec_label=Solid fossil fuels<br>TIME_PERIOD=%{x}<br>OBS_VALUE=%{y}<extra></extra>",
         "legendgroup": "Solid fossil fuels",
         "line": {
          "color": "#636efa"
         },
         "marker": {
          "symbol": "circle"
         },
         "mode": "lines",
         "name": "Solid fossil fuels",
         "orientation": "v",
         "showlegend": true,
         "stackgroup": "1",
         "type": "scatter",
         "x": [
          2000,
          2001,
          2002,
          2003,
          2004,
          2005,
          2006,
          2007,
          2008,
          2009,
          2010,
          2011,
          2012,
          2013,
          2014,
          2015,
          2016,
          2017,
          2018,
          2019,
          2020,
          2021,
          2022,
          2023
         ],
         "xaxis": "x",
         "y": [
          389064.319,
          370125.378,
          350049.61600000004,
          354760.43200000003,
          342861.38,
          331887.111,
          346980.66599999997,
          339212.298,
          332047.01,
          296761.549,
          316520.297,
          313003.767,
          301962.641,
          288509.27400000003,
          270264.533,
          273329.685,
          276131.668,
          278179.199,
          263198.844,
          230364.939,
          222520.053,
          218687.941,
          195071.789,
          169641.502
         ],
         "yaxis": "y"
        }
       ],
       "layout": {
        "legend": {
         "title": {
          "text": "siec_label"
         },
         "tracegroupgap": 0
        },
        "margin": {
         "t": 60
        },
        "template": {
         "data": {
          "bar": [
           {
            "error_x": {
             "color": "#2a3f5f"
            },
            "error_y": {
             "color": "#2a3f5f"
            },
            "marker": {
             "line": {
              "color": "#E5ECF6",
              "width": 0.5
             },
             "pattern": {
              "fillmode": "overlay",
              "size": 10,
              "solidity": 0.2
             }
            },
            "type": "bar"
           }
          ],
          "barpolar": [
           {
            "marker": {
             "line": {
              "color": "#E5ECF6",
              "width": 0.5
             },
             "pattern": {
              "fillmode": "overlay",
              "size": 10,
              "solidity": 0.2
             }
            },
            "type": "barpolar"
           }
          ],
          "carpet": [
           {
            "aaxis": {
             "endlinecolor": "#2a3f5f",
             "gridcolor": "white",
             "linecolor": "white",
             "minorgridcolor": "white",
             "startlinecolor": "#2a3f5f"
            },
            "baxis": {
             "endlinecolor": "#2a3f5f",
             "gridcolor": "white",
             "linecolor": "white",
             "minorgridcolor": "white",
             "startlinecolor": "#2a3f5f"
            },
            "type": "carpet"
           }
          ],
          "choropleth": [
           {
            "colorbar": {
             "outlinewidth": 0,
             "ticks": ""
            },
            "type": "choropleth"
           }
          ],
          "contour": [
           {
            "colorbar": {
             "outlinewidth": 0,
             "ticks": ""
            },
            "colorscale": [
             [
              0,
              "#0d0887"
             ],
             [
              0.1111111111111111,
              "#46039f"
             ],
             [
              0.2222222222222222,
              "#7201a8"
             ],
             [
              0.3333333333333333,
              "#9c179e"
             ],
             [
              0.4444444444444444,
              "#bd3786"
             ],
             [
              0.5555555555555556,
              "#d8576b"
             ],
             [
              0.6666666666666666,
              "#ed7953"
             ],
             [
              0.7777777777777778,
              "#fb9f3a"
             ],
             [
              0.8888888888888888,
              "#fdca26"
             ],
             [
              1,
              "#f0f921"
             ]
            ],
            "type": "contour"
           }
          ],
          "contourcarpet": [
           {
            "colorbar": {
             "outlinewidth": 0,
             "ticks": ""
            },
            "type": "contourcarpet"
           }
          ],
          "heatmap": [
           {
            "colorbar": {
             "outlinewidth": 0,
             "ticks": ""
            },
            "colorscale": [
             [
              0,
              "#0d0887"
             ],
             [
              0.1111111111111111,
              "#46039f"
             ],
             [
              0.2222222222222222,
              "#7201a8"
             ],
             [
              0.3333333333333333,
              "#9c179e"
             ],
             [
              0.4444444444444444,
              "#bd3786"
             ],
             [
              0.5555555555555556,
              "#d8576b"
             ],
             [
              0.6666666666666666,
              "#ed7953"
             ],
             [
              0.7777777777777778,
              "#fb9f3a"
             ],
             [
              0.8888888888888888,
              "#fdca26"
             ],
             [
              1,
              "#f0f921"
             ]
            ],
            "type": "heatmap"
           }
          ],
          "heatmapgl": [
           {
            "colorbar": {
             "outlinewidth": 0,
             "ticks": ""
            },
            "colorscale": [
             [
              0,
              "#0d0887"
             ],
             [
              0.1111111111111111,
              "#46039f"
             ],
             [
              0.2222222222222222,
              "#7201a8"
             ],
             [
              0.3333333333333333,
              "#9c179e"
             ],
             [
              0.4444444444444444,
              "#bd3786"
             ],
             [
              0.5555555555555556,
              "#d8576b"
             ],
             [
              0.6666666666666666,
              "#ed7953"
             ],
             [
              0.7777777777777778,
              "#fb9f3a"
             ],
             [
              0.8888888888888888,
              "#fdca26"
             ],
             [
              1,
              "#f0f921"
             ]
            ],
            "type": "heatmapgl"
           }
          ],
          "histogram": [
           {
            "marker": {
             "pattern": {
              "fillmode": "overlay",
              "size": 10,
              "solidity": 0.2
             }
            },
            "type": "histogram"
           }
          ],
          "histogram2d": [
           {
            "colorbar": {
             "outlinewidth": 0,
             "ticks": ""
            },
            "colorscale": [
             [
              0,
              "#0d0887"
             ],
             [
              0.1111111111111111,
              "#46039f"
             ],
             [
              0.2222222222222222,
              "#7201a8"
             ],
             [
              0.3333333333333333,
              "#9c179e"
             ],
             [
              0.4444444444444444,
              "#bd3786"
             ],
             [
              0.5555555555555556,
              "#d8576b"
             ],
             [
              0.6666666666666666,
              "#ed7953"
             ],
             [
              0.7777777777777778,
              "#fb9f3a"
             ],
             [
              0.8888888888888888,
              "#fdca26"
             ],
             [
              1,
              "#f0f921"
             ]
            ],
            "type": "histogram2d"
           }
          ],
          "histogram2dcontour": [
           {
            "colorbar": {
             "outlinewidth": 0,
             "ticks": ""
            },
            "colorscale": [
             [
              0,
              "#0d0887"
             ],
             [
              0.1111111111111111,
              "#46039f"
             ],
             [
              0.2222222222222222,
              "#7201a8"
             ],
             [
              0.3333333333333333,
              "#9c179e"
             ],
             [
              0.4444444444444444,
              "#bd3786"
             ],
             [
              0.5555555555555556,
              "#d8576b"
             ],
             [
              0.6666666666666666,
              "#ed7953"
             ],
             [
              0.7777777777777778,
              "#fb9f3a"
             ],
             [
              0.8888888888888888,
              "#fdca26"
             ],
             [
              1,
              "#f0f921"
             ]
            ],
            "type": "histogram2dcontour"
           }
          ],
          "mesh3d": [
           {
            "colorbar": {
             "outlinewidth": 0,
             "ticks": ""
            },
            "type": "mesh3d"
           }
          ],
          "parcoords": [
           {
            "line": {
             "colorbar": {
              "outlinewidth": 0,
              "ticks": ""
             }
            },
            "type": "parcoords"
           }
          ],
          "pie": [
           {
            "automargin": true,
            "type": "pie"
           }
          ],
          "scatter": [
           {
            "fillpattern": {
             "fillmode": "overlay",
             "size": 10,
             "solidity": 0.2
            },
            "type": "scatter"
           }
          ],
          "scatter3d": [
           {
            "line": {
             "colorbar": {
              "outlinewidth": 0,
              "ticks": ""
             }
            },
            "marker": {
             "colorbar": {
              "outlinewidth": 0,
              "ticks": ""
             }
            },
            "type": "scatter3d"
           }
          ],
          "scattercarpet": [
           {
            "marker": {
             "colorbar": {
              "outlinewidth": 0,
              "ticks": ""
             }
            },
            "type": "scattercarpet"
           }
          ],
          "scattergeo": [
           {
            "marker": {
             "colorbar": {
              "outlinewidth": 0,
              "ticks": ""
             }
            },
            "type": "scattergeo"
           }
          ],
          "scattergl": [
           {
            "marker": {
             "colorbar": {
              "outlinewidth": 0,
              "ticks": ""
             }
            },
            "type": "scattergl"
           }
          ],
          "scattermapbox": [
           {
            "marker": {
             "colorbar": {
              "outlinewidth": 0,
              "ticks": ""
             }
            },
            "type": "scattermapbox"
           }
          ],
          "scatterpolar": [
           {
            "marker": {
             "colorbar": {
              "outlinewidth": 0,
              "ticks": ""
             }
            },
            "type": "scatterpolar"
           }
          ],
          "scatterpolargl": [
           {
            "marker": {
             "colorbar": {
              "outlinewidth": 0,
              "ticks": ""
             }
            },
            "type": "scatterpolargl"
           }
          ],
          "scatterternary": [
           {
            "marker": {
             "colorbar": {
              "outlinewidth": 0,
              "ticks": ""
             }
            },
            "type": "scatterternary"
           }
          ],
          "surface": [
           {
            "colorbar": {
             "outlinewidth": 0,
             "ticks": ""
            },
            "colorscale": [
             [
              0,
              "#0d0887"
             ],
             [
              0.1111111111111111,
              "#46039f"
             ],
             [
              0.2222222222222222,
              "#7201a8"
             ],
             [
              0.3333333333333333,
              "#9c179e"
             ],
             [
              0.4444444444444444,
              "#bd3786"
             ],
             [
              0.5555555555555556,
              "#d8576b"
             ],
             [
              0.6666666666666666,
              "#ed7953"
             ],
             [
              0.7777777777777778,
              "#fb9f3a"
             ],
             [
              0.8888888888888888,
              "#fdca26"
             ],
             [
              1,
              "#f0f921"
             ]
            ],
            "type": "surface"
           }
          ],
          "table": [
           {
            "cells": {
             "fill": {
              "color": "#EBF0F8"
             },
             "line": {
              "color": "white"
             }
            },
            "header": {
             "fill": {
              "color": "#C8D4E3"
             },
             "line": {
              "color": "white"
             }
            },
            "type": "table"
           }
          ]
         },
         "layout": {
          "annotationdefaults": {
           "arrowcolor": "#2a3f5f",
           "arrowhead": 0,
           "arrowwidth": 1
          },
          "autotypenumbers": "strict",
          "coloraxis": {
           "colorbar": {
            "outlinewidth": 0,
            "ticks": ""
           }
          },
          "colorscale": {
           "diverging": [
            [
             0,
             "#8e0152"
            ],
            [
             0.1,
             "#c51b7d"
            ],
            [
             0.2,
             "#de77ae"
            ],
            [
             0.3,
             "#f1b6da"
            ],
            [
             0.4,
             "#fde0ef"
            ],
            [
             0.5,
             "#f7f7f7"
            ],
            [
             0.6,
             "#e6f5d0"
            ],
            [
             0.7,
             "#b8e186"
            ],
            [
             0.8,
             "#7fbc41"
            ],
            [
             0.9,
             "#4d9221"
            ],
            [
             1,
             "#276419"
            ]
           ],
           "sequential": [
            [
             0,
             "#0d0887"
            ],
            [
             0.1111111111111111,
             "#46039f"
            ],
            [
             0.2222222222222222,
             "#7201a8"
            ],
            [
             0.3333333333333333,
             "#9c179e"
            ],
            [
             0.4444444444444444,
             "#bd3786"
            ],
            [
             0.5555555555555556,
             "#d8576b"
            ],
            [
             0.6666666666666666,
             "#ed7953"
            ],
            [
             0.7777777777777778,
             "#fb9f3a"
            ],
            [
             0.8888888888888888,
             "#fdca26"
            ],
            [
             1,
             "#f0f921"
            ]
           ],
           "sequentialminus": [
            [
             0,
             "#0d0887"
            ],
            [
             0.1111111111111111,
             "#46039f"
            ],
            [
             0.2222222222222222,
             "#7201a8"
            ],
            [
             0.3333333333333333,
             "#9c179e"
            ],
            [
             0.4444444444444444,
             "#bd3786"
            ],
            [
             0.5555555555555556,
             "#d8576b"
            ],
            [
             0.6666666666666666,
             "#ed7953"
            ],
            [
             0.7777777777777778,
             "#fb9f3a"
            ],
            [
             0.8888888888888888,
             "#fdca26"
            ],
            [
             1,
             "#f0f921"
            ]
           ]
          },
          "colorway": [
           "#636efa",
           "#EF553B",
           "#00cc96",
           "#ab63fa",
           "#FFA15A",
           "#19d3f3",
           "#FF6692",
           "#B6E880",
           "#FF97FF",
           "#FECB52"
          ],
          "font": {
           "color": "#2a3f5f"
          },
          "geo": {
           "bgcolor": "white",
           "lakecolor": "white",
           "landcolor": "#E5ECF6",
           "showlakes": true,
           "showland": true,
           "subunitcolor": "white"
          },
          "hoverlabel": {
           "align": "left"
          },
          "hovermode": "closest",
          "mapbox": {
           "style": "light"
          },
          "paper_bgcolor": "white",
          "plot_bgcolor": "#E5ECF6",
          "polar": {
           "angularaxis": {
            "gridcolor": "white",
            "linecolor": "white",
            "ticks": ""
           },
           "bgcolor": "#E5ECF6",
           "radialaxis": {
            "gridcolor": "white",
            "linecolor": "white",
            "ticks": ""
           }
          },
          "scene": {
           "xaxis": {
            "backgroundcolor": "#E5ECF6",
            "gridcolor": "white",
            "gridwidth": 2,
            "linecolor": "white",
            "showbackground": true,
            "ticks": "",
            "zerolinecolor": "white"
           },
           "yaxis": {
            "backgroundcolor": "#E5ECF6",
            "gridcolor": "white",
            "gridwidth": 2,
            "linecolor": "white",
            "showbackground": true,
            "ticks": "",
            "zerolinecolor": "white"
           },
           "zaxis": {
            "backgroundcolor": "#E5ECF6",
            "gridcolor": "white",
            "gridwidth": 2,
            "linecolor": "white",
            "showbackground": true,
            "ticks": "",
            "zerolinecolor": "white"
           }
          },
          "shapedefaults": {
           "line": {
            "color": "#2a3f5f"
           }
          },
          "ternary": {
           "aaxis": {
            "gridcolor": "white",
            "linecolor": "white",
            "ticks": ""
           },
           "baxis": {
            "gridcolor": "white",
            "linecolor": "white",
            "ticks": ""
           },
           "bgcolor": "#E5ECF6",
           "caxis": {
            "gridcolor": "white",
            "linecolor": "white",
            "ticks": ""
           }
          },
          "title": {
           "x": 0.05
          },
          "xaxis": {
           "automargin": true,
           "gridcolor": "white",
           "linecolor": "white",
           "ticks": "",
           "title": {
            "standoff": 15
           },
           "zerolinecolor": "white",
           "zerolinewidth": 2
          },
          "yaxis": {
           "automargin": true,
           "gridcolor": "white",
           "linecolor": "white",
           "ticks": "",
           "title": {
            "standoff": 15
           },
           "zerolinecolor": "white",
           "zerolinewidth": 2
          }
         }
        },
        "xaxis": {
         "anchor": "y",
         "domain": [
          0,
          1
         ],
         "title": {
          "text": "TIME_PERIOD"
         }
        },
        "yaxis": {
         "anchor": "x",
         "domain": [
          0,
          1
         ],
         "title": {
          "text": "OBS_VALUE"
         }
        }
       }
      }
     },
     "metadata": {},
     "output_type": "display_data"
    }
   ],
   "source": [
    "fig = px.area(data_by_energy_source, x='TIME_PERIOD', y='OBS_VALUE', color='siec_label')\n",
    "fig.show()"
   ]
  },
  {
   "cell_type": "code",
   "execution_count": 10,
   "metadata": {},
   "outputs": [
    {
     "data": {
      "application/vnd.plotly.v1+json": {
       "config": {
        "plotlyServerURL": "https://plot.ly"
       },
       "data": [
        {
         "fillpattern": {
          "shape": ""
         },
         "hovertemplate": "nrg_bal_label=Final consumption - industry sector - energy use<br>TIME_PERIOD=%{x}<br>OBS_VALUE=%{y}<extra></extra>",
         "legendgroup": "Final consumption - industry sector - energy use",
         "line": {
          "color": "#636efa"
         },
         "marker": {
          "symbol": "circle"
         },
         "mode": "lines",
         "name": "Final consumption - industry sector - energy use",
         "orientation": "v",
         "showlegend": true,
         "stackgroup": "1",
         "type": "scatter",
         "x": [
          2000,
          2001,
          2002,
          2003,
          2004,
          2005,
          2006,
          2007,
          2008,
          2009,
          2010,
          2011,
          2012,
          2013,
          2014,
          2015,
          2016,
          2017,
          2018,
          2019,
          2020,
          2021,
          2022,
          2023
         ],
         "xaxis": "x",
         "y": [
          3151412.662,
          3146383.856,
          3133307.643,
          3205872.648,
          3197802.911,
          3199760.075,
          3135314.858,
          3190214.632,
          3083598.397,
          2665671.818,
          2836129.268,
          2844496.133,
          2789316.222,
          2756162.433,
          2716074.381,
          2724845.534,
          2774875.633,
          2800981.377,
          2824506.148,
          2795445.975,
          2695600.438,
          2821463.665,
          2638401.511,
          2496055.658
         ],
         "yaxis": "y"
        },
        {
         "fillpattern": {
          "shape": ""
         },
         "hovertemplate": "nrg_bal_label=Final consumption - other sectors - agriculture and forestry - energy use<br>TIME_PERIOD=%{x}<br>OBS_VALUE=%{y}<extra></extra>",
         "legendgroup": "Final consumption - other sectors - agriculture and forestry - energy use",
         "line": {
          "color": "#EF553B"
         },
         "marker": {
          "symbol": "circle"
         },
         "mode": "lines",
         "name": "Final consumption - other sectors - agriculture and forestry - energy use",
         "orientation": "v",
         "showlegend": true,
         "stackgroup": "1",
         "type": "scatter",
         "x": [
          2000,
          2001,
          2002,
          2003,
          2004,
          2005,
          2006,
          2007,
          2008,
          2009,
          2010,
          2011,
          2012,
          2013,
          2014,
          2015,
          2016,
          2017,
          2018,
          2019,
          2020,
          2021,
          2022,
          2023
         ],
         "xaxis": "x",
         "y": [
          312987.555,
          305411.222,
          295749.888,
          301425.86100000003,
          314101.817,
          313883.567,
          294793.234,
          288941.646,
          287496.195,
          280341.661,
          296754.404,
          290500.589,
          287439.297,
          292123.084,
          285573.522,
          285866.966,
          290979.275,
          295095.552,
          322488.69399999996,
          326639.548,
          330336.551,
          334168.74,
          310925.045,
          307471.221
         ],
         "yaxis": "y"
        },
        {
         "fillpattern": {
          "shape": ""
         },
         "hovertemplate": "nrg_bal_label=Final consumption - other sectors - commercial and public services - energy use<br>TIME_PERIOD=%{x}<br>OBS_VALUE=%{y}<extra></extra>",
         "legendgroup": "Final consumption - other sectors - commercial and public services - energy use",
         "line": {
          "color": "#00cc96"
         },
         "marker": {
          "symbol": "circle"
         },
         "mode": "lines",
         "name": "Final consumption - other sectors - commercial and public services - energy use",
         "orientation": "v",
         "showlegend": true,
         "stackgroup": "1",
         "type": "scatter",
         "x": [
          2000,
          2001,
          2002,
          2003,
          2004,
          2005,
          2006,
          2007,
          2008,
          2009,
          2010,
          2011,
          2012,
          2013,
          2014,
          2015,
          2016,
          2017,
          2018,
          2019,
          2020,
          2021,
          2022,
          2023
         ],
         "xaxis": "x",
         "y": [
          1218274.986,
          1292961.565,
          1279414.8429999999,
          1432405.382,
          1470076.018,
          1488351.864,
          1546795.804,
          1468733.751,
          1560377.915,
          1562289.94,
          1627838.5760000001,
          1488933.186,
          1522047.889,
          1539105.172,
          1437810.589,
          1497174.74,
          1510302.502,
          1555843.1060000001,
          1530719.344,
          1492593.309,
          1409532.633,
          1507381.444,
          1407855.53,
          1372095.899
         ],
         "yaxis": "y"
        },
        {
         "fillpattern": {
          "shape": ""
         },
         "hovertemplate": "nrg_bal_label=Final consumption - other sectors - fishing - energy use<br>TIME_PERIOD=%{x}<br>OBS_VALUE=%{y}<extra></extra>",
         "legendgroup": "Final consumption - other sectors - fishing - energy use",
         "line": {
          "color": "#ab63fa"
         },
         "marker": {
          "symbol": "circle"
         },
         "mode": "lines",
         "name": "Final consumption - other sectors - fishing - energy use",
         "orientation": "v",
         "showlegend": true,
         "stackgroup": "1",
         "type": "scatter",
         "x": [
          2000,
          2001,
          2002,
          2003,
          2004,
          2005,
          2006,
          2007,
          2008,
          2009,
          2010,
          2011,
          2012,
          2013,
          2014,
          2015,
          2016,
          2017,
          2018,
          2019,
          2020,
          2021,
          2022,
          2023
         ],
         "xaxis": "x",
         "y": [
          17683.496,
          18369.665,
          17075.422,
          16986.865,
          17071.201,
          16960.367000000002,
          16010.248000000001,
          15277.186,
          14207.863,
          14789.867,
          14296.214,
          13751.726,
          13810.374,
          14310.634,
          14336.684,
          15409.421,
          15318.956,
          15243.65,
          16199.494,
          15597.880000000001,
          15699.203,
          16235.555,
          15919.545,
          16008.291
         ],
         "yaxis": "y"
        },
        {
         "fillpattern": {
          "shape": ""
         },
         "hovertemplate": "nrg_bal_label=Final consumption - other sectors - households - energy use<br>TIME_PERIOD=%{x}<br>OBS_VALUE=%{y}<extra></extra>",
         "legendgroup": "Final consumption - other sectors - households - energy use",
         "line": {
          "color": "#FFA15A"
         },
         "marker": {
          "symbol": "circle"
         },
         "mode": "lines",
         "name": "Final consumption - other sectors - households - energy use",
         "orientation": "v",
         "showlegend": true,
         "stackgroup": "1",
         "type": "scatter",
         "x": [
          2000,
          2001,
          2002,
          2003,
          2004,
          2005,
          2006,
          2007,
          2008,
          2009,
          2010,
          2011,
          2012,
          2013,
          2014,
          2015,
          2016,
          2017,
          2018,
          2019,
          2020,
          2021,
          2022,
          2023
         ],
         "xaxis": "x",
         "y": [
          2890766.177,
          3045105.797,
          2981283.932,
          3084583.308,
          3062824.227,
          3097288.9,
          3086482.099,
          2898574.295,
          3073338.976,
          3051492.079,
          3252199.704,
          2938811.894,
          3072709.355,
          3108131.802,
          2731242.899,
          2857902.208,
          2934068.173,
          2941572.091,
          2917142.365,
          2889492.4359999998,
          2887646.867,
          3047113.317,
          2817963.291,
          2670091.74
         ],
         "yaxis": "y"
        },
        {
         "fillpattern": {
          "shape": ""
         },
         "hovertemplate": "nrg_bal_label=Final consumption - other sectors - not elsewhere specified - energy use<br>TIME_PERIOD=%{x}<br>OBS_VALUE=%{y}<extra></extra>",
         "legendgroup": "Final consumption - other sectors - not elsewhere specified - energy use",
         "line": {
          "color": "#19d3f3"
         },
         "marker": {
          "symbol": "circle"
         },
         "mode": "lines",
         "name": "Final consumption - other sectors - not elsewhere specified - energy use",
         "orientation": "v",
         "showlegend": true,
         "stackgroup": "1",
         "type": "scatter",
         "x": [
          2000,
          2001,
          2002,
          2003,
          2004,
          2005,
          2006,
          2007,
          2008,
          2009,
          2010,
          2011,
          2012,
          2013,
          2014,
          2015,
          2016,
          2017,
          2018,
          2019,
          2020,
          2021,
          2022,
          2023
         ],
         "xaxis": "x",
         "y": [
          121768.056,
          131717.036,
          132834.638,
          84505.775,
          82812.383,
          83844.188,
          93344.053,
          40651.635,
          37977.799,
          37917.890999999996,
          43055.941,
          48775.047,
          49152.822,
          47307.96,
          47265.932,
          41847.407,
          39209.308,
          39347.362,
          40062.378,
          39552.814,
          41998.111,
          43593.231999999996,
          47661.041999999994,
          49158.115
         ],
         "yaxis": "y"
        },
        {
         "fillpattern": {
          "shape": ""
         },
         "hovertemplate": "nrg_bal_label=Final consumption - transport sector - energy use<br>TIME_PERIOD=%{x}<br>OBS_VALUE=%{y}<extra></extra>",
         "legendgroup": "Final consumption - transport sector - energy use",
         "line": {
          "color": "#FF6692"
         },
         "marker": {
          "symbol": "circle"
         },
         "mode": "lines",
         "name": "Final consumption - transport sector - energy use",
         "orientation": "v",
         "showlegend": true,
         "stackgroup": "1",
         "type": "scatter",
         "x": [
          2000,
          2001,
          2002,
          2003,
          2004,
          2005,
          2006,
          2007,
          2008,
          2009,
          2010,
          2011,
          2012,
          2013,
          2014,
          2015,
          2016,
          2017,
          2018,
          2019,
          2020,
          2021,
          2022,
          2023
         ],
         "xaxis": "x",
         "y": [
          3057438.6350000002,
          3113987.72,
          3146757.454,
          3190845.012,
          3269744.256,
          3274773.011,
          3340333.783,
          3393982.628,
          3348080.697,
          3263815.684,
          3256240.489,
          3256158.169,
          3138267.635,
          3096448.305,
          3132397.3789999997,
          3175666.533,
          3249226.594,
          3315952.4359999998,
          3333416.135,
          3363033.985,
          2926905.4499999997,
          3170768.631,
          3263358.092,
          3252320.092
         ],
         "yaxis": "y"
        }
       ],
       "layout": {
        "legend": {
         "title": {
          "text": "nrg_bal_label"
         },
         "tracegroupgap": 0
        },
        "margin": {
         "t": 60
        },
        "template": {
         "data": {
          "bar": [
           {
            "error_x": {
             "color": "#2a3f5f"
            },
            "error_y": {
             "color": "#2a3f5f"
            },
            "marker": {
             "line": {
              "color": "#E5ECF6",
              "width": 0.5
             },
             "pattern": {
              "fillmode": "overlay",
              "size": 10,
              "solidity": 0.2
             }
            },
            "type": "bar"
           }
          ],
          "barpolar": [
           {
            "marker": {
             "line": {
              "color": "#E5ECF6",
              "width": 0.5
             },
             "pattern": {
              "fillmode": "overlay",
              "size": 10,
              "solidity": 0.2
             }
            },
            "type": "barpolar"
           }
          ],
          "carpet": [
           {
            "aaxis": {
             "endlinecolor": "#2a3f5f",
             "gridcolor": "white",
             "linecolor": "white",
             "minorgridcolor": "white",
             "startlinecolor": "#2a3f5f"
            },
            "baxis": {
             "endlinecolor": "#2a3f5f",
             "gridcolor": "white",
             "linecolor": "white",
             "minorgridcolor": "white",
             "startlinecolor": "#2a3f5f"
            },
            "type": "carpet"
           }
          ],
          "choropleth": [
           {
            "colorbar": {
             "outlinewidth": 0,
             "ticks": ""
            },
            "type": "choropleth"
           }
          ],
          "contour": [
           {
            "colorbar": {
             "outlinewidth": 0,
             "ticks": ""
            },
            "colorscale": [
             [
              0,
              "#0d0887"
             ],
             [
              0.1111111111111111,
              "#46039f"
             ],
             [
              0.2222222222222222,
              "#7201a8"
             ],
             [
              0.3333333333333333,
              "#9c179e"
             ],
             [
              0.4444444444444444,
              "#bd3786"
             ],
             [
              0.5555555555555556,
              "#d8576b"
             ],
             [
              0.6666666666666666,
              "#ed7953"
             ],
             [
              0.7777777777777778,
              "#fb9f3a"
             ],
             [
              0.8888888888888888,
              "#fdca26"
             ],
             [
              1,
              "#f0f921"
             ]
            ],
            "type": "contour"
           }
          ],
          "contourcarpet": [
           {
            "colorbar": {
             "outlinewidth": 0,
             "ticks": ""
            },
            "type": "contourcarpet"
           }
          ],
          "heatmap": [
           {
            "colorbar": {
             "outlinewidth": 0,
             "ticks": ""
            },
            "colorscale": [
             [
              0,
              "#0d0887"
             ],
             [
              0.1111111111111111,
              "#46039f"
             ],
             [
              0.2222222222222222,
              "#7201a8"
             ],
             [
              0.3333333333333333,
              "#9c179e"
             ],
             [
              0.4444444444444444,
              "#bd3786"
             ],
             [
              0.5555555555555556,
              "#d8576b"
             ],
             [
              0.6666666666666666,
              "#ed7953"
             ],
             [
              0.7777777777777778,
              "#fb9f3a"
             ],
             [
              0.8888888888888888,
              "#fdca26"
             ],
             [
              1,
              "#f0f921"
             ]
            ],
            "type": "heatmap"
           }
          ],
          "heatmapgl": [
           {
            "colorbar": {
             "outlinewidth": 0,
             "ticks": ""
            },
            "colorscale": [
             [
              0,
              "#0d0887"
             ],
             [
              0.1111111111111111,
              "#46039f"
             ],
             [
              0.2222222222222222,
              "#7201a8"
             ],
             [
              0.3333333333333333,
              "#9c179e"
             ],
             [
              0.4444444444444444,
              "#bd3786"
             ],
             [
              0.5555555555555556,
              "#d8576b"
             ],
             [
              0.6666666666666666,
              "#ed7953"
             ],
             [
              0.7777777777777778,
              "#fb9f3a"
             ],
             [
              0.8888888888888888,
              "#fdca26"
             ],
             [
              1,
              "#f0f921"
             ]
            ],
            "type": "heatmapgl"
           }
          ],
          "histogram": [
           {
            "marker": {
             "pattern": {
              "fillmode": "overlay",
              "size": 10,
              "solidity": 0.2
             }
            },
            "type": "histogram"
           }
          ],
          "histogram2d": [
           {
            "colorbar": {
             "outlinewidth": 0,
             "ticks": ""
            },
            "colorscale": [
             [
              0,
              "#0d0887"
             ],
             [
              0.1111111111111111,
              "#46039f"
             ],
             [
              0.2222222222222222,
              "#7201a8"
             ],
             [
              0.3333333333333333,
              "#9c179e"
             ],
             [
              0.4444444444444444,
              "#bd3786"
             ],
             [
              0.5555555555555556,
              "#d8576b"
             ],
             [
              0.6666666666666666,
              "#ed7953"
             ],
             [
              0.7777777777777778,
              "#fb9f3a"
             ],
             [
              0.8888888888888888,
              "#fdca26"
             ],
             [
              1,
              "#f0f921"
             ]
            ],
            "type": "histogram2d"
           }
          ],
          "histogram2dcontour": [
           {
            "colorbar": {
             "outlinewidth": 0,
             "ticks": ""
            },
            "colorscale": [
             [
              0,
              "#0d0887"
             ],
             [
              0.1111111111111111,
              "#46039f"
             ],
             [
              0.2222222222222222,
              "#7201a8"
             ],
             [
              0.3333333333333333,
              "#9c179e"
             ],
             [
              0.4444444444444444,
              "#bd3786"
             ],
             [
              0.5555555555555556,
              "#d8576b"
             ],
             [
              0.6666666666666666,
              "#ed7953"
             ],
             [
              0.7777777777777778,
              "#fb9f3a"
             ],
             [
              0.8888888888888888,
              "#fdca26"
             ],
             [
              1,
              "#f0f921"
             ]
            ],
            "type": "histogram2dcontour"
           }
          ],
          "mesh3d": [
           {
            "colorbar": {
             "outlinewidth": 0,
             "ticks": ""
            },
            "type": "mesh3d"
           }
          ],
          "parcoords": [
           {
            "line": {
             "colorbar": {
              "outlinewidth": 0,
              "ticks": ""
             }
            },
            "type": "parcoords"
           }
          ],
          "pie": [
           {
            "automargin": true,
            "type": "pie"
           }
          ],
          "scatter": [
           {
            "fillpattern": {
             "fillmode": "overlay",
             "size": 10,
             "solidity": 0.2
            },
            "type": "scatter"
           }
          ],
          "scatter3d": [
           {
            "line": {
             "colorbar": {
              "outlinewidth": 0,
              "ticks": ""
             }
            },
            "marker": {
             "colorbar": {
              "outlinewidth": 0,
              "ticks": ""
             }
            },
            "type": "scatter3d"
           }
          ],
          "scattercarpet": [
           {
            "marker": {
             "colorbar": {
              "outlinewidth": 0,
              "ticks": ""
             }
            },
            "type": "scattercarpet"
           }
          ],
          "scattergeo": [
           {
            "marker": {
             "colorbar": {
              "outlinewidth": 0,
              "ticks": ""
             }
            },
            "type": "scattergeo"
           }
          ],
          "scattergl": [
           {
            "marker": {
             "colorbar": {
              "outlinewidth": 0,
              "ticks": ""
             }
            },
            "type": "scattergl"
           }
          ],
          "scattermapbox": [
           {
            "marker": {
             "colorbar": {
              "outlinewidth": 0,
              "ticks": ""
             }
            },
            "type": "scattermapbox"
           }
          ],
          "scatterpolar": [
           {
            "marker": {
             "colorbar": {
              "outlinewidth": 0,
              "ticks": ""
             }
            },
            "type": "scatterpolar"
           }
          ],
          "scatterpolargl": [
           {
            "marker": {
             "colorbar": {
              "outlinewidth": 0,
              "ticks": ""
             }
            },
            "type": "scatterpolargl"
           }
          ],
          "scatterternary": [
           {
            "marker": {
             "colorbar": {
              "outlinewidth": 0,
              "ticks": ""
             }
            },
            "type": "scatterternary"
           }
          ],
          "surface": [
           {
            "colorbar": {
             "outlinewidth": 0,
             "ticks": ""
            },
            "colorscale": [
             [
              0,
              "#0d0887"
             ],
             [
              0.1111111111111111,
              "#46039f"
             ],
             [
              0.2222222222222222,
              "#7201a8"
             ],
             [
              0.3333333333333333,
              "#9c179e"
             ],
             [
              0.4444444444444444,
              "#bd3786"
             ],
             [
              0.5555555555555556,
              "#d8576b"
             ],
             [
              0.6666666666666666,
              "#ed7953"
             ],
             [
              0.7777777777777778,
              "#fb9f3a"
             ],
             [
              0.8888888888888888,
              "#fdca26"
             ],
             [
              1,
              "#f0f921"
             ]
            ],
            "type": "surface"
           }
          ],
          "table": [
           {
            "cells": {
             "fill": {
              "color": "#EBF0F8"
             },
             "line": {
              "color": "white"
             }
            },
            "header": {
             "fill": {
              "color": "#C8D4E3"
             },
             "line": {
              "color": "white"
             }
            },
            "type": "table"
           }
          ]
         },
         "layout": {
          "annotationdefaults": {
           "arrowcolor": "#2a3f5f",
           "arrowhead": 0,
           "arrowwidth": 1
          },
          "autotypenumbers": "strict",
          "coloraxis": {
           "colorbar": {
            "outlinewidth": 0,
            "ticks": ""
           }
          },
          "colorscale": {
           "diverging": [
            [
             0,
             "#8e0152"
            ],
            [
             0.1,
             "#c51b7d"
            ],
            [
             0.2,
             "#de77ae"
            ],
            [
             0.3,
             "#f1b6da"
            ],
            [
             0.4,
             "#fde0ef"
            ],
            [
             0.5,
             "#f7f7f7"
            ],
            [
             0.6,
             "#e6f5d0"
            ],
            [
             0.7,
             "#b8e186"
            ],
            [
             0.8,
             "#7fbc41"
            ],
            [
             0.9,
             "#4d9221"
            ],
            [
             1,
             "#276419"
            ]
           ],
           "sequential": [
            [
             0,
             "#0d0887"
            ],
            [
             0.1111111111111111,
             "#46039f"
            ],
            [
             0.2222222222222222,
             "#7201a8"
            ],
            [
             0.3333333333333333,
             "#9c179e"
            ],
            [
             0.4444444444444444,
             "#bd3786"
            ],
            [
             0.5555555555555556,
             "#d8576b"
            ],
            [
             0.6666666666666666,
             "#ed7953"
            ],
            [
             0.7777777777777778,
             "#fb9f3a"
            ],
            [
             0.8888888888888888,
             "#fdca26"
            ],
            [
             1,
             "#f0f921"
            ]
           ],
           "sequentialminus": [
            [
             0,
             "#0d0887"
            ],
            [
             0.1111111111111111,
             "#46039f"
            ],
            [
             0.2222222222222222,
             "#7201a8"
            ],
            [
             0.3333333333333333,
             "#9c179e"
            ],
            [
             0.4444444444444444,
             "#bd3786"
            ],
            [
             0.5555555555555556,
             "#d8576b"
            ],
            [
             0.6666666666666666,
             "#ed7953"
            ],
            [
             0.7777777777777778,
             "#fb9f3a"
            ],
            [
             0.8888888888888888,
             "#fdca26"
            ],
            [
             1,
             "#f0f921"
            ]
           ]
          },
          "colorway": [
           "#636efa",
           "#EF553B",
           "#00cc96",
           "#ab63fa",
           "#FFA15A",
           "#19d3f3",
           "#FF6692",
           "#B6E880",
           "#FF97FF",
           "#FECB52"
          ],
          "font": {
           "color": "#2a3f5f"
          },
          "geo": {
           "bgcolor": "white",
           "lakecolor": "white",
           "landcolor": "#E5ECF6",
           "showlakes": true,
           "showland": true,
           "subunitcolor": "white"
          },
          "hoverlabel": {
           "align": "left"
          },
          "hovermode": "closest",
          "mapbox": {
           "style": "light"
          },
          "paper_bgcolor": "white",
          "plot_bgcolor": "#E5ECF6",
          "polar": {
           "angularaxis": {
            "gridcolor": "white",
            "linecolor": "white",
            "ticks": ""
           },
           "bgcolor": "#E5ECF6",
           "radialaxis": {
            "gridcolor": "white",
            "linecolor": "white",
            "ticks": ""
           }
          },
          "scene": {
           "xaxis": {
            "backgroundcolor": "#E5ECF6",
            "gridcolor": "white",
            "gridwidth": 2,
            "linecolor": "white",
            "showbackground": true,
            "ticks": "",
            "zerolinecolor": "white"
           },
           "yaxis": {
            "backgroundcolor": "#E5ECF6",
            "gridcolor": "white",
            "gridwidth": 2,
            "linecolor": "white",
            "showbackground": true,
            "ticks": "",
            "zerolinecolor": "white"
           },
           "zaxis": {
            "backgroundcolor": "#E5ECF6",
            "gridcolor": "white",
            "gridwidth": 2,
            "linecolor": "white",
            "showbackground": true,
            "ticks": "",
            "zerolinecolor": "white"
           }
          },
          "shapedefaults": {
           "line": {
            "color": "#2a3f5f"
           }
          },
          "ternary": {
           "aaxis": {
            "gridcolor": "white",
            "linecolor": "white",
            "ticks": ""
           },
           "baxis": {
            "gridcolor": "white",
            "linecolor": "white",
            "ticks": ""
           },
           "bgcolor": "#E5ECF6",
           "caxis": {
            "gridcolor": "white",
            "linecolor": "white",
            "ticks": ""
           }
          },
          "title": {
           "x": 0.05
          },
          "xaxis": {
           "automargin": true,
           "gridcolor": "white",
           "linecolor": "white",
           "ticks": "",
           "title": {
            "standoff": 15
           },
           "zerolinecolor": "white",
           "zerolinewidth": 2
          },
          "yaxis": {
           "automargin": true,
           "gridcolor": "white",
           "linecolor": "white",
           "ticks": "",
           "title": {
            "standoff": 15
           },
           "zerolinecolor": "white",
           "zerolinewidth": 2
          }
         }
        },
        "xaxis": {
         "anchor": "y",
         "domain": [
          0,
          1
         ],
         "title": {
          "text": "TIME_PERIOD"
         }
        },
        "yaxis": {
         "anchor": "x",
         "domain": [
          0,
          1
         ],
         "title": {
          "text": "OBS_VALUE"
         }
        }
       }
      }
     },
     "metadata": {},
     "output_type": "display_data"
    }
   ],
   "source": [
    "fig = px.area(dataset_by_sector, x='TIME_PERIOD', y='OBS_VALUE', color='nrg_bal_label')\n",
    "fig.show()"
   ]
  },
  {
   "cell_type": "code",
   "execution_count": 11,
   "metadata": {},
   "outputs": [
    {
     "data": {
      "application/vnd.plotly.v1+json": {
       "config": {
        "plotlyServerURL": "https://plot.ly"
       },
       "data": [
        {
         "fillpattern": {
          "shape": ""
         },
         "hovertemplate": "nrg_bal_label=Final consumption - industry sector - energy use<br>TIME_PERIOD=%{x}<br>energy_consumption_PC_kwh=%{y}<extra></extra>",
         "legendgroup": "Final consumption - industry sector - energy use",
         "line": {
          "color": "#636efa"
         },
         "marker": {
          "symbol": "circle"
         },
         "mode": "lines",
         "name": "Final consumption - industry sector - energy use",
         "orientation": "v",
         "showlegend": true,
         "stackgroup": "1",
         "type": "scatter",
         "x": [
          2000,
          2001,
          2002,
          2003,
          2004,
          2005,
          2006,
          2007,
          2008,
          2009,
          2010,
          2011,
          2012,
          2013,
          2014,
          2015,
          2016,
          2017,
          2018,
          2019,
          2020,
          2021,
          2022
         ],
         "xaxis": "x",
         "y": [
          7341.830176578809,
          7321.787804802193,
          7265.707359883658,
          7405.94738617529,
          7358.276020132241,
          7338.208890705782,
          7166.19682964228,
          7265.774328662567,
          7000.733563107475,
          6042.406901827682,
          6438.050301090892,
          6446.009113969042,
          6314.342232673821,
          6231.910538752957,
          6132.325039177676,
          6137.2078080618885,
          6240.506306624605,
          6290.283138306048,
          6331.048148588912,
          6253.575881915531,
          6045.674905004579,
          6328.459275825539,
          5878.750927372204
         ],
         "yaxis": "y"
        },
        {
         "fillpattern": {
          "shape": ""
         },
         "hovertemplate": "nrg_bal_label=Final consumption - other sectors - agriculture and forestry - energy use<br>TIME_PERIOD=%{x}<br>energy_consumption_PC_kwh=%{y}<extra></extra>",
         "legendgroup": "Final consumption - other sectors - agriculture and forestry - energy use",
         "line": {
          "color": "#EF553B"
         },
         "marker": {
          "symbol": "circle"
         },
         "mode": "lines",
         "name": "Final consumption - other sectors - agriculture and forestry - energy use",
         "orientation": "v",
         "showlegend": true,
         "stackgroup": "1",
         "type": "scatter",
         "x": [
          2000,
          2001,
          2002,
          2003,
          2004,
          2005,
          2006,
          2007,
          2008,
          2009,
          2010,
          2011,
          2012,
          2013,
          2014,
          2015,
          2016,
          2017,
          2018,
          2019,
          2020,
          2021,
          2022
         ],
         "xaxis": "x",
         "y": [
          729.1655275429048,
          710.7067233468971,
          685.8031137564768,
          696.3296152113983,
          722.7611995600769,
          719.8487161590839,
          673.7908103552879,
          658.0700787119665,
          652.7063522799566,
          635.4639666660709,
          673.6363541600912,
          658.3132325556847,
          650.6935563855814,
          660.514381879544,
          644.7649857225163,
          643.862176373247,
          654.3925713785515,
          662.7086456829077,
          722.8490015981215,
          730.7117424984721,
          740.8766404817097,
          749.530567619035,
          692.7872384155083
         ],
         "yaxis": "y"
        },
        {
         "fillpattern": {
          "shape": ""
         },
         "hovertemplate": "nrg_bal_label=Final consumption - other sectors - commercial and public services - energy use<br>TIME_PERIOD=%{x}<br>energy_consumption_PC_kwh=%{y}<extra></extra>",
         "legendgroup": "Final consumption - other sectors - commercial and public services - energy use",
         "line": {
          "color": "#00cc96"
         },
         "marker": {
          "symbol": "circle"
         },
         "mode": "lines",
         "name": "Final consumption - other sectors - commercial and public services - energy use",
         "orientation": "v",
         "showlegend": true,
         "stackgroup": "1",
         "type": "scatter",
         "x": [
          2000,
          2001,
          2002,
          2003,
          2004,
          2005,
          2006,
          2007,
          2008,
          2009,
          2010,
          2011,
          2012,
          2013,
          2014,
          2015,
          2016,
          2017,
          2018,
          2019,
          2020,
          2021,
          2022
         ],
         "xaxis": "x",
         "y": [
          2838.2090874476303,
          3008.7842589969596,
          2966.786188996474,
          3309.0269201380697,
          3382.705379937936,
          3413.329945028245,
          3535.4162783509446,
          3345.068973295361,
          3542.546283361609,
          3541.3179718404313,
          3695.2147254326665,
          3374.1219668752365,
          3445.5509883973045,
          3480.043711065262,
          3246.2740852013153,
          3372.1076625112755,
          3396.5674629000287,
          3494.023107716475,
          3431.0627632028913,
          3339.0183899622293,
          3161.290503957519,
          3381.011848504203,
          3136.9114852639223
         ],
         "yaxis": "y"
        },
        {
         "fillpattern": {
          "shape": ""
         },
         "hovertemplate": "nrg_bal_label=Final consumption - other sectors - fishing - energy use<br>TIME_PERIOD=%{x}<br>energy_consumption_PC_kwh=%{y}<extra></extra>",
         "legendgroup": "Final consumption - other sectors - fishing - energy use",
         "line": {
          "color": "#ab63fa"
         },
         "marker": {
          "symbol": "circle"
         },
         "mode": "lines",
         "name": "Final consumption - other sectors - fishing - energy use",
         "orientation": "v",
         "showlegend": true,
         "stackgroup": "1",
         "type": "scatter",
         "x": [
          2000,
          2001,
          2002,
          2003,
          2004,
          2005,
          2006,
          2007,
          2008,
          2009,
          2010,
          2011,
          2012,
          2013,
          2014,
          2015,
          2016,
          2017,
          2018,
          2019,
          2020,
          2021,
          2022
         ],
         "xaxis": "x",
         "y": [
          41.1971513999745,
          42.74710122187383,
          39.59554357060601,
          39.24167996022733,
          39.28153561967833,
          38.89626502981883,
          36.59364167737015,
          34.79408085574951,
          32.25629623523665,
          33.524904991854285,
          32.45259159575085,
          31.16325246514408,
          31.26337096863608,
          32.35752355268983,
          32.36921893118728,
          34.70685501210244,
          34.45128869633374,
          34.23331384799813,
          36.31069331160727,
          34.89336837461602,
          35.21006906946963,
          36.41586808736228,
          35.471113680731044
         ],
         "yaxis": "y"
        },
        {
         "fillpattern": {
          "shape": ""
         },
         "hovertemplate": "nrg_bal_label=Final consumption - other sectors - households - energy use<br>TIME_PERIOD=%{x}<br>energy_consumption_PC_kwh=%{y}<extra></extra>",
         "legendgroup": "Final consumption - other sectors - households - energy use",
         "line": {
          "color": "#FFA15A"
         },
         "marker": {
          "symbol": "circle"
         },
         "mode": "lines",
         "name": "Final consumption - other sectors - households - energy use",
         "orientation": "v",
         "showlegend": true,
         "stackgroup": "1",
         "type": "scatter",
         "x": [
          2000,
          2001,
          2002,
          2003,
          2004,
          2005,
          2006,
          2007,
          2008,
          2009,
          2010,
          2011,
          2012,
          2013,
          2014,
          2015,
          2016,
          2017,
          2018,
          2019,
          2020,
          2021,
          2022
         ],
         "xaxis": "x",
         "y": [
          6734.603375700964,
          7086.1088504158215,
          6913.185385746461,
          7125.754574678454,
          7047.6845167316715,
          7103.2053686288755,
          7054.582788125659,
          6601.557930015851,
          6977.441466120194,
          6916.964299399778,
          7382.535598707029,
          6659.741257227655,
          6955.876245217075,
          7027.742306041735,
          6166.572364431108,
          6436.893220830519,
          6598.51948675533,
          6606.013690796833,
          6538.689527081013,
          6463.963306873406,
          6476.3953708546605,
          6834.584749281247,
          6278.841276128682
         ],
         "yaxis": "y"
        },
        {
         "fillpattern": {
          "shape": ""
         },
         "hovertemplate": "nrg_bal_label=Final consumption - other sectors - not elsewhere specified - energy use<br>TIME_PERIOD=%{x}<br>energy_consumption_PC_kwh=%{y}<extra></extra>",
         "legendgroup": "Final consumption - other sectors - not elsewhere specified - energy use",
         "line": {
          "color": "#19d3f3"
         },
         "marker": {
          "symbol": "circle"
         },
         "mode": "lines",
         "name": "Final consumption - other sectors - not elsewhere specified - energy use",
         "orientation": "v",
         "showlegend": true,
         "stackgroup": "1",
         "type": "scatter",
         "x": [
          2000,
          2001,
          2002,
          2003,
          2004,
          2005,
          2006,
          2007,
          2008,
          2009,
          2010,
          2011,
          2012,
          2013,
          2014,
          2015,
          2016,
          2017,
          2018,
          2019,
          2020,
          2021,
          2022
         ],
         "xaxis": "x",
         "y": [
          283.68242561949137,
          306.51192988751825,
          308.0251660318953,
          195.2183982942691,
          190.5546992601718,
          192.28509369272228,
          213.35077559044979,
          92.5848696944854,
          86.22149121977556,
          85.95031268817267,
          97.73754569172961,
          110.5307874560814,
          111.27018778357031,
          106.96719865309308,
          106.71653925654013,
          94.25350163263374,
          88.17906321367252,
          88.36404617245842,
          89.79865179070914,
          88.4819545447631,
          94.19308668709184,
          97.77832578028776,
          106.19588932498363
         ],
         "yaxis": "y"
        },
        {
         "fillpattern": {
          "shape": ""
         },
         "hovertemplate": "nrg_bal_label=Final consumption - transport sector - energy use<br>TIME_PERIOD=%{x}<br>energy_consumption_PC_kwh=%{y}<extra></extra>",
         "legendgroup": "Final consumption - transport sector - energy use",
         "line": {
          "color": "#FF6692"
         },
         "marker": {
          "symbol": "circle"
         },
         "mode": "lines",
         "name": "Final consumption - transport sector - energy use",
         "orientation": "v",
         "showlegend": true,
         "stackgroup": "1",
         "type": "scatter",
         "x": [
          2000,
          2001,
          2002,
          2003,
          2004,
          2005,
          2006,
          2007,
          2008,
          2009,
          2010,
          2011,
          2012,
          2013,
          2014,
          2015,
          2016,
          2017,
          2018,
          2019,
          2020,
          2021,
          2022
         ],
         "xaxis": "x",
         "y": [
          7122.899360071469,
          7246.400425403081,
          7296.895612652281,
          7371.231758396369,
          7523.816013841241,
          7510.240724646688,
          7634.796009275825,
          7729.859804131547,
          7601.19117012246,
          7398.248457340684,
          7391.708233177334,
          7378.890408883095,
          7104.284451085047,
          7001.3249558841335,
          7072.294858443432,
          7152.598266191638,
          7307.289310687959,
          7446.775571901871,
          7471.7550411110515,
          7523.303403729087,
          6564.444262190067,
          7111.939949206681,
          7271.247128122415
         ],
         "yaxis": "y"
        }
       ],
       "layout": {
        "legend": {
         "title": {
          "text": "nrg_bal_label"
         },
         "tracegroupgap": 0
        },
        "margin": {
         "t": 60
        },
        "template": {
         "data": {
          "bar": [
           {
            "error_x": {
             "color": "#2a3f5f"
            },
            "error_y": {
             "color": "#2a3f5f"
            },
            "marker": {
             "line": {
              "color": "#E5ECF6",
              "width": 0.5
             },
             "pattern": {
              "fillmode": "overlay",
              "size": 10,
              "solidity": 0.2
             }
            },
            "type": "bar"
           }
          ],
          "barpolar": [
           {
            "marker": {
             "line": {
              "color": "#E5ECF6",
              "width": 0.5
             },
             "pattern": {
              "fillmode": "overlay",
              "size": 10,
              "solidity": 0.2
             }
            },
            "type": "barpolar"
           }
          ],
          "carpet": [
           {
            "aaxis": {
             "endlinecolor": "#2a3f5f",
             "gridcolor": "white",
             "linecolor": "white",
             "minorgridcolor": "white",
             "startlinecolor": "#2a3f5f"
            },
            "baxis": {
             "endlinecolor": "#2a3f5f",
             "gridcolor": "white",
             "linecolor": "white",
             "minorgridcolor": "white",
             "startlinecolor": "#2a3f5f"
            },
            "type": "carpet"
           }
          ],
          "choropleth": [
           {
            "colorbar": {
             "outlinewidth": 0,
             "ticks": ""
            },
            "type": "choropleth"
           }
          ],
          "contour": [
           {
            "colorbar": {
             "outlinewidth": 0,
             "ticks": ""
            },
            "colorscale": [
             [
              0,
              "#0d0887"
             ],
             [
              0.1111111111111111,
              "#46039f"
             ],
             [
              0.2222222222222222,
              "#7201a8"
             ],
             [
              0.3333333333333333,
              "#9c179e"
             ],
             [
              0.4444444444444444,
              "#bd3786"
             ],
             [
              0.5555555555555556,
              "#d8576b"
             ],
             [
              0.6666666666666666,
              "#ed7953"
             ],
             [
              0.7777777777777778,
              "#fb9f3a"
             ],
             [
              0.8888888888888888,
              "#fdca26"
             ],
             [
              1,
              "#f0f921"
             ]
            ],
            "type": "contour"
           }
          ],
          "contourcarpet": [
           {
            "colorbar": {
             "outlinewidth": 0,
             "ticks": ""
            },
            "type": "contourcarpet"
           }
          ],
          "heatmap": [
           {
            "colorbar": {
             "outlinewidth": 0,
             "ticks": ""
            },
            "colorscale": [
             [
              0,
              "#0d0887"
             ],
             [
              0.1111111111111111,
              "#46039f"
             ],
             [
              0.2222222222222222,
              "#7201a8"
             ],
             [
              0.3333333333333333,
              "#9c179e"
             ],
             [
              0.4444444444444444,
              "#bd3786"
             ],
             [
              0.5555555555555556,
              "#d8576b"
             ],
             [
              0.6666666666666666,
              "#ed7953"
             ],
             [
              0.7777777777777778,
              "#fb9f3a"
             ],
             [
              0.8888888888888888,
              "#fdca26"
             ],
             [
              1,
              "#f0f921"
             ]
            ],
            "type": "heatmap"
           }
          ],
          "heatmapgl": [
           {
            "colorbar": {
             "outlinewidth": 0,
             "ticks": ""
            },
            "colorscale": [
             [
              0,
              "#0d0887"
             ],
             [
              0.1111111111111111,
              "#46039f"
             ],
             [
              0.2222222222222222,
              "#7201a8"
             ],
             [
              0.3333333333333333,
              "#9c179e"
             ],
             [
              0.4444444444444444,
              "#bd3786"
             ],
             [
              0.5555555555555556,
              "#d8576b"
             ],
             [
              0.6666666666666666,
              "#ed7953"
             ],
             [
              0.7777777777777778,
              "#fb9f3a"
             ],
             [
              0.8888888888888888,
              "#fdca26"
             ],
             [
              1,
              "#f0f921"
             ]
            ],
            "type": "heatmapgl"
           }
          ],
          "histogram": [
           {
            "marker": {
             "pattern": {
              "fillmode": "overlay",
              "size": 10,
              "solidity": 0.2
             }
            },
            "type": "histogram"
           }
          ],
          "histogram2d": [
           {
            "colorbar": {
             "outlinewidth": 0,
             "ticks": ""
            },
            "colorscale": [
             [
              0,
              "#0d0887"
             ],
             [
              0.1111111111111111,
              "#46039f"
             ],
             [
              0.2222222222222222,
              "#7201a8"
             ],
             [
              0.3333333333333333,
              "#9c179e"
             ],
             [
              0.4444444444444444,
              "#bd3786"
             ],
             [
              0.5555555555555556,
              "#d8576b"
             ],
             [
              0.6666666666666666,
              "#ed7953"
             ],
             [
              0.7777777777777778,
              "#fb9f3a"
             ],
             [
              0.8888888888888888,
              "#fdca26"
             ],
             [
              1,
              "#f0f921"
             ]
            ],
            "type": "histogram2d"
           }
          ],
          "histogram2dcontour": [
           {
            "colorbar": {
             "outlinewidth": 0,
             "ticks": ""
            },
            "colorscale": [
             [
              0,
              "#0d0887"
             ],
             [
              0.1111111111111111,
              "#46039f"
             ],
             [
              0.2222222222222222,
              "#7201a8"
             ],
             [
              0.3333333333333333,
              "#9c179e"
             ],
             [
              0.4444444444444444,
              "#bd3786"
             ],
             [
              0.5555555555555556,
              "#d8576b"
             ],
             [
              0.6666666666666666,
              "#ed7953"
             ],
             [
              0.7777777777777778,
              "#fb9f3a"
             ],
             [
              0.8888888888888888,
              "#fdca26"
             ],
             [
              1,
              "#f0f921"
             ]
            ],
            "type": "histogram2dcontour"
           }
          ],
          "mesh3d": [
           {
            "colorbar": {
             "outlinewidth": 0,
             "ticks": ""
            },
            "type": "mesh3d"
           }
          ],
          "parcoords": [
           {
            "line": {
             "colorbar": {
              "outlinewidth": 0,
              "ticks": ""
             }
            },
            "type": "parcoords"
           }
          ],
          "pie": [
           {
            "automargin": true,
            "type": "pie"
           }
          ],
          "scatter": [
           {
            "fillpattern": {
             "fillmode": "overlay",
             "size": 10,
             "solidity": 0.2
            },
            "type": "scatter"
           }
          ],
          "scatter3d": [
           {
            "line": {
             "colorbar": {
              "outlinewidth": 0,
              "ticks": ""
             }
            },
            "marker": {
             "colorbar": {
              "outlinewidth": 0,
              "ticks": ""
             }
            },
            "type": "scatter3d"
           }
          ],
          "scattercarpet": [
           {
            "marker": {
             "colorbar": {
              "outlinewidth": 0,
              "ticks": ""
             }
            },
            "type": "scattercarpet"
           }
          ],
          "scattergeo": [
           {
            "marker": {
             "colorbar": {
              "outlinewidth": 0,
              "ticks": ""
             }
            },
            "type": "scattergeo"
           }
          ],
          "scattergl": [
           {
            "marker": {
             "colorbar": {
              "outlinewidth": 0,
              "ticks": ""
             }
            },
            "type": "scattergl"
           }
          ],
          "scattermapbox": [
           {
            "marker": {
             "colorbar": {
              "outlinewidth": 0,
              "ticks": ""
             }
            },
            "type": "scattermapbox"
           }
          ],
          "scatterpolar": [
           {
            "marker": {
             "colorbar": {
              "outlinewidth": 0,
              "ticks": ""
             }
            },
            "type": "scatterpolar"
           }
          ],
          "scatterpolargl": [
           {
            "marker": {
             "colorbar": {
              "outlinewidth": 0,
              "ticks": ""
             }
            },
            "type": "scatterpolargl"
           }
          ],
          "scatterternary": [
           {
            "marker": {
             "colorbar": {
              "outlinewidth": 0,
              "ticks": ""
             }
            },
            "type": "scatterternary"
           }
          ],
          "surface": [
           {
            "colorbar": {
             "outlinewidth": 0,
             "ticks": ""
            },
            "colorscale": [
             [
              0,
              "#0d0887"
             ],
             [
              0.1111111111111111,
              "#46039f"
             ],
             [
              0.2222222222222222,
              "#7201a8"
             ],
             [
              0.3333333333333333,
              "#9c179e"
             ],
             [
              0.4444444444444444,
              "#bd3786"
             ],
             [
              0.5555555555555556,
              "#d8576b"
             ],
             [
              0.6666666666666666,
              "#ed7953"
             ],
             [
              0.7777777777777778,
              "#fb9f3a"
             ],
             [
              0.8888888888888888,
              "#fdca26"
             ],
             [
              1,
              "#f0f921"
             ]
            ],
            "type": "surface"
           }
          ],
          "table": [
           {
            "cells": {
             "fill": {
              "color": "#EBF0F8"
             },
             "line": {
              "color": "white"
             }
            },
            "header": {
             "fill": {
              "color": "#C8D4E3"
             },
             "line": {
              "color": "white"
             }
            },
            "type": "table"
           }
          ]
         },
         "layout": {
          "annotationdefaults": {
           "arrowcolor": "#2a3f5f",
           "arrowhead": 0,
           "arrowwidth": 1
          },
          "autotypenumbers": "strict",
          "coloraxis": {
           "colorbar": {
            "outlinewidth": 0,
            "ticks": ""
           }
          },
          "colorscale": {
           "diverging": [
            [
             0,
             "#8e0152"
            ],
            [
             0.1,
             "#c51b7d"
            ],
            [
             0.2,
             "#de77ae"
            ],
            [
             0.3,
             "#f1b6da"
            ],
            [
             0.4,
             "#fde0ef"
            ],
            [
             0.5,
             "#f7f7f7"
            ],
            [
             0.6,
             "#e6f5d0"
            ],
            [
             0.7,
             "#b8e186"
            ],
            [
             0.8,
             "#7fbc41"
            ],
            [
             0.9,
             "#4d9221"
            ],
            [
             1,
             "#276419"
            ]
           ],
           "sequential": [
            [
             0,
             "#0d0887"
            ],
            [
             0.1111111111111111,
             "#46039f"
            ],
            [
             0.2222222222222222,
             "#7201a8"
            ],
            [
             0.3333333333333333,
             "#9c179e"
            ],
            [
             0.4444444444444444,
             "#bd3786"
            ],
            [
             0.5555555555555556,
             "#d8576b"
            ],
            [
             0.6666666666666666,
             "#ed7953"
            ],
            [
             0.7777777777777778,
             "#fb9f3a"
            ],
            [
             0.8888888888888888,
             "#fdca26"
            ],
            [
             1,
             "#f0f921"
            ]
           ],
           "sequentialminus": [
            [
             0,
             "#0d0887"
            ],
            [
             0.1111111111111111,
             "#46039f"
            ],
            [
             0.2222222222222222,
             "#7201a8"
            ],
            [
             0.3333333333333333,
             "#9c179e"
            ],
            [
             0.4444444444444444,
             "#bd3786"
            ],
            [
             0.5555555555555556,
             "#d8576b"
            ],
            [
             0.6666666666666666,
             "#ed7953"
            ],
            [
             0.7777777777777778,
             "#fb9f3a"
            ],
            [
             0.8888888888888888,
             "#fdca26"
            ],
            [
             1,
             "#f0f921"
            ]
           ]
          },
          "colorway": [
           "#636efa",
           "#EF553B",
           "#00cc96",
           "#ab63fa",
           "#FFA15A",
           "#19d3f3",
           "#FF6692",
           "#B6E880",
           "#FF97FF",
           "#FECB52"
          ],
          "font": {
           "color": "#2a3f5f"
          },
          "geo": {
           "bgcolor": "white",
           "lakecolor": "white",
           "landcolor": "#E5ECF6",
           "showlakes": true,
           "showland": true,
           "subunitcolor": "white"
          },
          "hoverlabel": {
           "align": "left"
          },
          "hovermode": "closest",
          "mapbox": {
           "style": "light"
          },
          "paper_bgcolor": "white",
          "plot_bgcolor": "#E5ECF6",
          "polar": {
           "angularaxis": {
            "gridcolor": "white",
            "linecolor": "white",
            "ticks": ""
           },
           "bgcolor": "#E5ECF6",
           "radialaxis": {
            "gridcolor": "white",
            "linecolor": "white",
            "ticks": ""
           }
          },
          "scene": {
           "xaxis": {
            "backgroundcolor": "#E5ECF6",
            "gridcolor": "white",
            "gridwidth": 2,
            "linecolor": "white",
            "showbackground": true,
            "ticks": "",
            "zerolinecolor": "white"
           },
           "yaxis": {
            "backgroundcolor": "#E5ECF6",
            "gridcolor": "white",
            "gridwidth": 2,
            "linecolor": "white",
            "showbackground": true,
            "ticks": "",
            "zerolinecolor": "white"
           },
           "zaxis": {
            "backgroundcolor": "#E5ECF6",
            "gridcolor": "white",
            "gridwidth": 2,
            "linecolor": "white",
            "showbackground": true,
            "ticks": "",
            "zerolinecolor": "white"
           }
          },
          "shapedefaults": {
           "line": {
            "color": "#2a3f5f"
           }
          },
          "ternary": {
           "aaxis": {
            "gridcolor": "white",
            "linecolor": "white",
            "ticks": ""
           },
           "baxis": {
            "gridcolor": "white",
            "linecolor": "white",
            "ticks": ""
           },
           "bgcolor": "#E5ECF6",
           "caxis": {
            "gridcolor": "white",
            "linecolor": "white",
            "ticks": ""
           }
          },
          "title": {
           "x": 0.05
          },
          "xaxis": {
           "automargin": true,
           "gridcolor": "white",
           "linecolor": "white",
           "ticks": "",
           "title": {
            "standoff": 15
           },
           "zerolinecolor": "white",
           "zerolinewidth": 2
          },
          "yaxis": {
           "automargin": true,
           "gridcolor": "white",
           "linecolor": "white",
           "ticks": "",
           "title": {
            "standoff": 15
           },
           "zerolinecolor": "white",
           "zerolinewidth": 2
          }
         }
        },
        "xaxis": {
         "anchor": "y",
         "domain": [
          0,
          1
         ],
         "title": {
          "text": "TIME_PERIOD"
         }
        },
        "yaxis": {
         "anchor": "x",
         "domain": [
          0,
          1
         ],
         "title": {
          "text": "energy_consumption_PC_kwh"
         }
        }
       }
      }
     },
     "metadata": {},
     "output_type": "display_data"
    }
   ],
   "source": [
    "by_sector_pc =  dataset_by_sector.merge(demo_pjan_aggregated, on=['TIME_PERIOD'], how='inner')\n",
    "by_sector_pc.rename(columns={'OBS_VALUE_x': 'energy_consumption_gwh', 'OBS_VALUE_y': 'population'}, inplace=True)\n",
    "\n",
    "by_sector_pc = calculate_energy_consumption_per_capita(by_sector_pc)\n",
    "\n",
    "fig = px.area(by_sector_pc, x='TIME_PERIOD', y='energy_consumption_PC_kwh', color='nrg_bal_label')\n",
    "fig.show()"
   ]
  },
  {
   "cell_type": "code",
   "execution_count": 12,
   "metadata": {},
   "outputs": [
    {
     "data": {
      "application/vnd.plotly.v1+json": {
       "config": {
        "plotlyServerURL": "https://plot.ly"
       },
       "data": [
        {
         "hovertemplate": "geo=AT<br>TIME_PERIOD=%{x}<br>energy_consumption_PC_kwh=%{y}<extra></extra>",
         "legendgroup": "AT",
         "line": {
          "color": "#636efa",
          "dash": "solid"
         },
         "marker": {
          "symbol": "circle"
         },
         "mode": "lines",
         "name": "AT",
         "orientation": "v",
         "showlegend": true,
         "type": "scatter",
         "x": [
          2000,
          2001,
          2002,
          2003,
          2004,
          2005,
          2006,
          2007,
          2008,
          2009,
          2010,
          2011,
          2012,
          2013,
          2014,
          2015,
          2016,
          2017,
          2018,
          2019,
          2020,
          2021,
          2022
         ],
         "xaxis": "x",
         "y": [
          31623.764703066194,
          33493.72144589788,
          33665.51621161411,
          35422.90256409123,
          35608.49122688082,
          36245.110728980224,
          36202.153354394984,
          35466.532273935365,
          35418.71598606503,
          34371.87856329587,
          36047.1744792102,
          34708.10624633018,
          34677.74560865892,
          35270.18227773948,
          33543.72617772128,
          34052.67956183062,
          34599.512587963,
          34937.42968785687,
          34189.0992829144,
          34260.786126242885,
          32383.643893915632,
          34208.24153972039,
          31923.29912270181
         ],
         "yaxis": "y"
        },
        {
         "hovertemplate": "geo=BE<br>TIME_PERIOD=%{x}<br>energy_consumption_PC_kwh=%{y}<extra></extra>",
         "legendgroup": "BE",
         "line": {
          "color": "#EF553B",
          "dash": "solid"
         },
         "marker": {
          "symbol": "circle"
         },
         "mode": "lines",
         "name": "BE",
         "orientation": "v",
         "showlegend": true,
         "type": "scatter",
         "x": [
          2000,
          2001,
          2002,
          2003,
          2004,
          2005,
          2006,
          2007,
          2008,
          2009,
          2010,
          2011,
          2012,
          2013,
          2014,
          2015,
          2016,
          2017,
          2018,
          2019,
          2020,
          2021,
          2022
         ],
         "xaxis": "x",
         "y": [
          38114.357366856675,
          39812.55804592266,
          37747.076916183745,
          38923.46962478723,
          38459.272063207485,
          37838.39984123876,
          37059.42236096554,
          35457.65485382492,
          36645.7674452343,
          35313.62544228938,
          37433.38231837099,
          34190.44313282663,
          34436.83959039588,
          35377.94834735136,
          32653.57897297868,
          34062.02632330653,
          34206.9866549821,
          33597.24550117563,
          33644.652939775144,
          32739.96262944307,
          31077.649077649075,
          33074.35040713578,
          30086.1523950514
         ],
         "yaxis": "y"
        },
        {
         "hovertemplate": "geo=BG<br>TIME_PERIOD=%{x}<br>energy_consumption_PC_kwh=%{y}<extra></extra>",
         "legendgroup": "BG",
         "line": {
          "color": "#00cc96",
          "dash": "solid"
         },
         "marker": {
          "symbol": "circle"
         },
         "mode": "lines",
         "name": "BG",
         "orientation": "v",
         "showlegend": true,
         "type": "scatter",
         "x": [
          2000,
          2001,
          2002,
          2003,
          2004,
          2005,
          2006,
          2007,
          2008,
          2009,
          2010,
          2011,
          2012,
          2013,
          2014,
          2015,
          2016,
          2017,
          2018,
          2019,
          2020,
          2021,
          2022
         ],
         "xaxis": "x",
         "y": [
          12265.410944616262,
          12708.586998169356,
          12789.681796413966,
          13734.61988520037,
          13848.35287380376,
          14636.942416353853,
          15285.875806336811,
          15198.828757959895,
          14985.590560428996,
          13275.645446110804,
          13728.865634266744,
          14483.652608409406,
          14699.250793745998,
          14184.457136562754,
          14693.65661928193,
          15736.080183790791,
          16160.809125547226,
          16773.397028273223,
          17028.615686528134,
          17207.218604792768,
          16913.510275458935,
          18238.055196125435,
          17779.30055787248
         ],
         "yaxis": "y"
        },
        {
         "hovertemplate": "geo=CY<br>TIME_PERIOD=%{x}<br>energy_consumption_PC_kwh=%{y}<extra></extra>",
         "legendgroup": "CY",
         "line": {
          "color": "#ab63fa",
          "dash": "solid"
         },
         "marker": {
          "symbol": "circle"
         },
         "mode": "lines",
         "name": "CY",
         "orientation": "v",
         "showlegend": true,
         "type": "scatter",
         "x": [
          2000,
          2001,
          2002,
          2003,
          2004,
          2005,
          2006,
          2007,
          2008,
          2009,
          2010,
          2011,
          2012,
          2013,
          2014,
          2015,
          2016,
          2017,
          2018,
          2019,
          2020,
          2021,
          2022
         ],
         "xaxis": "x",
         "y": [
          22798.275103254393,
          22718.27921631547,
          22884.699882306788,
          23851.011145494558,
          24175.014016454155,
          23876.82876508878,
          23772.549992347438,
          24356.162883710982,
          24432.05676784661,
          23594.64438313353,
          22793.08985639791,
          21778.48078504799,
          20050.4620743338,
          18603.327505827507,
          18911.928812951,
          19521.222558966616,
          20280.428684069528,
          20879.107095746993,
          20995.805452455133,
          21303.89581139746,
          19806.311781046355,
          20374.763044307263,
          20331.89602270444
         ],
         "yaxis": "y"
        },
        {
         "hovertemplate": "geo=CZ<br>TIME_PERIOD=%{x}<br>energy_consumption_PC_kwh=%{y}<extra></extra>",
         "legendgroup": "CZ",
         "line": {
          "color": "#FFA15A",
          "dash": "solid"
         },
         "marker": {
          "symbol": "circle"
         },
         "mode": "lines",
         "name": "CZ",
         "orientation": "v",
         "showlegend": true,
         "type": "scatter",
         "x": [
          2000,
          2001,
          2002,
          2003,
          2004,
          2005,
          2006,
          2007,
          2008,
          2009,
          2010,
          2011,
          2012,
          2013,
          2014,
          2015,
          2016,
          2017,
          2018,
          2019,
          2020,
          2021,
          2022
         ],
         "xaxis": "x",
         "y": [
          27268.87086986772,
          27921.672116035184,
          27251.743683119075,
          28453.809958601705,
          28629.313388610783,
          28312.959250954922,
          28528.999292292265,
          27674.607591182106,
          27438.829198727806,
          26451.667774157508,
          26750.844376574547,
          25835.173569515617,
          25796.95848042886,
          25590.48597663392,
          24770.870754464086,
          25455.570828559794,
          26049.516959358418,
          26795.33291768987,
          26417.483051324903,
          26348.19527210694,
          26335.53759201192,
          27974.8474498719,
          25932.764991901662
         ],
         "yaxis": "y"
        },
        {
         "hovertemplate": "geo=DE<br>TIME_PERIOD=%{x}<br>energy_consumption_PC_kwh=%{y}<extra></extra>",
         "legendgroup": "DE",
         "line": {
          "color": "#19d3f3",
          "dash": "solid"
         },
         "marker": {
          "symbol": "circle"
         },
         "mode": "lines",
         "name": "DE",
         "orientation": "v",
         "showlegend": true,
         "type": "scatter",
         "x": [
          2000,
          2001,
          2002,
          2003,
          2004,
          2005,
          2006,
          2007,
          2008,
          2009,
          2010,
          2011,
          2012,
          2013,
          2014,
          2015,
          2016,
          2017,
          2018,
          2019,
          2020,
          2021,
          2022
         ],
         "xaxis": "x",
         "y": [
          29290.051135710215,
          29795.748230395402,
          29299.212519815435,
          29896.07656192978,
          29694.702584212195,
          29243.301720280804,
          30060.023636545244,
          28232.15462357639,
          29554.198759850264,
          27969.289001402492,
          30433.09265349876,
          28853.88774012516,
          29270.437716596047,
          29958.94277377513,
          28249.298904226616,
          28309.63927236675,
          28703.339158753883,
          28728.233143180096,
          28113.514157258993,
          28080.399836901088,
          27167.38664916137,
          27604.643596287635,
          26152.475641410216
         ],
         "yaxis": "y"
        },
        {
         "hovertemplate": "geo=DK<br>TIME_PERIOD=%{x}<br>energy_consumption_PC_kwh=%{y}<extra></extra>",
         "legendgroup": "DK",
         "line": {
          "color": "#FF6692",
          "dash": "solid"
         },
         "marker": {
          "symbol": "circle"
         },
         "mode": "lines",
         "name": "DK",
         "orientation": "v",
         "showlegend": true,
         "type": "scatter",
         "x": [
          2000,
          2001,
          2002,
          2003,
          2004,
          2005,
          2006,
          2007,
          2008,
          2009,
          2010,
          2011,
          2012,
          2013,
          2014,
          2015,
          2016,
          2017,
          2018,
          2019,
          2020,
          2021,
          2022
         ],
         "xaxis": "x",
         "y": [
          30476.100778955857,
          31220.856895800833,
          30650.445889640338,
          31234.62809672375,
          31434.98426009512,
          31555.78862963313,
          31809.34386177999,
          31728.916242420495,
          31136.55097360024,
          29723.559453040052,
          31058.456886524327,
          29418.879186082435,
          28255.515804368948,
          27819.372213884795,
          26573.883667287133,
          27433.09291986632,
          27845.376462334803,
          27795.531715788617,
          27625.902394403383,
          27041.648612522957,
          26026.099113962304,
          27288.85470475464,
          25531.576424311952
         ],
         "yaxis": "y"
        },
        {
         "hovertemplate": "geo=EE<br>TIME_PERIOD=%{x}<br>energy_consumption_PC_kwh=%{y}<extra></extra>",
         "legendgroup": "EE",
         "line": {
          "color": "#B6E880",
          "dash": "solid"
         },
         "marker": {
          "symbol": "circle"
         },
         "mode": "lines",
         "name": "EE",
         "orientation": "v",
         "showlegend": true,
         "type": "scatter",
         "x": [
          2000,
          2001,
          2002,
          2003,
          2004,
          2005,
          2006,
          2007,
          2008,
          2009,
          2010,
          2011,
          2012,
          2013,
          2014,
          2015,
          2016,
          2017,
          2018,
          2019,
          2020,
          2021,
          2022
         ],
         "xaxis": "x",
         "y": [
          20112.298954563732,
          22256.91538189099,
          22009.749925464846,
          23084.89075937786,
          23722.34978106487,
          24196.293773598874,
          24503.51696303577,
          26272.411912375603,
          26032.234566607272,
          23765.582881443646,
          25176.97982943008,
          24411.88348776087,
          24906.28508060301,
          25104.42013681213,
          24539.060135222495,
          24306.896798040038,
          24705.886511076398,
          24751.271479069965,
          25353.316676982533,
          24731.138109341326,
          23831.504855390853,
          24360.878843306335,
          23166.087310489027
         ],
         "yaxis": "y"
        },
        {
         "hovertemplate": "geo=EL<br>TIME_PERIOD=%{x}<br>energy_consumption_PC_kwh=%{y}<extra></extra>",
         "legendgroup": "EL",
         "line": {
          "color": "#FF97FF",
          "dash": "solid"
         },
         "marker": {
          "symbol": "circle"
         },
         "mode": "lines",
         "name": "EL",
         "orientation": "v",
         "showlegend": true,
         "type": "scatter",
         "x": [
          2000,
          2001,
          2002,
          2003,
          2004,
          2005,
          2006,
          2007,
          2008,
          2009,
          2010,
          2011,
          2012,
          2013,
          2014,
          2015,
          2016,
          2017,
          2018,
          2019,
          2020,
          2021,
          2022
         ],
         "xaxis": "x",
         "y": [
          19226.785852218934,
          19844.781000184234,
          20174.548199531502,
          21211.638016962683,
          20892.647908205643,
          21374.227376699226,
          21784.577901719535,
          22207.53214668884,
          21404.430656134955,
          20638.485158538464,
          19210.62280282849,
          19077.00385499142,
          17336.731610475286,
          15612.315473312561,
          15856.652844008913,
          16976.29423462047,
          17137.904010450035,
          17008.40970229952,
          16419.935980823153,
          16695.406894486343,
          15759.43519731741,
          16580.256548367834,
          17197.86197056995
         ],
         "yaxis": "y"
        },
        {
         "hovertemplate": "geo=ES<br>TIME_PERIOD=%{x}<br>energy_consumption_PC_kwh=%{y}<extra></extra>",
         "legendgroup": "ES",
         "line": {
          "color": "#FECB52",
          "dash": "solid"
         },
         "marker": {
          "symbol": "circle"
         },
         "mode": "lines",
         "name": "ES",
         "orientation": "v",
         "showlegend": true,
         "type": "scatter",
         "x": [
          2000,
          2001,
          2002,
          2003,
          2004,
          2005,
          2006,
          2007,
          2008,
          2009,
          2010,
          2011,
          2012,
          2013,
          2014,
          2015,
          2016,
          2017,
          2018,
          2019,
          2020,
          2021,
          2022
         ],
         "xaxis": "x",
         "y": [
          21831.923216570685,
          22697.52506611506,
          22660.48594240037,
          23676.35522983504,
          24319.374008028117,
          24764.156240866418,
          23743.53451692595,
          23903.512560254578,
          22754.2441681555,
          21065.058807567828,
          21307.486907178052,
          20466.43286452225,
          19668.46453797847,
          19023.814050593537,
          18824.04467506181,
          19209.032276605358,
          19603.396130187342,
          20050.730870379226,
          20393.94258835838,
          20204.476029760313,
          17939.791456675477,
          19404.24319216167,
          19020.42721484404
         ],
         "yaxis": "y"
        },
        {
         "hovertemplate": "geo=FI<br>TIME_PERIOD=%{x}<br>energy_consumption_PC_kwh=%{y}<extra></extra>",
         "legendgroup": "FI",
         "line": {
          "color": "#636efa",
          "dash": "solid"
         },
         "marker": {
          "symbol": "circle"
         },
         "mode": "lines",
         "name": "FI",
         "orientation": "v",
         "showlegend": true,
         "type": "scatter",
         "x": [
          2000,
          2001,
          2002,
          2003,
          2004,
          2005,
          2006,
          2007,
          2008,
          2009,
          2010,
          2011,
          2012,
          2013,
          2014,
          2015,
          2016,
          2017,
          2018,
          2019,
          2020,
          2021,
          2022
         ],
         "xaxis": "x",
         "y": [
          52260.781318306974,
          53258.353912807965,
          54534.861547415196,
          55083.67862564591,
          55371.49637427719,
          53138.724745889136,
          55614.39447560194,
          55461.172602351035,
          53107.768524349114,
          49530.20512098922,
          54184.02403895167,
          51088.37259850327,
          51332.529096090904,
          50268.00341938668,
          49771.8508127103,
          48852.53424812312,
          50783.97695054438,
          52058.36484900592,
          52741.552385962896,
          52260.99561796915,
          48854.7437535159,
          51995.90140370615,
          48402.80968445193
         ],
         "yaxis": "y"
        },
        {
         "hovertemplate": "geo=FR<br>TIME_PERIOD=%{x}<br>energy_consumption_PC_kwh=%{y}<extra></extra>",
         "legendgroup": "FR",
         "line": {
          "color": "#EF553B",
          "dash": "solid"
         },
         "marker": {
          "symbol": "circle"
         },
         "mode": "lines",
         "name": "FR",
         "orientation": "v",
         "showlegend": true,
         "type": "scatter",
         "x": [
          2000,
          2001,
          2002,
          2003,
          2004,
          2005,
          2006,
          2007,
          2008,
          2009,
          2010,
          2011,
          2012,
          2013,
          2014,
          2015,
          2016,
          2017,
          2018,
          2019,
          2020,
          2021,
          2022
         ],
         "xaxis": "x",
         "y": [
          27678.395911794025,
          28538.058212260752,
          27720.68113248513,
          27955.290322594108,
          28070.24015311073,
          27727.394156237027,
          27052.93494475966,
          26201.792257942012,
          26508.989323518457,
          25586.977613708474,
          26177.571593014272,
          25301.09712637914,
          26041.298346731382,
          26335.92068008363,
          24197.77555358783,
          24706.123291602285,
          25117.214796699933,
          24857.445438072118,
          24452.088513394418,
          24141.458018923564,
          22037.93052290726,
          23994.025344212616,
          22870.646135931544
         ],
         "yaxis": "y"
        },
        {
         "hovertemplate": "geo=HR<br>TIME_PERIOD=%{x}<br>energy_consumption_PC_kwh=%{y}<extra></extra>",
         "legendgroup": "HR",
         "line": {
          "color": "#00cc96",
          "dash": "solid"
         },
         "marker": {
          "symbol": "circle"
         },
         "mode": "lines",
         "name": "HR",
         "orientation": "v",
         "showlegend": true,
         "type": "scatter",
         "x": [
          2000,
          2001,
          2002,
          2003,
          2004,
          2005,
          2006,
          2007,
          2008,
          2009,
          2010,
          2011,
          2012,
          2013,
          2014,
          2015,
          2016,
          2017,
          2018,
          2019,
          2020,
          2021,
          2022
         ],
         "xaxis": "x",
         "y": [
          16034.929643437665,
          16843.04170438979,
          17058.42870229462,
          18260.182199281193,
          18682.525834166307,
          19321.712969801418,
          19346.290625079688,
          19426.82307169791,
          19727.20889805457,
          19191.52017257411,
          19329.262257459864,
          18700.268055259327,
          17956.78401281792,
          17834.89384564609,
          17053.289531119382,
          18256.63289450911,
          18628.202528753158,
          19680.21201985581,
          19583.8226652919,
          19888.8074801367,
          19216.254913273122,
          20739.773270106838,
          20292.42768042953
         ],
         "yaxis": "y"
        },
        {
         "hovertemplate": "geo=HU<br>TIME_PERIOD=%{x}<br>energy_consumption_PC_kwh=%{y}<extra></extra>",
         "legendgroup": "HU",
         "line": {
          "color": "#ab63fa",
          "dash": "solid"
         },
         "marker": {
          "symbol": "circle"
         },
         "mode": "lines",
         "name": "HU",
         "orientation": "v",
         "showlegend": true,
         "type": "scatter",
         "x": [
          2000,
          2001,
          2002,
          2003,
          2004,
          2005,
          2006,
          2007,
          2008,
          2009,
          2010,
          2011,
          2012,
          2013,
          2014,
          2015,
          2016,
          2017,
          2018,
          2019,
          2020,
          2021,
          2022
         ],
         "xaxis": "x",
         "y": [
          17825.633917754167,
          18817.428418867574,
          18942.19788250508,
          19835.903396567788,
          19628.122428522012,
          20964.998445405243,
          20661.5488252817,
          19548.856735535,
          19557.276137165132,
          19234.193840742522,
          19659.062409308008,
          19809.92879023956,
          18809.132058310806,
          19192.53748419959,
          18691.33436934397,
          20013.858570836674,
          20626.66186988166,
          21400.8613647489,
          21400.256095911536,
          21567.658846142414,
          21215.830432304498,
          22743.023471544326,
          21739.947752773405
         ],
         "yaxis": "y"
        },
        {
         "hovertemplate": "geo=IE<br>TIME_PERIOD=%{x}<br>energy_consumption_PC_kwh=%{y}<extra></extra>",
         "legendgroup": "IE",
         "line": {
          "color": "#FFA15A",
          "dash": "solid"
         },
         "marker": {
          "symbol": "circle"
         },
         "mode": "lines",
         "name": "IE",
         "orientation": "v",
         "showlegend": true,
         "type": "scatter",
         "x": [
          2000,
          2001,
          2002,
          2003,
          2004,
          2005,
          2006,
          2007,
          2008,
          2009,
          2010,
          2011,
          2012,
          2013,
          2014,
          2015,
          2016,
          2017,
          2018,
          2019,
          2020,
          2021,
          2022
         ],
         "xaxis": "x",
         "y": [
          30942.054115769144,
          31420.152616789695,
          30901.465141311302,
          31408.147881368655,
          31684.375601944903,
          32624.89698575813,
          32990.662465859226,
          31876.07646432686,
          31623.976571454103,
          28720.399575507072,
          28465.796856229685,
          26256.42654294665,
          25661.218249291345,
          25691.26957910688,
          25325.79938503006,
          25863.585699214986,
          26454.993241521377,
          26023.892582232176,
          26666.964691089284,
          26233.92431073694,
          24879.509198240423,
          24908.07110289183,
          24246.763143342512
         ],
         "yaxis": "y"
        },
        {
         "hovertemplate": "geo=IT<br>TIME_PERIOD=%{x}<br>energy_consumption_PC_kwh=%{y}<extra></extra>",
         "legendgroup": "IT",
         "line": {
          "color": "#19d3f3",
          "dash": "solid"
         },
         "marker": {
          "symbol": "circle"
         },
         "mode": "lines",
         "name": "IT",
         "orientation": "v",
         "showlegend": true,
         "type": "scatter",
         "x": [
          2000,
          2001,
          2002,
          2003,
          2004,
          2005,
          2006,
          2007,
          2008,
          2009,
          2010,
          2011,
          2012,
          2013,
          2014,
          2015,
          2016,
          2017,
          2018,
          2019,
          2020,
          2021,
          2022
         ],
         "xaxis": "x",
         "y": [
          24448.467901337994,
          24691.39212401745,
          24755.581495299455,
          25809.550268963114,
          25672.330311185404,
          26239.092143566857,
          25795.568504748488,
          25434.710576220183,
          25263.417065922196,
          23752.40032235715,
          23872.21224245205,
          22739.047205328457,
          22489.08759347568,
          21980.679057375168,
          20995.03899934683,
          21671.169873959905,
          21598.977530557928,
          22044.504459283427,
          22222.455836017492,
          22058.12660140203,
          20233.478075311803,
          22602.833759497036,
          21837.391624731485
         ],
         "yaxis": "y"
        },
        {
         "hovertemplate": "geo=LT<br>TIME_PERIOD=%{x}<br>energy_consumption_PC_kwh=%{y}<extra></extra>",
         "legendgroup": "LT",
         "line": {
          "color": "#FF6692",
          "dash": "solid"
         },
         "marker": {
          "symbol": "circle"
         },
         "mode": "lines",
         "name": "LT",
         "orientation": "v",
         "showlegend": true,
         "type": "scatter",
         "x": [
          2000,
          2001,
          2002,
          2003,
          2004,
          2005,
          2006,
          2007,
          2008,
          2009,
          2010,
          2011,
          2012,
          2013,
          2014,
          2015,
          2016,
          2017,
          2018,
          2019,
          2020,
          2021,
          2022
         ],
         "xaxis": "x",
         "y": [
          12480.689119982288,
          13086.844435464565,
          13751.339429992217,
          14300.684715685442,
          15128.012768164233,
          16340.823779916014,
          17449.499581997814,
          18629.441216707313,
          18462.17825178023,
          17049.839336774057,
          18124.5949338725,
          18307.606668040553,
          18919.01465624209,
          18591.139612369916,
          19076.540570018085,
          19196.787647902507,
          20351.807593849346,
          21559.169202462672,
          22607.33020411066,
          22598.066105167407,
          21864.321085997708,
          23468.70596486526,
          21884.764490972007
         ],
         "yaxis": "y"
        },
        {
         "hovertemplate": "geo=LU<br>TIME_PERIOD=%{x}<br>energy_consumption_PC_kwh=%{y}<extra></extra>",
         "legendgroup": "LU",
         "line": {
          "color": "#B6E880",
          "dash": "solid"
         },
         "marker": {
          "symbol": "circle"
         },
         "mode": "lines",
         "name": "LU",
         "orientation": "v",
         "showlegend": true,
         "type": "scatter",
         "x": [
          2000,
          2001,
          2002,
          2003,
          2004,
          2005,
          2006,
          2007,
          2008,
          2009,
          2010,
          2011,
          2012,
          2013,
          2014,
          2015,
          2016,
          2017,
          2018,
          2019,
          2020,
          2021,
          2022
         ],
         "xaxis": "x",
         "y": [
          84371.70159453302,
          87157.58135345118,
          86512.27526210128,
          91025.82864427642,
          99856.7829499382,
          100297.19923425556,
          97830.75136448495,
          93927.72825078185,
          92969.29078014185,
          84763.67051343847,
          88506.05267271023,
          86178.73385500321,
          82275.47533791773,
          79407.67901324407,
          74304.53071099443,
          71340.58367129487,
          69582.15204167493,
          69714.84788332324,
          70816.36732074268,
          70437.68966376409,
          59920.02426228476,
          61978.70612971551,
          53261.27973438618
         ],
         "yaxis": "y"
        },
        {
         "hovertemplate": "geo=LV<br>TIME_PERIOD=%{x}<br>energy_consumption_PC_kwh=%{y}<extra></extra>",
         "legendgroup": "LV",
         "line": {
          "color": "#FF97FF",
          "dash": "solid"
         },
         "marker": {
          "symbol": "circle"
         },
         "mode": "lines",
         "name": "LV",
         "orientation": "v",
         "showlegend": true,
         "type": "scatter",
         "x": [
          2000,
          2001,
          2002,
          2003,
          2004,
          2005,
          2006,
          2007,
          2008,
          2009,
          2010,
          2011,
          2012,
          2013,
          2014,
          2015,
          2016,
          2017,
          2018,
          2019,
          2020,
          2021,
          2022
         ],
         "xaxis": "x",
         "y": [
          15950.496816499133,
          17768.16234344813,
          18166.66985591831,
          19194.31325004832,
          19945.151494138834,
          20669.175635605967,
          21732.16665761214,
          22678.05512339117,
          21811.489924793117,
          21595.25848571849,
          22436.086387529194,
          21334.960703008048,
          22459.112818549034,
          21687.087178011338,
          22111.540429062843,
          21737.57070367712,
          22050.619040098125,
          23298.700513187952,
          24379.5834097235,
          23926.56820475186,
          23332.11407214047,
          24678.461016005804,
          23605.850851403713
         ],
         "yaxis": "y"
        },
        {
         "hovertemplate": "geo=MT<br>TIME_PERIOD=%{x}<br>energy_consumption_PC_kwh=%{y}<extra></extra>",
         "legendgroup": "MT",
         "line": {
          "color": "#FECB52",
          "dash": "solid"
         },
         "marker": {
          "symbol": "circle"
         },
         "mode": "lines",
         "name": "MT",
         "orientation": "v",
         "showlegend": true,
         "type": "scatter",
         "x": [
          2000,
          2001,
          2002,
          2003,
          2004,
          2005,
          2006,
          2007,
          2008,
          2009,
          2010,
          2011,
          2012,
          2013,
          2014,
          2015,
          2016,
          2017,
          2018,
          2019,
          2020,
          2021,
          2022
         ],
         "xaxis": "x",
         "y": [
          9488.295032127025,
          9109.474180330986,
          8055.847529298053,
          9212.29808911463,
          9872.276912990354,
          10797.831599584195,
          10807.566762652361,
          11032.18236921085,
          11451.507084000525,
          10182.50500571219,
          11247.782471342614,
          10819.890503082295,
          11237.975248182525,
          11438.711591102308,
          11548.131858114653,
          11958.706506388517,
          11614.408707482993,
          12059.679426834893,
          12135.357670274743,
          12320.61842654728,
          11283.621215790748,
          11766.764582620432,
          12718.31986289113
         ],
         "yaxis": "y"
        },
        {
         "hovertemplate": "geo=NL<br>TIME_PERIOD=%{x}<br>energy_consumption_PC_kwh=%{y}<extra></extra>",
         "legendgroup": "NL",
         "line": {
          "color": "#636efa",
          "dash": "solid"
         },
         "marker": {
          "symbol": "circle"
         },
         "mode": "lines",
         "name": "NL",
         "orientation": "v",
         "showlegend": true,
         "type": "scatter",
         "x": [
          2000,
          2001,
          2002,
          2003,
          2004,
          2005,
          2006,
          2007,
          2008,
          2009,
          2010,
          2011,
          2012,
          2013,
          2014,
          2015,
          2016,
          2017,
          2018,
          2019,
          2020,
          2021,
          2022
         ],
         "xaxis": "x",
         "y": [
          34628.66953460843,
          34987.49037971076,
          34714.69072362315,
          35111.034041512525,
          35368.606140028845,
          34886.514805429826,
          34700.432302448855,
          33925.89299412956,
          34407.836277394585,
          33105.14305620354,
          35448.83923010839,
          32552.609365925924,
          32594.73645786618,
          32409.765617549263,
          29144.18759288802,
          29714.74234235932,
          30192.30492953578,
          30145.85109996552,
          30186.67408703413,
          29446.586071531463,
          27867.053057109086,
          28600.97772273851,
          25706.726368122334
         ],
         "yaxis": "y"
        },
        {
         "hovertemplate": "geo=PL<br>TIME_PERIOD=%{x}<br>energy_consumption_PC_kwh=%{y}<extra></extra>",
         "legendgroup": "PL",
         "line": {
          "color": "#EF553B",
          "dash": "solid"
         },
         "marker": {
          "symbol": "circle"
         },
         "mode": "lines",
         "name": "PL",
         "orientation": "v",
         "showlegend": true,
         "type": "scatter",
         "x": [
          2000,
          2001,
          2002,
          2003,
          2004,
          2005,
          2006,
          2007,
          2008,
          2009,
          2010,
          2011,
          2012,
          2013,
          2014,
          2015,
          2016,
          2017,
          2018,
          2019,
          2020,
          2021,
          2022
         ],
         "xaxis": "x",
         "y": [
          16283.62638582076,
          16471.1601166638,
          16356.512603794215,
          16835.882031519373,
          17293.04050798145,
          17520.69943553034,
          18274.296120974635,
          18332.26144616065,
          18626.392638784542,
          18533.186909173,
          19939.504136304717,
          19435.40425504637,
          19328.507494311663,
          18998.828971312847,
          18422.644296708375,
          18643.01539783975,
          19949.28494388797,
          21199.49607505257,
          22373.16630646158,
          22015.512404744404,
          22015.077053852987,
          23374.68353346068,
          22418.776964605724
         ],
         "yaxis": "y"
        },
        {
         "hovertemplate": "geo=PT<br>TIME_PERIOD=%{x}<br>energy_consumption_PC_kwh=%{y}<extra></extra>",
         "legendgroup": "PT",
         "line": {
          "color": "#00cc96",
          "dash": "solid"
         },
         "marker": {
          "symbol": "circle"
         },
         "mode": "lines",
         "name": "PT",
         "orientation": "v",
         "showlegend": true,
         "type": "scatter",
         "x": [
          2000,
          2001,
          2002,
          2003,
          2004,
          2005,
          2006,
          2007,
          2008,
          2009,
          2010,
          2011,
          2012,
          2013,
          2014,
          2015,
          2016,
          2017,
          2018,
          2019,
          2020,
          2021,
          2022
         ],
         "xaxis": "x",
         "y": [
          19378.486645821504,
          19624.325315216865,
          20099.280469739744,
          19943.40063305341,
          20177.73237696233,
          20199.05026527808,
          19814.684387161065,
          19963.6915861416,
          19346.580814907564,
          19158.893208186255,
          18996.53466690363,
          18108.97702896595,
          16731.685949842005,
          16601.130763689172,
          17214.199623073167,
          17442.806103917672,
          17584.4345166571,
          17891.759491552155,
          18179.229759221853,
          18332.357852399837,
          16958.425856024704,
          17601.65575340916,
          17882.764815809187
         ],
         "yaxis": "y"
        },
        {
         "hovertemplate": "geo=RO<br>TIME_PERIOD=%{x}<br>energy_consumption_PC_kwh=%{y}<extra></extra>",
         "legendgroup": "RO",
         "line": {
          "color": "#ab63fa",
          "dash": "solid"
         },
         "marker": {
          "symbol": "circle"
         },
         "mode": "lines",
         "name": "RO",
         "orientation": "v",
         "showlegend": true,
         "type": "scatter",
         "x": [
          2000,
          2001,
          2002,
          2003,
          2004,
          2005,
          2006,
          2007,
          2008,
          2009,
          2010,
          2011,
          2012,
          2013,
          2014,
          2015,
          2016,
          2017,
          2018,
          2019,
          2020,
          2021,
          2022
         ],
         "xaxis": "x",
         "y": [
          11379.085053862254,
          11881.220325680515,
          11931.232302342354,
          12527.13373667624,
          12922.637984573634,
          12904.652797927989,
          13092.921214416903,
          13058.227051880598,
          13622.892679115608,
          12478.668033395741,
          12689.249484344791,
          13073.685374937375,
          13145.66659443916,
          12611.84101456081,
          12566.293085474268,
          12712.720650729721,
          12986.541402647706,
          13682.107710346148,
          14044.323101886232,
          14267.705177103766,
          14216.674369124923,
          15439.36939853606,
          14601.622667722164
         ],
         "yaxis": "y"
        },
        {
         "hovertemplate": "geo=SE<br>TIME_PERIOD=%{x}<br>energy_consumption_PC_kwh=%{y}<extra></extra>",
         "legendgroup": "SE",
         "line": {
          "color": "#FFA15A",
          "dash": "solid"
         },
         "marker": {
          "symbol": "circle"
         },
         "mode": "lines",
         "name": "SE",
         "orientation": "v",
         "showlegend": true,
         "type": "scatter",
         "x": [
          2000,
          2001,
          2002,
          2003,
          2004,
          2005,
          2006,
          2007,
          2008,
          2009,
          2010,
          2011,
          2012,
          2013,
          2014,
          2015,
          2016,
          2017,
          2018,
          2019,
          2020,
          2021,
          2022
         ],
         "xaxis": "x",
         "y": [
          44079.01209439555,
          43102.64652163489,
          42686.28928456866,
          42212.70545819978,
          41740.953339950145,
          40761.044400863335,
          40473.29138199438,
          40271.46300956111,
          39079.830952750584,
          37673.33798538479,
          40107.26095180643,
          39324.87367992024,
          39324.800936971566,
          38190.32160536427,
          36902.54792197473,
          37201.47158410141,
          37277.89189420112,
          36601.2714913339,
          36070.76274769225,
          35251.928305822395,
          34757.023477991526,
          35779.170397096306,
          34356.90747642268
         ],
         "yaxis": "y"
        },
        {
         "hovertemplate": "geo=SI<br>TIME_PERIOD=%{x}<br>energy_consumption_PC_kwh=%{y}<extra></extra>",
         "legendgroup": "SI",
         "line": {
          "color": "#19d3f3",
          "dash": "solid"
         },
         "marker": {
          "symbol": "circle"
         },
         "mode": "lines",
         "name": "SI",
         "orientation": "v",
         "showlegend": true,
         "type": "scatter",
         "x": [
          2000,
          2001,
          2002,
          2003,
          2004,
          2005,
          2006,
          2007,
          2008,
          2009,
          2010,
          2011,
          2012,
          2013,
          2014,
          2015,
          2016,
          2017,
          2018,
          2019,
          2020,
          2021,
          2022
         ],
         "xaxis": "x",
         "y": [
          26546.047573632204,
          27888.46133400467,
          27255.234875814083,
          28171.715755049132,
          28725.18134351894,
          29670.054478530543,
          29497.32910792354,
          29599.13175798861,
          31314.108903827175,
          27512.00404889945,
          28630.372126667346,
          28480.54435523105,
          27711.913274636307,
          27097.3322303544,
          25976.888554511814,
          26601.95582960467,
          27604.35791751275,
          27987.87447747329,
          27774.492192831207,
          27090.860033179684,
          24524.12899713937,
          26338.488880873963,
          26171.013598668284
         ],
         "yaxis": "y"
        },
        {
         "hovertemplate": "geo=SK<br>TIME_PERIOD=%{x}<br>energy_consumption_PC_kwh=%{y}<extra></extra>",
         "legendgroup": "SK",
         "line": {
          "color": "#FF6692",
          "dash": "solid"
         },
         "marker": {
          "symbol": "circle"
         },
         "mode": "lines",
         "name": "SK",
         "orientation": "v",
         "showlegend": true,
         "type": "scatter",
         "x": [
          2000,
          2001,
          2002,
          2003,
          2004,
          2005,
          2006,
          2007,
          2008,
          2009,
          2010,
          2011,
          2012,
          2013,
          2014,
          2015,
          2016,
          2017,
          2018,
          2019,
          2020,
          2021,
          2022
         ],
         "xaxis": "x",
         "y": [
          21460.68078968793,
          22644.810670333303,
          22797.25325603042,
          21663.212006980804,
          21386.452956017336,
          22516.221136780543,
          21884.47790693779,
          22027.890106963012,
          22754.239046849165,
          20830.29324300007,
          23913.16593620038,
          22385.525510878146,
          21384.21493462378,
          21705.276028263932,
          19550.73137700598,
          20415.432604309564,
          21149.24596295027,
          22517.106549185024,
          22191.31953293149,
          21826.371738587542,
          20472.881604591832,
          22487.283226783682,
          21259.17846916957
         ],
         "yaxis": "y"
        }
       ],
       "layout": {
        "legend": {
         "title": {
          "text": "geo"
         },
         "tracegroupgap": 0
        },
        "margin": {
         "t": 60
        },
        "template": {
         "data": {
          "bar": [
           {
            "error_x": {
             "color": "#2a3f5f"
            },
            "error_y": {
             "color": "#2a3f5f"
            },
            "marker": {
             "line": {
              "color": "#E5ECF6",
              "width": 0.5
             },
             "pattern": {
              "fillmode": "overlay",
              "size": 10,
              "solidity": 0.2
             }
            },
            "type": "bar"
           }
          ],
          "barpolar": [
           {
            "marker": {
             "line": {
              "color": "#E5ECF6",
              "width": 0.5
             },
             "pattern": {
              "fillmode": "overlay",
              "size": 10,
              "solidity": 0.2
             }
            },
            "type": "barpolar"
           }
          ],
          "carpet": [
           {
            "aaxis": {
             "endlinecolor": "#2a3f5f",
             "gridcolor": "white",
             "linecolor": "white",
             "minorgridcolor": "white",
             "startlinecolor": "#2a3f5f"
            },
            "baxis": {
             "endlinecolor": "#2a3f5f",
             "gridcolor": "white",
             "linecolor": "white",
             "minorgridcolor": "white",
             "startlinecolor": "#2a3f5f"
            },
            "type": "carpet"
           }
          ],
          "choropleth": [
           {
            "colorbar": {
             "outlinewidth": 0,
             "ticks": ""
            },
            "type": "choropleth"
           }
          ],
          "contour": [
           {
            "colorbar": {
             "outlinewidth": 0,
             "ticks": ""
            },
            "colorscale": [
             [
              0,
              "#0d0887"
             ],
             [
              0.1111111111111111,
              "#46039f"
             ],
             [
              0.2222222222222222,
              "#7201a8"
             ],
             [
              0.3333333333333333,
              "#9c179e"
             ],
             [
              0.4444444444444444,
              "#bd3786"
             ],
             [
              0.5555555555555556,
              "#d8576b"
             ],
             [
              0.6666666666666666,
              "#ed7953"
             ],
             [
              0.7777777777777778,
              "#fb9f3a"
             ],
             [
              0.8888888888888888,
              "#fdca26"
             ],
             [
              1,
              "#f0f921"
             ]
            ],
            "type": "contour"
           }
          ],
          "contourcarpet": [
           {
            "colorbar": {
             "outlinewidth": 0,
             "ticks": ""
            },
            "type": "contourcarpet"
           }
          ],
          "heatmap": [
           {
            "colorbar": {
             "outlinewidth": 0,
             "ticks": ""
            },
            "colorscale": [
             [
              0,
              "#0d0887"
             ],
             [
              0.1111111111111111,
              "#46039f"
             ],
             [
              0.2222222222222222,
              "#7201a8"
             ],
             [
              0.3333333333333333,
              "#9c179e"
             ],
             [
              0.4444444444444444,
              "#bd3786"
             ],
             [
              0.5555555555555556,
              "#d8576b"
             ],
             [
              0.6666666666666666,
              "#ed7953"
             ],
             [
              0.7777777777777778,
              "#fb9f3a"
             ],
             [
              0.8888888888888888,
              "#fdca26"
             ],
             [
              1,
              "#f0f921"
             ]
            ],
            "type": "heatmap"
           }
          ],
          "heatmapgl": [
           {
            "colorbar": {
             "outlinewidth": 0,
             "ticks": ""
            },
            "colorscale": [
             [
              0,
              "#0d0887"
             ],
             [
              0.1111111111111111,
              "#46039f"
             ],
             [
              0.2222222222222222,
              "#7201a8"
             ],
             [
              0.3333333333333333,
              "#9c179e"
             ],
             [
              0.4444444444444444,
              "#bd3786"
             ],
             [
              0.5555555555555556,
              "#d8576b"
             ],
             [
              0.6666666666666666,
              "#ed7953"
             ],
             [
              0.7777777777777778,
              "#fb9f3a"
             ],
             [
              0.8888888888888888,
              "#fdca26"
             ],
             [
              1,
              "#f0f921"
             ]
            ],
            "type": "heatmapgl"
           }
          ],
          "histogram": [
           {
            "marker": {
             "pattern": {
              "fillmode": "overlay",
              "size": 10,
              "solidity": 0.2
             }
            },
            "type": "histogram"
           }
          ],
          "histogram2d": [
           {
            "colorbar": {
             "outlinewidth": 0,
             "ticks": ""
            },
            "colorscale": [
             [
              0,
              "#0d0887"
             ],
             [
              0.1111111111111111,
              "#46039f"
             ],
             [
              0.2222222222222222,
              "#7201a8"
             ],
             [
              0.3333333333333333,
              "#9c179e"
             ],
             [
              0.4444444444444444,
              "#bd3786"
             ],
             [
              0.5555555555555556,
              "#d8576b"
             ],
             [
              0.6666666666666666,
              "#ed7953"
             ],
             [
              0.7777777777777778,
              "#fb9f3a"
             ],
             [
              0.8888888888888888,
              "#fdca26"
             ],
             [
              1,
              "#f0f921"
             ]
            ],
            "type": "histogram2d"
           }
          ],
          "histogram2dcontour": [
           {
            "colorbar": {
             "outlinewidth": 0,
             "ticks": ""
            },
            "colorscale": [
             [
              0,
              "#0d0887"
             ],
             [
              0.1111111111111111,
              "#46039f"
             ],
             [
              0.2222222222222222,
              "#7201a8"
             ],
             [
              0.3333333333333333,
              "#9c179e"
             ],
             [
              0.4444444444444444,
              "#bd3786"
             ],
             [
              0.5555555555555556,
              "#d8576b"
             ],
             [
              0.6666666666666666,
              "#ed7953"
             ],
             [
              0.7777777777777778,
              "#fb9f3a"
             ],
             [
              0.8888888888888888,
              "#fdca26"
             ],
             [
              1,
              "#f0f921"
             ]
            ],
            "type": "histogram2dcontour"
           }
          ],
          "mesh3d": [
           {
            "colorbar": {
             "outlinewidth": 0,
             "ticks": ""
            },
            "type": "mesh3d"
           }
          ],
          "parcoords": [
           {
            "line": {
             "colorbar": {
              "outlinewidth": 0,
              "ticks": ""
             }
            },
            "type": "parcoords"
           }
          ],
          "pie": [
           {
            "automargin": true,
            "type": "pie"
           }
          ],
          "scatter": [
           {
            "fillpattern": {
             "fillmode": "overlay",
             "size": 10,
             "solidity": 0.2
            },
            "type": "scatter"
           }
          ],
          "scatter3d": [
           {
            "line": {
             "colorbar": {
              "outlinewidth": 0,
              "ticks": ""
             }
            },
            "marker": {
             "colorbar": {
              "outlinewidth": 0,
              "ticks": ""
             }
            },
            "type": "scatter3d"
           }
          ],
          "scattercarpet": [
           {
            "marker": {
             "colorbar": {
              "outlinewidth": 0,
              "ticks": ""
             }
            },
            "type": "scattercarpet"
           }
          ],
          "scattergeo": [
           {
            "marker": {
             "colorbar": {
              "outlinewidth": 0,
              "ticks": ""
             }
            },
            "type": "scattergeo"
           }
          ],
          "scattergl": [
           {
            "marker": {
             "colorbar": {
              "outlinewidth": 0,
              "ticks": ""
             }
            },
            "type": "scattergl"
           }
          ],
          "scattermapbox": [
           {
            "marker": {
             "colorbar": {
              "outlinewidth": 0,
              "ticks": ""
             }
            },
            "type": "scattermapbox"
           }
          ],
          "scatterpolar": [
           {
            "marker": {
             "colorbar": {
              "outlinewidth": 0,
              "ticks": ""
             }
            },
            "type": "scatterpolar"
           }
          ],
          "scatterpolargl": [
           {
            "marker": {
             "colorbar": {
              "outlinewidth": 0,
              "ticks": ""
             }
            },
            "type": "scatterpolargl"
           }
          ],
          "scatterternary": [
           {
            "marker": {
             "colorbar": {
              "outlinewidth": 0,
              "ticks": ""
             }
            },
            "type": "scatterternary"
           }
          ],
          "surface": [
           {
            "colorbar": {
             "outlinewidth": 0,
             "ticks": ""
            },
            "colorscale": [
             [
              0,
              "#0d0887"
             ],
             [
              0.1111111111111111,
              "#46039f"
             ],
             [
              0.2222222222222222,
              "#7201a8"
             ],
             [
              0.3333333333333333,
              "#9c179e"
             ],
             [
              0.4444444444444444,
              "#bd3786"
             ],
             [
              0.5555555555555556,
              "#d8576b"
             ],
             [
              0.6666666666666666,
              "#ed7953"
             ],
             [
              0.7777777777777778,
              "#fb9f3a"
             ],
             [
              0.8888888888888888,
              "#fdca26"
             ],
             [
              1,
              "#f0f921"
             ]
            ],
            "type": "surface"
           }
          ],
          "table": [
           {
            "cells": {
             "fill": {
              "color": "#EBF0F8"
             },
             "line": {
              "color": "white"
             }
            },
            "header": {
             "fill": {
              "color": "#C8D4E3"
             },
             "line": {
              "color": "white"
             }
            },
            "type": "table"
           }
          ]
         },
         "layout": {
          "annotationdefaults": {
           "arrowcolor": "#2a3f5f",
           "arrowhead": 0,
           "arrowwidth": 1
          },
          "autotypenumbers": "strict",
          "coloraxis": {
           "colorbar": {
            "outlinewidth": 0,
            "ticks": ""
           }
          },
          "colorscale": {
           "diverging": [
            [
             0,
             "#8e0152"
            ],
            [
             0.1,
             "#c51b7d"
            ],
            [
             0.2,
             "#de77ae"
            ],
            [
             0.3,
             "#f1b6da"
            ],
            [
             0.4,
             "#fde0ef"
            ],
            [
             0.5,
             "#f7f7f7"
            ],
            [
             0.6,
             "#e6f5d0"
            ],
            [
             0.7,
             "#b8e186"
            ],
            [
             0.8,
             "#7fbc41"
            ],
            [
             0.9,
             "#4d9221"
            ],
            [
             1,
             "#276419"
            ]
           ],
           "sequential": [
            [
             0,
             "#0d0887"
            ],
            [
             0.1111111111111111,
             "#46039f"
            ],
            [
             0.2222222222222222,
             "#7201a8"
            ],
            [
             0.3333333333333333,
             "#9c179e"
            ],
            [
             0.4444444444444444,
             "#bd3786"
            ],
            [
             0.5555555555555556,
             "#d8576b"
            ],
            [
             0.6666666666666666,
             "#ed7953"
            ],
            [
             0.7777777777777778,
             "#fb9f3a"
            ],
            [
             0.8888888888888888,
             "#fdca26"
            ],
            [
             1,
             "#f0f921"
            ]
           ],
           "sequentialminus": [
            [
             0,
             "#0d0887"
            ],
            [
             0.1111111111111111,
             "#46039f"
            ],
            [
             0.2222222222222222,
             "#7201a8"
            ],
            [
             0.3333333333333333,
             "#9c179e"
            ],
            [
             0.4444444444444444,
             "#bd3786"
            ],
            [
             0.5555555555555556,
             "#d8576b"
            ],
            [
             0.6666666666666666,
             "#ed7953"
            ],
            [
             0.7777777777777778,
             "#fb9f3a"
            ],
            [
             0.8888888888888888,
             "#fdca26"
            ],
            [
             1,
             "#f0f921"
            ]
           ]
          },
          "colorway": [
           "#636efa",
           "#EF553B",
           "#00cc96",
           "#ab63fa",
           "#FFA15A",
           "#19d3f3",
           "#FF6692",
           "#B6E880",
           "#FF97FF",
           "#FECB52"
          ],
          "font": {
           "color": "#2a3f5f"
          },
          "geo": {
           "bgcolor": "white",
           "lakecolor": "white",
           "landcolor": "#E5ECF6",
           "showlakes": true,
           "showland": true,
           "subunitcolor": "white"
          },
          "hoverlabel": {
           "align": "left"
          },
          "hovermode": "closest",
          "mapbox": {
           "style": "light"
          },
          "paper_bgcolor": "white",
          "plot_bgcolor": "#E5ECF6",
          "polar": {
           "angularaxis": {
            "gridcolor": "white",
            "linecolor": "white",
            "ticks": ""
           },
           "bgcolor": "#E5ECF6",
           "radialaxis": {
            "gridcolor": "white",
            "linecolor": "white",
            "ticks": ""
           }
          },
          "scene": {
           "xaxis": {
            "backgroundcolor": "#E5ECF6",
            "gridcolor": "white",
            "gridwidth": 2,
            "linecolor": "white",
            "showbackground": true,
            "ticks": "",
            "zerolinecolor": "white"
           },
           "yaxis": {
            "backgroundcolor": "#E5ECF6",
            "gridcolor": "white",
            "gridwidth": 2,
            "linecolor": "white",
            "showbackground": true,
            "ticks": "",
            "zerolinecolor": "white"
           },
           "zaxis": {
            "backgroundcolor": "#E5ECF6",
            "gridcolor": "white",
            "gridwidth": 2,
            "linecolor": "white",
            "showbackground": true,
            "ticks": "",
            "zerolinecolor": "white"
           }
          },
          "shapedefaults": {
           "line": {
            "color": "#2a3f5f"
           }
          },
          "ternary": {
           "aaxis": {
            "gridcolor": "white",
            "linecolor": "white",
            "ticks": ""
           },
           "baxis": {
            "gridcolor": "white",
            "linecolor": "white",
            "ticks": ""
           },
           "bgcolor": "#E5ECF6",
           "caxis": {
            "gridcolor": "white",
            "linecolor": "white",
            "ticks": ""
           }
          },
          "title": {
           "x": 0.05
          },
          "xaxis": {
           "automargin": true,
           "gridcolor": "white",
           "linecolor": "white",
           "ticks": "",
           "title": {
            "standoff": 15
           },
           "zerolinecolor": "white",
           "zerolinewidth": 2
          },
          "yaxis": {
           "automargin": true,
           "gridcolor": "white",
           "linecolor": "white",
           "ticks": "",
           "title": {
            "standoff": 15
           },
           "zerolinecolor": "white",
           "zerolinewidth": 2
          }
         }
        },
        "xaxis": {
         "anchor": "y",
         "domain": [
          0,
          1
         ],
         "title": {
          "text": "TIME_PERIOD"
         }
        },
        "yaxis": {
         "anchor": "x",
         "domain": [
          0,
          1
         ],
         "title": {
          "text": "energy_consumption_PC_kwh"
         }
        }
       }
      }
     },
     "metadata": {},
     "output_type": "display_data"
    }
   ],
   "source": [
    "consumption_pc_by_coubtry = dataset_by_country.merge(demo_pjan.data, on=['TIME_PERIOD', 'geo'], how='inner')\n",
    "\n",
    "consumption_pc_by_coubtry.rename(columns={'OBS_VALUE_x': 'energy_consumption_gwh', 'OBS_VALUE_y': 'population'}, inplace=True)\n",
    "\n",
    "consumption_pc_by_coubtry = calculate_energy_consumption_per_capita(consumption_pc_by_coubtry)\n",
    "\n",
    "fig = px.line(consumption_pc_by_coubtry, x='TIME_PERIOD', y='energy_consumption_PC_kwh', color='geo')\n",
    "fig.show()"
   ]
  },
  {
   "cell_type": "code",
   "execution_count": 13,
   "metadata": {},
   "outputs": [
    {
     "data": {
      "application/vnd.plotly.v1+json": {
       "config": {
        "plotlyServerURL": "https://plot.ly"
       },
       "data": [
        {
         "link": {
          "source": [
           0,
           0,
           0,
           0,
           0,
           0,
           0,
           8,
           8,
           8,
           8,
           8,
           8,
           8,
           9,
           9,
           9,
           9,
           9,
           9,
           9,
           10,
           10,
           10,
           10,
           10,
           10,
           10,
           11,
           11,
           11,
           11,
           11,
           11,
           11,
           12,
           12,
           12,
           12,
           12,
           12,
           12,
           13,
           13,
           13,
           13,
           13,
           13,
           13,
           14,
           14,
           14,
           14,
           14,
           14,
           14,
           15,
           15,
           15,
           15,
           15,
           15,
           15,
           16,
           16,
           16,
           16,
           16,
           16,
           16,
           17,
           17,
           17,
           17,
           17,
           17,
           17
          ],
          "target": [
           1,
           2,
           3,
           4,
           5,
           6,
           7,
           1,
           2,
           3,
           4,
           5,
           6,
           7,
           1,
           2,
           3,
           4,
           5,
           6,
           7,
           1,
           2,
           3,
           4,
           5,
           6,
           7,
           1,
           2,
           3,
           4,
           5,
           6,
           7,
           1,
           2,
           3,
           4,
           5,
           6,
           7,
           1,
           2,
           3,
           4,
           5,
           6,
           7,
           1,
           2,
           3,
           4,
           5,
           6,
           7,
           1,
           2,
           3,
           4,
           5,
           6,
           7,
           1,
           2,
           3,
           4,
           5,
           6,
           7,
           1,
           2,
           3,
           4,
           5,
           6,
           7
          ],
          "value": [
           119460.33500000002,
           6056.6849999999995,
           5008.197,
           0.397,
           63640.33999999999,
           900.513,
           5.322,
           50892.44899999999,
           0,
           121.164,
           0,
           0,
           0,
           0,
           869017.161,
           47147.574,
           714457.6830000001,
           714.619,
           707529.3,
           2651.43,
           65419.123999999996,
           830858.323,
           36227.171,
           370406.248,
           169.85500000000002,
           865896.9600000001,
           1350.999,
           38721.042,
           148627.195,
           2550.2670000000003,
           108062.314,
           0.543,
           230719.05599999998,
           523.1709999999999,
           0,
           0,
           0,
           0,
           0,
           0,
           0,
           0,
           288842.821,
           180570.36399999997,
           95710.673,
           14597.116,
           302969.29900000006,
           23534.713,
           2964447.864,
           838.498,
           524.224,
           114.225,
           0,
           2068.848,
           0,
           0,
           274607.13999999996,
           37847.361,
           110286.98799999998,
           437.015,
           645139.4880000001,
           18697.16,
           194764.74,
           0,
           0,
           0,
           0,
           0,
           0,
           0,
           55257.589,
           1.3989999999999998,
           3688.038,
           0,
           0,
           3.056,
           0
          ]
         },
         "node": {
          "color": "blue",
          "label": [
           "Solid fossil fuels",
           "Final consumption - industry sector - energy use",
           "Final consumption - other sectors - agriculture and forestry - energy use",
           "Final consumption - other sectors - commercial and public services - energy use",
           "Final consumption - other sectors - fishing - energy use",
           "Final consumption - other sectors - households - energy use",
           "Final consumption - other sectors - not elsewhere specified - energy use",
           "Final consumption - transport sector - energy use",
           "Manufactured gases",
           "Electricity",
           "Natural gas",
           "Heat",
           "Nuclear heat",
           "Oil and petroleum products (excluding biofuel portion)",
           "Peat and peat products",
           "Renewables and biofuels",
           "Oil shale and oil sands",
           "Non-renewable waste"
          ],
          "line": {
           "color": "black",
           "width": 0.5
          },
          "pad": 15,
          "thickness": 20
         },
         "type": "sankey"
        }
       ],
       "layout": {
        "font": {
         "size": 10
        },
        "template": {
         "data": {
          "bar": [
           {
            "error_x": {
             "color": "#2a3f5f"
            },
            "error_y": {
             "color": "#2a3f5f"
            },
            "marker": {
             "line": {
              "color": "#E5ECF6",
              "width": 0.5
             },
             "pattern": {
              "fillmode": "overlay",
              "size": 10,
              "solidity": 0.2
             }
            },
            "type": "bar"
           }
          ],
          "barpolar": [
           {
            "marker": {
             "line": {
              "color": "#E5ECF6",
              "width": 0.5
             },
             "pattern": {
              "fillmode": "overlay",
              "size": 10,
              "solidity": 0.2
             }
            },
            "type": "barpolar"
           }
          ],
          "carpet": [
           {
            "aaxis": {
             "endlinecolor": "#2a3f5f",
             "gridcolor": "white",
             "linecolor": "white",
             "minorgridcolor": "white",
             "startlinecolor": "#2a3f5f"
            },
            "baxis": {
             "endlinecolor": "#2a3f5f",
             "gridcolor": "white",
             "linecolor": "white",
             "minorgridcolor": "white",
             "startlinecolor": "#2a3f5f"
            },
            "type": "carpet"
           }
          ],
          "choropleth": [
           {
            "colorbar": {
             "outlinewidth": 0,
             "ticks": ""
            },
            "type": "choropleth"
           }
          ],
          "contour": [
           {
            "colorbar": {
             "outlinewidth": 0,
             "ticks": ""
            },
            "colorscale": [
             [
              0,
              "#0d0887"
             ],
             [
              0.1111111111111111,
              "#46039f"
             ],
             [
              0.2222222222222222,
              "#7201a8"
             ],
             [
              0.3333333333333333,
              "#9c179e"
             ],
             [
              0.4444444444444444,
              "#bd3786"
             ],
             [
              0.5555555555555556,
              "#d8576b"
             ],
             [
              0.6666666666666666,
              "#ed7953"
             ],
             [
              0.7777777777777778,
              "#fb9f3a"
             ],
             [
              0.8888888888888888,
              "#fdca26"
             ],
             [
              1,
              "#f0f921"
             ]
            ],
            "type": "contour"
           }
          ],
          "contourcarpet": [
           {
            "colorbar": {
             "outlinewidth": 0,
             "ticks": ""
            },
            "type": "contourcarpet"
           }
          ],
          "heatmap": [
           {
            "colorbar": {
             "outlinewidth": 0,
             "ticks": ""
            },
            "colorscale": [
             [
              0,
              "#0d0887"
             ],
             [
              0.1111111111111111,
              "#46039f"
             ],
             [
              0.2222222222222222,
              "#7201a8"
             ],
             [
              0.3333333333333333,
              "#9c179e"
             ],
             [
              0.4444444444444444,
              "#bd3786"
             ],
             [
              0.5555555555555556,
              "#d8576b"
             ],
             [
              0.6666666666666666,
              "#ed7953"
             ],
             [
              0.7777777777777778,
              "#fb9f3a"
             ],
             [
              0.8888888888888888,
              "#fdca26"
             ],
             [
              1,
              "#f0f921"
             ]
            ],
            "type": "heatmap"
           }
          ],
          "heatmapgl": [
           {
            "colorbar": {
             "outlinewidth": 0,
             "ticks": ""
            },
            "colorscale": [
             [
              0,
              "#0d0887"
             ],
             [
              0.1111111111111111,
              "#46039f"
             ],
             [
              0.2222222222222222,
              "#7201a8"
             ],
             [
              0.3333333333333333,
              "#9c179e"
             ],
             [
              0.4444444444444444,
              "#bd3786"
             ],
             [
              0.5555555555555556,
              "#d8576b"
             ],
             [
              0.6666666666666666,
              "#ed7953"
             ],
             [
              0.7777777777777778,
              "#fb9f3a"
             ],
             [
              0.8888888888888888,
              "#fdca26"
             ],
             [
              1,
              "#f0f921"
             ]
            ],
            "type": "heatmapgl"
           }
          ],
          "histogram": [
           {
            "marker": {
             "pattern": {
              "fillmode": "overlay",
              "size": 10,
              "solidity": 0.2
             }
            },
            "type": "histogram"
           }
          ],
          "histogram2d": [
           {
            "colorbar": {
             "outlinewidth": 0,
             "ticks": ""
            },
            "colorscale": [
             [
              0,
              "#0d0887"
             ],
             [
              0.1111111111111111,
              "#46039f"
             ],
             [
              0.2222222222222222,
              "#7201a8"
             ],
             [
              0.3333333333333333,
              "#9c179e"
             ],
             [
              0.4444444444444444,
              "#bd3786"
             ],
             [
              0.5555555555555556,
              "#d8576b"
             ],
             [
              0.6666666666666666,
              "#ed7953"
             ],
             [
              0.7777777777777778,
              "#fb9f3a"
             ],
             [
              0.8888888888888888,
              "#fdca26"
             ],
             [
              1,
              "#f0f921"
             ]
            ],
            "type": "histogram2d"
           }
          ],
          "histogram2dcontour": [
           {
            "colorbar": {
             "outlinewidth": 0,
             "ticks": ""
            },
            "colorscale": [
             [
              0,
              "#0d0887"
             ],
             [
              0.1111111111111111,
              "#46039f"
             ],
             [
              0.2222222222222222,
              "#7201a8"
             ],
             [
              0.3333333333333333,
              "#9c179e"
             ],
             [
              0.4444444444444444,
              "#bd3786"
             ],
             [
              0.5555555555555556,
              "#d8576b"
             ],
             [
              0.6666666666666666,
              "#ed7953"
             ],
             [
              0.7777777777777778,
              "#fb9f3a"
             ],
             [
              0.8888888888888888,
              "#fdca26"
             ],
             [
              1,
              "#f0f921"
             ]
            ],
            "type": "histogram2dcontour"
           }
          ],
          "mesh3d": [
           {
            "colorbar": {
             "outlinewidth": 0,
             "ticks": ""
            },
            "type": "mesh3d"
           }
          ],
          "parcoords": [
           {
            "line": {
             "colorbar": {
              "outlinewidth": 0,
              "ticks": ""
             }
            },
            "type": "parcoords"
           }
          ],
          "pie": [
           {
            "automargin": true,
            "type": "pie"
           }
          ],
          "scatter": [
           {
            "fillpattern": {
             "fillmode": "overlay",
             "size": 10,
             "solidity": 0.2
            },
            "type": "scatter"
           }
          ],
          "scatter3d": [
           {
            "line": {
             "colorbar": {
              "outlinewidth": 0,
              "ticks": ""
             }
            },
            "marker": {
             "colorbar": {
              "outlinewidth": 0,
              "ticks": ""
             }
            },
            "type": "scatter3d"
           }
          ],
          "scattercarpet": [
           {
            "marker": {
             "colorbar": {
              "outlinewidth": 0,
              "ticks": ""
             }
            },
            "type": "scattercarpet"
           }
          ],
          "scattergeo": [
           {
            "marker": {
             "colorbar": {
              "outlinewidth": 0,
              "ticks": ""
             }
            },
            "type": "scattergeo"
           }
          ],
          "scattergl": [
           {
            "marker": {
             "colorbar": {
              "outlinewidth": 0,
              "ticks": ""
             }
            },
            "type": "scattergl"
           }
          ],
          "scattermapbox": [
           {
            "marker": {
             "colorbar": {
              "outlinewidth": 0,
              "ticks": ""
             }
            },
            "type": "scattermapbox"
           }
          ],
          "scatterpolar": [
           {
            "marker": {
             "colorbar": {
              "outlinewidth": 0,
              "ticks": ""
             }
            },
            "type": "scatterpolar"
           }
          ],
          "scatterpolargl": [
           {
            "marker": {
             "colorbar": {
              "outlinewidth": 0,
              "ticks": ""
             }
            },
            "type": "scatterpolargl"
           }
          ],
          "scatterternary": [
           {
            "marker": {
             "colorbar": {
              "outlinewidth": 0,
              "ticks": ""
             }
            },
            "type": "scatterternary"
           }
          ],
          "surface": [
           {
            "colorbar": {
             "outlinewidth": 0,
             "ticks": ""
            },
            "colorscale": [
             [
              0,
              "#0d0887"
             ],
             [
              0.1111111111111111,
              "#46039f"
             ],
             [
              0.2222222222222222,
              "#7201a8"
             ],
             [
              0.3333333333333333,
              "#9c179e"
             ],
             [
              0.4444444444444444,
              "#bd3786"
             ],
             [
              0.5555555555555556,
              "#d8576b"
             ],
             [
              0.6666666666666666,
              "#ed7953"
             ],
             [
              0.7777777777777778,
              "#fb9f3a"
             ],
             [
              0.8888888888888888,
              "#fdca26"
             ],
             [
              1,
              "#f0f921"
             ]
            ],
            "type": "surface"
           }
          ],
          "table": [
           {
            "cells": {
             "fill": {
              "color": "#EBF0F8"
             },
             "line": {
              "color": "white"
             }
            },
            "header": {
             "fill": {
              "color": "#C8D4E3"
             },
             "line": {
              "color": "white"
             }
            },
            "type": "table"
           }
          ]
         },
         "layout": {
          "annotationdefaults": {
           "arrowcolor": "#2a3f5f",
           "arrowhead": 0,
           "arrowwidth": 1
          },
          "autotypenumbers": "strict",
          "coloraxis": {
           "colorbar": {
            "outlinewidth": 0,
            "ticks": ""
           }
          },
          "colorscale": {
           "diverging": [
            [
             0,
             "#8e0152"
            ],
            [
             0.1,
             "#c51b7d"
            ],
            [
             0.2,
             "#de77ae"
            ],
            [
             0.3,
             "#f1b6da"
            ],
            [
             0.4,
             "#fde0ef"
            ],
            [
             0.5,
             "#f7f7f7"
            ],
            [
             0.6,
             "#e6f5d0"
            ],
            [
             0.7,
             "#b8e186"
            ],
            [
             0.8,
             "#7fbc41"
            ],
            [
             0.9,
             "#4d9221"
            ],
            [
             1,
             "#276419"
            ]
           ],
           "sequential": [
            [
             0,
             "#0d0887"
            ],
            [
             0.1111111111111111,
             "#46039f"
            ],
            [
             0.2222222222222222,
             "#7201a8"
            ],
            [
             0.3333333333333333,
             "#9c179e"
            ],
            [
             0.4444444444444444,
             "#bd3786"
            ],
            [
             0.5555555555555556,
             "#d8576b"
            ],
            [
             0.6666666666666666,
             "#ed7953"
            ],
            [
             0.7777777777777778,
             "#fb9f3a"
            ],
            [
             0.8888888888888888,
             "#fdca26"
            ],
            [
             1,
             "#f0f921"
            ]
           ],
           "sequentialminus": [
            [
             0,
             "#0d0887"
            ],
            [
             0.1111111111111111,
             "#46039f"
            ],
            [
             0.2222222222222222,
             "#7201a8"
            ],
            [
             0.3333333333333333,
             "#9c179e"
            ],
            [
             0.4444444444444444,
             "#bd3786"
            ],
            [
             0.5555555555555556,
             "#d8576b"
            ],
            [
             0.6666666666666666,
             "#ed7953"
            ],
            [
             0.7777777777777778,
             "#fb9f3a"
            ],
            [
             0.8888888888888888,
             "#fdca26"
            ],
            [
             1,
             "#f0f921"
            ]
           ]
          },
          "colorway": [
           "#636efa",
           "#EF553B",
           "#00cc96",
           "#ab63fa",
           "#FFA15A",
           "#19d3f3",
           "#FF6692",
           "#B6E880",
           "#FF97FF",
           "#FECB52"
          ],
          "font": {
           "color": "#2a3f5f"
          },
          "geo": {
           "bgcolor": "white",
           "lakecolor": "white",
           "landcolor": "#E5ECF6",
           "showlakes": true,
           "showland": true,
           "subunitcolor": "white"
          },
          "hoverlabel": {
           "align": "left"
          },
          "hovermode": "closest",
          "mapbox": {
           "style": "light"
          },
          "paper_bgcolor": "white",
          "plot_bgcolor": "#E5ECF6",
          "polar": {
           "angularaxis": {
            "gridcolor": "white",
            "linecolor": "white",
            "ticks": ""
           },
           "bgcolor": "#E5ECF6",
           "radialaxis": {
            "gridcolor": "white",
            "linecolor": "white",
            "ticks": ""
           }
          },
          "scene": {
           "xaxis": {
            "backgroundcolor": "#E5ECF6",
            "gridcolor": "white",
            "gridwidth": 2,
            "linecolor": "white",
            "showbackground": true,
            "ticks": "",
            "zerolinecolor": "white"
           },
           "yaxis": {
            "backgroundcolor": "#E5ECF6",
            "gridcolor": "white",
            "gridwidth": 2,
            "linecolor": "white",
            "showbackground": true,
            "ticks": "",
            "zerolinecolor": "white"
           },
           "zaxis": {
            "backgroundcolor": "#E5ECF6",
            "gridcolor": "white",
            "gridwidth": 2,
            "linecolor": "white",
            "showbackground": true,
            "ticks": "",
            "zerolinecolor": "white"
           }
          },
          "shapedefaults": {
           "line": {
            "color": "#2a3f5f"
           }
          },
          "ternary": {
           "aaxis": {
            "gridcolor": "white",
            "linecolor": "white",
            "ticks": ""
           },
           "baxis": {
            "gridcolor": "white",
            "linecolor": "white",
            "ticks": ""
           },
           "bgcolor": "#E5ECF6",
           "caxis": {
            "gridcolor": "white",
            "linecolor": "white",
            "ticks": ""
           }
          },
          "title": {
           "x": 0.05
          },
          "xaxis": {
           "automargin": true,
           "gridcolor": "white",
           "linecolor": "white",
           "ticks": "",
           "title": {
            "standoff": 15
           },
           "zerolinecolor": "white",
           "zerolinewidth": 2
          },
          "yaxis": {
           "automargin": true,
           "gridcolor": "white",
           "linecolor": "white",
           "ticks": "",
           "title": {
            "standoff": 15
           },
           "zerolinecolor": "white",
           "zerolinewidth": 2
          }
         }
        },
        "title": {
         "text": "Source of energy by sectors"
        }
       }
      }
     },
     "metadata": {},
     "output_type": "display_data"
    }
   ],
   "source": [
    "import plotly.graph_objects as go\n",
    "\n",
    "df = full_dataset[(full_dataset['TIME_PERIOD'] == 2022)]\n",
    "\n",
    "\n",
    "sources = df['siec_label'].unique()\n",
    "targets = df['nrg_bal_label'].unique()\n",
    "\n",
    "\n",
    "labels = []\n",
    "source = []\n",
    "target = []\n",
    "value = []\n",
    "\n",
    "index = 0\n",
    "index_dict = {}\n",
    "\n",
    "for s in sources:\n",
    "    labels.append(s)\n",
    "    index_dict[s] = index\n",
    "    index += 1\n",
    "\n",
    "    for t in targets:\n",
    "        if t not in index_dict:\n",
    "            labels.append(t)\n",
    "            index_dict[t] = index\n",
    "            index += 1\n",
    "        source.append(index_dict[s])\n",
    "        target.append(index_dict[t])\n",
    "        value.append(df[(df['siec_label'] == s) & (df['nrg_bal_label'] == t)]['energy_consumption_gwh'].sum())\n",
    "        \n",
    "    \n",
    "\n",
    "\n",
    "fig = go.Figure(data=[go.Sankey(\n",
    "    node = dict(\n",
    "      pad = 15,\n",
    "      thickness = 20,\n",
    "      line = dict(color = \"black\", width = 0.5),\n",
    "      label = labels,\n",
    "      color = \"blue\"\n",
    "    ),\n",
    "    link = dict(\n",
    "      source = source,\n",
    "      target = target,\n",
    "      value = value\n",
    "  ))])\n",
    "\n",
    "fig.update_layout(title_text=\"Source of energy by sectors\", font_size=10)\n",
    "fig.show()"
   ]
  }
 ],
 "metadata": {
  "kernelspec": {
   "display_name": "sdmx_io_data_science-32hfwsck",
   "language": "python",
   "name": "python3"
  },
  "language_info": {
   "codemirror_mode": {
    "name": "ipython",
    "version": 3
   },
   "file_extension": ".py",
   "mimetype": "text/x-python",
   "name": "python",
   "nbconvert_exporter": "python",
   "pygments_lexer": "ipython3",
   "version": "3.11.9"
  }
 },
 "nbformat": 4,
 "nbformat_minor": 2
}
