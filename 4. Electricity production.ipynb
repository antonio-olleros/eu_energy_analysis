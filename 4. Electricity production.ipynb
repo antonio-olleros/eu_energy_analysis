{
 "cells": [
  {
   "cell_type": "code",
   "execution_count": null,
   "metadata": {
    "vscode": {
     "languageId": "plaintext"
    }
   },
   "outputs": [],
   "source": []
  },
  {
   "cell_type": "markdown",
   "metadata": {},
   "source": [
    "Check if we can see how electricity is generated (what are the siec inputs).\n",
    "\n",
    "A Hint: ChecK:\n",
    "\n",
    "    'TI_EHG_E': 'Transformation input - electricity and heat generation - energy use',\n",
    "    'TO_EHG': 'Transformation output - electricity and heat generation',\n",
    "\n"
   ]
  }
 ],
 "metadata": {
  "language_info": {
   "name": "python"
  }
 },
 "nbformat": 4,
 "nbformat_minor": 2
}
