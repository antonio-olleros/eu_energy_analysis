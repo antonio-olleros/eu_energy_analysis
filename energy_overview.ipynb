{
 "cells": [
  {
   "cell_type": "markdown",
   "metadata": {},
   "source": [
    "In this chapter we intend to provide a basic overview of energy consumption evolution in the EU.\n",
    "\n",
    "We will:\n",
    "\n",
    "1. See, the evolution of total EU consumption per capita brokendown by energy source\n",
    "2. See, the evolution of total EU consumption per capita brokendown by consuming sector\n",
    "3. See, for the last year, the relationship between consumer sector and energy source\n"
   ]
  },
  {
   "cell_type": "code",
   "execution_count": 1,
   "metadata": {},
   "outputs": [],
   "source": [
    "from pysdmx.io import get_datasets\n",
    "import utils\n",
    "import json\n",
    "import plotly.express as px\n",
    "\n",
    "\n",
    "with open('sub_codelists.json', 'r') as f:\n",
    "    sub_codelists = json.load(f)\n"
   ]
  },
  {
   "cell_type": "markdown",
   "metadata": {},
   "source": [
    "We are going to get the data from the Eurostat DB.\n",
    "We need to get two datasets: The Energy Balances (simplified is enough for this analysis) and the population by country.\n",
    "\n",
    "For each dataset, we have to provide the list of values we need.\n",
    "We have created a method that generates automatically the SDMX query from a dictionary of values. We will load the required values from the file with created after the metadata research."
   ]
  },
  {
   "cell_type": "code",
   "execution_count": 3,
   "metadata": {},
   "outputs": [],
   "source": [
    "nrg_bal_constraints = {\n",
    "    'freq': 'A',\n",
    "    'nrg_bal': sub_codelists['nrg_bal_consumption_basic_plus_other'],\n",
    "    'siec': sub_codelists['nrg_bal_siec_breakdown'],\n",
    "    'unit': 'GWH',\n",
    "    'geo': sub_codelists['geo_total_eu'],\n",
    "}\n",
    "\n",
    "demo_pjan_constraints = {\n",
    "    'freq': 'A',\n",
    "    'unit': 'NR',\n",
    "    'age': 'TOTAL',\n",
    "    'sex': 'T',\n",
    "    'geo': sub_codelists['geo_total_eu'],\n",
    "    }\n"
   ]
  },
  {
   "cell_type": "code",
   "execution_count": 4,
   "metadata": {},
   "outputs": [
    {
     "data": {
      "text/html": [
       "<div>\n",
       "<style scoped>\n",
       "    .dataframe tbody tr th:only-of-type {\n",
       "        vertical-align: middle;\n",
       "    }\n",
       "\n",
       "    .dataframe tbody tr th {\n",
       "        vertical-align: top;\n",
       "    }\n",
       "\n",
       "    .dataframe thead th {\n",
       "        text-align: right;\n",
       "    }\n",
       "</style>\n",
       "<table border=\"1\" class=\"dataframe\">\n",
       "  <thead>\n",
       "    <tr style=\"text-align: right;\">\n",
       "      <th></th>\n",
       "      <th>nrg_bal</th>\n",
       "      <th>siec</th>\n",
       "      <th>TIME_PERIOD</th>\n",
       "      <th>OBS_VALUE</th>\n",
       "      <th>siec_label</th>\n",
       "      <th>nrg_bal_label</th>\n",
       "    </tr>\n",
       "  </thead>\n",
       "  <tbody>\n",
       "    <tr>\n",
       "      <th>0</th>\n",
       "      <td>FC_IND_E</td>\n",
       "      <td>C0000X0350-0370</td>\n",
       "      <td>2000</td>\n",
       "      <td>261061.376</td>\n",
       "      <td>Solid fossil fuels</td>\n",
       "      <td>Final consumption - industry sector - energy use</td>\n",
       "    </tr>\n",
       "    <tr>\n",
       "      <th>1</th>\n",
       "      <td>FC_IND_E</td>\n",
       "      <td>C0000X0350-0370</td>\n",
       "      <td>2001</td>\n",
       "      <td>241756.697</td>\n",
       "      <td>Solid fossil fuels</td>\n",
       "      <td>Final consumption - industry sector - energy use</td>\n",
       "    </tr>\n",
       "    <tr>\n",
       "      <th>2</th>\n",
       "      <td>FC_IND_E</td>\n",
       "      <td>C0000X0350-0370</td>\n",
       "      <td>2002</td>\n",
       "      <td>218238.569</td>\n",
       "      <td>Solid fossil fuels</td>\n",
       "      <td>Final consumption - industry sector - energy use</td>\n",
       "    </tr>\n",
       "    <tr>\n",
       "      <th>3</th>\n",
       "      <td>FC_IND_E</td>\n",
       "      <td>C0000X0350-0370</td>\n",
       "      <td>2003</td>\n",
       "      <td>225650.039</td>\n",
       "      <td>Solid fossil fuels</td>\n",
       "      <td>Final consumption - industry sector - energy use</td>\n",
       "    </tr>\n",
       "    <tr>\n",
       "      <th>4</th>\n",
       "      <td>FC_IND_E</td>\n",
       "      <td>C0000X0350-0370</td>\n",
       "      <td>2004</td>\n",
       "      <td>211784.063</td>\n",
       "      <td>Solid fossil fuels</td>\n",
       "      <td>Final consumption - industry sector - energy use</td>\n",
       "    </tr>\n",
       "    <tr>\n",
       "      <th>...</th>\n",
       "      <td>...</td>\n",
       "      <td>...</td>\n",
       "      <td>...</td>\n",
       "      <td>...</td>\n",
       "      <td>...</td>\n",
       "      <td>...</td>\n",
       "    </tr>\n",
       "    <tr>\n",
       "      <th>1651</th>\n",
       "      <td>FC_TRA_E</td>\n",
       "      <td>W6100_6220</td>\n",
       "      <td>2019</td>\n",
       "      <td>0.000</td>\n",
       "      <td>Non-renewable waste</td>\n",
       "      <td>Final consumption - transport sector - energy use</td>\n",
       "    </tr>\n",
       "    <tr>\n",
       "      <th>1652</th>\n",
       "      <td>FC_TRA_E</td>\n",
       "      <td>W6100_6220</td>\n",
       "      <td>2020</td>\n",
       "      <td>0.000</td>\n",
       "      <td>Non-renewable waste</td>\n",
       "      <td>Final consumption - transport sector - energy use</td>\n",
       "    </tr>\n",
       "    <tr>\n",
       "      <th>1653</th>\n",
       "      <td>FC_TRA_E</td>\n",
       "      <td>W6100_6220</td>\n",
       "      <td>2021</td>\n",
       "      <td>0.000</td>\n",
       "      <td>Non-renewable waste</td>\n",
       "      <td>Final consumption - transport sector - energy use</td>\n",
       "    </tr>\n",
       "    <tr>\n",
       "      <th>1654</th>\n",
       "      <td>FC_TRA_E</td>\n",
       "      <td>W6100_6220</td>\n",
       "      <td>2022</td>\n",
       "      <td>0.000</td>\n",
       "      <td>Non-renewable waste</td>\n",
       "      <td>Final consumption - transport sector - energy use</td>\n",
       "    </tr>\n",
       "    <tr>\n",
       "      <th>1655</th>\n",
       "      <td>FC_TRA_E</td>\n",
       "      <td>W6100_6220</td>\n",
       "      <td>2023</td>\n",
       "      <td>0.000</td>\n",
       "      <td>Non-renewable waste</td>\n",
       "      <td>Final consumption - transport sector - energy use</td>\n",
       "    </tr>\n",
       "  </tbody>\n",
       "</table>\n",
       "<p>1656 rows × 6 columns</p>\n",
       "</div>"
      ],
      "text/plain": [
       "       nrg_bal             siec  TIME_PERIOD   OBS_VALUE           siec_label  \\\n",
       "0     FC_IND_E  C0000X0350-0370         2000  261061.376   Solid fossil fuels   \n",
       "1     FC_IND_E  C0000X0350-0370         2001  241756.697   Solid fossil fuels   \n",
       "2     FC_IND_E  C0000X0350-0370         2002  218238.569   Solid fossil fuels   \n",
       "3     FC_IND_E  C0000X0350-0370         2003  225650.039   Solid fossil fuels   \n",
       "4     FC_IND_E  C0000X0350-0370         2004  211784.063   Solid fossil fuels   \n",
       "...        ...              ...          ...         ...                  ...   \n",
       "1651  FC_TRA_E       W6100_6220         2019       0.000  Non-renewable waste   \n",
       "1652  FC_TRA_E       W6100_6220         2020       0.000  Non-renewable waste   \n",
       "1653  FC_TRA_E       W6100_6220         2021       0.000  Non-renewable waste   \n",
       "1654  FC_TRA_E       W6100_6220         2022       0.000  Non-renewable waste   \n",
       "1655  FC_TRA_E       W6100_6220         2023       0.000  Non-renewable waste   \n",
       "\n",
       "                                          nrg_bal_label  \n",
       "0      Final consumption - industry sector - energy use  \n",
       "1      Final consumption - industry sector - energy use  \n",
       "2      Final consumption - industry sector - energy use  \n",
       "3      Final consumption - industry sector - energy use  \n",
       "4      Final consumption - industry sector - energy use  \n",
       "...                                                 ...  \n",
       "1651  Final consumption - transport sector - energy use  \n",
       "1652  Final consumption - transport sector - energy use  \n",
       "1653  Final consumption - transport sector - energy use  \n",
       "1654  Final consumption - transport sector - energy use  \n",
       "1655  Final consumption - transport sector - energy use  \n",
       "\n",
       "[1656 rows x 6 columns]"
      ]
     },
     "metadata": {},
     "output_type": "display_data"
    }
   ],
   "source": [
    "nrg_bal = utils.get_dataset_with_selection('nrg_bal_s', nrg_bal_constraints)\n",
    "nrg_bal = utils.add_labels(nrg_bal, 'siec')\n",
    "nrg_bal = utils.add_labels(nrg_bal, 'nrg_bal')\n",
    "\n",
    "display(nrg_bal.data)"
   ]
  },
  {
   "cell_type": "code",
   "execution_count": 5,
   "metadata": {},
   "outputs": [
    {
     "data": {
      "text/html": [
       "<div>\n",
       "<style scoped>\n",
       "    .dataframe tbody tr th:only-of-type {\n",
       "        vertical-align: middle;\n",
       "    }\n",
       "\n",
       "    .dataframe tbody tr th {\n",
       "        vertical-align: top;\n",
       "    }\n",
       "\n",
       "    .dataframe thead th {\n",
       "        text-align: right;\n",
       "    }\n",
       "</style>\n",
       "<table border=\"1\" class=\"dataframe\">\n",
       "  <thead>\n",
       "    <tr style=\"text-align: right;\">\n",
       "      <th></th>\n",
       "      <th>TIME_PERIOD</th>\n",
       "      <th>OBS_VALUE</th>\n",
       "      <th>OBS_FLAG</th>\n",
       "    </tr>\n",
       "  </thead>\n",
       "  <tbody>\n",
       "    <tr>\n",
       "      <th>0</th>\n",
       "      <td>1999</td>\n",
       "      <td>428473834.0</td>\n",
       "      <td>be</td>\n",
       "    </tr>\n",
       "    <tr>\n",
       "      <th>1</th>\n",
       "      <td>2000</td>\n",
       "      <td>429240746.0</td>\n",
       "      <td>b</td>\n",
       "    </tr>\n",
       "    <tr>\n",
       "      <th>2</th>\n",
       "      <td>2001</td>\n",
       "      <td>429723142.0</td>\n",
       "      <td>nan</td>\n",
       "    </tr>\n",
       "    <tr>\n",
       "      <th>3</th>\n",
       "      <td>2002</td>\n",
       "      <td>431190184.0</td>\n",
       "      <td>nan</td>\n",
       "    </tr>\n",
       "    <tr>\n",
       "      <th>4</th>\n",
       "      <td>2003</td>\n",
       "      <td>432762039.0</td>\n",
       "      <td>nan</td>\n",
       "    </tr>\n",
       "    <tr>\n",
       "      <th>5</th>\n",
       "      <td>2004</td>\n",
       "      <td>434416272.0</td>\n",
       "      <td>nan</td>\n",
       "    </tr>\n",
       "    <tr>\n",
       "      <th>6</th>\n",
       "      <td>2005</td>\n",
       "      <td>435816236.0</td>\n",
       "      <td>nan</td>\n",
       "    </tr>\n",
       "    <tr>\n",
       "      <th>7</th>\n",
       "      <td>2006</td>\n",
       "      <td>437227496.0</td>\n",
       "      <td>nan</td>\n",
       "    </tr>\n",
       "    <tr>\n",
       "      <th>8</th>\n",
       "      <td>2007</td>\n",
       "      <td>438725386.0</td>\n",
       "      <td>b</td>\n",
       "    </tr>\n",
       "    <tr>\n",
       "      <th>9</th>\n",
       "      <td>2008</td>\n",
       "      <td>440047892.0</td>\n",
       "      <td>nan</td>\n",
       "    </tr>\n",
       "    <tr>\n",
       "      <th>10</th>\n",
       "      <td>2009</td>\n",
       "      <td>440660421.0</td>\n",
       "      <td>b</td>\n",
       "    </tr>\n",
       "    <tr>\n",
       "      <th>11</th>\n",
       "      <td>2010</td>\n",
       "      <td>439942305.0</td>\n",
       "      <td>b</td>\n",
       "    </tr>\n",
       "    <tr>\n",
       "      <th>12</th>\n",
       "      <td>2011</td>\n",
       "      <td>440552661.0</td>\n",
       "      <td>b</td>\n",
       "    </tr>\n",
       "    <tr>\n",
       "      <th>13</th>\n",
       "      <td>2012</td>\n",
       "      <td>441257711.0</td>\n",
       "      <td>nan</td>\n",
       "    </tr>\n",
       "    <tr>\n",
       "      <th>14</th>\n",
       "      <td>2013</td>\n",
       "      <td>442266046.0</td>\n",
       "      <td>be</td>\n",
       "    </tr>\n",
       "    <tr>\n",
       "      <th>15</th>\n",
       "      <td>2014</td>\n",
       "      <td>442911027.0</td>\n",
       "      <td>be</td>\n",
       "    </tr>\n",
       "    <tr>\n",
       "      <th>16</th>\n",
       "      <td>2015</td>\n",
       "      <td>443987823.0</td>\n",
       "      <td>e</td>\n",
       "    </tr>\n",
       "    <tr>\n",
       "      <th>17</th>\n",
       "      <td>2016</td>\n",
       "      <td>444655529.0</td>\n",
       "      <td>be</td>\n",
       "    </tr>\n",
       "    <tr>\n",
       "      <th>18</th>\n",
       "      <td>2017</td>\n",
       "      <td>445287011.0</td>\n",
       "      <td>e</td>\n",
       "    </tr>\n",
       "    <tr>\n",
       "      <th>19</th>\n",
       "      <td>2018</td>\n",
       "      <td>446135629.0</td>\n",
       "      <td>b</td>\n",
       "    </tr>\n",
       "    <tr>\n",
       "      <th>20</th>\n",
       "      <td>2019</td>\n",
       "      <td>447015600.0</td>\n",
       "      <td>e</td>\n",
       "    </tr>\n",
       "    <tr>\n",
       "      <th>21</th>\n",
       "      <td>2020</td>\n",
       "      <td>445872542.0</td>\n",
       "      <td>bep</td>\n",
       "    </tr>\n",
       "    <tr>\n",
       "      <th>22</th>\n",
       "      <td>2021</td>\n",
       "      <td>445837374.0</td>\n",
       "      <td>ep</td>\n",
       "    </tr>\n",
       "    <tr>\n",
       "      <th>23</th>\n",
       "      <td>2022</td>\n",
       "      <td>448803078.0</td>\n",
       "      <td>ep</td>\n",
       "    </tr>\n",
       "  </tbody>\n",
       "</table>\n",
       "</div>"
      ],
      "text/plain": [
       "    TIME_PERIOD    OBS_VALUE OBS_FLAG\n",
       "0          1999  428473834.0       be\n",
       "1          2000  429240746.0        b\n",
       "2          2001  429723142.0      nan\n",
       "3          2002  431190184.0      nan\n",
       "4          2003  432762039.0      nan\n",
       "5          2004  434416272.0      nan\n",
       "6          2005  435816236.0      nan\n",
       "7          2006  437227496.0      nan\n",
       "8          2007  438725386.0        b\n",
       "9          2008  440047892.0      nan\n",
       "10         2009  440660421.0        b\n",
       "11         2010  439942305.0        b\n",
       "12         2011  440552661.0        b\n",
       "13         2012  441257711.0      nan\n",
       "14         2013  442266046.0       be\n",
       "15         2014  442911027.0       be\n",
       "16         2015  443987823.0        e\n",
       "17         2016  444655529.0       be\n",
       "18         2017  445287011.0        e\n",
       "19         2018  446135629.0        b\n",
       "20         2019  447015600.0        e\n",
       "21         2020  445872542.0      bep\n",
       "22         2021  445837374.0       ep\n",
       "23         2022  448803078.0       ep"
      ]
     },
     "metadata": {},
     "output_type": "display_data"
    }
   ],
   "source": [
    "demo_pjan = utils.get_dataset_with_selection('demo_pjan', demo_pjan_constraints)\n",
    "\n",
    "\n",
    "# We have to subtract 1 year to the TIME_PERIOD to match the nrg_bal_s_total data\n",
    "demo_pjan.data.TIME_PERIOD  = demo_pjan.data.TIME_PERIOD  - 1\n",
    "display(demo_pjan.data)\n"
   ]
  },
  {
   "cell_type": "markdown",
   "metadata": {},
   "source": [
    "Preparing a dataset with the consumption per capita in kw/h\n"
   ]
  },
  {
   "cell_type": "code",
   "execution_count": 6,
   "metadata": {},
   "outputs": [
    {
     "data": {
      "text/html": [
       "<div>\n",
       "<style scoped>\n",
       "    .dataframe tbody tr th:only-of-type {\n",
       "        vertical-align: middle;\n",
       "    }\n",
       "\n",
       "    .dataframe tbody tr th {\n",
       "        vertical-align: top;\n",
       "    }\n",
       "\n",
       "    .dataframe thead th {\n",
       "        text-align: right;\n",
       "    }\n",
       "</style>\n",
       "<table border=\"1\" class=\"dataframe\">\n",
       "  <thead>\n",
       "    <tr style=\"text-align: right;\">\n",
       "      <th></th>\n",
       "      <th>nrg_bal</th>\n",
       "      <th>siec</th>\n",
       "      <th>TIME_PERIOD</th>\n",
       "      <th>energy_consumption_gwh</th>\n",
       "      <th>siec_label</th>\n",
       "      <th>nrg_bal_label</th>\n",
       "      <th>population</th>\n",
       "      <th>OBS_FLAG</th>\n",
       "    </tr>\n",
       "  </thead>\n",
       "  <tbody>\n",
       "    <tr>\n",
       "      <th>0</th>\n",
       "      <td>FC_IND_E</td>\n",
       "      <td>C0000X0350-0370</td>\n",
       "      <td>2000</td>\n",
       "      <td>261061.376</td>\n",
       "      <td>Solid fossil fuels</td>\n",
       "      <td>Final consumption - industry sector - energy use</td>\n",
       "      <td>429240746.0</td>\n",
       "      <td>b</td>\n",
       "    </tr>\n",
       "    <tr>\n",
       "      <th>1</th>\n",
       "      <td>FC_IND_E</td>\n",
       "      <td>C0000X0350-0370</td>\n",
       "      <td>2001</td>\n",
       "      <td>241756.697</td>\n",
       "      <td>Solid fossil fuels</td>\n",
       "      <td>Final consumption - industry sector - energy use</td>\n",
       "      <td>429723142.0</td>\n",
       "      <td>nan</td>\n",
       "    </tr>\n",
       "    <tr>\n",
       "      <th>2</th>\n",
       "      <td>FC_IND_E</td>\n",
       "      <td>C0000X0350-0370</td>\n",
       "      <td>2002</td>\n",
       "      <td>218238.569</td>\n",
       "      <td>Solid fossil fuels</td>\n",
       "      <td>Final consumption - industry sector - energy use</td>\n",
       "      <td>431190184.0</td>\n",
       "      <td>nan</td>\n",
       "    </tr>\n",
       "    <tr>\n",
       "      <th>3</th>\n",
       "      <td>FC_IND_E</td>\n",
       "      <td>C0000X0350-0370</td>\n",
       "      <td>2003</td>\n",
       "      <td>225650.039</td>\n",
       "      <td>Solid fossil fuels</td>\n",
       "      <td>Final consumption - industry sector - energy use</td>\n",
       "      <td>432762039.0</td>\n",
       "      <td>nan</td>\n",
       "    </tr>\n",
       "    <tr>\n",
       "      <th>4</th>\n",
       "      <td>FC_IND_E</td>\n",
       "      <td>C0000X0350-0370</td>\n",
       "      <td>2004</td>\n",
       "      <td>211784.063</td>\n",
       "      <td>Solid fossil fuels</td>\n",
       "      <td>Final consumption - industry sector - energy use</td>\n",
       "      <td>434416272.0</td>\n",
       "      <td>nan</td>\n",
       "    </tr>\n",
       "    <tr>\n",
       "      <th>...</th>\n",
       "      <td>...</td>\n",
       "      <td>...</td>\n",
       "      <td>...</td>\n",
       "      <td>...</td>\n",
       "      <td>...</td>\n",
       "      <td>...</td>\n",
       "      <td>...</td>\n",
       "      <td>...</td>\n",
       "    </tr>\n",
       "    <tr>\n",
       "      <th>1582</th>\n",
       "      <td>FC_TRA_E</td>\n",
       "      <td>W6100_6220</td>\n",
       "      <td>2018</td>\n",
       "      <td>0.000</td>\n",
       "      <td>Non-renewable waste</td>\n",
       "      <td>Final consumption - transport sector - energy use</td>\n",
       "      <td>446135629.0</td>\n",
       "      <td>b</td>\n",
       "    </tr>\n",
       "    <tr>\n",
       "      <th>1583</th>\n",
       "      <td>FC_TRA_E</td>\n",
       "      <td>W6100_6220</td>\n",
       "      <td>2019</td>\n",
       "      <td>0.000</td>\n",
       "      <td>Non-renewable waste</td>\n",
       "      <td>Final consumption - transport sector - energy use</td>\n",
       "      <td>447015600.0</td>\n",
       "      <td>e</td>\n",
       "    </tr>\n",
       "    <tr>\n",
       "      <th>1584</th>\n",
       "      <td>FC_TRA_E</td>\n",
       "      <td>W6100_6220</td>\n",
       "      <td>2020</td>\n",
       "      <td>0.000</td>\n",
       "      <td>Non-renewable waste</td>\n",
       "      <td>Final consumption - transport sector - energy use</td>\n",
       "      <td>445872542.0</td>\n",
       "      <td>bep</td>\n",
       "    </tr>\n",
       "    <tr>\n",
       "      <th>1585</th>\n",
       "      <td>FC_TRA_E</td>\n",
       "      <td>W6100_6220</td>\n",
       "      <td>2021</td>\n",
       "      <td>0.000</td>\n",
       "      <td>Non-renewable waste</td>\n",
       "      <td>Final consumption - transport sector - energy use</td>\n",
       "      <td>445837374.0</td>\n",
       "      <td>ep</td>\n",
       "    </tr>\n",
       "    <tr>\n",
       "      <th>1586</th>\n",
       "      <td>FC_TRA_E</td>\n",
       "      <td>W6100_6220</td>\n",
       "      <td>2022</td>\n",
       "      <td>0.000</td>\n",
       "      <td>Non-renewable waste</td>\n",
       "      <td>Final consumption - transport sector - energy use</td>\n",
       "      <td>448803078.0</td>\n",
       "      <td>ep</td>\n",
       "    </tr>\n",
       "  </tbody>\n",
       "</table>\n",
       "<p>1587 rows × 8 columns</p>\n",
       "</div>"
      ],
      "text/plain": [
       "       nrg_bal             siec  TIME_PERIOD  energy_consumption_gwh  \\\n",
       "0     FC_IND_E  C0000X0350-0370         2000              261061.376   \n",
       "1     FC_IND_E  C0000X0350-0370         2001              241756.697   \n",
       "2     FC_IND_E  C0000X0350-0370         2002              218238.569   \n",
       "3     FC_IND_E  C0000X0350-0370         2003              225650.039   \n",
       "4     FC_IND_E  C0000X0350-0370         2004              211784.063   \n",
       "...        ...              ...          ...                     ...   \n",
       "1582  FC_TRA_E       W6100_6220         2018                   0.000   \n",
       "1583  FC_TRA_E       W6100_6220         2019                   0.000   \n",
       "1584  FC_TRA_E       W6100_6220         2020                   0.000   \n",
       "1585  FC_TRA_E       W6100_6220         2021                   0.000   \n",
       "1586  FC_TRA_E       W6100_6220         2022                   0.000   \n",
       "\n",
       "               siec_label                                      nrg_bal_label  \\\n",
       "0      Solid fossil fuels   Final consumption - industry sector - energy use   \n",
       "1      Solid fossil fuels   Final consumption - industry sector - energy use   \n",
       "2      Solid fossil fuels   Final consumption - industry sector - energy use   \n",
       "3      Solid fossil fuels   Final consumption - industry sector - energy use   \n",
       "4      Solid fossil fuels   Final consumption - industry sector - energy use   \n",
       "...                   ...                                                ...   \n",
       "1582  Non-renewable waste  Final consumption - transport sector - energy use   \n",
       "1583  Non-renewable waste  Final consumption - transport sector - energy use   \n",
       "1584  Non-renewable waste  Final consumption - transport sector - energy use   \n",
       "1585  Non-renewable waste  Final consumption - transport sector - energy use   \n",
       "1586  Non-renewable waste  Final consumption - transport sector - energy use   \n",
       "\n",
       "       population OBS_FLAG  \n",
       "0     429240746.0        b  \n",
       "1     429723142.0      nan  \n",
       "2     431190184.0      nan  \n",
       "3     432762039.0      nan  \n",
       "4     434416272.0      nan  \n",
       "...           ...      ...  \n",
       "1582  446135629.0        b  \n",
       "1583  447015600.0        e  \n",
       "1584  445872542.0      bep  \n",
       "1585  445837374.0       ep  \n",
       "1586  448803078.0       ep  \n",
       "\n",
       "[1587 rows x 8 columns]"
      ]
     },
     "metadata": {},
     "output_type": "display_data"
    }
   ],
   "source": [
    "full_dataset = nrg_bal.data.merge(demo_pjan.data, on='TIME_PERIOD', how='inner')\n",
    "full_dataset.rename(columns={'OBS_VALUE_x': 'energy_consumption_gwh', 'OBS_VALUE_y': 'population'}, inplace=True)\n",
    "\n",
    "display(full_dataset)"
   ]
  },
  {
   "cell_type": "code",
   "execution_count": 29,
   "metadata": {},
   "outputs": [],
   "source": [
    "def calculate_energy_consumption_per_capita(df):\n",
    "    df['energy_consumption_PC_kwh'] = df['energy_consumption_gwh'] / df['population'] * 1000000\n",
    "    return df\n",
    "\n",
    "data_full_breakdown = nrg_bal.data\n",
    "\n",
    "data_by_energy_source = nrg_bal.data.groupby(['TIME_PERIOD', 'siec_label'])['OBS_VALUE'].sum().reset_index()\n",
    "# data_by_energy_source = calculate_energy_consumption_per_capita(data_by_energy_source)\n",
    "\n",
    "dataset_by_sector = nrg_bal.data.groupby(['TIME_PERIOD', 'nrg_bal_label'])['OBS_VALUE'].sum().reset_index()\n",
    "# dataset_by_sector = calculate_energy_consumption_per_capita(dataset_by_sector)\n"
   ]
  },
  {
   "cell_type": "code",
   "execution_count": 30,
   "metadata": {},
   "outputs": [
    {
     "data": {
      "application/vnd.plotly.v1+json": {
       "config": {
        "plotlyServerURL": "https://plot.ly"
       },
       "data": [
        {
         "fillpattern": {
          "shape": ""
         },
         "hovertemplate": "siec_label=Electricity<br>TIME_PERIOD=%{x}<br>OBS_VALUE=%{y}<extra></extra>",
         "legendgroup": "Electricity",
         "line": {
          "color": "#636efa"
         },
         "marker": {
          "symbol": "circle"
         },
         "mode": "lines",
         "name": "Electricity",
         "orientation": "v",
         "showlegend": true,
         "stackgroup": "1",
         "type": "scatter",
         "x": [
          2000,
          2001,
          2002,
          2003,
          2004,
          2005,
          2006,
          2007,
          2008,
          2009,
          2010,
          2011,
          2012,
          2013,
          2014,
          2015,
          2016,
          2017,
          2018,
          2019,
          2020,
          2021,
          2022,
          2023
         ],
         "xaxis": "x",
         "y": [
          2197997.384,
          2259699.623,
          2287924.241,
          2350208.304,
          2405668.534,
          2435673.705,
          2487965.275,
          2507601.538,
          2521047.667,
          2392832.602,
          2510554.53,
          2475193.123,
          2483534.164,
          2460535.5319999997,
          2408646.272,
          2449355.657,
          2480308.587,
          2504711.864,
          2504688.463,
          2477473.965,
          2382932.477,
          2489835.843,
          2406936.891,
          2329108.87
         ],
         "yaxis": "y"
        },
        {
         "fillpattern": {
          "shape": ""
         },
         "hovertemplate": "siec_label=Heat<br>TIME_PERIOD=%{x}<br>OBS_VALUE=%{y}<extra></extra>",
         "legendgroup": "Heat",
         "line": {
          "color": "#EF553B"
         },
         "marker": {
          "symbol": "circle"
         },
         "mode": "lines",
         "name": "Heat",
         "orientation": "v",
         "showlegend": true,
         "stackgroup": "1",
         "type": "scatter",
         "x": [
          2000,
          2001,
          2002,
          2003,
          2004,
          2005,
          2006,
          2007,
          2008,
          2009,
          2010,
          2011,
          2012,
          2013,
          2014,
          2015,
          2016,
          2017,
          2018,
          2019,
          2020,
          2021,
          2022,
          2023
         ],
         "xaxis": "x",
         "y": [
          498860.248,
          533479.534,
          523258.7530000001,
          569048.778,
          598797.902,
          596957.907,
          585135.986,
          557158.421,
          562107.8049999999,
          551047.801,
          599805.639,
          547835.299,
          562478.848,
          562044.99,
          517471.12100000004,
          524589.917,
          544986.947,
          547701.153,
          535445.6240000001,
          534400.972,
          510442.772,
          530342.934,
          490482.54600000003,
          467345.24100000004
         ],
         "yaxis": "y"
        },
        {
         "fillpattern": {
          "shape": ""
         },
         "hovertemplate": "siec_label=Manufactured gases<br>TIME_PERIOD=%{x}<br>OBS_VALUE=%{y}<extra></extra>",
         "legendgroup": "Manufactured gases",
         "line": {
          "color": "#00cc96"
         },
         "marker": {
          "symbol": "circle"
         },
         "mode": "lines",
         "name": "Manufactured gases",
         "orientation": "v",
         "showlegend": true,
         "stackgroup": "1",
         "type": "scatter",
         "x": [
          2000,
          2001,
          2002,
          2003,
          2004,
          2005,
          2006,
          2007,
          2008,
          2009,
          2010,
          2011,
          2012,
          2013,
          2014,
          2015,
          2016,
          2017,
          2018,
          2019,
          2020,
          2021,
          2022,
          2023
         ],
         "xaxis": "x",
         "y": [
          93768.482,
          85046.226,
          81524.629,
          78116.795,
          80385.441,
          74935.156,
          75893.008,
          72400.921,
          68369.783,
          48548.922,
          59598.853,
          59530.405,
          60790.374,
          57462.65,
          58203.476,
          57495.075,
          55381.052,
          54266.635,
          56978.827,
          52149.383,
          47872.068999999996,
          51997.079000000005,
          51013.613,
          49366.947
         ],
         "yaxis": "y"
        },
        {
         "fillpattern": {
          "shape": ""
         },
         "hovertemplate": "siec_label=Natural gas<br>TIME_PERIOD=%{x}<br>OBS_VALUE=%{y}<extra></extra>",
         "legendgroup": "Natural gas",
         "line": {
          "color": "#ab63fa"
         },
         "marker": {
          "symbol": "circle"
         },
         "mode": "lines",
         "name": "Natural gas",
         "orientation": "v",
         "showlegend": true,
         "stackgroup": "1",
         "type": "scatter",
         "x": [
          2000,
          2001,
          2002,
          2003,
          2004,
          2005,
          2006,
          2007,
          2008,
          2009,
          2010,
          2011,
          2012,
          2013,
          2014,
          2015,
          2016,
          2017,
          2018,
          2019,
          2020,
          2021,
          2022,
          2023
         ],
         "xaxis": "x",
         "y": [
          2385375.982,
          2477668.182,
          2455991.7199999997,
          2550957.368,
          2551920.516,
          2590774.528,
          2533483.046,
          2416666.315,
          2460493.6350000002,
          2317483.4159999997,
          2532033.744,
          2326062.953,
          2383276.539,
          2438883.4760000003,
          2166552.43,
          2245927.914,
          2336879.276,
          2354728.842,
          2354421.053,
          2323715.023,
          2266520.764,
          2496862.558,
          2143630.5979999998,
          2000442.238
         ],
         "yaxis": "y"
        },
        {
         "fillpattern": {
          "shape": ""
         },
         "hovertemplate": "siec_label=Non-renewable waste<br>TIME_PERIOD=%{x}<br>OBS_VALUE=%{y}<extra></extra>",
         "legendgroup": "Non-renewable waste",
         "line": {
          "color": "#FFA15A"
         },
         "marker": {
          "symbol": "circle"
         },
         "mode": "lines",
         "name": "Non-renewable waste",
         "orientation": "v",
         "showlegend": true,
         "stackgroup": "1",
         "type": "scatter",
         "x": [
          2000,
          2001,
          2002,
          2003,
          2004,
          2005,
          2006,
          2007,
          2008,
          2009,
          2010,
          2011,
          2012,
          2013,
          2014,
          2015,
          2016,
          2017,
          2018,
          2019,
          2020,
          2021,
          2022,
          2023
         ],
         "xaxis": "x",
         "y": [
          11562.901000000002,
          11158.532,
          11721.292,
          15866.232,
          17608.439000000002,
          15357.176,
          17350.514,
          19000.234,
          23971.207,
          27934.981,
          32039.899,
          36817.788,
          36198.848999999995,
          40274.312,
          42566.087,
          43262.89,
          48603.114,
          48721.712,
          53636.24,
          55201.871,
          57573.843,
          58348.505,
          58950.082,
          56046.409999999996
         ],
         "yaxis": "y"
        },
        {
         "fillpattern": {
          "shape": ""
         },
         "hovertemplate": "siec_label=Oil and petroleum products (excluding biofuel portion)<br>TIME_PERIOD=%{x}<br>OBS_VALUE=%{y}<extra></extra>",
         "legendgroup": "Oil and petroleum products (excluding biofuel portion)",
         "line": {
          "color": "#19d3f3"
         },
         "marker": {
          "symbol": "circle"
         },
         "mode": "lines",
         "name": "Oil and petroleum products (excluding biofuel portion)",
         "orientation": "v",
         "showlegend": true,
         "stackgroup": "1",
         "type": "scatter",
         "x": [
          2000,
          2001,
          2002,
          2003,
          2004,
          2005,
          2006,
          2007,
          2008,
          2009,
          2010,
          2011,
          2012,
          2013,
          2014,
          2015,
          2016,
          2017,
          2018,
          2019,
          2020,
          2021,
          2022,
          2023
         ],
         "xaxis": "x",
         "y": [
          4617722.593,
          4738821.663,
          4684968.202,
          4743577.772,
          4753738.557,
          4716098.736,
          4699138.43,
          4544212.731000001,
          4540049.092,
          4315295.555,
          4262828.604,
          4144339.3850000002,
          3990185.4859999996,
          3945492.816,
          3883416.517,
          3945609.283,
          3996859.8559999997,
          4029518.63,
          4012541.046,
          4027753.3260000004,
          3607585.124,
          3798177.1550000003,
          3870672.85,
          3803916.734
         ],
         "yaxis": "y"
        },
        {
         "fillpattern": {
          "shape": ""
         },
         "hovertemplate": "siec_label=Oil shale and oil sands<br>TIME_PERIOD=%{x}<br>OBS_VALUE=%{y}<extra></extra>",
         "legendgroup": "Oil shale and oil sands",
         "line": {
          "color": "#FF6692"
         },
         "marker": {
          "symbol": "circle"
         },
         "mode": "lines",
         "name": "Oil shale and oil sands",
         "orientation": "v",
         "showlegend": true,
         "stackgroup": "1",
         "type": "scatter",
         "x": [
          2000,
          2001,
          2002,
          2003,
          2004,
          2005,
          2006,
          2007,
          2008,
          2009,
          2010,
          2011,
          2012,
          2013,
          2014,
          2015,
          2016,
          2017,
          2018,
          2019,
          2020,
          2021,
          2022,
          2023
         ],
         "xaxis": "x",
         "y": [
          701.395,
          686.529,
          588.457,
          508.552,
          546.966,
          781.715,
          605.358,
          866,
          815.384,
          377.316,
          512.455,
          607.308,
          482.885,
          421.864,
          394.383,
          174.001,
          113.255,
          232.376,
          260.775,
          231.218,
          16.044,
          0,
          0,
          0
         ],
         "yaxis": "y"
        },
        {
         "fillpattern": {
          "shape": ""
         },
         "hovertemplate": "siec_label=Peat and peat products<br>TIME_PERIOD=%{x}<br>OBS_VALUE=%{y}<extra></extra>",
         "legendgroup": "Peat and peat products",
         "line": {
          "color": "#B6E880"
         },
         "marker": {
          "symbol": "circle"
         },
         "mode": "lines",
         "name": "Peat and peat products",
         "orientation": "v",
         "showlegend": true,
         "stackgroup": "1",
         "type": "scatter",
         "x": [
          2000,
          2001,
          2002,
          2003,
          2004,
          2005,
          2006,
          2007,
          2008,
          2009,
          2010,
          2011,
          2012,
          2013,
          2014,
          2015,
          2016,
          2017,
          2018,
          2019,
          2020,
          2021,
          2022,
          2023
         ],
         "xaxis": "x",
         "y": [
          7669.125,
          7771.18,
          7487.498,
          7328.718,
          6638.118,
          6650.05,
          7527.656,
          7512.235000000001,
          7506.116,
          6660.688,
          7016.294,
          6689.866,
          5947.246,
          5708.083,
          5625.018,
          5342.194,
          5189.062,
          5031.821,
          5374.368,
          5062.895,
          4409.243,
          4164.732,
          3545.795,
          2941.09
         ],
         "yaxis": "y"
        },
        {
         "fillpattern": {
          "shape": ""
         },
         "hovertemplate": "siec_label=Renewables and biofuels<br>TIME_PERIOD=%{x}<br>OBS_VALUE=%{y}<extra></extra>",
         "legendgroup": "Renewables and biofuels",
         "line": {
          "color": "#FF97FF"
         },
         "marker": {
          "symbol": "circle"
         },
         "mode": "lines",
         "name": "Renewables and biofuels",
         "orientation": "v",
         "showlegend": true,
         "stackgroup": "1",
         "type": "scatter",
         "x": [
          2000,
          2001,
          2002,
          2003,
          2004,
          2005,
          2006,
          2007,
          2008,
          2009,
          2010,
          2011,
          2012,
          2013,
          2014,
          2015,
          2016,
          2017,
          2018,
          2019,
          2020,
          2021,
          2022,
          2023
         ],
         "xaxis": "x",
         "y": [
          567609.1379999999,
          569480.0140000001,
          582909.412,
          646251.9,
          656266.96,
          705745.888,
          758994.14,
          831745.08,
          888670.1429999999,
          919376.1100000001,
          1005604.281,
          971346.85,
          1047886.562,
          1054256.3930000002,
          1011561.5490000001,
          1053626.193,
          1069527.624,
          1140943.342,
          1197989.318,
          1216002.355,
          1207846.864,
          1292307.837,
          1281779.892,
          1284391.984
         ],
         "yaxis": "y"
        },
        {
         "fillpattern": {
          "shape": ""
         },
         "hovertemplate": "siec_label=Solid fossil fuels<br>TIME_PERIOD=%{x}<br>OBS_VALUE=%{y}<extra></extra>",
         "legendgroup": "Solid fossil fuels",
         "line": {
          "color": "#FECB52"
         },
         "marker": {
          "symbol": "circle"
         },
         "mode": "lines",
         "name": "Solid fossil fuels",
         "orientation": "v",
         "showlegend": true,
         "stackgroup": "1",
         "type": "scatter",
         "x": [
          2000,
          2001,
          2002,
          2003,
          2004,
          2005,
          2006,
          2007,
          2008,
          2009,
          2010,
          2011,
          2012,
          2013,
          2014,
          2015,
          2016,
          2017,
          2018,
          2019,
          2020,
          2021,
          2022,
          2023
         ],
         "xaxis": "x",
         "y": [
          389064.319,
          370125.37799999997,
          350049.616,
          354760.432,
          342861.38,
          331887.11100000003,
          346980.66599999997,
          339212.298,
          332047.01,
          296761.549,
          316520.297,
          313003.767,
          301962.641,
          288509.274,
          270264.533,
          273329.685,
          276131.668,
          278179.199,
          263198.844,
          230364.93899999998,
          222520.05299999999,
          218687.941,
          195071.78900000002,
          169641.502
         ],
         "yaxis": "y"
        }
       ],
       "layout": {
        "legend": {
         "title": {
          "text": "siec_label"
         },
         "tracegroupgap": 0
        },
        "margin": {
         "t": 60
        },
        "template": {
         "data": {
          "bar": [
           {
            "error_x": {
             "color": "#2a3f5f"
            },
            "error_y": {
             "color": "#2a3f5f"
            },
            "marker": {
             "line": {
              "color": "#E5ECF6",
              "width": 0.5
             },
             "pattern": {
              "fillmode": "overlay",
              "size": 10,
              "solidity": 0.2
             }
            },
            "type": "bar"
           }
          ],
          "barpolar": [
           {
            "marker": {
             "line": {
              "color": "#E5ECF6",
              "width": 0.5
             },
             "pattern": {
              "fillmode": "overlay",
              "size": 10,
              "solidity": 0.2
             }
            },
            "type": "barpolar"
           }
          ],
          "carpet": [
           {
            "aaxis": {
             "endlinecolor": "#2a3f5f",
             "gridcolor": "white",
             "linecolor": "white",
             "minorgridcolor": "white",
             "startlinecolor": "#2a3f5f"
            },
            "baxis": {
             "endlinecolor": "#2a3f5f",
             "gridcolor": "white",
             "linecolor": "white",
             "minorgridcolor": "white",
             "startlinecolor": "#2a3f5f"
            },
            "type": "carpet"
           }
          ],
          "choropleth": [
           {
            "colorbar": {
             "outlinewidth": 0,
             "ticks": ""
            },
            "type": "choropleth"
           }
          ],
          "contour": [
           {
            "colorbar": {
             "outlinewidth": 0,
             "ticks": ""
            },
            "colorscale": [
             [
              0,
              "#0d0887"
             ],
             [
              0.1111111111111111,
              "#46039f"
             ],
             [
              0.2222222222222222,
              "#7201a8"
             ],
             [
              0.3333333333333333,
              "#9c179e"
             ],
             [
              0.4444444444444444,
              "#bd3786"
             ],
             [
              0.5555555555555556,
              "#d8576b"
             ],
             [
              0.6666666666666666,
              "#ed7953"
             ],
             [
              0.7777777777777778,
              "#fb9f3a"
             ],
             [
              0.8888888888888888,
              "#fdca26"
             ],
             [
              1,
              "#f0f921"
             ]
            ],
            "type": "contour"
           }
          ],
          "contourcarpet": [
           {
            "colorbar": {
             "outlinewidth": 0,
             "ticks": ""
            },
            "type": "contourcarpet"
           }
          ],
          "heatmap": [
           {
            "colorbar": {
             "outlinewidth": 0,
             "ticks": ""
            },
            "colorscale": [
             [
              0,
              "#0d0887"
             ],
             [
              0.1111111111111111,
              "#46039f"
             ],
             [
              0.2222222222222222,
              "#7201a8"
             ],
             [
              0.3333333333333333,
              "#9c179e"
             ],
             [
              0.4444444444444444,
              "#bd3786"
             ],
             [
              0.5555555555555556,
              "#d8576b"
             ],
             [
              0.6666666666666666,
              "#ed7953"
             ],
             [
              0.7777777777777778,
              "#fb9f3a"
             ],
             [
              0.8888888888888888,
              "#fdca26"
             ],
             [
              1,
              "#f0f921"
             ]
            ],
            "type": "heatmap"
           }
          ],
          "heatmapgl": [
           {
            "colorbar": {
             "outlinewidth": 0,
             "ticks": ""
            },
            "colorscale": [
             [
              0,
              "#0d0887"
             ],
             [
              0.1111111111111111,
              "#46039f"
             ],
             [
              0.2222222222222222,
              "#7201a8"
             ],
             [
              0.3333333333333333,
              "#9c179e"
             ],
             [
              0.4444444444444444,
              "#bd3786"
             ],
             [
              0.5555555555555556,
              "#d8576b"
             ],
             [
              0.6666666666666666,
              "#ed7953"
             ],
             [
              0.7777777777777778,
              "#fb9f3a"
             ],
             [
              0.8888888888888888,
              "#fdca26"
             ],
             [
              1,
              "#f0f921"
             ]
            ],
            "type": "heatmapgl"
           }
          ],
          "histogram": [
           {
            "marker": {
             "pattern": {
              "fillmode": "overlay",
              "size": 10,
              "solidity": 0.2
             }
            },
            "type": "histogram"
           }
          ],
          "histogram2d": [
           {
            "colorbar": {
             "outlinewidth": 0,
             "ticks": ""
            },
            "colorscale": [
             [
              0,
              "#0d0887"
             ],
             [
              0.1111111111111111,
              "#46039f"
             ],
             [
              0.2222222222222222,
              "#7201a8"
             ],
             [
              0.3333333333333333,
              "#9c179e"
             ],
             [
              0.4444444444444444,
              "#bd3786"
             ],
             [
              0.5555555555555556,
              "#d8576b"
             ],
             [
              0.6666666666666666,
              "#ed7953"
             ],
             [
              0.7777777777777778,
              "#fb9f3a"
             ],
             [
              0.8888888888888888,
              "#fdca26"
             ],
             [
              1,
              "#f0f921"
             ]
            ],
            "type": "histogram2d"
           }
          ],
          "histogram2dcontour": [
           {
            "colorbar": {
             "outlinewidth": 0,
             "ticks": ""
            },
            "colorscale": [
             [
              0,
              "#0d0887"
             ],
             [
              0.1111111111111111,
              "#46039f"
             ],
             [
              0.2222222222222222,
              "#7201a8"
             ],
             [
              0.3333333333333333,
              "#9c179e"
             ],
             [
              0.4444444444444444,
              "#bd3786"
             ],
             [
              0.5555555555555556,
              "#d8576b"
             ],
             [
              0.6666666666666666,
              "#ed7953"
             ],
             [
              0.7777777777777778,
              "#fb9f3a"
             ],
             [
              0.8888888888888888,
              "#fdca26"
             ],
             [
              1,
              "#f0f921"
             ]
            ],
            "type": "histogram2dcontour"
           }
          ],
          "mesh3d": [
           {
            "colorbar": {
             "outlinewidth": 0,
             "ticks": ""
            },
            "type": "mesh3d"
           }
          ],
          "parcoords": [
           {
            "line": {
             "colorbar": {
              "outlinewidth": 0,
              "ticks": ""
             }
            },
            "type": "parcoords"
           }
          ],
          "pie": [
           {
            "automargin": true,
            "type": "pie"
           }
          ],
          "scatter": [
           {
            "fillpattern": {
             "fillmode": "overlay",
             "size": 10,
             "solidity": 0.2
            },
            "type": "scatter"
           }
          ],
          "scatter3d": [
           {
            "line": {
             "colorbar": {
              "outlinewidth": 0,
              "ticks": ""
             }
            },
            "marker": {
             "colorbar": {
              "outlinewidth": 0,
              "ticks": ""
             }
            },
            "type": "scatter3d"
           }
          ],
          "scattercarpet": [
           {
            "marker": {
             "colorbar": {
              "outlinewidth": 0,
              "ticks": ""
             }
            },
            "type": "scattercarpet"
           }
          ],
          "scattergeo": [
           {
            "marker": {
             "colorbar": {
              "outlinewidth": 0,
              "ticks": ""
             }
            },
            "type": "scattergeo"
           }
          ],
          "scattergl": [
           {
            "marker": {
             "colorbar": {
              "outlinewidth": 0,
              "ticks": ""
             }
            },
            "type": "scattergl"
           }
          ],
          "scattermapbox": [
           {
            "marker": {
             "colorbar": {
              "outlinewidth": 0,
              "ticks": ""
             }
            },
            "type": "scattermapbox"
           }
          ],
          "scatterpolar": [
           {
            "marker": {
             "colorbar": {
              "outlinewidth": 0,
              "ticks": ""
             }
            },
            "type": "scatterpolar"
           }
          ],
          "scatterpolargl": [
           {
            "marker": {
             "colorbar": {
              "outlinewidth": 0,
              "ticks": ""
             }
            },
            "type": "scatterpolargl"
           }
          ],
          "scatterternary": [
           {
            "marker": {
             "colorbar": {
              "outlinewidth": 0,
              "ticks": ""
             }
            },
            "type": "scatterternary"
           }
          ],
          "surface": [
           {
            "colorbar": {
             "outlinewidth": 0,
             "ticks": ""
            },
            "colorscale": [
             [
              0,
              "#0d0887"
             ],
             [
              0.1111111111111111,
              "#46039f"
             ],
             [
              0.2222222222222222,
              "#7201a8"
             ],
             [
              0.3333333333333333,
              "#9c179e"
             ],
             [
              0.4444444444444444,
              "#bd3786"
             ],
             [
              0.5555555555555556,
              "#d8576b"
             ],
             [
              0.6666666666666666,
              "#ed7953"
             ],
             [
              0.7777777777777778,
              "#fb9f3a"
             ],
             [
              0.8888888888888888,
              "#fdca26"
             ],
             [
              1,
              "#f0f921"
             ]
            ],
            "type": "surface"
           }
          ],
          "table": [
           {
            "cells": {
             "fill": {
              "color": "#EBF0F8"
             },
             "line": {
              "color": "white"
             }
            },
            "header": {
             "fill": {
              "color": "#C8D4E3"
             },
             "line": {
              "color": "white"
             }
            },
            "type": "table"
           }
          ]
         },
         "layout": {
          "annotationdefaults": {
           "arrowcolor": "#2a3f5f",
           "arrowhead": 0,
           "arrowwidth": 1
          },
          "autotypenumbers": "strict",
          "coloraxis": {
           "colorbar": {
            "outlinewidth": 0,
            "ticks": ""
           }
          },
          "colorscale": {
           "diverging": [
            [
             0,
             "#8e0152"
            ],
            [
             0.1,
             "#c51b7d"
            ],
            [
             0.2,
             "#de77ae"
            ],
            [
             0.3,
             "#f1b6da"
            ],
            [
             0.4,
             "#fde0ef"
            ],
            [
             0.5,
             "#f7f7f7"
            ],
            [
             0.6,
             "#e6f5d0"
            ],
            [
             0.7,
             "#b8e186"
            ],
            [
             0.8,
             "#7fbc41"
            ],
            [
             0.9,
             "#4d9221"
            ],
            [
             1,
             "#276419"
            ]
           ],
           "sequential": [
            [
             0,
             "#0d0887"
            ],
            [
             0.1111111111111111,
             "#46039f"
            ],
            [
             0.2222222222222222,
             "#7201a8"
            ],
            [
             0.3333333333333333,
             "#9c179e"
            ],
            [
             0.4444444444444444,
             "#bd3786"
            ],
            [
             0.5555555555555556,
             "#d8576b"
            ],
            [
             0.6666666666666666,
             "#ed7953"
            ],
            [
             0.7777777777777778,
             "#fb9f3a"
            ],
            [
             0.8888888888888888,
             "#fdca26"
            ],
            [
             1,
             "#f0f921"
            ]
           ],
           "sequentialminus": [
            [
             0,
             "#0d0887"
            ],
            [
             0.1111111111111111,
             "#46039f"
            ],
            [
             0.2222222222222222,
             "#7201a8"
            ],
            [
             0.3333333333333333,
             "#9c179e"
            ],
            [
             0.4444444444444444,
             "#bd3786"
            ],
            [
             0.5555555555555556,
             "#d8576b"
            ],
            [
             0.6666666666666666,
             "#ed7953"
            ],
            [
             0.7777777777777778,
             "#fb9f3a"
            ],
            [
             0.8888888888888888,
             "#fdca26"
            ],
            [
             1,
             "#f0f921"
            ]
           ]
          },
          "colorway": [
           "#636efa",
           "#EF553B",
           "#00cc96",
           "#ab63fa",
           "#FFA15A",
           "#19d3f3",
           "#FF6692",
           "#B6E880",
           "#FF97FF",
           "#FECB52"
          ],
          "font": {
           "color": "#2a3f5f"
          },
          "geo": {
           "bgcolor": "white",
           "lakecolor": "white",
           "landcolor": "#E5ECF6",
           "showlakes": true,
           "showland": true,
           "subunitcolor": "white"
          },
          "hoverlabel": {
           "align": "left"
          },
          "hovermode": "closest",
          "mapbox": {
           "style": "light"
          },
          "paper_bgcolor": "white",
          "plot_bgcolor": "#E5ECF6",
          "polar": {
           "angularaxis": {
            "gridcolor": "white",
            "linecolor": "white",
            "ticks": ""
           },
           "bgcolor": "#E5ECF6",
           "radialaxis": {
            "gridcolor": "white",
            "linecolor": "white",
            "ticks": ""
           }
          },
          "scene": {
           "xaxis": {
            "backgroundcolor": "#E5ECF6",
            "gridcolor": "white",
            "gridwidth": 2,
            "linecolor": "white",
            "showbackground": true,
            "ticks": "",
            "zerolinecolor": "white"
           },
           "yaxis": {
            "backgroundcolor": "#E5ECF6",
            "gridcolor": "white",
            "gridwidth": 2,
            "linecolor": "white",
            "showbackground": true,
            "ticks": "",
            "zerolinecolor": "white"
           },
           "zaxis": {
            "backgroundcolor": "#E5ECF6",
            "gridcolor": "white",
            "gridwidth": 2,
            "linecolor": "white",
            "showbackground": true,
            "ticks": "",
            "zerolinecolor": "white"
           }
          },
          "shapedefaults": {
           "line": {
            "color": "#2a3f5f"
           }
          },
          "ternary": {
           "aaxis": {
            "gridcolor": "white",
            "linecolor": "white",
            "ticks": ""
           },
           "baxis": {
            "gridcolor": "white",
            "linecolor": "white",
            "ticks": ""
           },
           "bgcolor": "#E5ECF6",
           "caxis": {
            "gridcolor": "white",
            "linecolor": "white",
            "ticks": ""
           }
          },
          "title": {
           "x": 0.05
          },
          "xaxis": {
           "automargin": true,
           "gridcolor": "white",
           "linecolor": "white",
           "ticks": "",
           "title": {
            "standoff": 15
           },
           "zerolinecolor": "white",
           "zerolinewidth": 2
          },
          "yaxis": {
           "automargin": true,
           "gridcolor": "white",
           "linecolor": "white",
           "ticks": "",
           "title": {
            "standoff": 15
           },
           "zerolinecolor": "white",
           "zerolinewidth": 2
          }
         }
        },
        "xaxis": {
         "anchor": "y",
         "domain": [
          0,
          1
         ],
         "title": {
          "text": "TIME_PERIOD"
         }
        },
        "yaxis": {
         "anchor": "x",
         "domain": [
          0,
          1
         ],
         "title": {
          "text": "OBS_VALUE"
         }
        }
       }
      }
     },
     "metadata": {},
     "output_type": "display_data"
    }
   ],
   "source": [
    "fig = px.area(data_by_energy_source, x='TIME_PERIOD', y='OBS_VALUE', color='siec_label')\n",
    "fig.show()"
   ]
  },
  {
   "cell_type": "code",
   "execution_count": 31,
   "metadata": {},
   "outputs": [
    {
     "data": {
      "application/vnd.plotly.v1+json": {
       "config": {
        "plotlyServerURL": "https://plot.ly"
       },
       "data": [
        {
         "fillpattern": {
          "shape": ""
         },
         "hovertemplate": "nrg_bal_label=Final consumption - industry sector - energy use<br>TIME_PERIOD=%{x}<br>OBS_VALUE=%{y}<extra></extra>",
         "legendgroup": "Final consumption - industry sector - energy use",
         "line": {
          "color": "#636efa"
         },
         "marker": {
          "symbol": "circle"
         },
         "mode": "lines",
         "name": "Final consumption - industry sector - energy use",
         "orientation": "v",
         "showlegend": true,
         "stackgroup": "1",
         "type": "scatter",
         "x": [
          2000,
          2001,
          2002,
          2003,
          2004,
          2005,
          2006,
          2007,
          2008,
          2009,
          2010,
          2011,
          2012,
          2013,
          2014,
          2015,
          2016,
          2017,
          2018,
          2019,
          2020,
          2021,
          2022,
          2023
         ],
         "xaxis": "x",
         "y": [
          3151412.662,
          3146383.856,
          3133307.643,
          3205872.648,
          3197802.911,
          3199760.075,
          3135314.858,
          3190214.632,
          3083598.397,
          2665671.818,
          2836129.2679999997,
          2844496.133,
          2789316.222,
          2756162.433,
          2716074.381,
          2724845.534,
          2774875.633,
          2800981.377,
          2824506.148,
          2795445.975,
          2695600.438,
          2821463.665,
          2638401.511,
          2496055.658
         ],
         "yaxis": "y"
        },
        {
         "fillpattern": {
          "shape": ""
         },
         "hovertemplate": "nrg_bal_label=Final consumption - other sectors - agriculture and forestry - energy use<br>TIME_PERIOD=%{x}<br>OBS_VALUE=%{y}<extra></extra>",
         "legendgroup": "Final consumption - other sectors - agriculture and forestry - energy use",
         "line": {
          "color": "#EF553B"
         },
         "marker": {
          "symbol": "circle"
         },
         "mode": "lines",
         "name": "Final consumption - other sectors - agriculture and forestry - energy use",
         "orientation": "v",
         "showlegend": true,
         "stackgroup": "1",
         "type": "scatter",
         "x": [
          2000,
          2001,
          2002,
          2003,
          2004,
          2005,
          2006,
          2007,
          2008,
          2009,
          2010,
          2011,
          2012,
          2013,
          2014,
          2015,
          2016,
          2017,
          2018,
          2019,
          2020,
          2021,
          2022,
          2023
         ],
         "xaxis": "x",
         "y": [
          312987.555,
          305411.222,
          295749.888,
          301425.86100000003,
          314101.817,
          313883.567,
          294793.234,
          288941.646,
          287496.195,
          280341.661,
          296754.40400000004,
          290500.589,
          287439.297,
          292123.084,
          285573.522,
          285866.966,
          290979.27499999997,
          295095.552,
          322488.694,
          326639.54799999995,
          330336.551,
          334168.74,
          310925.045,
          307471.221
         ],
         "yaxis": "y"
        },
        {
         "fillpattern": {
          "shape": ""
         },
         "hovertemplate": "nrg_bal_label=Final consumption - other sectors - commercial and public services - energy use<br>TIME_PERIOD=%{x}<br>OBS_VALUE=%{y}<extra></extra>",
         "legendgroup": "Final consumption - other sectors - commercial and public services - energy use",
         "line": {
          "color": "#00cc96"
         },
         "marker": {
          "symbol": "circle"
         },
         "mode": "lines",
         "name": "Final consumption - other sectors - commercial and public services - energy use",
         "orientation": "v",
         "showlegend": true,
         "stackgroup": "1",
         "type": "scatter",
         "x": [
          2000,
          2001,
          2002,
          2003,
          2004,
          2005,
          2006,
          2007,
          2008,
          2009,
          2010,
          2011,
          2012,
          2013,
          2014,
          2015,
          2016,
          2017,
          2018,
          2019,
          2020,
          2021,
          2022,
          2023
         ],
         "xaxis": "x",
         "y": [
          1218274.986,
          1292961.5650000002,
          1279414.843,
          1432405.382,
          1470076.0180000002,
          1488351.864,
          1546795.804,
          1468733.751,
          1560377.915,
          1562289.94,
          1627838.576,
          1488933.186,
          1522047.889,
          1539105.172,
          1437810.589,
          1497174.74,
          1510302.5019999999,
          1555843.1060000001,
          1530719.344,
          1492593.3090000001,
          1409532.633,
          1507381.444,
          1407855.53,
          1372095.899
         ],
         "yaxis": "y"
        },
        {
         "fillpattern": {
          "shape": ""
         },
         "hovertemplate": "nrg_bal_label=Final consumption - other sectors - fishing - energy use<br>TIME_PERIOD=%{x}<br>OBS_VALUE=%{y}<extra></extra>",
         "legendgroup": "Final consumption - other sectors - fishing - energy use",
         "line": {
          "color": "#ab63fa"
         },
         "marker": {
          "symbol": "circle"
         },
         "mode": "lines",
         "name": "Final consumption - other sectors - fishing - energy use",
         "orientation": "v",
         "showlegend": true,
         "stackgroup": "1",
         "type": "scatter",
         "x": [
          2000,
          2001,
          2002,
          2003,
          2004,
          2005,
          2006,
          2007,
          2008,
          2009,
          2010,
          2011,
          2012,
          2013,
          2014,
          2015,
          2016,
          2017,
          2018,
          2019,
          2020,
          2021,
          2022,
          2023
         ],
         "xaxis": "x",
         "y": [
          17683.496,
          18369.665,
          17075.422,
          16986.864999999998,
          17071.201,
          16960.367,
          16010.248,
          15277.186,
          14207.863000000001,
          14789.867,
          14296.214,
          13751.726,
          13810.374,
          14310.633999999998,
          14336.684000000001,
          15409.421,
          15318.956,
          15243.65,
          16199.493999999999,
          15597.88,
          15699.203000000001,
          16235.554999999998,
          15919.545,
          16008.291
         ],
         "yaxis": "y"
        },
        {
         "fillpattern": {
          "shape": ""
         },
         "hovertemplate": "nrg_bal_label=Final consumption - other sectors - households - energy use<br>TIME_PERIOD=%{x}<br>OBS_VALUE=%{y}<extra></extra>",
         "legendgroup": "Final consumption - other sectors - households - energy use",
         "line": {
          "color": "#FFA15A"
         },
         "marker": {
          "symbol": "circle"
         },
         "mode": "lines",
         "name": "Final consumption - other sectors - households - energy use",
         "orientation": "v",
         "showlegend": true,
         "stackgroup": "1",
         "type": "scatter",
         "x": [
          2000,
          2001,
          2002,
          2003,
          2004,
          2005,
          2006,
          2007,
          2008,
          2009,
          2010,
          2011,
          2012,
          2013,
          2014,
          2015,
          2016,
          2017,
          2018,
          2019,
          2020,
          2021,
          2022,
          2023
         ],
         "xaxis": "x",
         "y": [
          2890766.177,
          3045105.797,
          2981283.932,
          3084583.308,
          3062824.227,
          3097288.9,
          3086482.099,
          2898574.295,
          3073338.9760000003,
          3051492.079,
          3252199.704,
          2938811.894,
          3072709.355,
          3108131.802,
          2731242.899,
          2857902.208,
          2934068.173,
          2941572.091,
          2917142.3649999998,
          2889492.436,
          2887646.867,
          3047113.3170000003,
          2817963.291,
          2670091.7399999998
         ],
         "yaxis": "y"
        },
        {
         "fillpattern": {
          "shape": ""
         },
         "hovertemplate": "nrg_bal_label=Final consumption - other sectors - not elsewhere specified - energy use<br>TIME_PERIOD=%{x}<br>OBS_VALUE=%{y}<extra></extra>",
         "legendgroup": "Final consumption - other sectors - not elsewhere specified - energy use",
         "line": {
          "color": "#19d3f3"
         },
         "marker": {
          "symbol": "circle"
         },
         "mode": "lines",
         "name": "Final consumption - other sectors - not elsewhere specified - energy use",
         "orientation": "v",
         "showlegend": true,
         "stackgroup": "1",
         "type": "scatter",
         "x": [
          2000,
          2001,
          2002,
          2003,
          2004,
          2005,
          2006,
          2007,
          2008,
          2009,
          2010,
          2011,
          2012,
          2013,
          2014,
          2015,
          2016,
          2017,
          2018,
          2019,
          2020,
          2021,
          2022,
          2023
         ],
         "xaxis": "x",
         "y": [
          121768.05600000001,
          131717.036,
          132834.638,
          84505.775,
          82812.383,
          83844.188,
          93344.053,
          40651.635,
          37977.799,
          37917.890999999996,
          43055.941,
          48775.047000000006,
          49152.822,
          47307.96000000001,
          47265.932,
          41847.407,
          39209.308,
          39347.362,
          40062.378000000004,
          39552.814000000006,
          41998.111,
          43593.231999999996,
          47661.041999999994,
          49158.115
         ],
         "yaxis": "y"
        },
        {
         "fillpattern": {
          "shape": ""
         },
         "hovertemplate": "nrg_bal_label=Final consumption - transport sector - energy use<br>TIME_PERIOD=%{x}<br>OBS_VALUE=%{y}<extra></extra>",
         "legendgroup": "Final consumption - transport sector - energy use",
         "line": {
          "color": "#FF6692"
         },
         "marker": {
          "symbol": "circle"
         },
         "mode": "lines",
         "name": "Final consumption - transport sector - energy use",
         "orientation": "v",
         "showlegend": true,
         "stackgroup": "1",
         "type": "scatter",
         "x": [
          2000,
          2001,
          2002,
          2003,
          2004,
          2005,
          2006,
          2007,
          2008,
          2009,
          2010,
          2011,
          2012,
          2013,
          2014,
          2015,
          2016,
          2017,
          2018,
          2019,
          2020,
          2021,
          2022,
          2023
         ],
         "xaxis": "x",
         "y": [
          3057438.635,
          3113987.72,
          3146757.454,
          3190845.012,
          3269744.256,
          3274773.011,
          3340333.7830000003,
          3393982.628,
          3348080.697,
          3263815.6840000004,
          3256240.489,
          3256158.169,
          3138267.6350000002,
          3096448.305,
          3132397.379,
          3175666.533,
          3249226.594,
          3315952.4359999998,
          3333416.135,
          3363033.9850000003,
          2926905.45,
          3170768.631,
          3263358.092,
          3252320.092
         ],
         "yaxis": "y"
        }
       ],
       "layout": {
        "legend": {
         "title": {
          "text": "nrg_bal_label"
         },
         "tracegroupgap": 0
        },
        "margin": {
         "t": 60
        },
        "template": {
         "data": {
          "bar": [
           {
            "error_x": {
             "color": "#2a3f5f"
            },
            "error_y": {
             "color": "#2a3f5f"
            },
            "marker": {
             "line": {
              "color": "#E5ECF6",
              "width": 0.5
             },
             "pattern": {
              "fillmode": "overlay",
              "size": 10,
              "solidity": 0.2
             }
            },
            "type": "bar"
           }
          ],
          "barpolar": [
           {
            "marker": {
             "line": {
              "color": "#E5ECF6",
              "width": 0.5
             },
             "pattern": {
              "fillmode": "overlay",
              "size": 10,
              "solidity": 0.2
             }
            },
            "type": "barpolar"
           }
          ],
          "carpet": [
           {
            "aaxis": {
             "endlinecolor": "#2a3f5f",
             "gridcolor": "white",
             "linecolor": "white",
             "minorgridcolor": "white",
             "startlinecolor": "#2a3f5f"
            },
            "baxis": {
             "endlinecolor": "#2a3f5f",
             "gridcolor": "white",
             "linecolor": "white",
             "minorgridcolor": "white",
             "startlinecolor": "#2a3f5f"
            },
            "type": "carpet"
           }
          ],
          "choropleth": [
           {
            "colorbar": {
             "outlinewidth": 0,
             "ticks": ""
            },
            "type": "choropleth"
           }
          ],
          "contour": [
           {
            "colorbar": {
             "outlinewidth": 0,
             "ticks": ""
            },
            "colorscale": [
             [
              0,
              "#0d0887"
             ],
             [
              0.1111111111111111,
              "#46039f"
             ],
             [
              0.2222222222222222,
              "#7201a8"
             ],
             [
              0.3333333333333333,
              "#9c179e"
             ],
             [
              0.4444444444444444,
              "#bd3786"
             ],
             [
              0.5555555555555556,
              "#d8576b"
             ],
             [
              0.6666666666666666,
              "#ed7953"
             ],
             [
              0.7777777777777778,
              "#fb9f3a"
             ],
             [
              0.8888888888888888,
              "#fdca26"
             ],
             [
              1,
              "#f0f921"
             ]
            ],
            "type": "contour"
           }
          ],
          "contourcarpet": [
           {
            "colorbar": {
             "outlinewidth": 0,
             "ticks": ""
            },
            "type": "contourcarpet"
           }
          ],
          "heatmap": [
           {
            "colorbar": {
             "outlinewidth": 0,
             "ticks": ""
            },
            "colorscale": [
             [
              0,
              "#0d0887"
             ],
             [
              0.1111111111111111,
              "#46039f"
             ],
             [
              0.2222222222222222,
              "#7201a8"
             ],
             [
              0.3333333333333333,
              "#9c179e"
             ],
             [
              0.4444444444444444,
              "#bd3786"
             ],
             [
              0.5555555555555556,
              "#d8576b"
             ],
             [
              0.6666666666666666,
              "#ed7953"
             ],
             [
              0.7777777777777778,
              "#fb9f3a"
             ],
             [
              0.8888888888888888,
              "#fdca26"
             ],
             [
              1,
              "#f0f921"
             ]
            ],
            "type": "heatmap"
           }
          ],
          "heatmapgl": [
           {
            "colorbar": {
             "outlinewidth": 0,
             "ticks": ""
            },
            "colorscale": [
             [
              0,
              "#0d0887"
             ],
             [
              0.1111111111111111,
              "#46039f"
             ],
             [
              0.2222222222222222,
              "#7201a8"
             ],
             [
              0.3333333333333333,
              "#9c179e"
             ],
             [
              0.4444444444444444,
              "#bd3786"
             ],
             [
              0.5555555555555556,
              "#d8576b"
             ],
             [
              0.6666666666666666,
              "#ed7953"
             ],
             [
              0.7777777777777778,
              "#fb9f3a"
             ],
             [
              0.8888888888888888,
              "#fdca26"
             ],
             [
              1,
              "#f0f921"
             ]
            ],
            "type": "heatmapgl"
           }
          ],
          "histogram": [
           {
            "marker": {
             "pattern": {
              "fillmode": "overlay",
              "size": 10,
              "solidity": 0.2
             }
            },
            "type": "histogram"
           }
          ],
          "histogram2d": [
           {
            "colorbar": {
             "outlinewidth": 0,
             "ticks": ""
            },
            "colorscale": [
             [
              0,
              "#0d0887"
             ],
             [
              0.1111111111111111,
              "#46039f"
             ],
             [
              0.2222222222222222,
              "#7201a8"
             ],
             [
              0.3333333333333333,
              "#9c179e"
             ],
             [
              0.4444444444444444,
              "#bd3786"
             ],
             [
              0.5555555555555556,
              "#d8576b"
             ],
             [
              0.6666666666666666,
              "#ed7953"
             ],
             [
              0.7777777777777778,
              "#fb9f3a"
             ],
             [
              0.8888888888888888,
              "#fdca26"
             ],
             [
              1,
              "#f0f921"
             ]
            ],
            "type": "histogram2d"
           }
          ],
          "histogram2dcontour": [
           {
            "colorbar": {
             "outlinewidth": 0,
             "ticks": ""
            },
            "colorscale": [
             [
              0,
              "#0d0887"
             ],
             [
              0.1111111111111111,
              "#46039f"
             ],
             [
              0.2222222222222222,
              "#7201a8"
             ],
             [
              0.3333333333333333,
              "#9c179e"
             ],
             [
              0.4444444444444444,
              "#bd3786"
             ],
             [
              0.5555555555555556,
              "#d8576b"
             ],
             [
              0.6666666666666666,
              "#ed7953"
             ],
             [
              0.7777777777777778,
              "#fb9f3a"
             ],
             [
              0.8888888888888888,
              "#fdca26"
             ],
             [
              1,
              "#f0f921"
             ]
            ],
            "type": "histogram2dcontour"
           }
          ],
          "mesh3d": [
           {
            "colorbar": {
             "outlinewidth": 0,
             "ticks": ""
            },
            "type": "mesh3d"
           }
          ],
          "parcoords": [
           {
            "line": {
             "colorbar": {
              "outlinewidth": 0,
              "ticks": ""
             }
            },
            "type": "parcoords"
           }
          ],
          "pie": [
           {
            "automargin": true,
            "type": "pie"
           }
          ],
          "scatter": [
           {
            "fillpattern": {
             "fillmode": "overlay",
             "size": 10,
             "solidity": 0.2
            },
            "type": "scatter"
           }
          ],
          "scatter3d": [
           {
            "line": {
             "colorbar": {
              "outlinewidth": 0,
              "ticks": ""
             }
            },
            "marker": {
             "colorbar": {
              "outlinewidth": 0,
              "ticks": ""
             }
            },
            "type": "scatter3d"
           }
          ],
          "scattercarpet": [
           {
            "marker": {
             "colorbar": {
              "outlinewidth": 0,
              "ticks": ""
             }
            },
            "type": "scattercarpet"
           }
          ],
          "scattergeo": [
           {
            "marker": {
             "colorbar": {
              "outlinewidth": 0,
              "ticks": ""
             }
            },
            "type": "scattergeo"
           }
          ],
          "scattergl": [
           {
            "marker": {
             "colorbar": {
              "outlinewidth": 0,
              "ticks": ""
             }
            },
            "type": "scattergl"
           }
          ],
          "scattermapbox": [
           {
            "marker": {
             "colorbar": {
              "outlinewidth": 0,
              "ticks": ""
             }
            },
            "type": "scattermapbox"
           }
          ],
          "scatterpolar": [
           {
            "marker": {
             "colorbar": {
              "outlinewidth": 0,
              "ticks": ""
             }
            },
            "type": "scatterpolar"
           }
          ],
          "scatterpolargl": [
           {
            "marker": {
             "colorbar": {
              "outlinewidth": 0,
              "ticks": ""
             }
            },
            "type": "scatterpolargl"
           }
          ],
          "scatterternary": [
           {
            "marker": {
             "colorbar": {
              "outlinewidth": 0,
              "ticks": ""
             }
            },
            "type": "scatterternary"
           }
          ],
          "surface": [
           {
            "colorbar": {
             "outlinewidth": 0,
             "ticks": ""
            },
            "colorscale": [
             [
              0,
              "#0d0887"
             ],
             [
              0.1111111111111111,
              "#46039f"
             ],
             [
              0.2222222222222222,
              "#7201a8"
             ],
             [
              0.3333333333333333,
              "#9c179e"
             ],
             [
              0.4444444444444444,
              "#bd3786"
             ],
             [
              0.5555555555555556,
              "#d8576b"
             ],
             [
              0.6666666666666666,
              "#ed7953"
             ],
             [
              0.7777777777777778,
              "#fb9f3a"
             ],
             [
              0.8888888888888888,
              "#fdca26"
             ],
             [
              1,
              "#f0f921"
             ]
            ],
            "type": "surface"
           }
          ],
          "table": [
           {
            "cells": {
             "fill": {
              "color": "#EBF0F8"
             },
             "line": {
              "color": "white"
             }
            },
            "header": {
             "fill": {
              "color": "#C8D4E3"
             },
             "line": {
              "color": "white"
             }
            },
            "type": "table"
           }
          ]
         },
         "layout": {
          "annotationdefaults": {
           "arrowcolor": "#2a3f5f",
           "arrowhead": 0,
           "arrowwidth": 1
          },
          "autotypenumbers": "strict",
          "coloraxis": {
           "colorbar": {
            "outlinewidth": 0,
            "ticks": ""
           }
          },
          "colorscale": {
           "diverging": [
            [
             0,
             "#8e0152"
            ],
            [
             0.1,
             "#c51b7d"
            ],
            [
             0.2,
             "#de77ae"
            ],
            [
             0.3,
             "#f1b6da"
            ],
            [
             0.4,
             "#fde0ef"
            ],
            [
             0.5,
             "#f7f7f7"
            ],
            [
             0.6,
             "#e6f5d0"
            ],
            [
             0.7,
             "#b8e186"
            ],
            [
             0.8,
             "#7fbc41"
            ],
            [
             0.9,
             "#4d9221"
            ],
            [
             1,
             "#276419"
            ]
           ],
           "sequential": [
            [
             0,
             "#0d0887"
            ],
            [
             0.1111111111111111,
             "#46039f"
            ],
            [
             0.2222222222222222,
             "#7201a8"
            ],
            [
             0.3333333333333333,
             "#9c179e"
            ],
            [
             0.4444444444444444,
             "#bd3786"
            ],
            [
             0.5555555555555556,
             "#d8576b"
            ],
            [
             0.6666666666666666,
             "#ed7953"
            ],
            [
             0.7777777777777778,
             "#fb9f3a"
            ],
            [
             0.8888888888888888,
             "#fdca26"
            ],
            [
             1,
             "#f0f921"
            ]
           ],
           "sequentialminus": [
            [
             0,
             "#0d0887"
            ],
            [
             0.1111111111111111,
             "#46039f"
            ],
            [
             0.2222222222222222,
             "#7201a8"
            ],
            [
             0.3333333333333333,
             "#9c179e"
            ],
            [
             0.4444444444444444,
             "#bd3786"
            ],
            [
             0.5555555555555556,
             "#d8576b"
            ],
            [
             0.6666666666666666,
             "#ed7953"
            ],
            [
             0.7777777777777778,
             "#fb9f3a"
            ],
            [
             0.8888888888888888,
             "#fdca26"
            ],
            [
             1,
             "#f0f921"
            ]
           ]
          },
          "colorway": [
           "#636efa",
           "#EF553B",
           "#00cc96",
           "#ab63fa",
           "#FFA15A",
           "#19d3f3",
           "#FF6692",
           "#B6E880",
           "#FF97FF",
           "#FECB52"
          ],
          "font": {
           "color": "#2a3f5f"
          },
          "geo": {
           "bgcolor": "white",
           "lakecolor": "white",
           "landcolor": "#E5ECF6",
           "showlakes": true,
           "showland": true,
           "subunitcolor": "white"
          },
          "hoverlabel": {
           "align": "left"
          },
          "hovermode": "closest",
          "mapbox": {
           "style": "light"
          },
          "paper_bgcolor": "white",
          "plot_bgcolor": "#E5ECF6",
          "polar": {
           "angularaxis": {
            "gridcolor": "white",
            "linecolor": "white",
            "ticks": ""
           },
           "bgcolor": "#E5ECF6",
           "radialaxis": {
            "gridcolor": "white",
            "linecolor": "white",
            "ticks": ""
           }
          },
          "scene": {
           "xaxis": {
            "backgroundcolor": "#E5ECF6",
            "gridcolor": "white",
            "gridwidth": 2,
            "linecolor": "white",
            "showbackground": true,
            "ticks": "",
            "zerolinecolor": "white"
           },
           "yaxis": {
            "backgroundcolor": "#E5ECF6",
            "gridcolor": "white",
            "gridwidth": 2,
            "linecolor": "white",
            "showbackground": true,
            "ticks": "",
            "zerolinecolor": "white"
           },
           "zaxis": {
            "backgroundcolor": "#E5ECF6",
            "gridcolor": "white",
            "gridwidth": 2,
            "linecolor": "white",
            "showbackground": true,
            "ticks": "",
            "zerolinecolor": "white"
           }
          },
          "shapedefaults": {
           "line": {
            "color": "#2a3f5f"
           }
          },
          "ternary": {
           "aaxis": {
            "gridcolor": "white",
            "linecolor": "white",
            "ticks": ""
           },
           "baxis": {
            "gridcolor": "white",
            "linecolor": "white",
            "ticks": ""
           },
           "bgcolor": "#E5ECF6",
           "caxis": {
            "gridcolor": "white",
            "linecolor": "white",
            "ticks": ""
           }
          },
          "title": {
           "x": 0.05
          },
          "xaxis": {
           "automargin": true,
           "gridcolor": "white",
           "linecolor": "white",
           "ticks": "",
           "title": {
            "standoff": 15
           },
           "zerolinecolor": "white",
           "zerolinewidth": 2
          },
          "yaxis": {
           "automargin": true,
           "gridcolor": "white",
           "linecolor": "white",
           "ticks": "",
           "title": {
            "standoff": 15
           },
           "zerolinecolor": "white",
           "zerolinewidth": 2
          }
         }
        },
        "xaxis": {
         "anchor": "y",
         "domain": [
          0,
          1
         ],
         "title": {
          "text": "TIME_PERIOD"
         }
        },
        "yaxis": {
         "anchor": "x",
         "domain": [
          0,
          1
         ],
         "title": {
          "text": "OBS_VALUE"
         }
        }
       }
      }
     },
     "metadata": {},
     "output_type": "display_data"
    }
   ],
   "source": [
    "fig = px.area(dataset_by_sector, x='TIME_PERIOD', y='OBS_VALUE', color='nrg_bal_label')\n",
    "fig.show()"
   ]
  },
  {
   "cell_type": "code",
   "execution_count": 33,
   "metadata": {},
   "outputs": [
    {
     "data": {
      "application/vnd.plotly.v1+json": {
       "config": {
        "plotlyServerURL": "https://plot.ly"
       },
       "data": [
        {
         "fillpattern": {
          "shape": ""
         },
         "hovertemplate": "nrg_bal_label=Final consumption - industry sector - energy use<br>TIME_PERIOD=%{x}<br>energy_consumption_PC_kwh=%{y}<extra></extra>",
         "legendgroup": "Final consumption - industry sector - energy use",
         "line": {
          "color": "#636efa"
         },
         "marker": {
          "symbol": "circle"
         },
         "mode": "lines",
         "name": "Final consumption - industry sector - energy use",
         "orientation": "v",
         "showlegend": true,
         "stackgroup": "1",
         "type": "scatter",
         "x": [
          2000,
          2001,
          2002,
          2003,
          2004,
          2005,
          2006,
          2007,
          2008,
          2009,
          2010,
          2011,
          2012,
          2013,
          2014,
          2015,
          2016,
          2017,
          2018,
          2019,
          2020,
          2021,
          2022
         ],
         "xaxis": "x",
         "y": [
          7341.830176578809,
          7321.885997007813,
          7266.648822877656,
          7407.934058652497,
          7361.149011011263,
          7341.993736552761,
          7170.900473285879,
          7271.552396559976,
          7007.41544968019,
          6049.265354829768,
          6446.593645955461,
          6456.654072962233,
          6321.286070397986,
          6231.910538752957,
          6132.325039177676,
          6137.2078080618885,
          6240.506306624605,
          6290.283138306048,
          6331.048148588912,
          6253.575881915531,
          6045.674905004579,
          6328.459275825539,
          5878.750927372204
         ],
         "yaxis": "y"
        },
        {
         "fillpattern": {
          "shape": ""
         },
         "hovertemplate": "nrg_bal_label=Final consumption - other sectors - agriculture and forestry - energy use<br>TIME_PERIOD=%{x}<br>energy_consumption_PC_kwh=%{y}<extra></extra>",
         "legendgroup": "Final consumption - other sectors - agriculture and forestry - energy use",
         "line": {
          "color": "#EF553B"
         },
         "marker": {
          "symbol": "circle"
         },
         "mode": "lines",
         "name": "Final consumption - other sectors - agriculture and forestry - energy use",
         "orientation": "v",
         "showlegend": true,
         "stackgroup": "1",
         "type": "scatter",
         "x": [
          2000,
          2001,
          2002,
          2003,
          2004,
          2005,
          2006,
          2007,
          2008,
          2009,
          2010,
          2011,
          2012,
          2013,
          2014,
          2015,
          2016,
          2017,
          2018,
          2019,
          2020,
          2021,
          2022
         ],
         "xaxis": "x",
         "y": [
          729.1655275429048,
          710.7162546065532,
          685.8919775409357,
          696.5164081778439,
          723.0433969563644,
          720.2199942821773,
          674.2330633295762,
          658.5934053973343,
          653.3293312537901,
          636.1852520446805,
          674.530275055044,
          659.4003730237371,
          651.4091195111149,
          660.514381879544,
          644.7649857225163,
          643.862176373247,
          654.3925713785513,
          662.7086456829077,
          722.8490015981217,
          730.711742498472,
          740.8766404817097,
          749.530567619035,
          692.7872384155083
         ],
         "yaxis": "y"
        },
        {
         "fillpattern": {
          "shape": ""
         },
         "hovertemplate": "nrg_bal_label=Final consumption - other sectors - commercial and public services - energy use<br>TIME_PERIOD=%{x}<br>energy_consumption_PC_kwh=%{y}<extra></extra>",
         "legendgroup": "Final consumption - other sectors - commercial and public services - energy use",
         "line": {
          "color": "#00cc96"
         },
         "marker": {
          "symbol": "circle"
         },
         "mode": "lines",
         "name": "Final consumption - other sectors - commercial and public services - energy use",
         "orientation": "v",
         "showlegend": true,
         "stackgroup": "1",
         "type": "scatter",
         "x": [
          2000,
          2001,
          2002,
          2003,
          2004,
          2005,
          2006,
          2007,
          2008,
          2009,
          2010,
          2011,
          2012,
          2013,
          2014,
          2015,
          2016,
          2017,
          2018,
          2019,
          2020,
          2021,
          2022
         ],
         "xaxis": "x",
         "y": [
          2838.2090874476303,
          3008.8246096832277,
          2967.1706139766857,
          3309.914578713777,
          3384.026135190443,
          3415.0904465156273,
          3537.7368032682007,
          3347.729121377991,
          3545.9274850929182,
          3545.337555968068,
          3700.1183052855076,
          3379.6940021206683,
          3449.3400365755874,
          3480.043711065262,
          3246.2740852013153,
          3372.1076625112755,
          3396.567462900028,
          3494.023107716475,
          3431.0627632028913,
          3339.01838996223,
          3161.290503957519,
          3381.011848504203,
          3136.9114852639223
         ],
         "yaxis": "y"
        },
        {
         "fillpattern": {
          "shape": ""
         },
         "hovertemplate": "nrg_bal_label=Final consumption - other sectors - fishing - energy use<br>TIME_PERIOD=%{x}<br>energy_consumption_PC_kwh=%{y}<extra></extra>",
         "legendgroup": "Final consumption - other sectors - fishing - energy use",
         "line": {
          "color": "#ab63fa"
         },
         "marker": {
          "symbol": "circle"
         },
         "mode": "lines",
         "name": "Final consumption - other sectors - fishing - energy use",
         "orientation": "v",
         "showlegend": true,
         "stackgroup": "1",
         "type": "scatter",
         "x": [
          2000,
          2001,
          2002,
          2003,
          2004,
          2005,
          2006,
          2007,
          2008,
          2009,
          2010,
          2011,
          2012,
          2013,
          2014,
          2015,
          2016,
          2017,
          2018,
          2019,
          2020,
          2021,
          2022
         ],
         "xaxis": "x",
         "y": [
          41.1971513999745,
          42.747674501551515,
          39.60067421200849,
          39.25220668442224,
          39.296872839054245,
          38.916326651033714,
          36.6176604776018,
          34.82175066112997,
          32.28708342500139,
          33.562957540949654,
          32.495656447497126,
          31.214715554742728,
          31.297751077714313,
          32.35752355268982,
          32.369218931187284,
          34.70685501210244,
          34.45128869633374,
          34.23331384799813,
          36.31069331160726,
          34.89336837461601,
          35.21006906946964,
          36.41586808736227,
          35.471113680731044
         ],
         "yaxis": "y"
        },
        {
         "fillpattern": {
          "shape": ""
         },
         "hovertemplate": "nrg_bal_label=Final consumption - other sectors - households - energy use<br>TIME_PERIOD=%{x}<br>energy_consumption_PC_kwh=%{y}<extra></extra>",
         "legendgroup": "Final consumption - other sectors - households - energy use",
         "line": {
          "color": "#FFA15A"
         },
         "marker": {
          "symbol": "circle"
         },
         "mode": "lines",
         "name": "Final consumption - other sectors - households - energy use",
         "orientation": "v",
         "showlegend": true,
         "stackgroup": "1",
         "type": "scatter",
         "x": [
          2000,
          2001,
          2002,
          2003,
          2004,
          2005,
          2006,
          2007,
          2008,
          2009,
          2010,
          2011,
          2012,
          2013,
          2014,
          2015,
          2016,
          2017,
          2018,
          2019,
          2020,
          2021,
          2022
         ],
         "xaxis": "x",
         "y": [
          6734.603375700964,
          7086.20388194034,
          6914.081170270796,
          7127.666084409035,
          7050.436239183969,
          7106.869006137716,
          7059.213172174332,
          6606.80778340007,
          6984.101121429756,
          6924.815421532945,
          7392.332283206999,
          6670.739174130194,
          6963.525573380858,
          7027.742306041735,
          6166.572364431108,
          6436.893220830519,
          6598.51948675533,
          6606.013690796833,
          6538.689527081012,
          6463.963306873407,
          6476.3953708546605,
          6834.584749281248,
          6278.841276128682
         ],
         "yaxis": "y"
        },
        {
         "fillpattern": {
          "shape": ""
         },
         "hovertemplate": "nrg_bal_label=Final consumption - other sectors - not elsewhere specified - energy use<br>TIME_PERIOD=%{x}<br>energy_consumption_PC_kwh=%{y}<extra></extra>",
         "legendgroup": "Final consumption - other sectors - not elsewhere specified - energy use",
         "line": {
          "color": "#19d3f3"
         },
         "marker": {
          "symbol": "circle"
         },
         "mode": "lines",
         "name": "Final consumption - other sectors - not elsewhere specified - energy use",
         "orientation": "v",
         "showlegend": true,
         "stackgroup": "1",
         "type": "scatter",
         "x": [
          2000,
          2001,
          2002,
          2003,
          2004,
          2005,
          2006,
          2007,
          2008,
          2009,
          2010,
          2011,
          2012,
          2013,
          2014,
          2015,
          2016,
          2017,
          2018,
          2019,
          2020,
          2021,
          2022
         ],
         "xaxis": "x",
         "y": [
          283.6824256194914,
          306.51604050684335,
          308.06507877275794,
          195.27076634371804,
          190.629100099639,
          192.384269043157,
          213.49081165746264,
          92.65849731339686,
          86.30378577066334,
          86.04787086154033,
          97.86724420603288,
          110.71331833358283,
          111.39255082615429,
          106.96719865309309,
          106.71653925654013,
          94.25350163263374,
          88.17906321367252,
          88.36404617245842,
          89.79865179070916,
          88.48195454476311,
          94.19308668709184,
          97.77832578028776,
          106.19588932498363
         ],
         "yaxis": "y"
        },
        {
         "fillpattern": {
          "shape": ""
         },
         "hovertemplate": "nrg_bal_label=Final consumption - transport sector - energy use<br>TIME_PERIOD=%{x}<br>energy_consumption_PC_kwh=%{y}<extra></extra>",
         "legendgroup": "Final consumption - transport sector - energy use",
         "line": {
          "color": "#FF6692"
         },
         "marker": {
          "symbol": "circle"
         },
         "mode": "lines",
         "name": "Final consumption - transport sector - energy use",
         "orientation": "v",
         "showlegend": true,
         "stackgroup": "1",
         "type": "scatter",
         "x": [
          2000,
          2001,
          2002,
          2003,
          2004,
          2005,
          2006,
          2007,
          2008,
          2009,
          2010,
          2011,
          2012,
          2013,
          2014,
          2015,
          2016,
          2017,
          2018,
          2019,
          2020,
          2021,
          2022
         ],
         "xaxis": "x",
         "y": [
          7122.899360071468,
          7246.497606591549,
          7297.841116902605,
          7373.209118279435,
          7526.753638731102,
          7514.114299771062,
          7639.8072252070815,
          7736.006933503501,
          7608.44616658225,
          7406.64586257453,
          7401.517089837495,
          7391.075930874926,
          7112.096982708593,
          7001.3249558841335,
          7072.2948584434325,
          7152.598266191638,
          7307.289310687959,
          7446.775571901871,
          7471.7550411110515,
          7523.303403729088,
          6564.444262190068,
          7111.939949206681,
          7271.247128122415
         ],
         "yaxis": "y"
        }
       ],
       "layout": {
        "legend": {
         "title": {
          "text": "nrg_bal_label"
         },
         "tracegroupgap": 0
        },
        "margin": {
         "t": 60
        },
        "template": {
         "data": {
          "bar": [
           {
            "error_x": {
             "color": "#2a3f5f"
            },
            "error_y": {
             "color": "#2a3f5f"
            },
            "marker": {
             "line": {
              "color": "#E5ECF6",
              "width": 0.5
             },
             "pattern": {
              "fillmode": "overlay",
              "size": 10,
              "solidity": 0.2
             }
            },
            "type": "bar"
           }
          ],
          "barpolar": [
           {
            "marker": {
             "line": {
              "color": "#E5ECF6",
              "width": 0.5
             },
             "pattern": {
              "fillmode": "overlay",
              "size": 10,
              "solidity": 0.2
             }
            },
            "type": "barpolar"
           }
          ],
          "carpet": [
           {
            "aaxis": {
             "endlinecolor": "#2a3f5f",
             "gridcolor": "white",
             "linecolor": "white",
             "minorgridcolor": "white",
             "startlinecolor": "#2a3f5f"
            },
            "baxis": {
             "endlinecolor": "#2a3f5f",
             "gridcolor": "white",
             "linecolor": "white",
             "minorgridcolor": "white",
             "startlinecolor": "#2a3f5f"
            },
            "type": "carpet"
           }
          ],
          "choropleth": [
           {
            "colorbar": {
             "outlinewidth": 0,
             "ticks": ""
            },
            "type": "choropleth"
           }
          ],
          "contour": [
           {
            "colorbar": {
             "outlinewidth": 0,
             "ticks": ""
            },
            "colorscale": [
             [
              0,
              "#0d0887"
             ],
             [
              0.1111111111111111,
              "#46039f"
             ],
             [
              0.2222222222222222,
              "#7201a8"
             ],
             [
              0.3333333333333333,
              "#9c179e"
             ],
             [
              0.4444444444444444,
              "#bd3786"
             ],
             [
              0.5555555555555556,
              "#d8576b"
             ],
             [
              0.6666666666666666,
              "#ed7953"
             ],
             [
              0.7777777777777778,
              "#fb9f3a"
             ],
             [
              0.8888888888888888,
              "#fdca26"
             ],
             [
              1,
              "#f0f921"
             ]
            ],
            "type": "contour"
           }
          ],
          "contourcarpet": [
           {
            "colorbar": {
             "outlinewidth": 0,
             "ticks": ""
            },
            "type": "contourcarpet"
           }
          ],
          "heatmap": [
           {
            "colorbar": {
             "outlinewidth": 0,
             "ticks": ""
            },
            "colorscale": [
             [
              0,
              "#0d0887"
             ],
             [
              0.1111111111111111,
              "#46039f"
             ],
             [
              0.2222222222222222,
              "#7201a8"
             ],
             [
              0.3333333333333333,
              "#9c179e"
             ],
             [
              0.4444444444444444,
              "#bd3786"
             ],
             [
              0.5555555555555556,
              "#d8576b"
             ],
             [
              0.6666666666666666,
              "#ed7953"
             ],
             [
              0.7777777777777778,
              "#fb9f3a"
             ],
             [
              0.8888888888888888,
              "#fdca26"
             ],
             [
              1,
              "#f0f921"
             ]
            ],
            "type": "heatmap"
           }
          ],
          "heatmapgl": [
           {
            "colorbar": {
             "outlinewidth": 0,
             "ticks": ""
            },
            "colorscale": [
             [
              0,
              "#0d0887"
             ],
             [
              0.1111111111111111,
              "#46039f"
             ],
             [
              0.2222222222222222,
              "#7201a8"
             ],
             [
              0.3333333333333333,
              "#9c179e"
             ],
             [
              0.4444444444444444,
              "#bd3786"
             ],
             [
              0.5555555555555556,
              "#d8576b"
             ],
             [
              0.6666666666666666,
              "#ed7953"
             ],
             [
              0.7777777777777778,
              "#fb9f3a"
             ],
             [
              0.8888888888888888,
              "#fdca26"
             ],
             [
              1,
              "#f0f921"
             ]
            ],
            "type": "heatmapgl"
           }
          ],
          "histogram": [
           {
            "marker": {
             "pattern": {
              "fillmode": "overlay",
              "size": 10,
              "solidity": 0.2
             }
            },
            "type": "histogram"
           }
          ],
          "histogram2d": [
           {
            "colorbar": {
             "outlinewidth": 0,
             "ticks": ""
            },
            "colorscale": [
             [
              0,
              "#0d0887"
             ],
             [
              0.1111111111111111,
              "#46039f"
             ],
             [
              0.2222222222222222,
              "#7201a8"
             ],
             [
              0.3333333333333333,
              "#9c179e"
             ],
             [
              0.4444444444444444,
              "#bd3786"
             ],
             [
              0.5555555555555556,
              "#d8576b"
             ],
             [
              0.6666666666666666,
              "#ed7953"
             ],
             [
              0.7777777777777778,
              "#fb9f3a"
             ],
             [
              0.8888888888888888,
              "#fdca26"
             ],
             [
              1,
              "#f0f921"
             ]
            ],
            "type": "histogram2d"
           }
          ],
          "histogram2dcontour": [
           {
            "colorbar": {
             "outlinewidth": 0,
             "ticks": ""
            },
            "colorscale": [
             [
              0,
              "#0d0887"
             ],
             [
              0.1111111111111111,
              "#46039f"
             ],
             [
              0.2222222222222222,
              "#7201a8"
             ],
             [
              0.3333333333333333,
              "#9c179e"
             ],
             [
              0.4444444444444444,
              "#bd3786"
             ],
             [
              0.5555555555555556,
              "#d8576b"
             ],
             [
              0.6666666666666666,
              "#ed7953"
             ],
             [
              0.7777777777777778,
              "#fb9f3a"
             ],
             [
              0.8888888888888888,
              "#fdca26"
             ],
             [
              1,
              "#f0f921"
             ]
            ],
            "type": "histogram2dcontour"
           }
          ],
          "mesh3d": [
           {
            "colorbar": {
             "outlinewidth": 0,
             "ticks": ""
            },
            "type": "mesh3d"
           }
          ],
          "parcoords": [
           {
            "line": {
             "colorbar": {
              "outlinewidth": 0,
              "ticks": ""
             }
            },
            "type": "parcoords"
           }
          ],
          "pie": [
           {
            "automargin": true,
            "type": "pie"
           }
          ],
          "scatter": [
           {
            "fillpattern": {
             "fillmode": "overlay",
             "size": 10,
             "solidity": 0.2
            },
            "type": "scatter"
           }
          ],
          "scatter3d": [
           {
            "line": {
             "colorbar": {
              "outlinewidth": 0,
              "ticks": ""
             }
            },
            "marker": {
             "colorbar": {
              "outlinewidth": 0,
              "ticks": ""
             }
            },
            "type": "scatter3d"
           }
          ],
          "scattercarpet": [
           {
            "marker": {
             "colorbar": {
              "outlinewidth": 0,
              "ticks": ""
             }
            },
            "type": "scattercarpet"
           }
          ],
          "scattergeo": [
           {
            "marker": {
             "colorbar": {
              "outlinewidth": 0,
              "ticks": ""
             }
            },
            "type": "scattergeo"
           }
          ],
          "scattergl": [
           {
            "marker": {
             "colorbar": {
              "outlinewidth": 0,
              "ticks": ""
             }
            },
            "type": "scattergl"
           }
          ],
          "scattermapbox": [
           {
            "marker": {
             "colorbar": {
              "outlinewidth": 0,
              "ticks": ""
             }
            },
            "type": "scattermapbox"
           }
          ],
          "scatterpolar": [
           {
            "marker": {
             "colorbar": {
              "outlinewidth": 0,
              "ticks": ""
             }
            },
            "type": "scatterpolar"
           }
          ],
          "scatterpolargl": [
           {
            "marker": {
             "colorbar": {
              "outlinewidth": 0,
              "ticks": ""
             }
            },
            "type": "scatterpolargl"
           }
          ],
          "scatterternary": [
           {
            "marker": {
             "colorbar": {
              "outlinewidth": 0,
              "ticks": ""
             }
            },
            "type": "scatterternary"
           }
          ],
          "surface": [
           {
            "colorbar": {
             "outlinewidth": 0,
             "ticks": ""
            },
            "colorscale": [
             [
              0,
              "#0d0887"
             ],
             [
              0.1111111111111111,
              "#46039f"
             ],
             [
              0.2222222222222222,
              "#7201a8"
             ],
             [
              0.3333333333333333,
              "#9c179e"
             ],
             [
              0.4444444444444444,
              "#bd3786"
             ],
             [
              0.5555555555555556,
              "#d8576b"
             ],
             [
              0.6666666666666666,
              "#ed7953"
             ],
             [
              0.7777777777777778,
              "#fb9f3a"
             ],
             [
              0.8888888888888888,
              "#fdca26"
             ],
             [
              1,
              "#f0f921"
             ]
            ],
            "type": "surface"
           }
          ],
          "table": [
           {
            "cells": {
             "fill": {
              "color": "#EBF0F8"
             },
             "line": {
              "color": "white"
             }
            },
            "header": {
             "fill": {
              "color": "#C8D4E3"
             },
             "line": {
              "color": "white"
             }
            },
            "type": "table"
           }
          ]
         },
         "layout": {
          "annotationdefaults": {
           "arrowcolor": "#2a3f5f",
           "arrowhead": 0,
           "arrowwidth": 1
          },
          "autotypenumbers": "strict",
          "coloraxis": {
           "colorbar": {
            "outlinewidth": 0,
            "ticks": ""
           }
          },
          "colorscale": {
           "diverging": [
            [
             0,
             "#8e0152"
            ],
            [
             0.1,
             "#c51b7d"
            ],
            [
             0.2,
             "#de77ae"
            ],
            [
             0.3,
             "#f1b6da"
            ],
            [
             0.4,
             "#fde0ef"
            ],
            [
             0.5,
             "#f7f7f7"
            ],
            [
             0.6,
             "#e6f5d0"
            ],
            [
             0.7,
             "#b8e186"
            ],
            [
             0.8,
             "#7fbc41"
            ],
            [
             0.9,
             "#4d9221"
            ],
            [
             1,
             "#276419"
            ]
           ],
           "sequential": [
            [
             0,
             "#0d0887"
            ],
            [
             0.1111111111111111,
             "#46039f"
            ],
            [
             0.2222222222222222,
             "#7201a8"
            ],
            [
             0.3333333333333333,
             "#9c179e"
            ],
            [
             0.4444444444444444,
             "#bd3786"
            ],
            [
             0.5555555555555556,
             "#d8576b"
            ],
            [
             0.6666666666666666,
             "#ed7953"
            ],
            [
             0.7777777777777778,
             "#fb9f3a"
            ],
            [
             0.8888888888888888,
             "#fdca26"
            ],
            [
             1,
             "#f0f921"
            ]
           ],
           "sequentialminus": [
            [
             0,
             "#0d0887"
            ],
            [
             0.1111111111111111,
             "#46039f"
            ],
            [
             0.2222222222222222,
             "#7201a8"
            ],
            [
             0.3333333333333333,
             "#9c179e"
            ],
            [
             0.4444444444444444,
             "#bd3786"
            ],
            [
             0.5555555555555556,
             "#d8576b"
            ],
            [
             0.6666666666666666,
             "#ed7953"
            ],
            [
             0.7777777777777778,
             "#fb9f3a"
            ],
            [
             0.8888888888888888,
             "#fdca26"
            ],
            [
             1,
             "#f0f921"
            ]
           ]
          },
          "colorway": [
           "#636efa",
           "#EF553B",
           "#00cc96",
           "#ab63fa",
           "#FFA15A",
           "#19d3f3",
           "#FF6692",
           "#B6E880",
           "#FF97FF",
           "#FECB52"
          ],
          "font": {
           "color": "#2a3f5f"
          },
          "geo": {
           "bgcolor": "white",
           "lakecolor": "white",
           "landcolor": "#E5ECF6",
           "showlakes": true,
           "showland": true,
           "subunitcolor": "white"
          },
          "hoverlabel": {
           "align": "left"
          },
          "hovermode": "closest",
          "mapbox": {
           "style": "light"
          },
          "paper_bgcolor": "white",
          "plot_bgcolor": "#E5ECF6",
          "polar": {
           "angularaxis": {
            "gridcolor": "white",
            "linecolor": "white",
            "ticks": ""
           },
           "bgcolor": "#E5ECF6",
           "radialaxis": {
            "gridcolor": "white",
            "linecolor": "white",
            "ticks": ""
           }
          },
          "scene": {
           "xaxis": {
            "backgroundcolor": "#E5ECF6",
            "gridcolor": "white",
            "gridwidth": 2,
            "linecolor": "white",
            "showbackground": true,
            "ticks": "",
            "zerolinecolor": "white"
           },
           "yaxis": {
            "backgroundcolor": "#E5ECF6",
            "gridcolor": "white",
            "gridwidth": 2,
            "linecolor": "white",
            "showbackground": true,
            "ticks": "",
            "zerolinecolor": "white"
           },
           "zaxis": {
            "backgroundcolor": "#E5ECF6",
            "gridcolor": "white",
            "gridwidth": 2,
            "linecolor": "white",
            "showbackground": true,
            "ticks": "",
            "zerolinecolor": "white"
           }
          },
          "shapedefaults": {
           "line": {
            "color": "#2a3f5f"
           }
          },
          "ternary": {
           "aaxis": {
            "gridcolor": "white",
            "linecolor": "white",
            "ticks": ""
           },
           "baxis": {
            "gridcolor": "white",
            "linecolor": "white",
            "ticks": ""
           },
           "bgcolor": "#E5ECF6",
           "caxis": {
            "gridcolor": "white",
            "linecolor": "white",
            "ticks": ""
           }
          },
          "title": {
           "x": 0.05
          },
          "xaxis": {
           "automargin": true,
           "gridcolor": "white",
           "linecolor": "white",
           "ticks": "",
           "title": {
            "standoff": 15
           },
           "zerolinecolor": "white",
           "zerolinewidth": 2
          },
          "yaxis": {
           "automargin": true,
           "gridcolor": "white",
           "linecolor": "white",
           "ticks": "",
           "title": {
            "standoff": 15
           },
           "zerolinecolor": "white",
           "zerolinewidth": 2
          }
         }
        },
        "xaxis": {
         "anchor": "y",
         "domain": [
          0,
          1
         ],
         "title": {
          "text": "TIME_PERIOD"
         }
        },
        "yaxis": {
         "anchor": "x",
         "domain": [
          0,
          1
         ],
         "title": {
          "text": "energy_consumption_PC_kwh"
         }
        }
       }
      }
     },
     "metadata": {},
     "output_type": "display_data"
    }
   ],
   "source": [
    "by_sector_pc =  dataset_by_sector.merge(demo_pjan.data, on='TIME_PERIOD', how='inner')\n",
    "by_sector_pc.rename(columns={'OBS_VALUE_x': 'energy_consumption_gwh', 'OBS_VALUE_y': 'population'}, inplace=True)\n",
    "\n",
    "by_sector_pc = calculate_energy_consumption_per_capita(by_sector_pc)\n",
    "\n",
    "fig = px.area(by_sector_pc, x='TIME_PERIOD', y='energy_consumption_PC_kwh', color='nrg_bal_label')\n",
    "fig.show()"
   ]
  }
 ],
 "metadata": {
  "kernelspec": {
   "display_name": "sdmx_io_data_science-32hfwsck",
   "language": "python",
   "name": "python3"
  },
  "language_info": {
   "codemirror_mode": {
    "name": "ipython",
    "version": 3
   },
   "file_extension": ".py",
   "mimetype": "text/x-python",
   "name": "python",
   "nbconvert_exporter": "python",
   "pygments_lexer": "ipython3",
   "version": "3.11.9"
  }
 },
 "nbformat": 4,
 "nbformat_minor": 2
}
