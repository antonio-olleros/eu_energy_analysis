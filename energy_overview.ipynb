{
 "cells": [
  {
   "cell_type": "code",
   "execution_count": 1,
   "metadata": {},
   "outputs": [],
   "source": [
    "from pysdmx.io import get_datasets\n",
    "import utils\n",
    "import json\n",
    "\n",
    "with open('sub_codelists.json', 'r') as f:\n",
    "    sub_codelists = json.load(f)\n",
    "    \n"
   ]
  },
  {
   "cell_type": "markdown",
   "metadata": {},
   "source": [
    "Selecting basic datasets:"
   ]
  },
  {
   "cell_type": "code",
   "execution_count": null,
   "metadata": {},
   "outputs": [],
   "source": [
    "nrg_bal_siec_basic_constraints = {\n",
    "    'freq': 'A',\n",
    "    'nrg_bal': sub_codelists['nrg_bal_total_consumption'],\n",
    "    'siec': ['C0000X0350-0370', 'C0350-0370', 'P1000', 'S2000', 'G3000', 'O4000XBIO', 'RA000', 'W6100_6220', 'N900H', 'E7000', 'H8000'],\n",
    "    'unit': 'GWH',\n",
    "    'geo': 'EU27_2020',\n",
    "}\n",
    "\n",
    "data_selection = utils.build_data_selection(nrg_bal_siec_basic_constraints)\n",
    "\n",
    "data_url = utils.get_data_url('nrg_bal_s', data_selection=data_selection, start_period=2000)\n",
    "metadata_url = utils.get_metadata_url('nrg_bal_s')\n",
    "\n",
    "nrg_bal_siec_basic = get_datasets(data_url, metadata_url, validate=False)[0]\n",
    "nrg_bal_siec_basic.data.TIME_PERIOD = nrg_bal_siec_basic.data.TIME_PERIOD.astype(int)\n",
    "nrg_bal_siec_basic.data.OBS_VALUE = nrg_bal_siec_basic.data.OBS_VALUE.astype(float)\n",
    "display(nrg_bal_siec_basic.data)"
   ]
  },
  {
   "cell_type": "code",
   "execution_count": null,
   "metadata": {},
   "outputs": [],
   "source": [
    "demo_pjan_constraints={\n",
    "    'freq': 'A',\n",
    "    'unit': 'NR',\n",
    "    'age': 'TOTAL',\n",
    "    'sex': 'T',\n",
    "    'geo': 'EU27_2020',\n",
    "\n",
    "    }\n",
    "\n",
    "data_selection = utils.build_data_selection(demo_pjan_constraints)\n",
    "\n",
    "data_url = utils.get_data_url('demo_pjan', data_selection=data_selection, start_period=2001)\n",
    "metadata_url = utils.get_metadata_url('demo_pjan')\n",
    "demo_pjan_total = utils.get_datasets(data_url, metadata_url, validate=False)[0]\n",
    "demo_pjan_total.data.OBS_VALUE = demo_pjan_total.data.OBS_VALUE.astype(float)\n",
    "\n",
    "# We have to subtract 1 year to the TIME_PERIOD to match the nrg_bal_s_total data\n",
    "demo_pjan_total.data.TIME_PERIOD = demo_pjan_total.data.TIME_PERIOD.astype(int)\n",
    "demo_pjan_total.data.TIME_PERIOD  = demo_pjan_total.data.TIME_PERIOD  - 1\n",
    "display(demo_pjan_total.data)\n"
   ]
  },
  {
   "cell_type": "code",
   "execution_count": null,
   "metadata": {},
   "outputs": [],
   "source": [
    "#kWh per capita\n",
    "nrg_bal_siec_basic = utils.add_labels(nrg_bal_siec_basic, 'siec')\n",
    "# display(nrg_bal_siec_basic.data)\n",
    "\n",
    "full_dataset = nrg_bal_siec_basic.data.merge(demo_pjan_total.data, on='TIME_PERIOD')\n",
    "full_dataset.rename(columns={'OBS_VALUE_x': 'energy_consumption_gwh', 'OBS_VALUE_y': 'population'}, inplace=True)\n",
    "full_dataset['energy_consumption_PC_kwh'] = full_dataset['energy_consumption_gwh'] / full_dataset['population'] * 1000000\n",
    "# nrg_bal_s_total_pc = nrg_bal_siec_basic.data.OBS_VALUE / demo_pjan_total.data.OBS_VALUE * 1000000\n",
    "full_dataset.groupby(['TIME_PERIOD', 'siec_label']).sum().unstack().plot(y='energy_consumption_PC_kwh', kind='bar', stacked=True, figsize=(20, 10))"
   ]
  }
 ],
 "metadata": {
  "kernelspec": {
   "display_name": "sdmx_io_data_science-32hfwsck",
   "language": "python",
   "name": "python3"
  },
  "language_info": {
   "codemirror_mode": {
    "name": "ipython",
    "version": 3
   },
   "file_extension": ".py",
   "mimetype": "text/x-python",
   "name": "python",
   "nbconvert_exporter": "python",
   "pygments_lexer": "ipython3",
   "version": "3.11.9"
  }
 },
 "nbformat": 4,
 "nbformat_minor": 2
}
