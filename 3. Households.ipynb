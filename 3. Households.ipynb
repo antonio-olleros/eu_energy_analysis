{
 "cells": [
  {
   "cell_type": "markdown",
   "metadata": {},
   "source": [
    "Try to add a relationship to temperature extremes"
   ]
  },
  {
   "cell_type": "code",
   "execution_count": 1,
   "metadata": {},
   "outputs": [],
   "source": [
    "import utils\n",
    "import json\n",
    "import plotly.express as px\n",
    "\n",
    "\n",
    "with open('sub_codelists.json', 'r') as f:\n",
    "    sub_codelists = json.load(f)\n"
   ]
  },
  {
   "cell_type": "code",
   "execution_count": 2,
   "metadata": {},
   "outputs": [],
   "source": [
    "average_household_constraints = {\n",
    "    'freq': 'A',\n",
    "    'unit': 'AVG',\n",
    "    'geo': sub_codelists['geo_eu_countries']\n",
    "}\n",
    "\n",
    "nrg_bal_constraints = {\n",
    "    'freq': 'A',\n",
    "    'nrg_bal': 'FC_OTH_HH_E',\n",
    "    'siec': 'TOTAL',\n",
    "    'unit': 'GWH',\n",
    "    'geo': sub_codelists['geo_eu_countries'],\n",
    "}\n",
    "\n",
    "demo_pjan_constraints = {\n",
    "    'freq': 'A',\n",
    "    'unit': 'NR',\n",
    "    'age': 'TOTAL',\n",
    "    'sex': 'T',\n",
    "    'geo': sub_codelists['geo_eu_countries'],\n",
    "    }"
   ]
  },
  {
   "cell_type": "code",
   "execution_count": 3,
   "metadata": {},
   "outputs": [
    {
     "name": "stdout",
     "output_type": "stream",
     "text": [
      "data_url: https://ec.europa.eu/eurostat/api/dissemination/sdmx/2.1/data/ilc_lvph01/A.AVG.BE+BG+CZ+DK+DE+EE+IE+EL+ES+FR+HR+IT+CY+LV+LT+LU+HU+MT+NL+AT+PL+PT+RO+SI+SK+FI+SE?format=SDMX-CSV&startPeriod=2000\n",
      "metadata_url: https://ec.europa.eu/eurostat/api/dissemination/sdmx/2.1/dataflow/all/ilc_lvph01/latest?detail=full&references=descendants\n",
      "data_url: https://ec.europa.eu/eurostat/api/dissemination/sdmx/2.1/data/demo_pjan/A.NR.TOTAL.T.BE+BG+CZ+DK+DE+EE+IE+EL+ES+FR+HR+IT+CY+LV+LT+LU+HU+MT+NL+AT+PL+PT+RO+SI+SK+FI+SE?format=SDMX-CSV&startPeriod=2000\n",
      "metadata_url: https://ec.europa.eu/eurostat/api/dissemination/sdmx/2.1/dataflow/all/demo_pjan/latest?detail=full&references=descendants\n",
      "data_url: https://ec.europa.eu/eurostat/api/dissemination/sdmx/2.1/data/nrg_bal_s/A.FC_OTH_HH_E.TOTAL.GWH.BE+BG+CZ+DK+DE+EE+IE+EL+ES+FR+HR+IT+CY+LV+LT+LU+HU+MT+NL+AT+PL+PT+RO+SI+SK+FI+SE?format=SDMX-CSV&startPeriod=2000\n",
      "metadata_url: https://ec.europa.eu/eurostat/api/dissemination/sdmx/2.1/dataflow/all/nrg_bal_s/latest?detail=full&references=descendants\n"
     ]
    }
   ],
   "source": [
    "average_household = utils.get_dataset_with_selection('ilc_lvph01', average_household_constraints)\n",
    "\n",
    "demo_pjan = utils.get_dataset_with_selection('demo_pjan', demo_pjan_constraints)\n",
    "demo_pjan.data.TIME_PERIOD  = demo_pjan.data.TIME_PERIOD  - 1\n",
    "\n",
    "nrg_bal = utils.get_dataset_with_selection('nrg_bal_s', nrg_bal_constraints)\n"
   ]
  },
  {
   "cell_type": "code",
   "execution_count": 4,
   "metadata": {},
   "outputs": [
    {
     "data": {
      "text/html": [
       "<div>\n",
       "<style scoped>\n",
       "    .dataframe tbody tr th:only-of-type {\n",
       "        vertical-align: middle;\n",
       "    }\n",
       "\n",
       "    .dataframe tbody tr th {\n",
       "        vertical-align: top;\n",
       "    }\n",
       "\n",
       "    .dataframe thead th {\n",
       "        text-align: right;\n",
       "    }\n",
       "</style>\n",
       "<table border=\"1\" class=\"dataframe\">\n",
       "  <thead>\n",
       "    <tr style=\"text-align: right;\">\n",
       "      <th></th>\n",
       "      <th></th>\n",
       "      <th>OBS_VALUE</th>\n",
       "    </tr>\n",
       "    <tr>\n",
       "      <th>geo</th>\n",
       "      <th>TIME_PERIOD</th>\n",
       "      <th></th>\n",
       "    </tr>\n",
       "  </thead>\n",
       "  <tbody>\n",
       "    <tr>\n",
       "      <th rowspan=\"5\" valign=\"top\">AT</th>\n",
       "      <th>1999</th>\n",
       "      <td>NaN</td>\n",
       "    </tr>\n",
       "    <tr>\n",
       "      <th>2000</th>\n",
       "      <td>NaN</td>\n",
       "    </tr>\n",
       "    <tr>\n",
       "      <th>2001</th>\n",
       "      <td>NaN</td>\n",
       "    </tr>\n",
       "    <tr>\n",
       "      <th>2002</th>\n",
       "      <td>NaN</td>\n",
       "    </tr>\n",
       "    <tr>\n",
       "      <th>2003</th>\n",
       "      <td>3.392739e+06</td>\n",
       "    </tr>\n",
       "    <tr>\n",
       "      <th>...</th>\n",
       "      <th>...</th>\n",
       "      <td>...</td>\n",
       "    </tr>\n",
       "    <tr>\n",
       "      <th rowspan=\"5\" valign=\"top\">SK</th>\n",
       "      <th>2019</th>\n",
       "      <td>1.882025e+06</td>\n",
       "    </tr>\n",
       "    <tr>\n",
       "      <th>2020</th>\n",
       "      <td>1.882683e+06</td>\n",
       "    </tr>\n",
       "    <tr>\n",
       "      <th>2021</th>\n",
       "      <td>1.874039e+06</td>\n",
       "    </tr>\n",
       "    <tr>\n",
       "      <th>2022</th>\n",
       "      <td>1.751223e+06</td>\n",
       "    </tr>\n",
       "    <tr>\n",
       "      <th>2023</th>\n",
       "      <td>1.749899e+06</td>\n",
       "    </tr>\n",
       "  </tbody>\n",
       "</table>\n",
       "<p>682 rows × 1 columns</p>\n",
       "</div>"
      ],
      "text/plain": [
       "                    OBS_VALUE\n",
       "geo TIME_PERIOD              \n",
       "AT  1999                  NaN\n",
       "    2000                  NaN\n",
       "    2001                  NaN\n",
       "    2002                  NaN\n",
       "    2003         3.392739e+06\n",
       "...                       ...\n",
       "SK  2019         1.882025e+06\n",
       "    2020         1.882683e+06\n",
       "    2021         1.874039e+06\n",
       "    2022         1.751223e+06\n",
       "    2023         1.749899e+06\n",
       "\n",
       "[682 rows x 1 columns]"
      ]
     },
     "metadata": {},
     "output_type": "display_data"
    }
   ],
   "source": [
    "demo_pjan_df = demo_pjan.data.drop(columns=['OBS_FLAG'])\n",
    "demo_pjan_df.set_index(['geo', 'TIME_PERIOD'], inplace=True)\n",
    "\n",
    "average_household_df = average_household.data.drop(columns=['OBS_FLAG'])\n",
    "average_household_df.set_index(['geo', 'TIME_PERIOD'], inplace=True)\n",
    "\n",
    "number_of_households_df = demo_pjan_df.div(average_household_df)\n",
    "display(number_of_households_df)\n"
   ]
  },
  {
   "cell_type": "code",
   "execution_count": 5,
   "metadata": {},
   "outputs": [
    {
     "data": {
      "text/html": [
       "<div>\n",
       "<style scoped>\n",
       "    .dataframe tbody tr th:only-of-type {\n",
       "        vertical-align: middle;\n",
       "    }\n",
       "\n",
       "    .dataframe tbody tr th {\n",
       "        vertical-align: top;\n",
       "    }\n",
       "\n",
       "    .dataframe thead th {\n",
       "        text-align: right;\n",
       "    }\n",
       "</style>\n",
       "<table border=\"1\" class=\"dataframe\">\n",
       "  <thead>\n",
       "    <tr style=\"text-align: right;\">\n",
       "      <th></th>\n",
       "      <th>geo</th>\n",
       "      <th>TIME_PERIOD</th>\n",
       "      <th>OBS_VALUE</th>\n",
       "    </tr>\n",
       "  </thead>\n",
       "  <tbody>\n",
       "    <tr>\n",
       "      <th>0</th>\n",
       "      <td>AT</td>\n",
       "      <td>2000</td>\n",
       "      <td>73830.480</td>\n",
       "    </tr>\n",
       "    <tr>\n",
       "      <th>1</th>\n",
       "      <td>AT</td>\n",
       "      <td>2001</td>\n",
       "      <td>77829.265</td>\n",
       "    </tr>\n",
       "    <tr>\n",
       "      <th>2</th>\n",
       "      <td>AT</td>\n",
       "      <td>2002</td>\n",
       "      <td>74848.515</td>\n",
       "    </tr>\n",
       "    <tr>\n",
       "      <th>3</th>\n",
       "      <td>AT</td>\n",
       "      <td>2003</td>\n",
       "      <td>76322.168</td>\n",
       "    </tr>\n",
       "    <tr>\n",
       "      <th>4</th>\n",
       "      <td>AT</td>\n",
       "      <td>2004</td>\n",
       "      <td>74796.391</td>\n",
       "    </tr>\n",
       "    <tr>\n",
       "      <th>...</th>\n",
       "      <td>...</td>\n",
       "      <td>...</td>\n",
       "      <td>...</td>\n",
       "    </tr>\n",
       "    <tr>\n",
       "      <th>643</th>\n",
       "      <td>SK</td>\n",
       "      <td>2019</td>\n",
       "      <td>30676.211</td>\n",
       "    </tr>\n",
       "    <tr>\n",
       "      <th>644</th>\n",
       "      <td>SK</td>\n",
       "      <td>2020</td>\n",
       "      <td>31919.356</td>\n",
       "    </tr>\n",
       "    <tr>\n",
       "      <th>645</th>\n",
       "      <td>SK</td>\n",
       "      <td>2021</td>\n",
       "      <td>34498.237</td>\n",
       "    </tr>\n",
       "    <tr>\n",
       "      <th>646</th>\n",
       "      <td>SK</td>\n",
       "      <td>2022</td>\n",
       "      <td>31244.142</td>\n",
       "    </tr>\n",
       "    <tr>\n",
       "      <th>647</th>\n",
       "      <td>SK</td>\n",
       "      <td>2023</td>\n",
       "      <td>28208.191</td>\n",
       "    </tr>\n",
       "  </tbody>\n",
       "</table>\n",
       "<p>648 rows × 3 columns</p>\n",
       "</div>"
      ],
      "text/plain": [
       "    geo  TIME_PERIOD  OBS_VALUE\n",
       "0    AT         2000  73830.480\n",
       "1    AT         2001  77829.265\n",
       "2    AT         2002  74848.515\n",
       "3    AT         2003  76322.168\n",
       "4    AT         2004  74796.391\n",
       "..   ..          ...        ...\n",
       "643  SK         2019  30676.211\n",
       "644  SK         2020  31919.356\n",
       "645  SK         2021  34498.237\n",
       "646  SK         2022  31244.142\n",
       "647  SK         2023  28208.191\n",
       "\n",
       "[648 rows x 3 columns]"
      ]
     },
     "metadata": {},
     "output_type": "display_data"
    }
   ],
   "source": [
    "nrg_bal_df = nrg_bal.data.set_index(['geo', 'TIME_PERIOD'])\n",
    "\n",
    "display(nrg_bal.data)"
   ]
  },
  {
   "cell_type": "code",
   "execution_count": 6,
   "metadata": {},
   "outputs": [],
   "source": [
    "consumption_per_household = nrg_bal_df.div(number_of_households_df)"
   ]
  },
  {
   "cell_type": "code",
   "execution_count": 7,
   "metadata": {},
   "outputs": [
    {
     "data": {
      "application/vnd.plotly.v1+json": {
       "config": {
        "plotlyServerURL": "https://plot.ly"
       },
       "data": [
        {
         "hovertemplate": "geo=AT<br>TIME_PERIOD=%{x}<br>consumption_per_household_MWh=%{y}<extra></extra>",
         "legendgroup": "AT",
         "line": {
          "color": "#636efa",
          "dash": "solid"
         },
         "marker": {
          "symbol": "circle"
         },
         "mode": "lines",
         "name": "AT",
         "orientation": "v",
         "showlegend": true,
         "type": "scatter",
         "x": [
          1999,
          2000,
          2001,
          2002,
          2003,
          2004,
          2005,
          2006,
          2007,
          2008,
          2009,
          2010,
          2011,
          2012,
          2013,
          2014,
          2015,
          2016,
          2017,
          2018,
          2019,
          2020,
          2021,
          2022,
          2023
         ],
         "xaxis": "x",
         "y": [
          null,
          null,
          null,
          null,
          22.495739761866428,
          21.88799909868596,
          21.32234320835036,
          21.033358473226556,
          20.175760981387914,
          20.51305352859501,
          20.762604699458535,
          22.543833661048307,
          20.842492906560217,
          21.13439806149179,
          21.729021498660167,
          18.59693430088972,
          19.50293794439405,
          20.17950019748395,
          20.172367034459512,
          18.863161870574658,
          19.224172615768182,
          19.942146575758365,
          22.090263927913902,
          19.363582284103327,
          18.39492068240753
         ],
         "yaxis": "y"
        },
        {
         "hovertemplate": "geo=BE<br>TIME_PERIOD=%{x}<br>consumption_per_household_MWh=%{y}<extra></extra>",
         "legendgroup": "BE",
         "line": {
          "color": "#EF553B",
          "dash": "solid"
         },
         "marker": {
          "symbol": "circle"
         },
         "mode": "lines",
         "name": "BE",
         "orientation": "v",
         "showlegend": true,
         "type": "scatter",
         "x": [
          1999,
          2000,
          2001,
          2002,
          2003,
          2004,
          2005,
          2006,
          2007,
          2008,
          2009,
          2010,
          2011,
          2012,
          2013,
          2014,
          2015,
          2016,
          2017,
          2018,
          2019,
          2020,
          2021,
          2022,
          2023,
          2024
         ],
         "xaxis": "x",
         "y": [
          null,
          null,
          null,
          null,
          25.397297608475064,
          23.538639624608887,
          23.25819411757654,
          22.04084386709892,
          20.253074220675497,
          22.71007895412291,
          21.377796419802568,
          23.365776221342795,
          19.323505562397745,
          20.326461203806005,
          21.735864800855747,
          17.72378885662128,
          19.46669830221012,
          19.46373242591193,
          19.082093336289255,
          18.773804844634274,
          17.419714635094646,
          17.548546318588677,
          18.898059009144987,
          16.059186091625875,
          15.760313760673519,
          null
         ],
         "yaxis": "y"
        },
        {
         "hovertemplate": "geo=BG<br>TIME_PERIOD=%{x}<br>consumption_per_household_MWh=%{y}<extra></extra>",
         "legendgroup": "BG",
         "line": {
          "color": "#00cc96",
          "dash": "solid"
         },
         "marker": {
          "symbol": "circle"
         },
         "mode": "lines",
         "name": "BG",
         "orientation": "v",
         "showlegend": true,
         "type": "scatter",
         "x": [
          1999,
          2000,
          2001,
          2002,
          2003,
          2004,
          2005,
          2006,
          2007,
          2008,
          2009,
          2010,
          2011,
          2012,
          2013,
          2014,
          2015,
          2016,
          2017,
          2018,
          2019,
          2020,
          2021,
          2022,
          2023,
          2024
         ],
         "xaxis": "x",
         "y": [
          null,
          null,
          null,
          null,
          null,
          null,
          9.237743478459757,
          9.612446107206795,
          9.248992458368594,
          9.545954617838554,
          9.606778332811894,
          10.266878433355302,
          10.928745524908203,
          10.636327159413964,
          9.887073802946084,
          9.312645735444947,
          9.18880523159833,
          9.559814646811644,
          9.577619262268517,
          9.338678489481895,
          9.187131060885713,
          10.17942722091475,
          10.350578204280952,
          8.86721341375465,
          8.493396381123455,
          null
         ],
         "yaxis": "y"
        },
        {
         "hovertemplate": "geo=CY<br>TIME_PERIOD=%{x}<br>consumption_per_household_MWh=%{y}<extra></extra>",
         "legendgroup": "CY",
         "line": {
          "color": "#ab63fa",
          "dash": "solid"
         },
         "marker": {
          "symbol": "circle"
         },
         "mode": "lines",
         "name": "CY",
         "orientation": "v",
         "showlegend": true,
         "type": "scatter",
         "x": [
          1999,
          2000,
          2001,
          2002,
          2003,
          2004,
          2005,
          2006,
          2007,
          2008,
          2009,
          2010,
          2011,
          2012,
          2013,
          2014,
          2015,
          2016,
          2017,
          2018,
          2019,
          2020,
          2021,
          2022,
          2023
         ],
         "xaxis": "x",
         "y": [
          null,
          null,
          null,
          null,
          null,
          null,
          14.872163524024444,
          15.113042870186144,
          14.755475292174879,
          13.718780821402131,
          14.177518372927704,
          13.01145363327939,
          13.415466855991399,
          13.16267557323318,
          11.57467132867133,
          10.832074549472969,
          11.989921244248922,
          12.256287771905074,
          12.439308475925559,
          12.008216700783995,
          12.719552367385319,
          12.268976246837356,
          11.869953189161109,
          11.486983238575299,
          10.527959932323709
         ],
         "yaxis": "y"
        },
        {
         "hovertemplate": "geo=CZ<br>TIME_PERIOD=%{x}<br>consumption_per_household_MWh=%{y}<extra></extra>",
         "legendgroup": "CZ",
         "line": {
          "color": "#FFA15A",
          "dash": "solid"
         },
         "marker": {
          "symbol": "circle"
         },
         "mode": "lines",
         "name": "CZ",
         "orientation": "v",
         "showlegend": true,
         "type": "scatter",
         "x": [
          1999,
          2000,
          2001,
          2002,
          2003,
          2004,
          2005,
          2006,
          2007,
          2008,
          2009,
          2010,
          2011,
          2012,
          2013,
          2014,
          2015,
          2016,
          2017,
          2018,
          2019,
          2020,
          2021,
          2022,
          2023
         ],
         "xaxis": "x",
         "y": [
          null,
          null,
          null,
          null,
          null,
          null,
          18.956235669766073,
          19.24334881994587,
          18.030926563761973,
          18.160789218421293,
          18.4991569082577,
          20.62975320907917,
          18.99612486667628,
          18.88621354348679,
          19.300604894078134,
          17.359585093385775,
          17.903483839962373,
          18.70727313632333,
          18.948927145052497,
          18.45819452008488,
          17.417682979115558,
          18.21879223267519,
          20.002324320721307,
          17.682989055028163,
          15.744684972462407
         ],
         "yaxis": "y"
        },
        {
         "hovertemplate": "geo=DE<br>TIME_PERIOD=%{x}<br>consumption_per_household_MWh=%{y}<extra></extra>",
         "legendgroup": "DE",
         "line": {
          "color": "#19d3f3",
          "dash": "solid"
         },
         "marker": {
          "symbol": "circle"
         },
         "mode": "lines",
         "name": "DE",
         "orientation": "v",
         "showlegend": true,
         "type": "scatter",
         "x": [
          1999,
          2000,
          2001,
          2002,
          2003,
          2004,
          2005,
          2006,
          2007,
          2008,
          2009,
          2010,
          2011,
          2012,
          2013,
          2014,
          2015,
          2016,
          2017,
          2018,
          2019,
          2020,
          2021,
          2022,
          2023,
          2024
         ],
         "xaxis": "x",
         "y": [
          null,
          null,
          null,
          null,
          null,
          null,
          18.86678569511546,
          19.18875723067703,
          16.532066870112384,
          18.663129136192136,
          16.908444861124067,
          18.509844941039603,
          16.221399887212286,
          17.097015779668276,
          18.004280164154714,
          15.368150095488733,
          15.556493670317366,
          16.056063225005925,
          15.951179934484527,
          15.640091505083285,
          16.14952487420117,
          16.21801641803248,
          16.11606148237414,
          16.0726380039024,
          14.794915023830809,
          null
         ],
         "yaxis": "y"
        },
        {
         "hovertemplate": "geo=DK<br>TIME_PERIOD=%{x}<br>consumption_per_household_MWh=%{y}<extra></extra>",
         "legendgroup": "DK",
         "line": {
          "color": "#FF6692",
          "dash": "solid"
         },
         "marker": {
          "symbol": "circle"
         },
         "mode": "lines",
         "name": "DK",
         "orientation": "v",
         "showlegend": true,
         "type": "scatter",
         "x": [
          1999,
          2000,
          2001,
          2002,
          2003,
          2004,
          2005,
          2006,
          2007,
          2008,
          2009,
          2010,
          2011,
          2012,
          2013,
          2014,
          2015,
          2016,
          2017,
          2018,
          2019,
          2020,
          2021,
          2022,
          2023,
          2024
         ],
         "xaxis": "x",
         "y": [
          null,
          null,
          null,
          null,
          19.265846925693452,
          19.16940757529699,
          19.347683326580636,
          19.278676076961546,
          19.180706860433496,
          18.99627629820169,
          18.953715243612255,
          20.936437395200688,
          18.74082074130779,
          18.451730509325266,
          18.53506384574307,
          17.04014672116882,
          18.103534959300024,
          18.553233570526142,
          18.11059937486919,
          17.839822076199077,
          17.545222774823564,
          17.031810885018864,
          17.911189732728122,
          15.84217855954519,
          16.20664662724204,
          null
         ],
         "yaxis": "y"
        },
        {
         "hovertemplate": "geo=EE<br>TIME_PERIOD=%{x}<br>consumption_per_household_MWh=%{y}<extra></extra>",
         "legendgroup": "EE",
         "line": {
          "color": "#B6E880",
          "dash": "solid"
         },
         "marker": {
          "symbol": "circle"
         },
         "mode": "lines",
         "name": "EE",
         "orientation": "v",
         "showlegend": true,
         "type": "scatter",
         "x": [
          1999,
          2000,
          2001,
          2002,
          2003,
          2004,
          2005,
          2006,
          2007,
          2008,
          2009,
          2010,
          2011,
          2012,
          2013,
          2014,
          2015,
          2016,
          2017,
          2018,
          2019,
          2020,
          2021,
          2022,
          2023,
          2024
         ],
         "xaxis": "x",
         "y": [
          null,
          null,
          null,
          null,
          null,
          18.937768848658795,
          18.37448493373806,
          18.31471182199982,
          19.216147380532558,
          19.063403656400194,
          19.461899661739004,
          20.65729035994164,
          18.87773157150866,
          18.815401454656733,
          18.151958286056065,
          17.282340459513108,
          16.671179320700578,
          18.097553652798837,
          18.2500286172812,
          18.174166754728944,
          17.483264483331528,
          17.346857829825247,
          17.70125086724994,
          17.234881439419457,
          16.628765966361797,
          null
         ],
         "yaxis": "y"
        },
        {
         "hovertemplate": "geo=EL<br>TIME_PERIOD=%{x}<br>consumption_per_household_MWh=%{y}<extra></extra>",
         "legendgroup": "EL",
         "line": {
          "color": "#FF97FF",
          "dash": "solid"
         },
         "marker": {
          "symbol": "circle"
         },
         "mode": "lines",
         "name": "EL",
         "orientation": "v",
         "showlegend": true,
         "type": "scatter",
         "x": [
          1999,
          2000,
          2001,
          2002,
          2003,
          2004,
          2005,
          2006,
          2007,
          2008,
          2009,
          2010,
          2011,
          2012,
          2013,
          2014,
          2015,
          2016,
          2017,
          2018,
          2019,
          2020,
          2021,
          2022,
          2023
         ],
         "xaxis": "x",
         "y": [
          null,
          null,
          null,
          null,
          16.017094249746055,
          15.684074348089574,
          15.904723029653834,
          15.857633838250209,
          15.390312231233215,
          14.916729983429093,
          13.80237805672647,
          13.173365156959319,
          15.072198456379821,
          14.00387872530982,
          10.57487123182463,
          10.295594463004207,
          12.507746583098937,
          12.179933216278721,
          12.389626395274629,
          11.005860228433717,
          11.566103055772858,
          12.113258421116115,
          12.36870932874127,
          12.533764318010153,
          10.10544354621603
         ],
         "yaxis": "y"
        },
        {
         "hovertemplate": "geo=ES<br>TIME_PERIOD=%{x}<br>consumption_per_household_MWh=%{y}<extra></extra>",
         "legendgroup": "ES",
         "line": {
          "color": "#FECB52",
          "dash": "solid"
         },
         "marker": {
          "symbol": "circle"
         },
         "mode": "lines",
         "name": "ES",
         "orientation": "v",
         "showlegend": true,
         "type": "scatter",
         "x": [
          1999,
          2000,
          2001,
          2002,
          2003,
          2004,
          2005,
          2006,
          2007,
          2008,
          2009,
          2010,
          2011,
          2012,
          2013,
          2014,
          2015,
          2016,
          2017,
          2018,
          2019,
          2020,
          2021,
          2022,
          2023,
          2024
         ],
         "xaxis": "x",
         "y": [
          null,
          null,
          null,
          null,
          null,
          10.680028230101124,
          11.234734274194363,
          10.955756586417325,
          10.772390661407748,
          10.549655030259668,
          10.779107078103488,
          10.983940707444596,
          10.097302283113333,
          10.0531722734634,
          9.310432746274582,
          9.260836589681901,
          9.564440734938824,
          8.961664581926131,
          8.970895048501374,
          9.406104422496572,
          8.876057550976848,
          8.92830543696754,
          9.00385671037344,
          8.591059813401422,
          8.290315478120542,
          null
         ],
         "yaxis": "y"
        },
        {
         "hovertemplate": "geo=FI<br>TIME_PERIOD=%{x}<br>consumption_per_household_MWh=%{y}<extra></extra>",
         "legendgroup": "FI",
         "line": {
          "color": "#636efa",
          "dash": "solid"
         },
         "marker": {
          "symbol": "circle"
         },
         "mode": "lines",
         "name": "FI",
         "orientation": "v",
         "showlegend": true,
         "type": "scatter",
         "x": [
          1999,
          2000,
          2001,
          2002,
          2003,
          2004,
          2005,
          2006,
          2007,
          2008,
          2009,
          2010,
          2011,
          2012,
          2013,
          2014,
          2015,
          2016,
          2017,
          2018,
          2019,
          2020,
          2021,
          2022,
          2023
         ],
         "xaxis": "x",
         "y": [
          null,
          null,
          null,
          null,
          null,
          23.486481638601763,
          23.32869413080954,
          23.706031660304095,
          23.610127810969715,
          22.887814330886236,
          23.945267514627407,
          26.40432937769149,
          23.020749816663386,
          24.553341862805837,
          23.175091217275977,
          21.79107865431791,
          20.98655442705239,
          22.579262213178755,
          24.30760493585314,
          23.990060745726787,
          23.70515006265732,
          22.21347274825784,
          23.746411628478285,
          22.247251710559187,
          21.810494782962643
         ],
         "yaxis": "y"
        },
        {
         "hovertemplate": "geo=FR<br>TIME_PERIOD=%{x}<br>consumption_per_household_MWh=%{y}<extra></extra>",
         "legendgroup": "FR",
         "line": {
          "color": "#EF553B",
          "dash": "solid"
         },
         "marker": {
          "symbol": "circle"
         },
         "mode": "lines",
         "name": "FR",
         "orientation": "v",
         "showlegend": true,
         "type": "scatter",
         "x": [
          1999,
          2000,
          2001,
          2002,
          2003,
          2004,
          2005,
          2006,
          2007,
          2008,
          2009,
          2010,
          2011,
          2012,
          2013,
          2014,
          2015,
          2016,
          2017,
          2018,
          2019,
          2020,
          2021,
          2022,
          2023
         ],
         "xaxis": "x",
         "y": [
          null,
          null,
          null,
          null,
          null,
          18.762868556113492,
          18.194755297891565,
          17.817219082107933,
          16.89224029555553,
          18.36117677970548,
          17.401981321785218,
          17.879757885662297,
          15.613225577536268,
          17.240154962587855,
          17.93663966890538,
          14.489251752151464,
          15.356898470132629,
          16.307136654889156,
          15.912446546295076,
          15.344556791703837,
          14.566730386354816,
          14.732499065977594,
          16.00088358195418,
          13.984321447815457,
          13.570147215544832
         ],
         "yaxis": "y"
        },
        {
         "hovertemplate": "geo=HR<br>TIME_PERIOD=%{x}<br>consumption_per_household_MWh=%{y}<extra></extra>",
         "legendgroup": "HR",
         "line": {
          "color": "#00cc96",
          "dash": "solid"
         },
         "marker": {
          "symbol": "circle"
         },
         "mode": "lines",
         "name": "HR",
         "orientation": "v",
         "showlegend": true,
         "type": "scatter",
         "x": [
          1999,
          2000,
          2001,
          2002,
          2003,
          2004,
          2005,
          2006,
          2007,
          2008,
          2009,
          2010,
          2011,
          2012,
          2013,
          2014,
          2015,
          2016,
          2017,
          2018,
          2019,
          2020,
          2021,
          2022,
          2023
         ],
         "xaxis": "x",
         "y": [
          null,
          null,
          null,
          null,
          null,
          null,
          null,
          null,
          null,
          null,
          null,
          21.033568158565657,
          20.131728275877553,
          19.635162459276007,
          19.251753970000227,
          17.357426974717253,
          19.154096654293088,
          19.23419110030502,
          19.409547121183774,
          18.86301779233175,
          17.87050973036557,
          18.36734827869118,
          19.852694077759267,
          18.643453675951612,
          18.087245515044536
         ],
         "yaxis": "y"
        },
        {
         "hovertemplate": "geo=HU<br>TIME_PERIOD=%{x}<br>consumption_per_household_MWh=%{y}<extra></extra>",
         "legendgroup": "HU",
         "line": {
          "color": "#ab63fa",
          "dash": "solid"
         },
         "marker": {
          "symbol": "circle"
         },
         "mode": "lines",
         "name": "HU",
         "orientation": "v",
         "showlegend": true,
         "type": "scatter",
         "x": [
          1999,
          2000,
          2001,
          2002,
          2003,
          2004,
          2005,
          2006,
          2007,
          2008,
          2009,
          2010,
          2011,
          2012,
          2013,
          2014,
          2015,
          2016,
          2017,
          2018,
          2019,
          2020,
          2021,
          2022,
          2023
         ],
         "xaxis": "x",
         "y": [
          null,
          null,
          null,
          null,
          null,
          null,
          20.109169717387278,
          20.166695038961244,
          18.414809145000785,
          18.140430795610598,
          19.057334853555766,
          20.133215264755016,
          18.462688673142416,
          17.984654697961144,
          17.596205971909047,
          15.603910570018433,
          16.32844657458159,
          16.907882846739945,
          17.332496192216006,
          16.043751876236048,
          15.671863389345196,
          16.57490455590091,
          17.74211103322098,
          16.220334656840848,
          14.978675289085324
         ],
         "yaxis": "y"
        },
        {
         "hovertemplate": "geo=IE<br>TIME_PERIOD=%{x}<br>consumption_per_household_MWh=%{y}<extra></extra>",
         "legendgroup": "IE",
         "line": {
          "color": "#FFA15A",
          "dash": "solid"
         },
         "marker": {
          "symbol": "circle"
         },
         "mode": "lines",
         "name": "IE",
         "orientation": "v",
         "showlegend": true,
         "type": "scatter",
         "x": [
          1999,
          2000,
          2001,
          2002,
          2003,
          2004,
          2005,
          2006,
          2007,
          2008,
          2009,
          2010,
          2011,
          2012,
          2013,
          2014,
          2015,
          2016,
          2017,
          2018,
          2019,
          2020,
          2021,
          2022,
          2023
         ],
         "xaxis": "x",
         "y": [
          null,
          null,
          null,
          null,
          25.37409790036911,
          25.767134270437914,
          25.547267639317553,
          24.90636475782456,
          23.922411612097093,
          25.77852698834544,
          24.008200129774558,
          24.976210187926572,
          21.848616854862208,
          20.693457603932856,
          20.03650864667523,
          17.960828407224433,
          18.89719961932054,
          19.264960658715683,
          18.476434227334988,
          18.616098014882063,
          19.247811993775684,
          19.938545199198014,
          18.79025409383314,
          16.14025974149158,
          14.922485850707469
         ],
         "yaxis": "y"
        },
        {
         "hovertemplate": "geo=IT<br>TIME_PERIOD=%{x}<br>consumption_per_household_MWh=%{y}<extra></extra>",
         "legendgroup": "IT",
         "line": {
          "color": "#19d3f3",
          "dash": "solid"
         },
         "marker": {
          "symbol": "circle"
         },
         "mode": "lines",
         "name": "IT",
         "orientation": "v",
         "showlegend": true,
         "type": "scatter",
         "x": [
          1999,
          2000,
          2001,
          2002,
          2003,
          2004,
          2005,
          2006,
          2007,
          2008,
          2009,
          2010,
          2011,
          2012,
          2013,
          2014,
          2015,
          2016,
          2017,
          2018,
          2019,
          2020,
          2021,
          2022,
          2023
         ],
         "xaxis": "x",
         "y": [
          null,
          null,
          null,
          null,
          null,
          15.741187026103894,
          16.920339861403686,
          16.111893716921127,
          15.936354933696988,
          15.788652822577061,
          15.917862133616449,
          16.478927676869027,
          15.035915906423048,
          15.905334141575564,
          15.832803839901876,
          13.677429344350541,
          15.075299861817035,
          14.332713022152994,
          14.681989277912562,
          14.267624120452169,
          13.965434826173349,
          13.843172525225404,
          15.13023518005626,
          13.02919135434917,
          11.969323061431822
         ],
         "yaxis": "y"
        },
        {
         "hovertemplate": "geo=LT<br>TIME_PERIOD=%{x}<br>consumption_per_household_MWh=%{y}<extra></extra>",
         "legendgroup": "LT",
         "line": {
          "color": "#FF6692",
          "dash": "solid"
         },
         "marker": {
          "symbol": "circle"
         },
         "mode": "lines",
         "name": "LT",
         "orientation": "v",
         "showlegend": true,
         "type": "scatter",
         "x": [
          1999,
          2000,
          2001,
          2002,
          2003,
          2004,
          2005,
          2006,
          2007,
          2008,
          2009,
          2010,
          2011,
          2012,
          2013,
          2014,
          2015,
          2016,
          2017,
          2018,
          2019,
          2020,
          2021,
          2022,
          2023
         ],
         "xaxis": "x",
         "y": [
          null,
          null,
          null,
          null,
          null,
          null,
          13.314991481335692,
          14.598042758992893,
          14.152062204970731,
          14.17107981642386,
          14.515846079027975,
          14.567911817775606,
          14.238376157470215,
          13.801448983523029,
          13.31340785287778,
          12.803977285928864,
          12.555512535860776,
          12.825864640931323,
          13.175709079329135,
          13.752921129364912,
          13.177141734612064,
          13.04769946644343,
          14.184619518616906,
          12.684004607180468,
          11.722301154132293
         ],
         "yaxis": "y"
        },
        {
         "hovertemplate": "geo=LU<br>TIME_PERIOD=%{x}<br>consumption_per_household_MWh=%{y}<extra></extra>",
         "legendgroup": "LU",
         "line": {
          "color": "#B6E880",
          "dash": "solid"
         },
         "marker": {
          "symbol": "circle"
         },
         "mode": "lines",
         "name": "LU",
         "orientation": "v",
         "showlegend": true,
         "type": "scatter",
         "x": [
          1999,
          2000,
          2001,
          2002,
          2003,
          2004,
          2005,
          2006,
          2007,
          2008,
          2009,
          2010,
          2011,
          2012,
          2013,
          2014,
          2015,
          2016,
          2017,
          2018,
          2019,
          2020,
          2021,
          2022,
          2023
         ],
         "xaxis": "x",
         "y": [
          null,
          null,
          null,
          null,
          32.03669553367329,
          33.62532792749821,
          32.56640573370342,
          31.524532379086367,
          30.17628188565913,
          30.15359169199595,
          29.996997406715455,
          29.107616638011883,
          26.45334503184701,
          25.47390859881685,
          26.344386734099842,
          23.205152782267948,
          24.65203063259112,
          25.851384959715034,
          25.866807584654616,
          21.808903817271386,
          19.78889057478901,
          20.063814220219623,
          18.996321334000626,
          18.395517010210213,
          18.19611948515735
         ],
         "yaxis": "y"
        },
        {
         "hovertemplate": "geo=LV<br>TIME_PERIOD=%{x}<br>consumption_per_household_MWh=%{y}<extra></extra>",
         "legendgroup": "LV",
         "line": {
          "color": "#FF97FF",
          "dash": "solid"
         },
         "marker": {
          "symbol": "circle"
         },
         "mode": "lines",
         "name": "LV",
         "orientation": "v",
         "showlegend": true,
         "type": "scatter",
         "x": [
          1999,
          2000,
          2001,
          2002,
          2003,
          2004,
          2005,
          2006,
          2007,
          2008,
          2009,
          2010,
          2011,
          2012,
          2013,
          2014,
          2015,
          2016,
          2017,
          2018,
          2019,
          2020,
          2021,
          2022,
          2023,
          2024
         ],
         "xaxis": "x",
         "y": [
          null,
          null,
          null,
          null,
          null,
          null,
          20.4123995342645,
          20.269394433277196,
          20.110369694453443,
          20.293594607815486,
          21.041263067648067,
          19.465107815704677,
          18.11906203647962,
          18.980695267624423,
          17.672658268830677,
          17.40510549339005,
          15.672761568688399,
          16.366664547134633,
          16.53305722404968,
          17.150425111251856,
          16.657407367607167,
          15.758805486728185,
          17.1546044610256,
          15.142923556352391,
          14.7346978068062,
          null
         ],
         "yaxis": "y"
        },
        {
         "hovertemplate": "geo=MT<br>TIME_PERIOD=%{x}<br>consumption_per_household_MWh=%{y}<extra></extra>",
         "legendgroup": "MT",
         "line": {
          "color": "#FECB52",
          "dash": "solid"
         },
         "marker": {
          "symbol": "circle"
         },
         "mode": "lines",
         "name": "MT",
         "orientation": "v",
         "showlegend": true,
         "type": "scatter",
         "x": [
          1999,
          2000,
          2001,
          2002,
          2003,
          2004,
          2005,
          2006,
          2007,
          2008,
          2009,
          2010,
          2011,
          2012,
          2013,
          2014,
          2015,
          2016,
          2017,
          2018,
          2019,
          2020,
          2021,
          2022,
          2023
         ],
         "xaxis": "x",
         "y": [
          null,
          null,
          null,
          null,
          null,
          null,
          6.003294082207611,
          6.073201254388387,
          5.653798622962396,
          5.609716591308411,
          5.0646194571851595,
          5.239602736458076,
          5.171000560417295,
          5.377610187346963,
          5.2261241229832125,
          5.092730483927941,
          5.370947101537913,
          4.909899319727891,
          5.577929900155211,
          5.487060012008893,
          5.733522059609016,
          5.728868006781304,
          5.915589783418625,
          5.922655986244838,
          5.627238247702074
         ],
         "yaxis": "y"
        },
        {
         "hovertemplate": "geo=NL<br>TIME_PERIOD=%{x}<br>consumption_per_household_MWh=%{y}<extra></extra>",
         "legendgroup": "NL",
         "line": {
          "color": "#636efa",
          "dash": "solid"
         },
         "marker": {
          "symbol": "circle"
         },
         "mode": "lines",
         "name": "NL",
         "orientation": "v",
         "showlegend": true,
         "type": "scatter",
         "x": [
          1999,
          2000,
          2001,
          2002,
          2003,
          2004,
          2005,
          2006,
          2007,
          2008,
          2009,
          2010,
          2011,
          2012,
          2013,
          2014,
          2015,
          2016,
          2017,
          2018,
          2019,
          2020,
          2021,
          2022,
          2023
         ],
         "xaxis": "x",
         "y": [
          null,
          null,
          null,
          null,
          null,
          null,
          17.584227495544628,
          17.733750780658163,
          16.259539149276407,
          17.879683499489587,
          17.023231158705446,
          19.171518088084518,
          15.722873857734461,
          16.570003531078708,
          17.35079090982394,
          13.802152274405254,
          14.375093467741557,
          14.706150306293233,
          14.281520525713049,
          14.148378058927,
          13.096818909687933,
          12.738099209661115,
          14.011174263268625,
          11.761396133497568,
          10.494335845258822
         ],
         "yaxis": "y"
        },
        {
         "hovertemplate": "geo=PL<br>TIME_PERIOD=%{x}<br>consumption_per_household_MWh=%{y}<extra></extra>",
         "legendgroup": "PL",
         "line": {
          "color": "#EF553B",
          "dash": "solid"
         },
         "marker": {
          "symbol": "circle"
         },
         "mode": "lines",
         "name": "PL",
         "orientation": "v",
         "showlegend": true,
         "type": "scatter",
         "x": [
          1999,
          2000,
          2001,
          2002,
          2003,
          2004,
          2005,
          2006,
          2007,
          2008,
          2009,
          2010,
          2011,
          2012,
          2013,
          2014,
          2015,
          2016,
          2017,
          2018,
          2019,
          2020,
          2021,
          2022,
          2023
         ],
         "xaxis": "x",
         "y": [
          null,
          null,
          null,
          null,
          null,
          null,
          16.615376087069613,
          17.483473505998443,
          16.545321234398234,
          16.79449432864739,
          17.121534379743935,
          18.824617958181545,
          17.22159620880652,
          17.80628041721341,
          17.552578893454694,
          16.309451977278933,
          16.323903576899742,
          17.05364773737441,
          17.203641202298662,
          19.344425016509177,
          18.01050756493904,
          18.534719583122726,
          19.535692107086298,
          18.791326851779097,
          18.322541825080002
         ],
         "yaxis": "y"
        },
        {
         "hovertemplate": "geo=PT<br>TIME_PERIOD=%{x}<br>consumption_per_household_MWh=%{y}<extra></extra>",
         "legendgroup": "PT",
         "line": {
          "color": "#00cc96",
          "dash": "solid"
         },
         "marker": {
          "symbol": "circle"
         },
         "mode": "lines",
         "name": "PT",
         "orientation": "v",
         "showlegend": true,
         "type": "scatter",
         "x": [
          1999,
          2000,
          2001,
          2002,
          2003,
          2004,
          2005,
          2006,
          2007,
          2008,
          2009,
          2010,
          2011,
          2012,
          2013,
          2014,
          2015,
          2016,
          2017,
          2018,
          2019,
          2020,
          2021,
          2022,
          2023
         ],
         "xaxis": "x",
         "y": [
          null,
          null,
          null,
          null,
          null,
          9.959586311987644,
          9.971774282847356,
          9.93664497272655,
          9.938063848797047,
          9.268139406044526,
          9.496887296981438,
          8.822819773642,
          7.952953314486764,
          7.758092131400094,
          7.628363423072106,
          8.077020459886901,
          7.71632090646391,
          7.924662075747079,
          7.881551882443204,
          8.097049391609577,
          8.102432967612318,
          8.431312141648444,
          8.432867369208118,
          8.199832198954397,
          8.251787921982201
         ],
         "yaxis": "y"
        },
        {
         "hovertemplate": "geo=RO<br>TIME_PERIOD=%{x}<br>consumption_per_household_MWh=%{y}<extra></extra>",
         "legendgroup": "RO",
         "line": {
          "color": "#ab63fa",
          "dash": "solid"
         },
         "marker": {
          "symbol": "circle"
         },
         "mode": "lines",
         "name": "RO",
         "orientation": "v",
         "showlegend": true,
         "type": "scatter",
         "x": [
          1999,
          2000,
          2001,
          2002,
          2003,
          2004,
          2005,
          2006,
          2007,
          2008,
          2009,
          2010,
          2011,
          2012,
          2013,
          2014,
          2015,
          2016,
          2017,
          2018,
          2019,
          2020,
          2021,
          2022,
          2023
         ],
         "xaxis": "x",
         "y": [
          null,
          null,
          null,
          null,
          null,
          null,
          null,
          null,
          12.289619945472502,
          12.856884848502638,
          12.860820797250195,
          12.595199212002896,
          12.281140675983414,
          12.642826400142177,
          12.155903780715107,
          11.70930144851348,
          11.719700170819841,
          11.85280494772207,
          11.969262815982466,
          12.10967943581016,
          12.129221642811638,
          12.609771070858345,
          13.382655623972855,
          12.046382968517541,
          11.515855895893635
         ],
         "yaxis": "y"
        },
        {
         "hovertemplate": "geo=SE<br>TIME_PERIOD=%{x}<br>consumption_per_household_MWh=%{y}<extra></extra>",
         "legendgroup": "SE",
         "line": {
          "color": "#FFA15A",
          "dash": "solid"
         },
         "marker": {
          "symbol": "circle"
         },
         "mode": "lines",
         "name": "SE",
         "orientation": "v",
         "showlegend": true,
         "type": "scatter",
         "x": [
          1999,
          2000,
          2001,
          2002,
          2003,
          2004,
          2005,
          2006,
          2007,
          2008,
          2009,
          2010,
          2011,
          2012,
          2013,
          2014,
          2015,
          2016,
          2017,
          2018,
          2019,
          2020,
          2021,
          2022,
          2023
         ],
         "xaxis": "x",
         "y": [
          null,
          null,
          null,
          null,
          null,
          19.373863926904967,
          20.62416188021069,
          19.608397151534298,
          18.758157513394153,
          18.33102660261116,
          18.01036305486045,
          21.484414910621446,
          19.784427316456913,
          20.583567930281344,
          18.555838423434484,
          17.251272986363997,
          17.499102681479485,
          17.823816003616955,
          18.57462087369057,
          17.0305139154375,
          16.58515322404871,
          16.09519317063442,
          17.532960223399076,
          15.611819202406945,
          15.540951999520077
         ],
         "yaxis": "y"
        },
        {
         "hovertemplate": "geo=SI<br>TIME_PERIOD=%{x}<br>consumption_per_household_MWh=%{y}<extra></extra>",
         "legendgroup": "SI",
         "line": {
          "color": "#19d3f3",
          "dash": "solid"
         },
         "marker": {
          "symbol": "circle"
         },
         "mode": "lines",
         "name": "SI",
         "orientation": "v",
         "showlegend": true,
         "type": "scatter",
         "x": [
          1999,
          2000,
          2001,
          2002,
          2003,
          2004,
          2005,
          2006,
          2007,
          2008,
          2009,
          2010,
          2011,
          2012,
          2013,
          2014,
          2015,
          2016,
          2017,
          2018,
          2019,
          2020,
          2021,
          2022,
          2023
         ],
         "xaxis": "x",
         "y": [
          null,
          null,
          null,
          null,
          null,
          null,
          23.225393963535222,
          21.61014973808395,
          21.082857070372174,
          21.695506607582704,
          21.002129775825413,
          20.115502131754685,
          19.11088593701958,
          17.677591932470087,
          17.47023776311991,
          14.944980885890267,
          16.514839006912162,
          16.83682980015925,
          16.477928084842855,
          15.389011671827875,
          14.341143425064924,
          15.04544501907797,
          16.068092189561405,
          13.914403402595783,
          13.667719140148845
         ],
         "yaxis": "y"
        },
        {
         "hovertemplate": "geo=SK<br>TIME_PERIOD=%{x}<br>consumption_per_household_MWh=%{y}<extra></extra>",
         "legendgroup": "SK",
         "line": {
          "color": "#FF6692",
          "dash": "solid"
         },
         "marker": {
          "symbol": "circle"
         },
         "mode": "lines",
         "name": "SK",
         "orientation": "v",
         "showlegend": true,
         "type": "scatter",
         "x": [
          1999,
          2000,
          2001,
          2002,
          2003,
          2004,
          2005,
          2006,
          2007,
          2008,
          2009,
          2010,
          2011,
          2012,
          2013,
          2014,
          2015,
          2016,
          2017,
          2018,
          2019,
          2020,
          2021,
          2022,
          2023
         ],
         "xaxis": "x",
         "y": [
          null,
          null,
          null,
          null,
          null,
          null,
          15.947015221495615,
          14.500587212786469,
          12.603271315222436,
          13.351234049636954,
          12.973217324841709,
          18.286982345303038,
          16.81623167531468,
          16.975123030895777,
          17.702702665774734,
          13.965619184450215,
          15.442804057017625,
          16.108377704958084,
          16.417218654007257,
          15.754593672672256,
          16.299575292426187,
          16.95418413302658,
          18.40849842641156,
          17.841324589337738,
          16.11989633687621
         ],
         "yaxis": "y"
        }
       ],
       "layout": {
        "legend": {
         "title": {
          "text": "geo"
         },
         "tracegroupgap": 0
        },
        "margin": {
         "t": 60
        },
        "template": {
         "data": {
          "bar": [
           {
            "error_x": {
             "color": "#2a3f5f"
            },
            "error_y": {
             "color": "#2a3f5f"
            },
            "marker": {
             "line": {
              "color": "#E5ECF6",
              "width": 0.5
             },
             "pattern": {
              "fillmode": "overlay",
              "size": 10,
              "solidity": 0.2
             }
            },
            "type": "bar"
           }
          ],
          "barpolar": [
           {
            "marker": {
             "line": {
              "color": "#E5ECF6",
              "width": 0.5
             },
             "pattern": {
              "fillmode": "overlay",
              "size": 10,
              "solidity": 0.2
             }
            },
            "type": "barpolar"
           }
          ],
          "carpet": [
           {
            "aaxis": {
             "endlinecolor": "#2a3f5f",
             "gridcolor": "white",
             "linecolor": "white",
             "minorgridcolor": "white",
             "startlinecolor": "#2a3f5f"
            },
            "baxis": {
             "endlinecolor": "#2a3f5f",
             "gridcolor": "white",
             "linecolor": "white",
             "minorgridcolor": "white",
             "startlinecolor": "#2a3f5f"
            },
            "type": "carpet"
           }
          ],
          "choropleth": [
           {
            "colorbar": {
             "outlinewidth": 0,
             "ticks": ""
            },
            "type": "choropleth"
           }
          ],
          "contour": [
           {
            "colorbar": {
             "outlinewidth": 0,
             "ticks": ""
            },
            "colorscale": [
             [
              0,
              "#0d0887"
             ],
             [
              0.1111111111111111,
              "#46039f"
             ],
             [
              0.2222222222222222,
              "#7201a8"
             ],
             [
              0.3333333333333333,
              "#9c179e"
             ],
             [
              0.4444444444444444,
              "#bd3786"
             ],
             [
              0.5555555555555556,
              "#d8576b"
             ],
             [
              0.6666666666666666,
              "#ed7953"
             ],
             [
              0.7777777777777778,
              "#fb9f3a"
             ],
             [
              0.8888888888888888,
              "#fdca26"
             ],
             [
              1,
              "#f0f921"
             ]
            ],
            "type": "contour"
           }
          ],
          "contourcarpet": [
           {
            "colorbar": {
             "outlinewidth": 0,
             "ticks": ""
            },
            "type": "contourcarpet"
           }
          ],
          "heatmap": [
           {
            "colorbar": {
             "outlinewidth": 0,
             "ticks": ""
            },
            "colorscale": [
             [
              0,
              "#0d0887"
             ],
             [
              0.1111111111111111,
              "#46039f"
             ],
             [
              0.2222222222222222,
              "#7201a8"
             ],
             [
              0.3333333333333333,
              "#9c179e"
             ],
             [
              0.4444444444444444,
              "#bd3786"
             ],
             [
              0.5555555555555556,
              "#d8576b"
             ],
             [
              0.6666666666666666,
              "#ed7953"
             ],
             [
              0.7777777777777778,
              "#fb9f3a"
             ],
             [
              0.8888888888888888,
              "#fdca26"
             ],
             [
              1,
              "#f0f921"
             ]
            ],
            "type": "heatmap"
           }
          ],
          "heatmapgl": [
           {
            "colorbar": {
             "outlinewidth": 0,
             "ticks": ""
            },
            "colorscale": [
             [
              0,
              "#0d0887"
             ],
             [
              0.1111111111111111,
              "#46039f"
             ],
             [
              0.2222222222222222,
              "#7201a8"
             ],
             [
              0.3333333333333333,
              "#9c179e"
             ],
             [
              0.4444444444444444,
              "#bd3786"
             ],
             [
              0.5555555555555556,
              "#d8576b"
             ],
             [
              0.6666666666666666,
              "#ed7953"
             ],
             [
              0.7777777777777778,
              "#fb9f3a"
             ],
             [
              0.8888888888888888,
              "#fdca26"
             ],
             [
              1,
              "#f0f921"
             ]
            ],
            "type": "heatmapgl"
           }
          ],
          "histogram": [
           {
            "marker": {
             "pattern": {
              "fillmode": "overlay",
              "size": 10,
              "solidity": 0.2
             }
            },
            "type": "histogram"
           }
          ],
          "histogram2d": [
           {
            "colorbar": {
             "outlinewidth": 0,
             "ticks": ""
            },
            "colorscale": [
             [
              0,
              "#0d0887"
             ],
             [
              0.1111111111111111,
              "#46039f"
             ],
             [
              0.2222222222222222,
              "#7201a8"
             ],
             [
              0.3333333333333333,
              "#9c179e"
             ],
             [
              0.4444444444444444,
              "#bd3786"
             ],
             [
              0.5555555555555556,
              "#d8576b"
             ],
             [
              0.6666666666666666,
              "#ed7953"
             ],
             [
              0.7777777777777778,
              "#fb9f3a"
             ],
             [
              0.8888888888888888,
              "#fdca26"
             ],
             [
              1,
              "#f0f921"
             ]
            ],
            "type": "histogram2d"
           }
          ],
          "histogram2dcontour": [
           {
            "colorbar": {
             "outlinewidth": 0,
             "ticks": ""
            },
            "colorscale": [
             [
              0,
              "#0d0887"
             ],
             [
              0.1111111111111111,
              "#46039f"
             ],
             [
              0.2222222222222222,
              "#7201a8"
             ],
             [
              0.3333333333333333,
              "#9c179e"
             ],
             [
              0.4444444444444444,
              "#bd3786"
             ],
             [
              0.5555555555555556,
              "#d8576b"
             ],
             [
              0.6666666666666666,
              "#ed7953"
             ],
             [
              0.7777777777777778,
              "#fb9f3a"
             ],
             [
              0.8888888888888888,
              "#fdca26"
             ],
             [
              1,
              "#f0f921"
             ]
            ],
            "type": "histogram2dcontour"
           }
          ],
          "mesh3d": [
           {
            "colorbar": {
             "outlinewidth": 0,
             "ticks": ""
            },
            "type": "mesh3d"
           }
          ],
          "parcoords": [
           {
            "line": {
             "colorbar": {
              "outlinewidth": 0,
              "ticks": ""
             }
            },
            "type": "parcoords"
           }
          ],
          "pie": [
           {
            "automargin": true,
            "type": "pie"
           }
          ],
          "scatter": [
           {
            "fillpattern": {
             "fillmode": "overlay",
             "size": 10,
             "solidity": 0.2
            },
            "type": "scatter"
           }
          ],
          "scatter3d": [
           {
            "line": {
             "colorbar": {
              "outlinewidth": 0,
              "ticks": ""
             }
            },
            "marker": {
             "colorbar": {
              "outlinewidth": 0,
              "ticks": ""
             }
            },
            "type": "scatter3d"
           }
          ],
          "scattercarpet": [
           {
            "marker": {
             "colorbar": {
              "outlinewidth": 0,
              "ticks": ""
             }
            },
            "type": "scattercarpet"
           }
          ],
          "scattergeo": [
           {
            "marker": {
             "colorbar": {
              "outlinewidth": 0,
              "ticks": ""
             }
            },
            "type": "scattergeo"
           }
          ],
          "scattergl": [
           {
            "marker": {
             "colorbar": {
              "outlinewidth": 0,
              "ticks": ""
             }
            },
            "type": "scattergl"
           }
          ],
          "scattermapbox": [
           {
            "marker": {
             "colorbar": {
              "outlinewidth": 0,
              "ticks": ""
             }
            },
            "type": "scattermapbox"
           }
          ],
          "scatterpolar": [
           {
            "marker": {
             "colorbar": {
              "outlinewidth": 0,
              "ticks": ""
             }
            },
            "type": "scatterpolar"
           }
          ],
          "scatterpolargl": [
           {
            "marker": {
             "colorbar": {
              "outlinewidth": 0,
              "ticks": ""
             }
            },
            "type": "scatterpolargl"
           }
          ],
          "scatterternary": [
           {
            "marker": {
             "colorbar": {
              "outlinewidth": 0,
              "ticks": ""
             }
            },
            "type": "scatterternary"
           }
          ],
          "surface": [
           {
            "colorbar": {
             "outlinewidth": 0,
             "ticks": ""
            },
            "colorscale": [
             [
              0,
              "#0d0887"
             ],
             [
              0.1111111111111111,
              "#46039f"
             ],
             [
              0.2222222222222222,
              "#7201a8"
             ],
             [
              0.3333333333333333,
              "#9c179e"
             ],
             [
              0.4444444444444444,
              "#bd3786"
             ],
             [
              0.5555555555555556,
              "#d8576b"
             ],
             [
              0.6666666666666666,
              "#ed7953"
             ],
             [
              0.7777777777777778,
              "#fb9f3a"
             ],
             [
              0.8888888888888888,
              "#fdca26"
             ],
             [
              1,
              "#f0f921"
             ]
            ],
            "type": "surface"
           }
          ],
          "table": [
           {
            "cells": {
             "fill": {
              "color": "#EBF0F8"
             },
             "line": {
              "color": "white"
             }
            },
            "header": {
             "fill": {
              "color": "#C8D4E3"
             },
             "line": {
              "color": "white"
             }
            },
            "type": "table"
           }
          ]
         },
         "layout": {
          "annotationdefaults": {
           "arrowcolor": "#2a3f5f",
           "arrowhead": 0,
           "arrowwidth": 1
          },
          "autotypenumbers": "strict",
          "coloraxis": {
           "colorbar": {
            "outlinewidth": 0,
            "ticks": ""
           }
          },
          "colorscale": {
           "diverging": [
            [
             0,
             "#8e0152"
            ],
            [
             0.1,
             "#c51b7d"
            ],
            [
             0.2,
             "#de77ae"
            ],
            [
             0.3,
             "#f1b6da"
            ],
            [
             0.4,
             "#fde0ef"
            ],
            [
             0.5,
             "#f7f7f7"
            ],
            [
             0.6,
             "#e6f5d0"
            ],
            [
             0.7,
             "#b8e186"
            ],
            [
             0.8,
             "#7fbc41"
            ],
            [
             0.9,
             "#4d9221"
            ],
            [
             1,
             "#276419"
            ]
           ],
           "sequential": [
            [
             0,
             "#0d0887"
            ],
            [
             0.1111111111111111,
             "#46039f"
            ],
            [
             0.2222222222222222,
             "#7201a8"
            ],
            [
             0.3333333333333333,
             "#9c179e"
            ],
            [
             0.4444444444444444,
             "#bd3786"
            ],
            [
             0.5555555555555556,
             "#d8576b"
            ],
            [
             0.6666666666666666,
             "#ed7953"
            ],
            [
             0.7777777777777778,
             "#fb9f3a"
            ],
            [
             0.8888888888888888,
             "#fdca26"
            ],
            [
             1,
             "#f0f921"
            ]
           ],
           "sequentialminus": [
            [
             0,
             "#0d0887"
            ],
            [
             0.1111111111111111,
             "#46039f"
            ],
            [
             0.2222222222222222,
             "#7201a8"
            ],
            [
             0.3333333333333333,
             "#9c179e"
            ],
            [
             0.4444444444444444,
             "#bd3786"
            ],
            [
             0.5555555555555556,
             "#d8576b"
            ],
            [
             0.6666666666666666,
             "#ed7953"
            ],
            [
             0.7777777777777778,
             "#fb9f3a"
            ],
            [
             0.8888888888888888,
             "#fdca26"
            ],
            [
             1,
             "#f0f921"
            ]
           ]
          },
          "colorway": [
           "#636efa",
           "#EF553B",
           "#00cc96",
           "#ab63fa",
           "#FFA15A",
           "#19d3f3",
           "#FF6692",
           "#B6E880",
           "#FF97FF",
           "#FECB52"
          ],
          "font": {
           "color": "#2a3f5f"
          },
          "geo": {
           "bgcolor": "white",
           "lakecolor": "white",
           "landcolor": "#E5ECF6",
           "showlakes": true,
           "showland": true,
           "subunitcolor": "white"
          },
          "hoverlabel": {
           "align": "left"
          },
          "hovermode": "closest",
          "mapbox": {
           "style": "light"
          },
          "paper_bgcolor": "white",
          "plot_bgcolor": "#E5ECF6",
          "polar": {
           "angularaxis": {
            "gridcolor": "white",
            "linecolor": "white",
            "ticks": ""
           },
           "bgcolor": "#E5ECF6",
           "radialaxis": {
            "gridcolor": "white",
            "linecolor": "white",
            "ticks": ""
           }
          },
          "scene": {
           "xaxis": {
            "backgroundcolor": "#E5ECF6",
            "gridcolor": "white",
            "gridwidth": 2,
            "linecolor": "white",
            "showbackground": true,
            "ticks": "",
            "zerolinecolor": "white"
           },
           "yaxis": {
            "backgroundcolor": "#E5ECF6",
            "gridcolor": "white",
            "gridwidth": 2,
            "linecolor": "white",
            "showbackground": true,
            "ticks": "",
            "zerolinecolor": "white"
           },
           "zaxis": {
            "backgroundcolor": "#E5ECF6",
            "gridcolor": "white",
            "gridwidth": 2,
            "linecolor": "white",
            "showbackground": true,
            "ticks": "",
            "zerolinecolor": "white"
           }
          },
          "shapedefaults": {
           "line": {
            "color": "#2a3f5f"
           }
          },
          "ternary": {
           "aaxis": {
            "gridcolor": "white",
            "linecolor": "white",
            "ticks": ""
           },
           "baxis": {
            "gridcolor": "white",
            "linecolor": "white",
            "ticks": ""
           },
           "bgcolor": "#E5ECF6",
           "caxis": {
            "gridcolor": "white",
            "linecolor": "white",
            "ticks": ""
           }
          },
          "title": {
           "x": 0.05
          },
          "xaxis": {
           "automargin": true,
           "gridcolor": "white",
           "linecolor": "white",
           "ticks": "",
           "title": {
            "standoff": 15
           },
           "zerolinecolor": "white",
           "zerolinewidth": 2
          },
          "yaxis": {
           "automargin": true,
           "gridcolor": "white",
           "linecolor": "white",
           "ticks": "",
           "title": {
            "standoff": 15
           },
           "zerolinecolor": "white",
           "zerolinewidth": 2
          }
         }
        },
        "xaxis": {
         "anchor": "y",
         "domain": [
          0,
          1
         ],
         "title": {
          "text": "TIME_PERIOD"
         }
        },
        "yaxis": {
         "anchor": "x",
         "domain": [
          0,
          1
         ],
         "title": {
          "text": "consumption_per_household_MWh"
         }
        }
       }
      }
     },
     "metadata": {},
     "output_type": "display_data"
    }
   ],
   "source": [
    "consumption_per_household.reset_index(inplace=True)\n",
    "consumption_per_household['OBS_VALUE'] = consumption_per_household['OBS_VALUE'] * 1000\n",
    "consumption_per_household.rename(columns={'OBS_VALUE': 'consumption_per_household_MWh'}, inplace=True)\n",
    "\n",
    "fig = px.line(consumption_per_household, x='TIME_PERIOD', y='consumption_per_household_MWh', color='geo')\n",
    "fig.show()\n"
   ]
  }
 ],
 "metadata": {
  "kernelspec": {
   "display_name": "sdmx_io_data_science-32hfwsck",
   "language": "python",
   "name": "python3"
  },
  "language_info": {
   "codemirror_mode": {
    "name": "ipython",
    "version": 3
   },
   "file_extension": ".py",
   "mimetype": "text/x-python",
   "name": "python",
   "nbconvert_exporter": "python",
   "pygments_lexer": "ipython3",
   "version": "3.11.9"
  }
 },
 "nbformat": 4,
 "nbformat_minor": 2
}
