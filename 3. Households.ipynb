{
 "cells": [
  {
   "cell_type": "markdown",
   "metadata": {},
   "source": [
    "Try to add a relationship to temperature extremes"
   ]
  },
  {
   "cell_type": "code",
   "execution_count": 1,
   "metadata": {},
   "outputs": [],
   "source": [
    "from pysdmx.io import get_datasets\n",
    "import utils\n",
    "import json\n",
    "import plotly.express as px\n",
    "\n",
    "\n",
    "with open('sub_codelists.json', 'r') as f:\n",
    "    sub_codelists = json.load(f)\n",
    "\n",
    "def calculate_energy_consumption_per_capita(df):\n",
    "    df['energy_consumption_PC_kwh'] = df['energy_consumption_gwh'] / df['population'] * 1000000\n",
    "    return df"
   ]
  },
  {
   "cell_type": "code",
   "execution_count": null,
   "metadata": {},
   "outputs": [],
   "source": [
    "average_household_constraints = {\n",
    "    'geo': sub_codelists['geo_eu_countries']\n",
    "}\n",
    "\n",
    "demo_pjan_constraints = {\n",
    "    'freq': 'A',\n",
    "    'unit': 'NR',\n",
    "    'age': 'TOTAL',\n",
    "    'sex': 'T',\n",
    "    'geo': sub_codelists['geo_eu_countries'],\n",
    "    }"
   ]
  }
 ],
 "metadata": {
  "kernelspec": {
   "display_name": "sdmx_io_data_science-32hfwsck",
   "language": "python",
   "name": "python3"
  },
  "language_info": {
   "codemirror_mode": {
    "name": "ipython",
    "version": 3
   },
   "file_extension": ".py",
   "mimetype": "text/x-python",
   "name": "python",
   "nbconvert_exporter": "python",
   "pygments_lexer": "ipython3",
   "version": "3.11.9"
  }
 },
 "nbformat": 4,
 "nbformat_minor": 2
}
