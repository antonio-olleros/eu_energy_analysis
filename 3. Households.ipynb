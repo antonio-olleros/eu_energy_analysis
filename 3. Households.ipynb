{
 "cells": [
  {
   "cell_type": "markdown",
   "metadata": {},
   "source": [
    "Try to add a relationship to temperature extremes"
   ]
  },
  {
   "cell_type": "code",
   "execution_count": 1,
   "metadata": {},
   "outputs": [],
   "source": [
    "import utils\n",
    "import json\n",
    "import plotly.express as px\n",
    "\n",
    "\n",
    "with open('sub_codelists.json', 'r') as f:\n",
    "    sub_codelists = json.load(f)\n"
   ]
  },
  {
   "cell_type": "code",
   "execution_count": 2,
   "metadata": {},
   "outputs": [],
   "source": [
    "average_household_constraints = {\n",
    "    'freq': 'A',\n",
    "    'unit': 'AVG',\n",
    "    'geo': sub_codelists['geo_eu_countries']\n",
    "}\n",
    "\n",
    "nrg_bal_constraints = {\n",
    "    'freq': 'A',\n",
    "    'nrg_bal': 'FC_OTH_HH_E',\n",
    "    'siec': 'TOTAL',\n",
    "    'unit': 'GWH',\n",
    "    'geo': sub_codelists['geo_eu_countries'],\n",
    "}\n",
    "\n",
    "demo_pjan_constraints = {\n",
    "    'freq': 'A',\n",
    "    'unit': 'NR',\n",
    "    'age': 'TOTAL',\n",
    "    'sex': 'T',\n",
    "    'geo': sub_codelists['geo_eu_countries'],\n",
    "    }"
   ]
  },
  {
   "cell_type": "code",
   "execution_count": null,
   "metadata": {},
   "outputs": [],
   "source": [
    "average_household = utils.get_dataset_with_selection('ilc_lvph01', average_household_constraints)\n",
    "\n",
    "demo_pjan = utils.get_dataset_with_selection('demo_pjan', demo_pjan_constraints)\n",
    "demo_pjan.data.TIME_PERIOD  = demo_pjan.data.TIME_PERIOD  - 1\n",
    "\n",
    "nrg_bal = utils.get_dataset_with_selection('nrg_bal_s', nrg_bal_constraints)\n"
   ]
  },
  {
   "cell_type": "code",
   "execution_count": null,
   "metadata": {},
   "outputs": [],
   "source": [
    "demo_pjan_df = demo_pjan.data.drop(columns=['OBS_FLAG'])\n",
    "demo_pjan_df.set_index(['geo', 'TIME_PERIOD'], inplace=True)\n",
    "\n",
    "average_household_df = average_household.data.drop(columns=['OBS_FLAG'])\n",
    "average_household_df.set_index(['geo', 'TIME_PERIOD'], inplace=True)\n",
    "\n",
    "number_of_households_df = demo_pjan_df.div(average_household_df)\n",
    "display(number_of_households_df)\n"
   ]
  },
  {
   "cell_type": "code",
   "execution_count": null,
   "metadata": {},
   "outputs": [],
   "source": [
    "nrg_bal_df = nrg_bal.data.set_index(['geo', 'TIME_PERIOD'])\n",
    "\n",
    "display(nrg_bal.data)"
   ]
  },
  {
   "cell_type": "code",
   "execution_count": 6,
   "metadata": {},
   "outputs": [],
   "source": [
    "consumption_per_household = nrg_bal_df.div(number_of_households_df)"
   ]
  },
  {
   "cell_type": "code",
   "execution_count": null,
   "metadata": {},
   "outputs": [],
   "source": [
    "consumption_per_household.reset_index(inplace=True)\n",
    "consumption_per_household['OBS_VALUE'] = consumption_per_household['OBS_VALUE'] * 1000\n",
    "consumption_per_household.rename(columns={'OBS_VALUE': 'consumption_per_household_MWh'}, inplace=True)\n",
    "\n",
    "fig = px.line(consumption_per_household, x='TIME_PERIOD', y='consumption_per_household_MWh', color='geo')\n",
    "fig.show()\n"
   ]
  }
 ],
 "metadata": {
  "kernelspec": {
   "display_name": "sdmx_io_data_science-32hfwsck",
   "language": "python",
   "name": "python3"
  },
  "language_info": {
   "codemirror_mode": {
    "name": "ipython",
    "version": 3
   },
   "file_extension": ".py",
   "mimetype": "text/x-python",
   "name": "python",
   "nbconvert_exporter": "python",
   "pygments_lexer": "ipython3",
   "version": "3.11.9"
  }
 },
 "nbformat": 4,
 "nbformat_minor": 2
}
